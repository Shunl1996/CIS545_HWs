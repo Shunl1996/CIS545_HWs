{
  "nbformat": 4,
  "nbformat_minor": 0,
  "metadata": {
    "colab": {
      "name": "CIS_545_HW_2_STUDENT_F2020.ipynb",
      "provenance": [],
      "collapsed_sections": [],
      "toc_visible": true,
      "include_colab_link": true
    },
    "kernelspec": {
      "name": "python3",
      "display_name": "Python 3"
    }
  },
  "cells": [
    {
      "cell_type": "markdown",
      "metadata": {
        "id": "view-in-github",
        "colab_type": "text"
      },
      "source": [
        "<a href=\"https://colab.research.google.com/github/Shunl1996/CIS545_HWs/blob/hw2/CIS_545_HW_2_STUDENT_F2020.ipynb\" target=\"_parent\"><img src=\"https://colab.research.google.com/assets/colab-badge.svg\" alt=\"Open In Colab\"/></a>"
      ]
    },
    {
      "cell_type": "markdown",
      "metadata": {
        "id": "wlv8esDGMj0h"
      },
      "source": [
        "# CIS 545 Homework 2\n",
        "## Due 12 October, 2020 by 10pm\n",
        "### Worth 100 points in total\n",
        "\n",
        "Welcome to Homework 2! By now, you should be familiar with the world of data science and the Pandas library. This assignment will focus on broadening both of these horizons by covering hierarchical data, graphs, and traversing relationships as well as two new tools: SQL and Spark. \n",
        "\n",
        "In the first section, we will familiarize ourselves with SQL (specifically **pandassql** and explore the Stack Exchange dataset. We will also finish out the section with some text analysis.\n",
        "\n",
        "The second section will focus on graph data and give you a small preview of Spark using the Yelp dataset. This homework is designed to introduce you to Spark's required workflow before you fully unlease its power next homework and deploy it on an AWS cluster. \n",
        "\n",
        "We are introducing a lot of new things in this homework, and it is often where students start to get lost in the data science sauce, so we **strongly** encourage you to review the slides/material as you work through this assignment and will try to link the most relevant sections!\n",
        "\n",
        "**Before you Begin**\n",
        "- Be sure to click \"Copy to Drive\" to make sure you are working on your own personal version of the homework\n",
        "- Read the Piazza and FAQ for updates! If you have been stuck, chances are other students are too! We don't want you to waste away for two hours trying to get that last point on the autograder so do check Piazza for similar struggles or even homework bugs that will be clarified in the FAQ :) "
      ]
    },
    {
      "cell_type": "markdown",
      "metadata": {
        "id": "3XoSSg8VDX_4"
      },
      "source": [
        "# Section 0: Homework Initialization\n",
        "\n",
        "> Indented block\n",
        "\n"
      ]
    },
    {
      "cell_type": "markdown",
      "metadata": {
        "id": "qjsiej7E_zx2"
      },
      "source": [
        "## Part -2: Install the Proper Version of Pandas\n",
        "\n",
        "---\n",
        "\n"
      ]
    },
    {
      "cell_type": "markdown",
      "metadata": {
        "id": "1n8oxVzQ_qno"
      },
      "source": [
        "Run the following cell to install the proper version of pandas. After running this cell, restart your runtime (Runtime > Restart runtime) and then run all the remaining set up cells. "
      ]
    },
    {
      "cell_type": "code",
      "metadata": {
        "id": "9MsEmBo3_n6O",
        "outputId": "7ca63f59-3618-466b-8292-8ef9cae3d207",
        "colab": {
          "base_uri": "https://localhost:8080/",
          "height": 343
        }
      },
      "source": [
        "!pip3 install pandas==1.0.5"
      ],
      "execution_count": 2,
      "outputs": [
        {
          "output_type": "stream",
          "text": [
            "Collecting pandas==1.0.5\n",
            "\u001b[?25l  Downloading https://files.pythonhosted.org/packages/c0/95/cb9820560a2713384ef49060b0087dfa2591c6db6f240215c2bce1f4211c/pandas-1.0.5-cp36-cp36m-manylinux1_x86_64.whl (10.1MB)\n",
            "\u001b[K     |████████████████████████████████| 10.1MB 5.0MB/s \n",
            "\u001b[?25hRequirement already satisfied: python-dateutil>=2.6.1 in /usr/local/lib/python3.6/dist-packages (from pandas==1.0.5) (2.8.1)\n",
            "Requirement already satisfied: pytz>=2017.2 in /usr/local/lib/python3.6/dist-packages (from pandas==1.0.5) (2018.9)\n",
            "Requirement already satisfied: numpy>=1.13.3 in /usr/local/lib/python3.6/dist-packages (from pandas==1.0.5) (1.18.5)\n",
            "Requirement already satisfied: six>=1.5 in /usr/local/lib/python3.6/dist-packages (from python-dateutil>=2.6.1->pandas==1.0.5) (1.15.0)\n",
            "\u001b[31mERROR: google-colab 1.0.0 has requirement pandas~=1.1.0; python_version >= \"3.0\", but you'll have pandas 1.0.5 which is incompatible.\u001b[0m\n",
            "Installing collected packages: pandas\n",
            "  Found existing installation: pandas 1.1.2\n",
            "    Uninstalling pandas-1.1.2:\n",
            "      Successfully uninstalled pandas-1.1.2\n",
            "Successfully installed pandas-1.0.5\n"
          ],
          "name": "stdout"
        },
        {
          "output_type": "display_data",
          "data": {
            "application/vnd.colab-display-data+json": {
              "pip_warning": {
                "packages": [
                  "pandas"
                ]
              }
            }
          },
          "metadata": {
            "tags": []
          }
        }
      ]
    },
    {
      "cell_type": "code",
      "metadata": {
        "id": "m7kVh6j17JyC",
        "outputId": "3d4a3d69-82c1-45db-c881-863dc61dbc6d",
        "colab": {
          "base_uri": "https://localhost:8080/",
          "height": 35
        }
      },
      "source": [
        "# make sure that this cell prints True! Otherwise you may have forgotten to\n",
        "# restart your runtime after running the cell above\n",
        "import pandas as pd\n",
        "print(pd.__version__ == '1.0.5')"
      ],
      "execution_count": 2,
      "outputs": [
        {
          "output_type": "stream",
          "text": [
            "True\n"
          ],
          "name": "stdout"
        }
      ]
    },
    {
      "cell_type": "markdown",
      "metadata": {
        "id": "TeyWoMn6pxSC"
      },
      "source": [
        "## Part -1: Enter your PennID"
      ]
    },
    {
      "cell_type": "code",
      "metadata": {
        "id": "4ds2HHSkpvBO"
      },
      "source": [
        "STUDENT_ID =  29785339"
      ],
      "execution_count": 3,
      "outputs": []
    },
    {
      "cell_type": "markdown",
      "metadata": {
        "id": "W0hcZWDcqCUL"
      },
      "source": [
        "## Part 0: Libraries and Set Up Jargon (The usual wall of imports)"
      ]
    },
    {
      "cell_type": "code",
      "metadata": {
        "id": "tZYJJdBQEcg1"
      },
      "source": [
        "#! sudo apt install openjdk-8-jdk\n",
        "#! sudo update-alternatives --config java"
      ],
      "execution_count": 4,
      "outputs": []
    },
    {
      "cell_type": "code",
      "metadata": {
        "id": "T1C8EIvyEq1S",
        "outputId": "c6699a16-edf5-4bb0-8f7d-efcbaba1e68c",
        "colab": {
          "base_uri": "https://localhost:8080/",
          "height": 89
        }
      },
      "source": [
        "!pip3 install penngrader\n",
        "\n",
        "from penngrader.grader import *"
      ],
      "execution_count": 5,
      "outputs": [
        {
          "output_type": "stream",
          "text": [
            "Collecting penngrader\n",
            "  Downloading https://files.pythonhosted.org/packages/f2/75/07b110a3bf5a5b1d6119fe1cbd970398c3136a3580c1b6461eab4b14d8f6/penngrader-0.4-py3-none-any.whl\n",
            "Installing collected packages: penngrader\n",
            "Successfully installed penngrader-0.4\n"
          ],
          "name": "stdout"
        }
      ]
    },
    {
      "cell_type": "code",
      "metadata": {
        "id": "bTE9TG8Aqaz8",
        "outputId": "8bdb994f-49bb-4883-ba92-6e0949066940",
        "colab": {
          "base_uri": "https://localhost:8080/",
          "height": 71
        }
      },
      "source": [
        "grader = PennGrader(homework_id = 'CIS545_Fall_2020_HW2', student_id = STUDENT_ID)"
      ],
      "execution_count": 6,
      "outputs": [
        {
          "output_type": "stream",
          "text": [
            "PennGrader initialized with Student ID: 29785339\n",
            "\n",
            "Make sure this correct or we will not be able to store your grade\n"
          ],
          "name": "stdout"
        }
      ]
    },
    {
      "cell_type": "code",
      "metadata": {
        "id": "WiOqbuZCF-EL"
      },
      "source": [
        "### Install required packages\n",
        "%%capture\n",
        "!pip3 install lxml\n",
        "!pip install pandasql\n",
        "!pip install googledrivedownloader"
      ],
      "execution_count": 7,
      "outputs": []
    },
    {
      "cell_type": "code",
      "metadata": {
        "id": "2zkXvBH-F-l4",
        "outputId": "394d5d33-a144-4ba3-94f8-eb64ea7c955e",
        "colab": {
          "base_uri": "https://localhost:8080/",
          "height": 53
        }
      },
      "source": [
        "import numpy as np\n",
        "import matplotlib\n",
        "\n",
        "import gc\n",
        "import time\n",
        "import warnings\n",
        "\n",
        "import json # JSON parsing\n",
        "from lxml import etree # HTML parsing\n",
        "import time # Time conversions\n",
        "from lxml import etree # XML Parser\n",
        "import pandasql as ps #SQL on Pandas Dataframe\n",
        "import xml.etree.ElementTree as ET\n",
        "\n",
        "import nltk\n",
        "nltk.download('punkt')\n",
        "\n",
        "from wordcloud import WordCloud\n",
        "import matplotlib.pyplot as plt\n",
        "\n",
        "from collections import Counter"
      ],
      "execution_count": 8,
      "outputs": [
        {
          "output_type": "stream",
          "text": [
            "[nltk_data] Downloading package punkt to /root/nltk_data...\n",
            "[nltk_data]   Unzipping tokenizers/punkt.zip.\n"
          ],
          "name": "stdout"
        }
      ]
    },
    {
      "cell_type": "markdown",
      "metadata": {
        "id": "VzZ6JNnKLplQ"
      },
      "source": [
        "\n",
        "\n",
        "# Section 1: Exploring the Stack Exchange Dataset\n",
        "\n",
        "\n",
        "<img src = \"https://cdn.sstatic.net/Sites/stackoverflow/company/img/logos/se/se-logo.png?v=dd7153fcc7fa\" width= \"600\" align =\"center\"/>\n",
        "\n",
        "To survive as a student at Penn , you've certainly used Stack Exchange or Stack Overflow, as a source for all your technical queries. Stack Exchange looks a lot like a social network, it has the following pieces of information to tie it all together:\n",
        "\n",
        "\n",
        "*   Users: All stack exchange users including admins etc.\n",
        "\n",
        "*   Posts: All the questions as well as the answers that users post\n",
        "\n",
        "*   Comments: As the name suggests, these are comments on posts\n",
        "\n",
        "*   Votes: Up/Downvotes \n",
        "\n",
        "\n",
        "For this homework we'll be parsing this data (dumped in XML) into dataframes and relations, and then exploring how to query and assemble the tables into results with Pandas and  PandaSQL."
      ]
    },
    {
      "cell_type": "markdown",
      "metadata": {
        "id": "oENmSeFkFRCo"
      },
      "source": [
        "## Part 1: Loading our datasets [12 points total]\n",
        "\n",
        "Before we get into the data, we first need to load our datasets. We will actually only be using the Users and Posts datasets for our queries, but we want you to write a generalized xml parsing function that would be able to convert any of the xml files into a dataframe."
      ]
    },
    {
      "cell_type": "markdown",
      "metadata": {
        "id": "0aAGG11y8I4r"
      },
      "source": [
        "### 1.0 Importing Data\n",
        "\n",
        "Below is the code to import the xml files from our shared Google Drive. The data is relatively small, so this shouldn't take too long. We will only import the Users and Posts xmls for now, but the other datasets are there in case you want to take a look :)"
      ]
    },
    {
      "cell_type": "code",
      "metadata": {
        "id": "Vm3G_ZtXFpH_",
        "outputId": "9218f3b7-f9c0-494a-ef84-edba99adc307",
        "colab": {
          "base_uri": "https://localhost:8080/",
          "height": 53
        }
      },
      "source": [
        "from google_drive_downloader import GoogleDriveDownloader as gdd\n",
        "\n",
        "gdd.download_file_from_google_drive(file_id='1T-SGFULQIkpg6LN5XLhBfiXhcAWNgCLe',\n",
        "                                    dest_path='/content/Users.xml')\n",
        "\n",
        "gdd.download_file_from_google_drive(file_id='1etuY-EjzgEfMdPCSd7NblNz0qJJpAH3b',\n",
        "                                    dest_path='/content/Posts.xml')"
      ],
      "execution_count": 9,
      "outputs": [
        {
          "output_type": "stream",
          "text": [
            "Downloading 1T-SGFULQIkpg6LN5XLhBfiXhcAWNgCLe into /content/Users.xml... Done.\n",
            "Downloading 1etuY-EjzgEfMdPCSd7NblNz0qJJpAH3b into /content/Posts.xml... Done.\n"
          ],
          "name": "stdout"
        }
      ]
    },
    {
      "cell_type": "markdown",
      "metadata": {
        "id": "SX6NErPmFwfu"
      },
      "source": [
        "### 1.1 Load Dataset Function\n",
        "\n",
        "Now that we finally have all our packages imported and datasets initalized, it's time to finally write some code! Your first task is to write the function **xml_to_df(file_path)** that will parse the specified file into a dataframe. This function should be generalized, in the sense that it can accept any of the xml files that we loaded and return a dataframe. We highly recommend looking over the [xml documentation](https://docs.python.org/2/library/xml.etree.elementtree.html) in order to accomplish this task.\n",
        "\n",
        "**TODO:** Once you have written **xml_to_df(file_path)**, create a **badges_df** and **users_df** with the parsed XML files (`/content/Users.xml` and `/content/Posts.xml`)\n",
        "\n",
        "Tip: try figuring out the steps with one of the two XML files first! "
      ]
    },
    {
      "cell_type": "code",
      "metadata": {
        "id": "jJx3M62XHS5q"
      },
      "source": [
        "#Solution\n",
        "def xml_to_df(file_path):\n",
        "  \"\"\" Converts an xml file to a dataframe\n",
        "\n",
        "  :param file_path: path to file\n",
        "  :return: dataframe \n",
        "  \"\"\"\n",
        "\n",
        "  ## TODO\n",
        "  tree = ET.parse(file_path)\n",
        "  root =tree.getroot()\n",
        "  pdd = []\n",
        "  for child in root:\n",
        "    pdd.append(child.attrib)\n",
        "\n",
        "  pdd = pd.DataFrame(pdd)\n",
        "  return pdd\n"
      ],
      "execution_count": 10,
      "outputs": []
    },
    {
      "cell_type": "code",
      "metadata": {
        "id": "_WxkXoLzGHvz",
        "outputId": "474ffebb-c8fe-4f0e-c7d4-d06973bd914a",
        "colab": {
          "base_uri": "https://localhost:8080/",
          "height": 983
        }
      },
      "source": [
        "posts_df = xml_to_df('/content/Posts.xml') ##TODO: call your function here\n",
        "posts_df"
      ],
      "execution_count": 11,
      "outputs": [
        {
          "output_type": "execute_result",
          "data": {
            "text/html": [
              "<div>\n",
              "<style scoped>\n",
              "    .dataframe tbody tr th:only-of-type {\n",
              "        vertical-align: middle;\n",
              "    }\n",
              "\n",
              "    .dataframe tbody tr th {\n",
              "        vertical-align: top;\n",
              "    }\n",
              "\n",
              "    .dataframe thead th {\n",
              "        text-align: right;\n",
              "    }\n",
              "</style>\n",
              "<table border=\"1\" class=\"dataframe\">\n",
              "  <thead>\n",
              "    <tr style=\"text-align: right;\">\n",
              "      <th></th>\n",
              "      <th>Id</th>\n",
              "      <th>PostTypeId</th>\n",
              "      <th>CreationDate</th>\n",
              "      <th>Score</th>\n",
              "      <th>ViewCount</th>\n",
              "      <th>Body</th>\n",
              "      <th>OwnerUserId</th>\n",
              "      <th>LastActivityDate</th>\n",
              "      <th>Title</th>\n",
              "      <th>Tags</th>\n",
              "      <th>AnswerCount</th>\n",
              "      <th>CommentCount</th>\n",
              "      <th>FavoriteCount</th>\n",
              "      <th>ClosedDate</th>\n",
              "      <th>AcceptedAnswerId</th>\n",
              "      <th>LastEditorUserId</th>\n",
              "      <th>LastEditDate</th>\n",
              "      <th>ParentId</th>\n",
              "      <th>OwnerDisplayName</th>\n",
              "      <th>CommunityOwnedDate</th>\n",
              "      <th>LastEditorDisplayName</th>\n",
              "    </tr>\n",
              "  </thead>\n",
              "  <tbody>\n",
              "    <tr>\n",
              "      <th>0</th>\n",
              "      <td>5</td>\n",
              "      <td>1</td>\n",
              "      <td>2014-05-13T23:58:30.457</td>\n",
              "      <td>8</td>\n",
              "      <td>643</td>\n",
              "      <td>&lt;p&gt;I've always been interested in machine lear...</td>\n",
              "      <td>5</td>\n",
              "      <td>2014-05-14T00:36:31.077</td>\n",
              "      <td>How can I do simple machine learning without h...</td>\n",
              "      <td>&lt;machine-learning&gt;</td>\n",
              "      <td>1</td>\n",
              "      <td>1</td>\n",
              "      <td>1</td>\n",
              "      <td>2014-05-14T14:40:25.950</td>\n",
              "      <td>NaN</td>\n",
              "      <td>NaN</td>\n",
              "      <td>NaN</td>\n",
              "      <td>NaN</td>\n",
              "      <td>NaN</td>\n",
              "      <td>NaN</td>\n",
              "      <td>NaN</td>\n",
              "    </tr>\n",
              "    <tr>\n",
              "      <th>1</th>\n",
              "      <td>7</td>\n",
              "      <td>1</td>\n",
              "      <td>2014-05-14T00:11:06.457</td>\n",
              "      <td>4</td>\n",
              "      <td>429</td>\n",
              "      <td>&lt;p&gt;As a researcher and instructor, I'm looking...</td>\n",
              "      <td>36</td>\n",
              "      <td>2014-05-16T13:45:00.237</td>\n",
              "      <td>What open-source books (or other materials) pr...</td>\n",
              "      <td>&lt;education&gt;&lt;open-source&gt;</td>\n",
              "      <td>3</td>\n",
              "      <td>4</td>\n",
              "      <td>1</td>\n",
              "      <td>2014-05-14T08:40:54.950</td>\n",
              "      <td>10</td>\n",
              "      <td>97</td>\n",
              "      <td>2014-05-16T13:45:00.237</td>\n",
              "      <td>NaN</td>\n",
              "      <td>NaN</td>\n",
              "      <td>NaN</td>\n",
              "      <td>NaN</td>\n",
              "    </tr>\n",
              "    <tr>\n",
              "      <th>2</th>\n",
              "      <td>9</td>\n",
              "      <td>2</td>\n",
              "      <td>2014-05-14T00:36:31.077</td>\n",
              "      <td>5</td>\n",
              "      <td>NaN</td>\n",
              "      <td>&lt;p&gt;Not sure if this fits the scope of this SE,...</td>\n",
              "      <td>51</td>\n",
              "      <td>2014-05-14T00:36:31.077</td>\n",
              "      <td>NaN</td>\n",
              "      <td>NaN</td>\n",
              "      <td>NaN</td>\n",
              "      <td>0</td>\n",
              "      <td>NaN</td>\n",
              "      <td>NaN</td>\n",
              "      <td>NaN</td>\n",
              "      <td>NaN</td>\n",
              "      <td>NaN</td>\n",
              "      <td>5</td>\n",
              "      <td>NaN</td>\n",
              "      <td>NaN</td>\n",
              "      <td>NaN</td>\n",
              "    </tr>\n",
              "    <tr>\n",
              "      <th>3</th>\n",
              "      <td>10</td>\n",
              "      <td>2</td>\n",
              "      <td>2014-05-14T00:53:43.273</td>\n",
              "      <td>12</td>\n",
              "      <td>NaN</td>\n",
              "      <td>&lt;p&gt;One book that's freely available is \"The El...</td>\n",
              "      <td>22</td>\n",
              "      <td>2014-05-14T00:53:43.273</td>\n",
              "      <td>NaN</td>\n",
              "      <td>NaN</td>\n",
              "      <td>NaN</td>\n",
              "      <td>1</td>\n",
              "      <td>NaN</td>\n",
              "      <td>NaN</td>\n",
              "      <td>NaN</td>\n",
              "      <td>NaN</td>\n",
              "      <td>NaN</td>\n",
              "      <td>7</td>\n",
              "      <td>NaN</td>\n",
              "      <td>NaN</td>\n",
              "      <td>NaN</td>\n",
              "    </tr>\n",
              "    <tr>\n",
              "      <th>4</th>\n",
              "      <td>14</td>\n",
              "      <td>1</td>\n",
              "      <td>2014-05-14T01:25:59.677</td>\n",
              "      <td>22</td>\n",
              "      <td>1542</td>\n",
              "      <td>&lt;p&gt;I am sure data science as will be discussed...</td>\n",
              "      <td>66</td>\n",
              "      <td>2014-06-20T17:36:05.023</td>\n",
              "      <td>Is Data Science the Same as Data Mining?</td>\n",
              "      <td>&lt;data-mining&gt;&lt;definitions&gt;</td>\n",
              "      <td>4</td>\n",
              "      <td>1</td>\n",
              "      <td>6</td>\n",
              "      <td>NaN</td>\n",
              "      <td>29</td>\n",
              "      <td>322</td>\n",
              "      <td>2014-06-17T16:17:20.473</td>\n",
              "      <td>NaN</td>\n",
              "      <td>NaN</td>\n",
              "      <td>NaN</td>\n",
              "      <td>NaN</td>\n",
              "    </tr>\n",
              "    <tr>\n",
              "      <th>...</th>\n",
              "      <td>...</td>\n",
              "      <td>...</td>\n",
              "      <td>...</td>\n",
              "      <td>...</td>\n",
              "      <td>...</td>\n",
              "      <td>...</td>\n",
              "      <td>...</td>\n",
              "      <td>...</td>\n",
              "      <td>...</td>\n",
              "      <td>...</td>\n",
              "      <td>...</td>\n",
              "      <td>...</td>\n",
              "      <td>...</td>\n",
              "      <td>...</td>\n",
              "      <td>...</td>\n",
              "      <td>...</td>\n",
              "      <td>...</td>\n",
              "      <td>...</td>\n",
              "      <td>...</td>\n",
              "      <td>...</td>\n",
              "      <td>...</td>\n",
              "    </tr>\n",
              "    <tr>\n",
              "      <th>43645</th>\n",
              "      <td>64045</td>\n",
              "      <td>2</td>\n",
              "      <td>2019-11-30T23:48:00.320</td>\n",
              "      <td>1</td>\n",
              "      <td>NaN</td>\n",
              "      <td>&lt;p&gt;Named Entity Recognition (NER) would extrac...</td>\n",
              "      <td>64377</td>\n",
              "      <td>2019-11-30T23:48:00.320</td>\n",
              "      <td>NaN</td>\n",
              "      <td>NaN</td>\n",
              "      <td>NaN</td>\n",
              "      <td>1</td>\n",
              "      <td>NaN</td>\n",
              "      <td>NaN</td>\n",
              "      <td>NaN</td>\n",
              "      <td>NaN</td>\n",
              "      <td>NaN</td>\n",
              "      <td>64029</td>\n",
              "      <td>NaN</td>\n",
              "      <td>NaN</td>\n",
              "      <td>NaN</td>\n",
              "    </tr>\n",
              "    <tr>\n",
              "      <th>43646</th>\n",
              "      <td>64046</td>\n",
              "      <td>2</td>\n",
              "      <td>2019-11-30T23:56:58.343</td>\n",
              "      <td>0</td>\n",
              "      <td>NaN</td>\n",
              "      <td>&lt;p&gt;You probably need to re-design the problem ...</td>\n",
              "      <td>64377</td>\n",
              "      <td>2019-11-30T23:56:58.343</td>\n",
              "      <td>NaN</td>\n",
              "      <td>NaN</td>\n",
              "      <td>NaN</td>\n",
              "      <td>0</td>\n",
              "      <td>NaN</td>\n",
              "      <td>NaN</td>\n",
              "      <td>NaN</td>\n",
              "      <td>NaN</td>\n",
              "      <td>NaN</td>\n",
              "      <td>63991</td>\n",
              "      <td>NaN</td>\n",
              "      <td>NaN</td>\n",
              "      <td>NaN</td>\n",
              "    </tr>\n",
              "    <tr>\n",
              "      <th>43647</th>\n",
              "      <td>64047</td>\n",
              "      <td>1</td>\n",
              "      <td>2019-12-01T00:16:55.170</td>\n",
              "      <td>0</td>\n",
              "      <td>4</td>\n",
              "      <td>&lt;p&gt;My wife has seizures a few times a month an...</td>\n",
              "      <td>86211</td>\n",
              "      <td>2019-12-01T02:04:48.333</td>\n",
              "      <td>Relationship between two sets of dates</td>\n",
              "      <td>&lt;time-series&gt;&lt;correlation&gt;&lt;excel&gt;</td>\n",
              "      <td>0</td>\n",
              "      <td>0</td>\n",
              "      <td>NaN</td>\n",
              "      <td>NaN</td>\n",
              "      <td>NaN</td>\n",
              "      <td>1330</td>\n",
              "      <td>2019-12-01T02:04:48.333</td>\n",
              "      <td>NaN</td>\n",
              "      <td>NaN</td>\n",
              "      <td>NaN</td>\n",
              "      <td>NaN</td>\n",
              "    </tr>\n",
              "    <tr>\n",
              "      <th>43648</th>\n",
              "      <td>64048</td>\n",
              "      <td>1</td>\n",
              "      <td>2019-12-01T00:32:11.913</td>\n",
              "      <td>0</td>\n",
              "      <td>3</td>\n",
              "      <td>&lt;p&gt;I am looking at the documentation and this ...</td>\n",
              "      <td>54721</td>\n",
              "      <td>2019-12-01T00:32:11.913</td>\n",
              "      <td>How to use keras.utils.Sequence with multiple ...</td>\n",
              "      <td>&lt;keras&gt;&lt;tensorflow&gt;</td>\n",
              "      <td>0</td>\n",
              "      <td>0</td>\n",
              "      <td>NaN</td>\n",
              "      <td>NaN</td>\n",
              "      <td>NaN</td>\n",
              "      <td>NaN</td>\n",
              "      <td>NaN</td>\n",
              "      <td>NaN</td>\n",
              "      <td>NaN</td>\n",
              "      <td>NaN</td>\n",
              "      <td>NaN</td>\n",
              "    </tr>\n",
              "    <tr>\n",
              "      <th>43649</th>\n",
              "      <td>64049</td>\n",
              "      <td>1</td>\n",
              "      <td>2019-12-01T02:13:26.667</td>\n",
              "      <td>0</td>\n",
              "      <td>5</td>\n",
              "      <td>&lt;p&gt;when to use randomforest over xgboost and v...</td>\n",
              "      <td>86213</td>\n",
              "      <td>2019-12-01T02:13:26.667</td>\n",
              "      <td>when to use random forest over xgboost and vic...</td>\n",
              "      <td>&lt;machine-learning&gt;</td>\n",
              "      <td>0</td>\n",
              "      <td>1</td>\n",
              "      <td>NaN</td>\n",
              "      <td>NaN</td>\n",
              "      <td>NaN</td>\n",
              "      <td>NaN</td>\n",
              "      <td>NaN</td>\n",
              "      <td>NaN</td>\n",
              "      <td>NaN</td>\n",
              "      <td>NaN</td>\n",
              "      <td>NaN</td>\n",
              "    </tr>\n",
              "  </tbody>\n",
              "</table>\n",
              "<p>43650 rows × 21 columns</p>\n",
              "</div>"
            ],
            "text/plain": [
              "          Id PostTypeId  ... CommunityOwnedDate LastEditorDisplayName\n",
              "0          5          1  ...                NaN                   NaN\n",
              "1          7          1  ...                NaN                   NaN\n",
              "2          9          2  ...                NaN                   NaN\n",
              "3         10          2  ...                NaN                   NaN\n",
              "4         14          1  ...                NaN                   NaN\n",
              "...      ...        ...  ...                ...                   ...\n",
              "43645  64045          2  ...                NaN                   NaN\n",
              "43646  64046          2  ...                NaN                   NaN\n",
              "43647  64047          1  ...                NaN                   NaN\n",
              "43648  64048          1  ...                NaN                   NaN\n",
              "43649  64049          1  ...                NaN                   NaN\n",
              "\n",
              "[43650 rows x 21 columns]"
            ]
          },
          "metadata": {
            "tags": []
          },
          "execution_count": 11
        }
      ]
    },
    {
      "cell_type": "code",
      "metadata": {
        "id": "LQ7N7VCjoi-i",
        "outputId": "7f658ac1-9df3-4394-a0f6-57f39e6bb480",
        "colab": {
          "base_uri": "https://localhost:8080/",
          "height": 71
        }
      },
      "source": [
        "# [CIS 545 PennGrader Cell] - 5 points\n",
        "grader.grade(test_case_id = 'test_xml_to_posts_df', answer = posts_df[:75])"
      ],
      "execution_count": 12,
      "outputs": [
        {
          "output_type": "stream",
          "text": [
            "Correct! You earned 3/3 points. You are a star!\n",
            "\n",
            "Your submission has been successfully recorded in the gradebook.\n"
          ],
          "name": "stdout"
        }
      ]
    },
    {
      "cell_type": "code",
      "metadata": {
        "id": "bBV1ZMjzS4ja"
      },
      "source": [
        "users_df = xml_to_df('/content/Users.xml') ##TODO: call your function here"
      ],
      "execution_count": 13,
      "outputs": []
    },
    {
      "cell_type": "code",
      "metadata": {
        "id": "QmpIsMjcS5wD",
        "outputId": "a267ccd7-40f2-47c3-c7a6-05d638478965",
        "colab": {
          "base_uri": "https://localhost:8080/",
          "height": 71
        }
      },
      "source": [
        "grader.grade(test_case_id = 'test_xml_to_users_df', answer = users_df[:75])"
      ],
      "execution_count": 14,
      "outputs": [
        {
          "output_type": "stream",
          "text": [
            "Correct! You earned 3/3 points. You are a star!\n",
            "\n",
            "Your submission has been successfully recorded in the gradebook.\n"
          ],
          "name": "stdout"
        }
      ]
    },
    {
      "cell_type": "markdown",
      "metadata": {
        "id": "CPitr7eRJfO0"
      },
      "source": [
        "### 1.2 Clean Dataset\n",
        "\n",
        "Next, we are going to want to clean up our dataframes, namely 1) removing null values,  2) changing datatypes, and 3) dropping columns\n",
        "\n",
        "Originally, we were going to have you identify the datatypes with this [image](https://i.stack.imgur.com/AyIkW.png) on your own, but I (the TA writing this section) found this part really tedious and rage-inducing so we have defined the specific columns to convert below. All you need to do is write the function :)\n",
        "\n",
        "**TODO**: 1) replace all null values in both datasets **in-place**. 2) define a function **dtype_converter(df, int_columns)** that takes in a dateframe and a list specifying which columns should be integers. Then, use this function on both posts_df and users_df using the lists defined below. (Note: we don't need to convert any columns to strings since they're already objects, and we're ignoring datetime)"
      ]
    },
    {
      "cell_type": "code",
      "metadata": {
        "id": "GlWGmIvB-qtl"
      },
      "source": [
        "##TODO replace NA values here\n",
        "\n",
        "post_dfr = posts_df.replace(np.nan,'0')\n",
        "user_dfr = users_df.replace(np.nan,'0')"
      ],
      "execution_count": 15,
      "outputs": []
    },
    {
      "cell_type": "code",
      "metadata": {
        "id": "ptWgCcPeGWHt"
      },
      "source": [
        "#columns that need to be integers\n",
        "\n",
        "int_posts_cols = [\"Id\", \"PostTypeId\", \"AcceptedAnswerId\", \"ParentId\", \"Score\", \n",
        "                  \"ViewCount\", \"OwnerUserId\", \"LastEditorUserId\", \"AnswerCount\",\n",
        "                  \"CommentCount\", \"FavoriteCount\"]\n",
        "int_users_cols = [\"Id\", \"Reputation\", \"Views\", \"UpVotes\", \"DownVotes\", \"AccountId\"]"
      ],
      "execution_count": 16,
      "outputs": []
    },
    {
      "cell_type": "code",
      "metadata": {
        "id": "a6uZaW_GJ7_s"
      },
      "source": [
        "def dtype_converter(df, int_columns):\n",
        "  \"\"\"converts columns to type integer\n",
        "\n",
        "  :param df: dataframe to convert\n",
        "  :param int_columns: list of columns to convert\n",
        "  :return: dataframe\n",
        "  \"\"\"\n",
        "  #TODO: implement function below\n",
        "\n",
        "  for col in int_columns:\n",
        "    df[[col]] = df[[col]].astype(int)\n",
        "  return df"
      ],
      "execution_count": 17,
      "outputs": []
    },
    {
      "cell_type": "code",
      "metadata": {
        "id": "Ub5pF19jKn_X"
      },
      "source": [
        "posts_df = dtype_converter(post_dfr,int_columns=int_posts_cols) \n",
        "users_df = dtype_converter(user_dfr,int_columns=int_users_cols)"
      ],
      "execution_count": 18,
      "outputs": []
    },
    {
      "cell_type": "code",
      "metadata": {
        "id": "eOsPH8RcWNoP",
        "outputId": "161e6c5d-22d3-4c48-b0f9-35ae49655f5b",
        "colab": {
          "base_uri": "https://localhost:8080/",
          "height": 413
        }
      },
      "source": [
        "#check your datatypes\n",
        "posts_df.dtypes "
      ],
      "execution_count": 19,
      "outputs": [
        {
          "output_type": "execute_result",
          "data": {
            "text/plain": [
              "Id                        int64\n",
              "PostTypeId                int64\n",
              "CreationDate             object\n",
              "Score                     int64\n",
              "ViewCount                 int64\n",
              "Body                     object\n",
              "OwnerUserId               int64\n",
              "LastActivityDate         object\n",
              "Title                    object\n",
              "Tags                     object\n",
              "AnswerCount               int64\n",
              "CommentCount              int64\n",
              "FavoriteCount             int64\n",
              "ClosedDate               object\n",
              "AcceptedAnswerId          int64\n",
              "LastEditorUserId          int64\n",
              "LastEditDate             object\n",
              "ParentId                  int64\n",
              "OwnerDisplayName         object\n",
              "CommunityOwnedDate       object\n",
              "LastEditorDisplayName    object\n",
              "dtype: object"
            ]
          },
          "metadata": {
            "tags": []
          },
          "execution_count": 19
        }
      ]
    },
    {
      "cell_type": "code",
      "metadata": {
        "id": "4ngIbo_vVK5a",
        "outputId": "56ec79aa-342d-4498-9ebc-7ba4bfb8b28d",
        "colab": {
          "base_uri": "https://localhost:8080/",
          "height": 71
        }
      },
      "source": [
        "grader.grade(test_case_id = 'test_posts_dtypes', answer = posts_df[:75])"
      ],
      "execution_count": 20,
      "outputs": [
        {
          "output_type": "stream",
          "text": [
            "Correct! You earned 3/3 points. You are a star!\n",
            "\n",
            "Your submission has been successfully recorded in the gradebook.\n"
          ],
          "name": "stdout"
        }
      ]
    },
    {
      "cell_type": "code",
      "metadata": {
        "id": "L6WJkrBGVHGg",
        "outputId": "727a83b5-fa4f-4fd7-de30-e3bc9edeeabe",
        "colab": {
          "base_uri": "https://localhost:8080/",
          "height": 71
        }
      },
      "source": [
        "grader.grade(test_case_id = 'test_users_dtypes', answer = users_df[:75])"
      ],
      "execution_count": 21,
      "outputs": [
        {
          "output_type": "stream",
          "text": [
            "Correct! You earned 3/3 points. You are a star!\n",
            "\n",
            "Your submission has been successfully recorded in the gradebook.\n"
          ],
          "name": "stdout"
        }
      ]
    },
    {
      "cell_type": "markdown",
      "metadata": {
        "id": "kYp9fW_SvG3g"
      },
      "source": [
        "## Part 1.5 Your Sandbox \n",
        "\n",
        "Instead of throwing you straight into the deep end, we wanted to give you a chance to take some time and explore the data on your own. **This section is not graded**, so for the speedrunners out there feel free to just jump in, but we wanted to at least give you a small space to utilize your basic EDA toolkit to familiarize yourself with all the info you just downloaded.\n",
        "\n",
        "Some suggestions to get you started:\n",
        "- `df.head()`\n",
        "- `df.info()`\n",
        "- `df.describe()`\n",
        "\n",
        "Also, definitely take a look at [this readme](https://ia800107.us.archive.org/27/items/stackexchange/readme.txt) that provides a good overview of all the datasets (ignore the ones that you did not ask you to convert)\n"
      ]
    },
    {
      "cell_type": "code",
      "metadata": {
        "id": "xYbq6dN5snWs",
        "outputId": "218ae51f-6680-42ae-a7ea-8253291f449d",
        "colab": {
          "base_uri": "https://localhost:8080/",
          "height": 649
        }
      },
      "source": [
        "# your EDA here! feel free to add more cells\n",
        "posts_df.head()"
      ],
      "execution_count": 22,
      "outputs": [
        {
          "output_type": "execute_result",
          "data": {
            "text/html": [
              "<div>\n",
              "<style scoped>\n",
              "    .dataframe tbody tr th:only-of-type {\n",
              "        vertical-align: middle;\n",
              "    }\n",
              "\n",
              "    .dataframe tbody tr th {\n",
              "        vertical-align: top;\n",
              "    }\n",
              "\n",
              "    .dataframe thead th {\n",
              "        text-align: right;\n",
              "    }\n",
              "</style>\n",
              "<table border=\"1\" class=\"dataframe\">\n",
              "  <thead>\n",
              "    <tr style=\"text-align: right;\">\n",
              "      <th></th>\n",
              "      <th>Id</th>\n",
              "      <th>PostTypeId</th>\n",
              "      <th>CreationDate</th>\n",
              "      <th>Score</th>\n",
              "      <th>ViewCount</th>\n",
              "      <th>Body</th>\n",
              "      <th>OwnerUserId</th>\n",
              "      <th>LastActivityDate</th>\n",
              "      <th>Title</th>\n",
              "      <th>Tags</th>\n",
              "      <th>AnswerCount</th>\n",
              "      <th>CommentCount</th>\n",
              "      <th>FavoriteCount</th>\n",
              "      <th>ClosedDate</th>\n",
              "      <th>AcceptedAnswerId</th>\n",
              "      <th>LastEditorUserId</th>\n",
              "      <th>LastEditDate</th>\n",
              "      <th>ParentId</th>\n",
              "      <th>OwnerDisplayName</th>\n",
              "      <th>CommunityOwnedDate</th>\n",
              "      <th>LastEditorDisplayName</th>\n",
              "    </tr>\n",
              "  </thead>\n",
              "  <tbody>\n",
              "    <tr>\n",
              "      <th>0</th>\n",
              "      <td>5</td>\n",
              "      <td>1</td>\n",
              "      <td>2014-05-13T23:58:30.457</td>\n",
              "      <td>8</td>\n",
              "      <td>643</td>\n",
              "      <td>&lt;p&gt;I've always been interested in machine lear...</td>\n",
              "      <td>5</td>\n",
              "      <td>2014-05-14T00:36:31.077</td>\n",
              "      <td>How can I do simple machine learning without h...</td>\n",
              "      <td>&lt;machine-learning&gt;</td>\n",
              "      <td>1</td>\n",
              "      <td>1</td>\n",
              "      <td>1</td>\n",
              "      <td>2014-05-14T14:40:25.950</td>\n",
              "      <td>0</td>\n",
              "      <td>0</td>\n",
              "      <td>0</td>\n",
              "      <td>0</td>\n",
              "      <td>0</td>\n",
              "      <td>0</td>\n",
              "      <td>0</td>\n",
              "    </tr>\n",
              "    <tr>\n",
              "      <th>1</th>\n",
              "      <td>7</td>\n",
              "      <td>1</td>\n",
              "      <td>2014-05-14T00:11:06.457</td>\n",
              "      <td>4</td>\n",
              "      <td>429</td>\n",
              "      <td>&lt;p&gt;As a researcher and instructor, I'm looking...</td>\n",
              "      <td>36</td>\n",
              "      <td>2014-05-16T13:45:00.237</td>\n",
              "      <td>What open-source books (or other materials) pr...</td>\n",
              "      <td>&lt;education&gt;&lt;open-source&gt;</td>\n",
              "      <td>3</td>\n",
              "      <td>4</td>\n",
              "      <td>1</td>\n",
              "      <td>2014-05-14T08:40:54.950</td>\n",
              "      <td>10</td>\n",
              "      <td>97</td>\n",
              "      <td>2014-05-16T13:45:00.237</td>\n",
              "      <td>0</td>\n",
              "      <td>0</td>\n",
              "      <td>0</td>\n",
              "      <td>0</td>\n",
              "    </tr>\n",
              "    <tr>\n",
              "      <th>2</th>\n",
              "      <td>9</td>\n",
              "      <td>2</td>\n",
              "      <td>2014-05-14T00:36:31.077</td>\n",
              "      <td>5</td>\n",
              "      <td>0</td>\n",
              "      <td>&lt;p&gt;Not sure if this fits the scope of this SE,...</td>\n",
              "      <td>51</td>\n",
              "      <td>2014-05-14T00:36:31.077</td>\n",
              "      <td>0</td>\n",
              "      <td>0</td>\n",
              "      <td>0</td>\n",
              "      <td>0</td>\n",
              "      <td>0</td>\n",
              "      <td>0</td>\n",
              "      <td>0</td>\n",
              "      <td>0</td>\n",
              "      <td>0</td>\n",
              "      <td>5</td>\n",
              "      <td>0</td>\n",
              "      <td>0</td>\n",
              "      <td>0</td>\n",
              "    </tr>\n",
              "    <tr>\n",
              "      <th>3</th>\n",
              "      <td>10</td>\n",
              "      <td>2</td>\n",
              "      <td>2014-05-14T00:53:43.273</td>\n",
              "      <td>12</td>\n",
              "      <td>0</td>\n",
              "      <td>&lt;p&gt;One book that's freely available is \"The El...</td>\n",
              "      <td>22</td>\n",
              "      <td>2014-05-14T00:53:43.273</td>\n",
              "      <td>0</td>\n",
              "      <td>0</td>\n",
              "      <td>0</td>\n",
              "      <td>1</td>\n",
              "      <td>0</td>\n",
              "      <td>0</td>\n",
              "      <td>0</td>\n",
              "      <td>0</td>\n",
              "      <td>0</td>\n",
              "      <td>7</td>\n",
              "      <td>0</td>\n",
              "      <td>0</td>\n",
              "      <td>0</td>\n",
              "    </tr>\n",
              "    <tr>\n",
              "      <th>4</th>\n",
              "      <td>14</td>\n",
              "      <td>1</td>\n",
              "      <td>2014-05-14T01:25:59.677</td>\n",
              "      <td>22</td>\n",
              "      <td>1542</td>\n",
              "      <td>&lt;p&gt;I am sure data science as will be discussed...</td>\n",
              "      <td>66</td>\n",
              "      <td>2014-06-20T17:36:05.023</td>\n",
              "      <td>Is Data Science the Same as Data Mining?</td>\n",
              "      <td>&lt;data-mining&gt;&lt;definitions&gt;</td>\n",
              "      <td>4</td>\n",
              "      <td>1</td>\n",
              "      <td>6</td>\n",
              "      <td>0</td>\n",
              "      <td>29</td>\n",
              "      <td>322</td>\n",
              "      <td>2014-06-17T16:17:20.473</td>\n",
              "      <td>0</td>\n",
              "      <td>0</td>\n",
              "      <td>0</td>\n",
              "      <td>0</td>\n",
              "    </tr>\n",
              "  </tbody>\n",
              "</table>\n",
              "</div>"
            ],
            "text/plain": [
              "   Id  PostTypeId  ... CommunityOwnedDate  LastEditorDisplayName\n",
              "0   5           1  ...                  0                      0\n",
              "1   7           1  ...                  0                      0\n",
              "2   9           2  ...                  0                      0\n",
              "3  10           2  ...                  0                      0\n",
              "4  14           1  ...                  0                      0\n",
              "\n",
              "[5 rows x 21 columns]"
            ]
          },
          "metadata": {
            "tags": []
          },
          "execution_count": 22
        }
      ]
    },
    {
      "cell_type": "markdown",
      "metadata": {
        "id": "CHFdRtQKLbti"
      },
      "source": [
        "## Part 2: Exploring the data with Pandas and PandasSQL [20 points total]\n",
        "\n",
        "Now that you are familiar (or still unfamiliar) with the dataset, we will now introduce you to SQL, or more specifically **pandasql**: a package create to allow users to query pandas DataFrames with SQL statements.\n",
        "\n",
        "The typical flow to use pandasql (shortened to **ps**) is as follows:\n",
        "1. write a SQL query in the form of a string (Tip: use triple quotes \"\"\"x\"\"\" to write multi-line strings)\n",
        "2. run the query using **ps.sqldf(your_query, locals())**\n",
        "\n",
        "Pandasql is convenient in that it allows you to reference the dataframes that are currently defined in your notebook, so you will be able to fully utilize the `posts_df` and `users_df` that you have created above!\n",
        "\n",
        "Given that it is a brand new language, we wanted to give you a chance to directly compare the similarities/differences of the pandas that you already know and the SQL you are about to learn. Thus, for each query, we ask that you to **look into the question twice: once with pandas and once with pandasql**. \n",
        "\n",
        "Each answer will thus require both a `pd_` and `sql_` prefixed-dataframe that you will submit seperately to the autograder. **We will be reviewing your code to make sure you wrote the code in the corresponding languages.**\n",
        "\n",
        " [Here](https://community.alteryx.com/t5/Data-Science/pandasql-Make-python-speak-SQL/ba-p/138435) is a good resource to review pandasql. \n",
        "\n"
      ]
    },
    {
      "cell_type": "markdown",
      "metadata": {
        "id": "geYyH57csade"
      },
      "source": [
        "### 2.1 Spliting Up `posts_df`\n",
        "\n",
        "`posts_df` actually contains both posted questions and the answers. The provided readme details the distinguishing factors as follows:\n",
        "\n",
        "        - PostTypeId\n",
        "            - 1: Question\n",
        "            - 2: Answer\n",
        "        - ParentID (only present if PostTypeId is 2)\n",
        "        - AcceptedAnswerId (only present if PostTypeId is 1)\n",
        "\n",
        "**TODO:** Using pandas/pandasql, split `posts_df` into a `pd/sql_questions_df` and `pd/sql_answers_df` based on these values of `PostTypeId`. \n",
        "\n"
      ]
    },
    {
      "cell_type": "code",
      "metadata": {
        "id": "laL9vimDbPYQ"
      },
      "source": [
        "pd_questions_df = posts_df[posts_df['PostTypeId']==1]\n",
        "pd_answers_df = posts_df[posts_df['PostTypeId']==2]"
      ],
      "execution_count": 23,
      "outputs": []
    },
    {
      "cell_type": "code",
      "metadata": {
        "id": "oqQjSBREeNQL",
        "outputId": "bb9954eb-19c9-46bf-ea90-d5071fad3143",
        "colab": {
          "base_uri": "https://localhost:8080/",
          "height": 71
        }
      },
      "source": [
        "grader.grade(test_case_id = 'test_pd_questions_df', answer = pd_questions_df[\"PostTypeId\"])"
      ],
      "execution_count": 24,
      "outputs": [
        {
          "output_type": "stream",
          "text": [
            "Correct! You earned 1/1 points. You are a star!\n",
            "\n",
            "Your submission has been successfully recorded in the gradebook.\n"
          ],
          "name": "stdout"
        }
      ]
    },
    {
      "cell_type": "code",
      "metadata": {
        "id": "1tGZjFP-gdVo",
        "outputId": "aec1b6fb-3327-4b74-86ac-22884094fe3a",
        "colab": {
          "base_uri": "https://localhost:8080/",
          "height": 71
        }
      },
      "source": [
        "grader.grade(test_case_id = 'test_pd_answers_df', answer = pd_answers_df[\"PostTypeId\"])"
      ],
      "execution_count": 25,
      "outputs": [
        {
          "output_type": "stream",
          "text": [
            "Correct! You earned 1/1 points. You are a star!\n",
            "\n",
            "Your submission has been successfully recorded in the gradebook.\n"
          ],
          "name": "stdout"
        }
      ]
    },
    {
      "cell_type": "code",
      "metadata": {
        "id": "bOIT18_uqJ8c"
      },
      "source": [
        "questions_query = '''\n",
        "SELECT * FROM posts_df WHERE posts_df.PostTypeId ==1\n",
        "'''\n",
        "answers_query = '''SELECT * FROM posts_df WHERE posts_df.PostTypeId ==2'''\n",
        "\n",
        "sql_questions_df = ps.sqldf(questions_query,locals())\n",
        "sql_answers_df = ps.sqldf(answers_query,locals())"
      ],
      "execution_count": 26,
      "outputs": []
    },
    {
      "cell_type": "code",
      "metadata": {
        "id": "gKqtjXDPeNjd",
        "outputId": "48076879-dc31-4ee3-ef69-7c9d2d9f656b",
        "colab": {
          "base_uri": "https://localhost:8080/",
          "height": 71
        }
      },
      "source": [
        "grader.grade(test_case_id = 'test_qa_query', answer = (questions_query,answers_query))"
      ],
      "execution_count": 27,
      "outputs": [
        {
          "output_type": "stream",
          "text": [
            "Correct! You earned 2/2 points. You are a star!\n",
            "\n",
            "Your submission has been successfully recorded in the gradebook.\n"
          ],
          "name": "stdout"
        }
      ]
    },
    {
      "cell_type": "code",
      "metadata": {
        "id": "3r_DeMOYjldH"
      },
      "source": [
        "#using just our sql dataframe moving forward\n",
        "questions_df = sql_questions_df\n",
        "answers_df = sql_answers_df"
      ],
      "execution_count": 28,
      "outputs": []
    },
    {
      "cell_type": "markdown",
      "metadata": {
        "id": "ooVqjTGm9eCA"
      },
      "source": [
        "### 2.2 What are the most popular questions?\n",
        "\n",
        "**TODO**: Use `questions_df` to find the 10 most popular questions by `ViewCount`.\n",
        "\n",
        "Store the results in `pd/sql_popular_df` which be have the following format:\n",
        "\n",
        ">Id | Title | ViewCount\n",
        ">--- | --- | ---\n",
        "\n",
        "Hint: for your SQL query, you will need to know `ORDER BY`, `LIMIT`"
      ]
    },
    {
      "cell_type": "code",
      "metadata": {
        "id": "scVrGa4CjS08"
      },
      "source": [
        "pd_popular_df = questions_df.sort_values(by='ViewCount',ascending=False)\n",
        "pd_popular_df = pd_popular_df[['Id','Title','ViewCount']].head(10)"
      ],
      "execution_count": 29,
      "outputs": []
    },
    {
      "cell_type": "code",
      "metadata": {
        "id": "q_hw6BLSj3-p",
        "outputId": "0d6fea76-30c5-40e7-d279-0dc043c61436",
        "colab": {
          "base_uri": "https://localhost:8080/",
          "height": 71
        }
      },
      "source": [
        "grader.grade(test_case_id = 'test_pd_popular_df', answer = pd_popular_df)"
      ],
      "execution_count": 30,
      "outputs": [
        {
          "output_type": "stream",
          "text": [
            "Correct! You earned 1/1 points. You are a star!\n",
            "\n",
            "Your submission has been successfully recorded in the gradebook.\n"
          ],
          "name": "stdout"
        }
      ]
    },
    {
      "cell_type": "code",
      "metadata": {
        "id": "pK2IfiYa-FKL",
        "outputId": "4c22efb9-f840-4bfd-fce0-86b15fea8408",
        "colab": {
          "base_uri": "https://localhost:8080/",
          "height": 359
        }
      },
      "source": [
        "popular_query = '''\n",
        "SELECT q.Id, q.Title, q.ViewCount FROM questions_df q ORDER BY q.viewCount DESC LIMIT 10\n",
        "'''\n",
        "sql_popular_df = ps.sqldf(popular_query, locals())\n",
        "sql_popular_df"
      ],
      "execution_count": 31,
      "outputs": [
        {
          "output_type": "execute_result",
          "data": {
            "text/html": [
              "<div>\n",
              "<style scoped>\n",
              "    .dataframe tbody tr th:only-of-type {\n",
              "        vertical-align: middle;\n",
              "    }\n",
              "\n",
              "    .dataframe tbody tr th {\n",
              "        vertical-align: top;\n",
              "    }\n",
              "\n",
              "    .dataframe thead th {\n",
              "        text-align: right;\n",
              "    }\n",
              "</style>\n",
              "<table border=\"1\" class=\"dataframe\">\n",
              "  <thead>\n",
              "    <tr style=\"text-align: right;\">\n",
              "      <th></th>\n",
              "      <th>Id</th>\n",
              "      <th>Title</th>\n",
              "      <th>ViewCount</th>\n",
              "    </tr>\n",
              "  </thead>\n",
              "  <tbody>\n",
              "    <tr>\n",
              "      <th>0</th>\n",
              "      <td>893</td>\n",
              "      <td>How to get correlation between two categorical...</td>\n",
              "      <td>202040</td>\n",
              "    </tr>\n",
              "    <tr>\n",
              "      <th>1</th>\n",
              "      <td>6107</td>\n",
              "      <td>What are deconvolutional layers?</td>\n",
              "      <td>180519</td>\n",
              "    </tr>\n",
              "    <tr>\n",
              "      <th>2</th>\n",
              "      <td>13490</td>\n",
              "      <td>How to set class weights for imbalanced classe...</td>\n",
              "      <td>167923</td>\n",
              "    </tr>\n",
              "    <tr>\n",
              "      <th>3</th>\n",
              "      <td>22</td>\n",
              "      <td>K-Means clustering for mixed numeric and categ...</td>\n",
              "      <td>167107</td>\n",
              "    </tr>\n",
              "    <tr>\n",
              "      <th>4</th>\n",
              "      <td>10459</td>\n",
              "      <td>Calculation and Visualization of Correlation M...</td>\n",
              "      <td>160305</td>\n",
              "    </tr>\n",
              "    <tr>\n",
              "      <th>5</th>\n",
              "      <td>12321</td>\n",
              "      <td>Difference between fit and fit_transform in sc...</td>\n",
              "      <td>158049</td>\n",
              "    </tr>\n",
              "    <tr>\n",
              "      <th>6</th>\n",
              "      <td>11928</td>\n",
              "      <td>ValueError: Input contains NaN, infinity or a ...</td>\n",
              "      <td>143746</td>\n",
              "    </tr>\n",
              "    <tr>\n",
              "      <th>7</th>\n",
              "      <td>33053</td>\n",
              "      <td>How do I compare columns in different data fra...</td>\n",
              "      <td>139491</td>\n",
              "    </tr>\n",
              "    <tr>\n",
              "      <th>8</th>\n",
              "      <td>9302</td>\n",
              "      <td>The cross-entropy error function in neural net...</td>\n",
              "      <td>134651</td>\n",
              "    </tr>\n",
              "    <tr>\n",
              "      <th>9</th>\n",
              "      <td>15989</td>\n",
              "      <td>Micro Average vs Macro average Performance in ...</td>\n",
              "      <td>115817</td>\n",
              "    </tr>\n",
              "  </tbody>\n",
              "</table>\n",
              "</div>"
            ],
            "text/plain": [
              "      Id                                              Title  ViewCount\n",
              "0    893  How to get correlation between two categorical...     202040\n",
              "1   6107                   What are deconvolutional layers?     180519\n",
              "2  13490  How to set class weights for imbalanced classe...     167923\n",
              "3     22  K-Means clustering for mixed numeric and categ...     167107\n",
              "4  10459  Calculation and Visualization of Correlation M...     160305\n",
              "5  12321  Difference between fit and fit_transform in sc...     158049\n",
              "6  11928  ValueError: Input contains NaN, infinity or a ...     143746\n",
              "7  33053  How do I compare columns in different data fra...     139491\n",
              "8   9302  The cross-entropy error function in neural net...     134651\n",
              "9  15989  Micro Average vs Macro average Performance in ...     115817"
            ]
          },
          "metadata": {
            "tags": []
          },
          "execution_count": 31
        }
      ]
    },
    {
      "cell_type": "code",
      "metadata": {
        "id": "PHzgw1okj7Ju",
        "outputId": "37a2c863-679d-4d0a-d479-c31441cb5075",
        "colab": {
          "base_uri": "https://localhost:8080/",
          "height": 71
        }
      },
      "source": [
        "grader.grade(test_case_id = 'test_popular_query', answer = popular_query)"
      ],
      "execution_count": 32,
      "outputs": [
        {
          "output_type": "stream",
          "text": [
            "Correct! You earned 2/2 points. You are a star!\n",
            "\n",
            "Your submission has been successfully recorded in the gradebook.\n"
          ],
          "name": "stdout"
        }
      ]
    },
    {
      "cell_type": "code",
      "metadata": {
        "id": "KcJvhlRfkTgt",
        "outputId": "5fca705c-be21-46d9-cb28-732c4439c895",
        "colab": {
          "base_uri": "https://localhost:8080/",
          "height": 71
        }
      },
      "source": [
        "grader.grade(test_case_id = 'test_sql_popular_df', answer = sql_popular_df)"
      ],
      "execution_count": 33,
      "outputs": [
        {
          "output_type": "stream",
          "text": [
            "Correct! You earned 1/1 points. You are a star!\n",
            "\n",
            "Your submission has been successfully recorded in the gradebook.\n"
          ],
          "name": "stdout"
        }
      ]
    },
    {
      "cell_type": "markdown",
      "metadata": {
        "id": "YE5L0XqjBLu_"
      },
      "source": [
        "### 2.3 Who are the most helpful users?\n",
        "\n",
        "**TODO:**  Use `answers_df` to find the names of the top 10 users who answer the most questions on stack exchange. This should be based on the count of unique answers made by the user.\n",
        "\n",
        "Your answer, stored in `pd/sql_talkative_df` will have the following format:\n",
        "\n",
        ">UserId | DisplayName | ResponseCount\n",
        ">--- | --- | ---\n",
        "\n",
        "\n",
        "Note: both `users_df` and `answers_df` have an `Id` column, but store entirely different values in them! \n",
        "\n",
        "SQL Hint: The tools that you will need include, but are not limited to`AS`, `JOIN`, `GROUP BY`, `ORDER BY` and `LIMIT`"
      ]
    },
    {
      "cell_type": "code",
      "metadata": {
        "id": "AudLyAXhBSLU",
        "outputId": "e6aa75f9-b85a-4a49-ca39-d4a0e7b8aece",
        "colab": {
          "base_uri": "https://localhost:8080/",
          "height": 1000
        }
      },
      "source": [
        "display(users_df)\n",
        "display(answers_df)"
      ],
      "execution_count": 34,
      "outputs": [
        {
          "output_type": "display_data",
          "data": {
            "text/html": [
              "<div>\n",
              "<style scoped>\n",
              "    .dataframe tbody tr th:only-of-type {\n",
              "        vertical-align: middle;\n",
              "    }\n",
              "\n",
              "    .dataframe tbody tr th {\n",
              "        vertical-align: top;\n",
              "    }\n",
              "\n",
              "    .dataframe thead th {\n",
              "        text-align: right;\n",
              "    }\n",
              "</style>\n",
              "<table border=\"1\" class=\"dataframe\">\n",
              "  <thead>\n",
              "    <tr style=\"text-align: right;\">\n",
              "      <th></th>\n",
              "      <th>Id</th>\n",
              "      <th>Reputation</th>\n",
              "      <th>CreationDate</th>\n",
              "      <th>DisplayName</th>\n",
              "      <th>LastAccessDate</th>\n",
              "      <th>WebsiteUrl</th>\n",
              "      <th>Location</th>\n",
              "      <th>AboutMe</th>\n",
              "      <th>Views</th>\n",
              "      <th>UpVotes</th>\n",
              "      <th>DownVotes</th>\n",
              "      <th>AccountId</th>\n",
              "      <th>ProfileImageUrl</th>\n",
              "    </tr>\n",
              "  </thead>\n",
              "  <tbody>\n",
              "    <tr>\n",
              "      <th>0</th>\n",
              "      <td>-1</td>\n",
              "      <td>1</td>\n",
              "      <td>2014-05-13T21:29:22.820</td>\n",
              "      <td>Community</td>\n",
              "      <td>2014-05-13T21:29:22.820</td>\n",
              "      <td>http://meta.stackexchange.com/</td>\n",
              "      <td>on the server farm</td>\n",
              "      <td>&lt;p&gt;Hi, I'm not really a person.&lt;/p&gt;\\n\\n&lt;p&gt;I'm ...</td>\n",
              "      <td>0</td>\n",
              "      <td>800</td>\n",
              "      <td>1358</td>\n",
              "      <td>-1</td>\n",
              "      <td>0</td>\n",
              "    </tr>\n",
              "    <tr>\n",
              "      <th>1</th>\n",
              "      <td>1</td>\n",
              "      <td>101</td>\n",
              "      <td>2014-05-13T22:58:54.810</td>\n",
              "      <td>Adam Lear</td>\n",
              "      <td>2019-06-11T19:12:27.157</td>\n",
              "      <td>0</td>\n",
              "      <td>New York, NY</td>\n",
              "      <td>\\n\\n&lt;p&gt;Developer at Stack Overflow focusing on...</td>\n",
              "      <td>493</td>\n",
              "      <td>0</td>\n",
              "      <td>0</td>\n",
              "      <td>37099</td>\n",
              "      <td>https://i.stack.imgur.com/SMEGn.jpg?s=128&amp;g=1</td>\n",
              "    </tr>\n",
              "    <tr>\n",
              "      <th>2</th>\n",
              "      <td>2</td>\n",
              "      <td>101</td>\n",
              "      <td>2014-05-13T22:59:19.787</td>\n",
              "      <td>Geoff Dalgas</td>\n",
              "      <td>2019-09-03T19:10:22.217</td>\n",
              "      <td>http://stackoverflow.com</td>\n",
              "      <td>Corvallis, OR</td>\n",
              "      <td>&lt;p&gt;Developer on the Stack Overflow team.  Find...</td>\n",
              "      <td>9</td>\n",
              "      <td>0</td>\n",
              "      <td>0</td>\n",
              "      <td>2</td>\n",
              "      <td>https://i.stack.imgur.com/nDllk.png</td>\n",
              "    </tr>\n",
              "    <tr>\n",
              "      <th>3</th>\n",
              "      <td>3</td>\n",
              "      <td>101</td>\n",
              "      <td>2014-05-13T23:15:34.483</td>\n",
              "      <td>hichris123</td>\n",
              "      <td>2019-08-01T18:06:24.597</td>\n",
              "      <td>0</td>\n",
              "      <td>0</td>\n",
              "      <td>&lt;p&gt;I'm a student interested in technology.&lt;/p&gt;...</td>\n",
              "      <td>7</td>\n",
              "      <td>1</td>\n",
              "      <td>3</td>\n",
              "      <td>3046327</td>\n",
              "      <td>https://i.stack.imgur.com/JVj4n.png?s=256&amp;g=1</td>\n",
              "    </tr>\n",
              "    <tr>\n",
              "      <th>4</th>\n",
              "      <td>4</td>\n",
              "      <td>101</td>\n",
              "      <td>2014-05-13T23:16:09.937</td>\n",
              "      <td>Ben Collins</td>\n",
              "      <td>2014-08-04T15:25:54.810</td>\n",
              "      <td>http://benjamincollins.com</td>\n",
              "      <td>Republic of Texas</td>\n",
              "      <td>&lt;p&gt;I work with &lt;a href=\"https://olo.com\" rel=\"...</td>\n",
              "      <td>9</td>\n",
              "      <td>0</td>\n",
              "      <td>0</td>\n",
              "      <td>2365</td>\n",
              "      <td>0</td>\n",
              "    </tr>\n",
              "    <tr>\n",
              "      <th>...</th>\n",
              "      <td>...</td>\n",
              "      <td>...</td>\n",
              "      <td>...</td>\n",
              "      <td>...</td>\n",
              "      <td>...</td>\n",
              "      <td>...</td>\n",
              "      <td>...</td>\n",
              "      <td>...</td>\n",
              "      <td>...</td>\n",
              "      <td>...</td>\n",
              "      <td>...</td>\n",
              "      <td>...</td>\n",
              "      <td>...</td>\n",
              "    </tr>\n",
              "    <tr>\n",
              "      <th>71642</th>\n",
              "      <td>86211</td>\n",
              "      <td>1</td>\n",
              "      <td>2019-12-01T00:00:51.197</td>\n",
              "      <td>AndyK</td>\n",
              "      <td>2019-12-01T00:15:55.827</td>\n",
              "      <td>0</td>\n",
              "      <td>0</td>\n",
              "      <td>0</td>\n",
              "      <td>0</td>\n",
              "      <td>0</td>\n",
              "      <td>0</td>\n",
              "      <td>17213528</td>\n",
              "      <td>https://lh6.googleusercontent.com/-I5j4JC5dLN8...</td>\n",
              "    </tr>\n",
              "    <tr>\n",
              "      <th>71643</th>\n",
              "      <td>86212</td>\n",
              "      <td>101</td>\n",
              "      <td>2019-12-01T00:52:30.680</td>\n",
              "      <td>eurieka</td>\n",
              "      <td>2019-12-01T00:52:30.680</td>\n",
              "      <td>0</td>\n",
              "      <td>United States</td>\n",
              "      <td>0</td>\n",
              "      <td>0</td>\n",
              "      <td>1</td>\n",
              "      <td>0</td>\n",
              "      <td>11096710</td>\n",
              "      <td>https://www.gravatar.com/avatar/188867a90b9fed...</td>\n",
              "    </tr>\n",
              "    <tr>\n",
              "      <th>71644</th>\n",
              "      <td>86213</td>\n",
              "      <td>1</td>\n",
              "      <td>2019-12-01T02:13:26.667</td>\n",
              "      <td>netra</td>\n",
              "      <td>2019-12-01T02:13:26.667</td>\n",
              "      <td>0</td>\n",
              "      <td>0</td>\n",
              "      <td>0</td>\n",
              "      <td>1</td>\n",
              "      <td>0</td>\n",
              "      <td>0</td>\n",
              "      <td>17213856</td>\n",
              "      <td>0</td>\n",
              "    </tr>\n",
              "    <tr>\n",
              "      <th>71645</th>\n",
              "      <td>86214</td>\n",
              "      <td>1</td>\n",
              "      <td>2019-12-01T02:36:20.817</td>\n",
              "      <td>Pat.com</td>\n",
              "      <td>2019-12-01T02:36:20.817</td>\n",
              "      <td>0</td>\n",
              "      <td>0</td>\n",
              "      <td>0</td>\n",
              "      <td>0</td>\n",
              "      <td>0</td>\n",
              "      <td>0</td>\n",
              "      <td>13296376</td>\n",
              "      <td>https://www.gravatar.com/avatar/22edcc5b1edff2...</td>\n",
              "    </tr>\n",
              "    <tr>\n",
              "      <th>71646</th>\n",
              "      <td>86215</td>\n",
              "      <td>101</td>\n",
              "      <td>2019-12-01T03:02:42.790</td>\n",
              "      <td>Marine Galantin</td>\n",
              "      <td>2019-12-01T03:02:42.790</td>\n",
              "      <td>0</td>\n",
              "      <td>0</td>\n",
              "      <td>&lt;p&gt;EPFL student in maths :)&lt;/p&gt;\\n\\n&lt;p&gt;enjoying...</td>\n",
              "      <td>0</td>\n",
              "      <td>0</td>\n",
              "      <td>0</td>\n",
              "      <td>12131136</td>\n",
              "      <td>https://graph.facebook.com/872534512905210/pic...</td>\n",
              "    </tr>\n",
              "  </tbody>\n",
              "</table>\n",
              "<p>71647 rows × 13 columns</p>\n",
              "</div>"
            ],
            "text/plain": [
              "          Id  ...                                    ProfileImageUrl\n",
              "0         -1  ...                                                  0\n",
              "1          1  ...      https://i.stack.imgur.com/SMEGn.jpg?s=128&g=1\n",
              "2          2  ...                https://i.stack.imgur.com/nDllk.png\n",
              "3          3  ...      https://i.stack.imgur.com/JVj4n.png?s=256&g=1\n",
              "4          4  ...                                                  0\n",
              "...      ...  ...                                                ...\n",
              "71642  86211  ...  https://lh6.googleusercontent.com/-I5j4JC5dLN8...\n",
              "71643  86212  ...  https://www.gravatar.com/avatar/188867a90b9fed...\n",
              "71644  86213  ...                                                  0\n",
              "71645  86214  ...  https://www.gravatar.com/avatar/22edcc5b1edff2...\n",
              "71646  86215  ...  https://graph.facebook.com/872534512905210/pic...\n",
              "\n",
              "[71647 rows x 13 columns]"
            ]
          },
          "metadata": {
            "tags": []
          }
        },
        {
          "output_type": "display_data",
          "data": {
            "text/html": [
              "<div>\n",
              "<style scoped>\n",
              "    .dataframe tbody tr th:only-of-type {\n",
              "        vertical-align: middle;\n",
              "    }\n",
              "\n",
              "    .dataframe tbody tr th {\n",
              "        vertical-align: top;\n",
              "    }\n",
              "\n",
              "    .dataframe thead th {\n",
              "        text-align: right;\n",
              "    }\n",
              "</style>\n",
              "<table border=\"1\" class=\"dataframe\">\n",
              "  <thead>\n",
              "    <tr style=\"text-align: right;\">\n",
              "      <th></th>\n",
              "      <th>Id</th>\n",
              "      <th>PostTypeId</th>\n",
              "      <th>CreationDate</th>\n",
              "      <th>Score</th>\n",
              "      <th>ViewCount</th>\n",
              "      <th>Body</th>\n",
              "      <th>OwnerUserId</th>\n",
              "      <th>LastActivityDate</th>\n",
              "      <th>Title</th>\n",
              "      <th>Tags</th>\n",
              "      <th>AnswerCount</th>\n",
              "      <th>CommentCount</th>\n",
              "      <th>FavoriteCount</th>\n",
              "      <th>ClosedDate</th>\n",
              "      <th>AcceptedAnswerId</th>\n",
              "      <th>LastEditorUserId</th>\n",
              "      <th>LastEditDate</th>\n",
              "      <th>ParentId</th>\n",
              "      <th>OwnerDisplayName</th>\n",
              "      <th>CommunityOwnedDate</th>\n",
              "      <th>LastEditorDisplayName</th>\n",
              "    </tr>\n",
              "  </thead>\n",
              "  <tbody>\n",
              "    <tr>\n",
              "      <th>0</th>\n",
              "      <td>9</td>\n",
              "      <td>2</td>\n",
              "      <td>2014-05-14T00:36:31.077</td>\n",
              "      <td>5</td>\n",
              "      <td>0</td>\n",
              "      <td>&lt;p&gt;Not sure if this fits the scope of this SE,...</td>\n",
              "      <td>51</td>\n",
              "      <td>2014-05-14T00:36:31.077</td>\n",
              "      <td>0</td>\n",
              "      <td>0</td>\n",
              "      <td>0</td>\n",
              "      <td>0</td>\n",
              "      <td>0</td>\n",
              "      <td>0</td>\n",
              "      <td>0</td>\n",
              "      <td>0</td>\n",
              "      <td>0</td>\n",
              "      <td>5</td>\n",
              "      <td>0</td>\n",
              "      <td>0</td>\n",
              "      <td>0</td>\n",
              "    </tr>\n",
              "    <tr>\n",
              "      <th>1</th>\n",
              "      <td>10</td>\n",
              "      <td>2</td>\n",
              "      <td>2014-05-14T00:53:43.273</td>\n",
              "      <td>12</td>\n",
              "      <td>0</td>\n",
              "      <td>&lt;p&gt;One book that's freely available is \"The El...</td>\n",
              "      <td>22</td>\n",
              "      <td>2014-05-14T00:53:43.273</td>\n",
              "      <td>0</td>\n",
              "      <td>0</td>\n",
              "      <td>0</td>\n",
              "      <td>1</td>\n",
              "      <td>0</td>\n",
              "      <td>0</td>\n",
              "      <td>0</td>\n",
              "      <td>0</td>\n",
              "      <td>0</td>\n",
              "      <td>7</td>\n",
              "      <td>0</td>\n",
              "      <td>0</td>\n",
              "      <td>0</td>\n",
              "    </tr>\n",
              "    <tr>\n",
              "      <th>2</th>\n",
              "      <td>21</td>\n",
              "      <td>2</td>\n",
              "      <td>2014-05-14T05:44:29.340</td>\n",
              "      <td>33</td>\n",
              "      <td>0</td>\n",
              "      <td>&lt;p&gt;As you rightly note, these days \"big data\" ...</td>\n",
              "      <td>14</td>\n",
              "      <td>2014-05-14T05:44:29.340</td>\n",
              "      <td>0</td>\n",
              "      <td>0</td>\n",
              "      <td>0</td>\n",
              "      <td>1</td>\n",
              "      <td>0</td>\n",
              "      <td>0</td>\n",
              "      <td>0</td>\n",
              "      <td>0</td>\n",
              "      <td>0</td>\n",
              "      <td>19</td>\n",
              "      <td>0</td>\n",
              "      <td>0</td>\n",
              "      <td>0</td>\n",
              "    </tr>\n",
              "    <tr>\n",
              "      <th>3</th>\n",
              "      <td>23</td>\n",
              "      <td>2</td>\n",
              "      <td>2014-05-14T06:06:13.603</td>\n",
              "      <td>8</td>\n",
              "      <td>0</td>\n",
              "      <td>&lt;p&gt;Data Science specialization from Johns Hopk...</td>\n",
              "      <td>97</td>\n",
              "      <td>2014-05-14T06:06:13.603</td>\n",
              "      <td>0</td>\n",
              "      <td>0</td>\n",
              "      <td>0</td>\n",
              "      <td>0</td>\n",
              "      <td>0</td>\n",
              "      <td>0</td>\n",
              "      <td>0</td>\n",
              "      <td>0</td>\n",
              "      <td>0</td>\n",
              "      <td>7</td>\n",
              "      <td>0</td>\n",
              "      <td>0</td>\n",
              "      <td>0</td>\n",
              "    </tr>\n",
              "    <tr>\n",
              "      <th>4</th>\n",
              "      <td>24</td>\n",
              "      <td>2</td>\n",
              "      <td>2014-05-14T06:26:27.163</td>\n",
              "      <td>124</td>\n",
              "      <td>0</td>\n",
              "      <td>&lt;p&gt;The standard k-means algorithm isn't direct...</td>\n",
              "      <td>14</td>\n",
              "      <td>2016-11-29T20:06:51.543</td>\n",
              "      <td>0</td>\n",
              "      <td>0</td>\n",
              "      <td>0</td>\n",
              "      <td>9</td>\n",
              "      <td>0</td>\n",
              "      <td>0</td>\n",
              "      <td>0</td>\n",
              "      <td>14</td>\n",
              "      <td>2016-11-29T20:06:51.543</td>\n",
              "      <td>22</td>\n",
              "      <td>0</td>\n",
              "      <td>0</td>\n",
              "      <td>0</td>\n",
              "    </tr>\n",
              "    <tr>\n",
              "      <th>...</th>\n",
              "      <td>...</td>\n",
              "      <td>...</td>\n",
              "      <td>...</td>\n",
              "      <td>...</td>\n",
              "      <td>...</td>\n",
              "      <td>...</td>\n",
              "      <td>...</td>\n",
              "      <td>...</td>\n",
              "      <td>...</td>\n",
              "      <td>...</td>\n",
              "      <td>...</td>\n",
              "      <td>...</td>\n",
              "      <td>...</td>\n",
              "      <td>...</td>\n",
              "      <td>...</td>\n",
              "      <td>...</td>\n",
              "      <td>...</td>\n",
              "      <td>...</td>\n",
              "      <td>...</td>\n",
              "      <td>...</td>\n",
              "      <td>...</td>\n",
              "    </tr>\n",
              "    <tr>\n",
              "      <th>22661</th>\n",
              "      <td>64036</td>\n",
              "      <td>2</td>\n",
              "      <td>2019-11-30T18:31:04.583</td>\n",
              "      <td>1</td>\n",
              "      <td>0</td>\n",
              "      <td>&lt;p&gt;Either can be good or bad. It's not necessa...</td>\n",
              "      <td>924</td>\n",
              "      <td>2019-11-30T18:31:04.583</td>\n",
              "      <td>0</td>\n",
              "      <td>0</td>\n",
              "      <td>0</td>\n",
              "      <td>0</td>\n",
              "      <td>0</td>\n",
              "      <td>0</td>\n",
              "      <td>0</td>\n",
              "      <td>0</td>\n",
              "      <td>0</td>\n",
              "      <td>64034</td>\n",
              "      <td>0</td>\n",
              "      <td>0</td>\n",
              "      <td>0</td>\n",
              "    </tr>\n",
              "    <tr>\n",
              "      <th>22662</th>\n",
              "      <td>64038</td>\n",
              "      <td>2</td>\n",
              "      <td>2019-11-30T21:23:05.283</td>\n",
              "      <td>0</td>\n",
              "      <td>0</td>\n",
              "      <td>&lt;p&gt;I like your use of the word \"like\".  It mea...</td>\n",
              "      <td>8552</td>\n",
              "      <td>2019-11-30T21:23:05.283</td>\n",
              "      <td>0</td>\n",
              "      <td>0</td>\n",
              "      <td>0</td>\n",
              "      <td>0</td>\n",
              "      <td>0</td>\n",
              "      <td>0</td>\n",
              "      <td>0</td>\n",
              "      <td>0</td>\n",
              "      <td>0</td>\n",
              "      <td>36500</td>\n",
              "      <td>0</td>\n",
              "      <td>0</td>\n",
              "      <td>0</td>\n",
              "    </tr>\n",
              "    <tr>\n",
              "      <th>22663</th>\n",
              "      <td>64040</td>\n",
              "      <td>2</td>\n",
              "      <td>2019-11-30T21:50:16.017</td>\n",
              "      <td>2</td>\n",
              "      <td>0</td>\n",
              "      <td>&lt;p&gt;It's actually not true.  CNN's don't &lt;em&gt;ha...</td>\n",
              "      <td>8560</td>\n",
              "      <td>2019-11-30T21:50:16.017</td>\n",
              "      <td>0</td>\n",
              "      <td>0</td>\n",
              "      <td>0</td>\n",
              "      <td>0</td>\n",
              "      <td>0</td>\n",
              "      <td>0</td>\n",
              "      <td>0</td>\n",
              "      <td>0</td>\n",
              "      <td>0</td>\n",
              "      <td>64022</td>\n",
              "      <td>0</td>\n",
              "      <td>0</td>\n",
              "      <td>0</td>\n",
              "    </tr>\n",
              "    <tr>\n",
              "      <th>22664</th>\n",
              "      <td>64045</td>\n",
              "      <td>2</td>\n",
              "      <td>2019-11-30T23:48:00.320</td>\n",
              "      <td>1</td>\n",
              "      <td>0</td>\n",
              "      <td>&lt;p&gt;Named Entity Recognition (NER) would extrac...</td>\n",
              "      <td>64377</td>\n",
              "      <td>2019-11-30T23:48:00.320</td>\n",
              "      <td>0</td>\n",
              "      <td>0</td>\n",
              "      <td>0</td>\n",
              "      <td>1</td>\n",
              "      <td>0</td>\n",
              "      <td>0</td>\n",
              "      <td>0</td>\n",
              "      <td>0</td>\n",
              "      <td>0</td>\n",
              "      <td>64029</td>\n",
              "      <td>0</td>\n",
              "      <td>0</td>\n",
              "      <td>0</td>\n",
              "    </tr>\n",
              "    <tr>\n",
              "      <th>22665</th>\n",
              "      <td>64046</td>\n",
              "      <td>2</td>\n",
              "      <td>2019-11-30T23:56:58.343</td>\n",
              "      <td>0</td>\n",
              "      <td>0</td>\n",
              "      <td>&lt;p&gt;You probably need to re-design the problem ...</td>\n",
              "      <td>64377</td>\n",
              "      <td>2019-11-30T23:56:58.343</td>\n",
              "      <td>0</td>\n",
              "      <td>0</td>\n",
              "      <td>0</td>\n",
              "      <td>0</td>\n",
              "      <td>0</td>\n",
              "      <td>0</td>\n",
              "      <td>0</td>\n",
              "      <td>0</td>\n",
              "      <td>0</td>\n",
              "      <td>63991</td>\n",
              "      <td>0</td>\n",
              "      <td>0</td>\n",
              "      <td>0</td>\n",
              "    </tr>\n",
              "  </tbody>\n",
              "</table>\n",
              "<p>22666 rows × 21 columns</p>\n",
              "</div>"
            ],
            "text/plain": [
              "          Id  PostTypeId  ... CommunityOwnedDate  LastEditorDisplayName\n",
              "0          9           2  ...                  0                      0\n",
              "1         10           2  ...                  0                      0\n",
              "2         21           2  ...                  0                      0\n",
              "3         23           2  ...                  0                      0\n",
              "4         24           2  ...                  0                      0\n",
              "...      ...         ...  ...                ...                    ...\n",
              "22661  64036           2  ...                  0                      0\n",
              "22662  64038           2  ...                  0                      0\n",
              "22663  64040           2  ...                  0                      0\n",
              "22664  64045           2  ...                  0                      0\n",
              "22665  64046           2  ...                  0                      0\n",
              "\n",
              "[22666 rows x 21 columns]"
            ]
          },
          "metadata": {
            "tags": []
          }
        }
      ]
    },
    {
      "cell_type": "code",
      "metadata": {
        "id": "0lC-kw648e_d",
        "outputId": "02cd7bf4-2fe4-4f49-9508-103fba7c3a1c",
        "colab": {
          "base_uri": "https://localhost:8080/",
          "height": 359
        }
      },
      "source": [
        "pd_talkative_df = answers_df.groupby(by='OwnerUserId',as_index=False).count()\n",
        "pd_talkative_df = pd_talkative_df[pd_talkative_df['OwnerUserId']!=0]\n",
        "pd_talkative_df = pd_talkative_df.sort_values(by='Title',ascending=False)\n",
        "pd_talkative_df = pd_talkative_df[['OwnerUserId','AnswerCount']].head(10)\n",
        "\n",
        "# display(users_df)\n",
        "pd_talkative_df = pd_talkative_df.merge(users_df[['DisplayName','Id']],how='inner',left_on='OwnerUserId',right_on='Id')\n",
        "\n",
        "pd_talkative_df = pd_talkative_df.drop(columns='OwnerUserId')\n",
        "pd_talkative_df = pd_talkative_df.rename(columns={'AnswerCount' : 'ResponseCount','Id':'UserId'})\n",
        "# pd_talkative_df = pd_talkative_df[['UserId','DisplayName','ResponseCount']]\n",
        "display(pd_talkative_df)"
      ],
      "execution_count": 35,
      "outputs": [
        {
          "output_type": "display_data",
          "data": {
            "text/html": [
              "<div>\n",
              "<style scoped>\n",
              "    .dataframe tbody tr th:only-of-type {\n",
              "        vertical-align: middle;\n",
              "    }\n",
              "\n",
              "    .dataframe tbody tr th {\n",
              "        vertical-align: top;\n",
              "    }\n",
              "\n",
              "    .dataframe thead th {\n",
              "        text-align: right;\n",
              "    }\n",
              "</style>\n",
              "<table border=\"1\" class=\"dataframe\">\n",
              "  <thead>\n",
              "    <tr style=\"text-align: right;\">\n",
              "      <th></th>\n",
              "      <th>ResponseCount</th>\n",
              "      <th>DisplayName</th>\n",
              "      <th>UserId</th>\n",
              "    </tr>\n",
              "  </thead>\n",
              "  <tbody>\n",
              "    <tr>\n",
              "      <th>0</th>\n",
              "      <td>408</td>\n",
              "      <td>Neil Slater</td>\n",
              "      <td>836</td>\n",
              "    </tr>\n",
              "    <tr>\n",
              "      <th>1</th>\n",
              "      <td>363</td>\n",
              "      <td>n1k31t4</td>\n",
              "      <td>45264</td>\n",
              "    </tr>\n",
              "    <tr>\n",
              "      <th>2</th>\n",
              "      <td>345</td>\n",
              "      <td>Anony-Mousse</td>\n",
              "      <td>924</td>\n",
              "    </tr>\n",
              "    <tr>\n",
              "      <th>3</th>\n",
              "      <td>330</td>\n",
              "      <td>Media</td>\n",
              "      <td>28175</td>\n",
              "    </tr>\n",
              "    <tr>\n",
              "      <th>4</th>\n",
              "      <td>270</td>\n",
              "      <td>Brian Spiering</td>\n",
              "      <td>1330</td>\n",
              "    </tr>\n",
              "    <tr>\n",
              "      <th>5</th>\n",
              "      <td>227</td>\n",
              "      <td>Emre</td>\n",
              "      <td>381</td>\n",
              "    </tr>\n",
              "    <tr>\n",
              "      <th>6</th>\n",
              "      <td>221</td>\n",
              "      <td>Erwan</td>\n",
              "      <td>64377</td>\n",
              "    </tr>\n",
              "    <tr>\n",
              "      <th>7</th>\n",
              "      <td>203</td>\n",
              "      <td>JahKnows</td>\n",
              "      <td>29587</td>\n",
              "    </tr>\n",
              "    <tr>\n",
              "      <th>8</th>\n",
              "      <td>184</td>\n",
              "      <td>Jan van der Vegt</td>\n",
              "      <td>14904</td>\n",
              "    </tr>\n",
              "    <tr>\n",
              "      <th>9</th>\n",
              "      <td>152</td>\n",
              "      <td>Esmailian</td>\n",
              "      <td>67328</td>\n",
              "    </tr>\n",
              "  </tbody>\n",
              "</table>\n",
              "</div>"
            ],
            "text/plain": [
              "   ResponseCount       DisplayName  UserId\n",
              "0            408       Neil Slater     836\n",
              "1            363           n1k31t4   45264\n",
              "2            345      Anony-Mousse     924\n",
              "3            330             Media   28175\n",
              "4            270    Brian Spiering    1330\n",
              "5            227              Emre     381\n",
              "6            221             Erwan   64377\n",
              "7            203          JahKnows   29587\n",
              "8            184  Jan van der Vegt   14904\n",
              "9            152         Esmailian   67328"
            ]
          },
          "metadata": {
            "tags": []
          }
        }
      ]
    },
    {
      "cell_type": "code",
      "metadata": {
        "id": "7xZO_F9D06E8",
        "outputId": "6bc89a7f-a52e-409d-9a6a-1ac89e317e86",
        "colab": {
          "base_uri": "https://localhost:8080/",
          "height": 71
        }
      },
      "source": [
        "grader.grade(test_case_id = 'test_pd_talkative_df', answer = pd_talkative_df)"
      ],
      "execution_count": 36,
      "outputs": [
        {
          "output_type": "stream",
          "text": [
            "Correct! You earned 1/1 points. You are a star!\n",
            "\n",
            "Your submission has been successfully recorded in the gradebook.\n"
          ],
          "name": "stdout"
        }
      ]
    },
    {
      "cell_type": "code",
      "metadata": {
        "id": "wpQevBFf9DUL",
        "outputId": "4e18e07b-5607-4e87-ed98-cf56dd38948a",
        "colab": {
          "base_uri": "https://localhost:8080/",
          "height": 359
        }
      },
      "source": [
        "#theres probably going to be a lot of questions on how to order by count here\n",
        "talkative_query = '''\n",
        "SELECT COUNT(a.Title) AS ResponseCount, u.DisplayName, u.Id AS UserId FROM answers_df a INNER JOIN users_df u ON a.OwnerUserId = u.Id GROUP BY a.OwnerUserId ORDER BY ResponseCount DESC LIMIT 10 \n",
        "'''\n",
        "sql_talkative_df = ps.sqldf(talkative_query, locals())\n",
        "sql_talkative_df"
      ],
      "execution_count": 37,
      "outputs": [
        {
          "output_type": "execute_result",
          "data": {
            "text/html": [
              "<div>\n",
              "<style scoped>\n",
              "    .dataframe tbody tr th:only-of-type {\n",
              "        vertical-align: middle;\n",
              "    }\n",
              "\n",
              "    .dataframe tbody tr th {\n",
              "        vertical-align: top;\n",
              "    }\n",
              "\n",
              "    .dataframe thead th {\n",
              "        text-align: right;\n",
              "    }\n",
              "</style>\n",
              "<table border=\"1\" class=\"dataframe\">\n",
              "  <thead>\n",
              "    <tr style=\"text-align: right;\">\n",
              "      <th></th>\n",
              "      <th>ResponseCount</th>\n",
              "      <th>DisplayName</th>\n",
              "      <th>UserId</th>\n",
              "    </tr>\n",
              "  </thead>\n",
              "  <tbody>\n",
              "    <tr>\n",
              "      <th>0</th>\n",
              "      <td>408</td>\n",
              "      <td>Neil Slater</td>\n",
              "      <td>836</td>\n",
              "    </tr>\n",
              "    <tr>\n",
              "      <th>1</th>\n",
              "      <td>363</td>\n",
              "      <td>n1k31t4</td>\n",
              "      <td>45264</td>\n",
              "    </tr>\n",
              "    <tr>\n",
              "      <th>2</th>\n",
              "      <td>345</td>\n",
              "      <td>Anony-Mousse</td>\n",
              "      <td>924</td>\n",
              "    </tr>\n",
              "    <tr>\n",
              "      <th>3</th>\n",
              "      <td>330</td>\n",
              "      <td>Media</td>\n",
              "      <td>28175</td>\n",
              "    </tr>\n",
              "    <tr>\n",
              "      <th>4</th>\n",
              "      <td>270</td>\n",
              "      <td>Brian Spiering</td>\n",
              "      <td>1330</td>\n",
              "    </tr>\n",
              "    <tr>\n",
              "      <th>5</th>\n",
              "      <td>227</td>\n",
              "      <td>Emre</td>\n",
              "      <td>381</td>\n",
              "    </tr>\n",
              "    <tr>\n",
              "      <th>6</th>\n",
              "      <td>221</td>\n",
              "      <td>Erwan</td>\n",
              "      <td>64377</td>\n",
              "    </tr>\n",
              "    <tr>\n",
              "      <th>7</th>\n",
              "      <td>203</td>\n",
              "      <td>JahKnows</td>\n",
              "      <td>29587</td>\n",
              "    </tr>\n",
              "    <tr>\n",
              "      <th>8</th>\n",
              "      <td>184</td>\n",
              "      <td>Jan van der Vegt</td>\n",
              "      <td>14904</td>\n",
              "    </tr>\n",
              "    <tr>\n",
              "      <th>9</th>\n",
              "      <td>152</td>\n",
              "      <td>Esmailian</td>\n",
              "      <td>67328</td>\n",
              "    </tr>\n",
              "  </tbody>\n",
              "</table>\n",
              "</div>"
            ],
            "text/plain": [
              "   ResponseCount       DisplayName  UserId\n",
              "0            408       Neil Slater     836\n",
              "1            363           n1k31t4   45264\n",
              "2            345      Anony-Mousse     924\n",
              "3            330             Media   28175\n",
              "4            270    Brian Spiering    1330\n",
              "5            227              Emre     381\n",
              "6            221             Erwan   64377\n",
              "7            203          JahKnows   29587\n",
              "8            184  Jan van der Vegt   14904\n",
              "9            152         Esmailian   67328"
            ]
          },
          "metadata": {
            "tags": []
          },
          "execution_count": 37
        }
      ]
    },
    {
      "cell_type": "code",
      "metadata": {
        "id": "FhGqClcm1KRO",
        "outputId": "811534b2-254c-4718-fdde-32cf06ca7833",
        "colab": {
          "base_uri": "https://localhost:8080/",
          "height": 71
        }
      },
      "source": [
        "grader.grade(test_case_id = 'test_talkative_query', answer = talkative_query)"
      ],
      "execution_count": 38,
      "outputs": [
        {
          "output_type": "stream",
          "text": [
            "Correct! You earned 2/2 points. You are a star!\n",
            "\n",
            "Your submission has been successfully recorded in the gradebook.\n"
          ],
          "name": "stdout"
        }
      ]
    },
    {
      "cell_type": "code",
      "metadata": {
        "id": "oidAVJro2Eda",
        "outputId": "8f818626-38d3-4089-965e-1f171a96b654",
        "colab": {
          "base_uri": "https://localhost:8080/",
          "height": 71
        }
      },
      "source": [
        "grader.grade(test_case_id = 'test_pd_talkative_df', answer = pd_talkative_df)"
      ],
      "execution_count": 39,
      "outputs": [
        {
          "output_type": "stream",
          "text": [
            "Correct! You earned 1/1 points. You are a star!\n",
            "\n",
            "Your submission has been successfully recorded in the gradebook.\n"
          ],
          "name": "stdout"
        }
      ]
    },
    {
      "cell_type": "markdown",
      "metadata": {
        "id": "DdwzQ2XtF2ki"
      },
      "source": [
        "### 2.4 Who are the most helpful-in-a-different-kind-of-way users?\n",
        "\n",
        "**TODO**: find the users that ask a lot of questions, but have never posted an answer. To accomplish this, you are going to want to find all the users in `questions_df` that don't appear in `answers_df`.\n",
        "\n",
        "The query will require you to write a [nested SQL query](https://learnsql.com/blog/sql-nested-select/). That is, there will be at least one select statement inside of a select statement. This means that you **should NOT** write two seperate SQL commands and call ps.sqldf() twice. \n",
        "\n",
        "Though it would be helpful, **you do NOT have to implement this in pandas**. Your answer, stored in `askers_df` will have the following format:\n",
        "\n",
        ">UserId | DisplayName | QuestionsCount\n",
        ">--- | --- | ---\n",
        "\n",
        "\n",
        "SQL Hint: You can use `NOT IN` or `LEFT JOIN`."
      ]
    },
    {
      "cell_type": "code",
      "metadata": {
        "id": "T_zlC7N5alOr",
        "outputId": "7373db09-4789-4c30-91da-e38e417fb7bb",
        "colab": {
          "base_uri": "https://localhost:8080/",
          "height": 204
        }
      },
      "source": [
        "askers_query = '''\n",
        "SELECT q.OwnerUserId AS UserId, u.DisplayName, COUNT(q.Title) AS QuestionsCount FROM questions_df q LEFT JOIN users_df u ON UserId = u.Id\n",
        "WHERE UserId NOT IN (\n",
        "  SELECT OwnerUserId FROM answers_df\n",
        ")\n",
        "GROUP BY UserId\n",
        "ORDER BY QuestionsCount DESC \n",
        "LIMIT 5\n",
        "'''\n",
        "askers_df = ps.sqldf(askers_query, locals())\n",
        "askers_df"
      ],
      "execution_count": 40,
      "outputs": [
        {
          "output_type": "execute_result",
          "data": {
            "text/html": [
              "<div>\n",
              "<style scoped>\n",
              "    .dataframe tbody tr th:only-of-type {\n",
              "        vertical-align: middle;\n",
              "    }\n",
              "\n",
              "    .dataframe tbody tr th {\n",
              "        vertical-align: top;\n",
              "    }\n",
              "\n",
              "    .dataframe thead th {\n",
              "        text-align: right;\n",
              "    }\n",
              "</style>\n",
              "<table border=\"1\" class=\"dataframe\">\n",
              "  <thead>\n",
              "    <tr style=\"text-align: right;\">\n",
              "      <th></th>\n",
              "      <th>UserId</th>\n",
              "      <th>DisplayName</th>\n",
              "      <th>QuestionsCount</th>\n",
              "    </tr>\n",
              "  </thead>\n",
              "  <tbody>\n",
              "    <tr>\n",
              "      <th>0</th>\n",
              "      <td>17310</td>\n",
              "      <td>Edamame</td>\n",
              "      <td>42</td>\n",
              "    </tr>\n",
              "    <tr>\n",
              "      <th>1</th>\n",
              "      <td>51129</td>\n",
              "      <td>N.IT</td>\n",
              "      <td>38</td>\n",
              "    </tr>\n",
              "    <tr>\n",
              "      <th>2</th>\n",
              "      <td>8013</td>\n",
              "      <td>girl101</td>\n",
              "      <td>36</td>\n",
              "    </tr>\n",
              "    <tr>\n",
              "      <th>3</th>\n",
              "      <td>58433</td>\n",
              "      <td>user10296606</td>\n",
              "      <td>32</td>\n",
              "    </tr>\n",
              "    <tr>\n",
              "      <th>4</th>\n",
              "      <td>7812</td>\n",
              "      <td>william007</td>\n",
              "      <td>29</td>\n",
              "    </tr>\n",
              "  </tbody>\n",
              "</table>\n",
              "</div>"
            ],
            "text/plain": [
              "   UserId   DisplayName  QuestionsCount\n",
              "0   17310       Edamame              42\n",
              "1   51129          N.IT              38\n",
              "2    8013       girl101              36\n",
              "3   58433  user10296606              32\n",
              "4    7812    william007              29"
            ]
          },
          "metadata": {
            "tags": []
          },
          "execution_count": 40
        }
      ]
    },
    {
      "cell_type": "code",
      "metadata": {
        "id": "Et3CfB-VVrGR",
        "outputId": "349b2a59-d9b9-4cef-c32f-938cc143a20e",
        "colab": {
          "base_uri": "https://localhost:8080/",
          "height": 71
        }
      },
      "source": [
        "grader.grade(test_case_id = 'test_askers_query', answer = askers_query)"
      ],
      "execution_count": 41,
      "outputs": [
        {
          "output_type": "stream",
          "text": [
            "Correct! You earned 2/2 points. You are a star!\n",
            "\n",
            "Your submission has been successfully recorded in the gradebook.\n"
          ],
          "name": "stdout"
        }
      ]
    },
    {
      "cell_type": "code",
      "metadata": {
        "id": "S96GfLS8Vzn9",
        "outputId": "64a02e86-957b-4739-82d2-50f4a81afc13",
        "colab": {
          "base_uri": "https://localhost:8080/",
          "height": 71
        }
      },
      "source": [
        "grader.grade(test_case_id = 'test_askers_df', answer = askers_df)"
      ],
      "execution_count": 42,
      "outputs": [
        {
          "output_type": "stream",
          "text": [
            "Correct! You earned 2/2 points. You are a star!\n",
            "\n",
            "Your submission has been successfully recorded in the gradebook.\n"
          ],
          "name": "stdout"
        }
      ]
    },
    {
      "cell_type": "markdown",
      "metadata": {
        "id": "fmzgmtU2USvQ"
      },
      "source": [
        "### 2.5 So which is better, SQL or Pandas?\n",
        "\n",
        "Now that you have a taste for SQL, let's try to use our new skill to query stack exchange in this notebook and put this debate to rest.\n",
        "\n",
        "**TODO**: Find all of the answers to a post that asks about Pandas vs. SQL. Here are some clues that will come in handy:\n",
        "1. This post contains the words \"pandas\" and \"sql\"\n",
        "2. This post has the most viewcount out of all the posts with both of those words\n",
        "3. The answers to this post have the column `ParentId` equal to the post's `Id`\n",
        "\n",
        "Again, no need to do this in pandas, but your answer, stored in `versus_df` will have the following format:\n",
        "\n",
        "> QuestionId | Question | QuestionBody | AnswerId | AnswerBody \n",
        ">--- | --- | --- | --- | ---\n",
        "\n",
        "SQL Hint: take a look at the `LIKE` function\n"
      ]
    },
    {
      "cell_type": "code",
      "metadata": {
        "id": "-ONi-nKJa2sp",
        "outputId": "2bdb10d7-c06d-4f36-b6cb-7d160f08259d",
        "colab": {
          "base_uri": "https://localhost:8080/",
          "height": 390
        }
      },
      "source": [
        "versus_query = '''\n",
        "SELECT q.Id AS QuestionId, q.Title AS Question, q.Body AS QuestionBody, a.Id AS AnswerId, a.Body AS AnswerBody\n",
        "FROM questions_df q JOIN answers_df a ON q.Id = a.ParentId\n",
        "WHERE Question LIKE '%pandas%' AND Question LIKE '%sql%'\n",
        "ORDER BY q.ViewCount DESC\n",
        "LIMIT 11\n",
        "'''\n",
        "versus_df = ps.sqldf(versus_query, locals())\n",
        "versus_df"
      ],
      "execution_count": 43,
      "outputs": [
        {
          "output_type": "execute_result",
          "data": {
            "text/html": [
              "<div>\n",
              "<style scoped>\n",
              "    .dataframe tbody tr th:only-of-type {\n",
              "        vertical-align: middle;\n",
              "    }\n",
              "\n",
              "    .dataframe tbody tr th {\n",
              "        vertical-align: top;\n",
              "    }\n",
              "\n",
              "    .dataframe thead th {\n",
              "        text-align: right;\n",
              "    }\n",
              "</style>\n",
              "<table border=\"1\" class=\"dataframe\">\n",
              "  <thead>\n",
              "    <tr style=\"text-align: right;\">\n",
              "      <th></th>\n",
              "      <th>QuestionId</th>\n",
              "      <th>Question</th>\n",
              "      <th>QuestionBody</th>\n",
              "      <th>AnswerId</th>\n",
              "      <th>AnswerBody</th>\n",
              "    </tr>\n",
              "  </thead>\n",
              "  <tbody>\n",
              "    <tr>\n",
              "      <th>0</th>\n",
              "      <td>34357</td>\n",
              "      <td>Why do people prefer Pandas to SQL?</td>\n",
              "      <td>&lt;p&gt;I've been using SQL since 1996, so I may be...</td>\n",
              "      <td>34359</td>\n",
              "      <td>&lt;p&gt;First, pandas is not that much popular. I u...</td>\n",
              "    </tr>\n",
              "    <tr>\n",
              "      <th>1</th>\n",
              "      <td>34357</td>\n",
              "      <td>Why do people prefer Pandas to SQL?</td>\n",
              "      <td>&lt;p&gt;I've been using SQL since 1996, so I may be...</td>\n",
              "      <td>34366</td>\n",
              "      <td>&lt;p&gt;The real first question is why are people m...</td>\n",
              "    </tr>\n",
              "    <tr>\n",
              "      <th>2</th>\n",
              "      <td>34357</td>\n",
              "      <td>Why do people prefer Pandas to SQL?</td>\n",
              "      <td>&lt;p&gt;I've been using SQL since 1996, so I may be...</td>\n",
              "      <td>34369</td>\n",
              "      <td>&lt;p&gt;I'm one of those people who would use (in m...</td>\n",
              "    </tr>\n",
              "    <tr>\n",
              "      <th>3</th>\n",
              "      <td>34357</td>\n",
              "      <td>Why do people prefer Pandas to SQL?</td>\n",
              "      <td>&lt;p&gt;I've been using SQL since 1996, so I may be...</td>\n",
              "      <td>34375</td>\n",
              "      <td>&lt;p&gt;As much as there is overlap in the applicat...</td>\n",
              "    </tr>\n",
              "    <tr>\n",
              "      <th>4</th>\n",
              "      <td>34357</td>\n",
              "      <td>Why do people prefer Pandas to SQL?</td>\n",
              "      <td>&lt;p&gt;I've been using SQL since 1996, so I may be...</td>\n",
              "      <td>34383</td>\n",
              "      <td>&lt;p&gt;The only thing not covered in these answers...</td>\n",
              "    </tr>\n",
              "    <tr>\n",
              "      <th>5</th>\n",
              "      <td>34357</td>\n",
              "      <td>Why do people prefer Pandas to SQL?</td>\n",
              "      <td>&lt;p&gt;I've been using SQL since 1996, so I may be...</td>\n",
              "      <td>34445</td>\n",
              "      <td>&lt;p&gt;I thought I would add that I do a lot of ti...</td>\n",
              "    </tr>\n",
              "    <tr>\n",
              "      <th>6</th>\n",
              "      <td>34357</td>\n",
              "      <td>Why do people prefer Pandas to SQL?</td>\n",
              "      <td>&lt;p&gt;I've been using SQL since 1996, so I may be...</td>\n",
              "      <td>35621</td>\n",
              "      <td>&lt;h2&gt;Things Pandas can do, that SQL can't do&lt;/h...</td>\n",
              "    </tr>\n",
              "    <tr>\n",
              "      <th>7</th>\n",
              "      <td>34357</td>\n",
              "      <td>Why do people prefer Pandas to SQL?</td>\n",
              "      <td>&lt;p&gt;I've been using SQL since 1996, so I may be...</td>\n",
              "      <td>40881</td>\n",
              "      <td>&lt;p&gt;I'll attempt to answer this question based ...</td>\n",
              "    </tr>\n",
              "    <tr>\n",
              "      <th>8</th>\n",
              "      <td>34357</td>\n",
              "      <td>Why do people prefer Pandas to SQL?</td>\n",
              "      <td>&lt;p&gt;I've been using SQL since 1996, so I may be...</td>\n",
              "      <td>45701</td>\n",
              "      <td>&lt;p&gt;I'm fairly new to Pandas/Python but have 20...</td>\n",
              "    </tr>\n",
              "    <tr>\n",
              "      <th>9</th>\n",
              "      <td>34357</td>\n",
              "      <td>Why do people prefer Pandas to SQL?</td>\n",
              "      <td>&lt;p&gt;I've been using SQL since 1996, so I may be...</td>\n",
              "      <td>46446</td>\n",
              "      <td>&lt;p&gt;Panda is more popular since python in the f...</td>\n",
              "    </tr>\n",
              "    <tr>\n",
              "      <th>10</th>\n",
              "      <td>34357</td>\n",
              "      <td>Why do people prefer Pandas to SQL?</td>\n",
              "      <td>&lt;p&gt;I've been using SQL since 1996, so I may be...</td>\n",
              "      <td>58591</td>\n",
              "      <td>&lt;p&gt;Not exactly the answer to the question, but...</td>\n",
              "    </tr>\n",
              "  </tbody>\n",
              "</table>\n",
              "</div>"
            ],
            "text/plain": [
              "    QuestionId  ...                                         AnswerBody\n",
              "0        34357  ...  <p>First, pandas is not that much popular. I u...\n",
              "1        34357  ...  <p>The real first question is why are people m...\n",
              "2        34357  ...  <p>I'm one of those people who would use (in m...\n",
              "3        34357  ...  <p>As much as there is overlap in the applicat...\n",
              "4        34357  ...  <p>The only thing not covered in these answers...\n",
              "5        34357  ...  <p>I thought I would add that I do a lot of ti...\n",
              "6        34357  ...  <h2>Things Pandas can do, that SQL can't do</h...\n",
              "7        34357  ...  <p>I'll attempt to answer this question based ...\n",
              "8        34357  ...  <p>I'm fairly new to Pandas/Python but have 20...\n",
              "9        34357  ...  <p>Panda is more popular since python in the f...\n",
              "10       34357  ...  <p>Not exactly the answer to the question, but...\n",
              "\n",
              "[11 rows x 5 columns]"
            ]
          },
          "metadata": {
            "tags": []
          },
          "execution_count": 43
        }
      ]
    },
    {
      "cell_type": "markdown",
      "metadata": {
        "id": "18GhQqQkR-YC"
      },
      "source": [
        "We highly recommend that you read the responses! They are actually all pretty accurate and go into the pros/cons that you probably encountered while working through the problem set. Use `pd.set_option('display.max_colwidth', -1)` to view the full columns and when you're done set the colwidth back to a value like `20` so that you don't have giant dataframes in the next steps.\n",
        "\n",
        "(You could also try to find the same question via Google Search)"
      ]
    },
    {
      "cell_type": "code",
      "metadata": {
        "id": "7p-bUUjDR9u9"
      },
      "source": [
        "# pd.set_option('display.max_colwidth',-1)\n",
        "# versus_df"
      ],
      "execution_count": 44,
      "outputs": []
    },
    {
      "cell_type": "code",
      "metadata": {
        "id": "z2VBUPWLd5J0",
        "outputId": "08a4d711-db90-4f6e-d54f-88243b4d501b",
        "colab": {
          "base_uri": "https://localhost:8080/",
          "height": 71
        }
      },
      "source": [
        "grader.grade(test_case_id = 'test_versus_query', answer = versus_query)"
      ],
      "execution_count": 45,
      "outputs": [
        {
          "output_type": "stream",
          "text": [
            "Correct! You earned 2/2 points. You are a star!\n",
            "\n",
            "Your submission has been successfully recorded in the gradebook.\n"
          ],
          "name": "stdout"
        }
      ]
    },
    {
      "cell_type": "code",
      "metadata": {
        "id": "UXxWaEdOd7ZJ",
        "outputId": "f2606b57-5ab7-4a9f-dbfc-f1d33c0d6761",
        "colab": {
          "base_uri": "https://localhost:8080/",
          "height": 71
        }
      },
      "source": [
        "grader.grade(test_case_id = 'test_versus_df', answer = versus_df)"
      ],
      "execution_count": 46,
      "outputs": [
        {
          "output_type": "stream",
          "text": [
            "Correct! You earned 2/2 points. You are a star!\n",
            "\n",
            "Your submission has been successfully recorded in the gradebook.\n"
          ],
          "name": "stdout"
        }
      ]
    },
    {
      "cell_type": "markdown",
      "metadata": {
        "id": "QbNUhlz9ftHI"
      },
      "source": [
        "## Part 3: Working with Text Data [22 points]\n",
        "\n",
        "Shifting gears, let's now try to do some text-based analysis. Our Stack Exchange data has plenty of text that we can play with, from the user descriptions to the posts themselves. Text data is complex, but can also be used to generate extremely interpretable results, making it valuable and interesting. \n",
        "\n",
        "Throughout this section, we will attempt to answer the following:\n",
        "\n",
        "### What types of questions should I ask to get a higher reputation on Stack Exchange? \n",
        "\n",
        "Users on stack exchange are valued based on their reputation, which depends on the quality of your posts. Each post receives a score, where **score = number of upvotes - number of downvotes**. This value is already present in your posts_df. \n",
        "\n",
        "Both questions and answers get scores, but let's just focus on what types of questions we should/shouldn't ask in order to get a higher score and thus higher reputation.\n"
      ]
    },
    {
      "cell_type": "markdown",
      "metadata": {
        "id": "IhKJNx74fLZx"
      },
      "source": [
        "### 3.1 Getting Highest and Lowest Scored Posts\n",
        "**TODO:** First, let's get questions with the negative scores from `questions_df` and then get the **same number** of questions with highest scores. Convert the **Body** column of the highest/lowest scorers into two lists: **highest_content** and **lowest_content**. \n",
        "\n",
        "Feel free to use either **pandas** or **pandasql** to accomplish this :)"
      ]
    },
    {
      "cell_type": "code",
      "metadata": {
        "id": "1qmEmgWrop-z",
        "outputId": "eee70848-4275-451c-cf8b-79235edc10b0",
        "colab": {
          "base_uri": "https://localhost:8080/",
          "height": 881
        }
      },
      "source": [
        "questions_df"
      ],
      "execution_count": 47,
      "outputs": [
        {
          "output_type": "execute_result",
          "data": {
            "text/html": [
              "<div>\n",
              "<style scoped>\n",
              "    .dataframe tbody tr th:only-of-type {\n",
              "        vertical-align: middle;\n",
              "    }\n",
              "\n",
              "    .dataframe tbody tr th {\n",
              "        vertical-align: top;\n",
              "    }\n",
              "\n",
              "    .dataframe thead th {\n",
              "        text-align: right;\n",
              "    }\n",
              "</style>\n",
              "<table border=\"1\" class=\"dataframe\">\n",
              "  <thead>\n",
              "    <tr style=\"text-align: right;\">\n",
              "      <th></th>\n",
              "      <th>Id</th>\n",
              "      <th>PostTypeId</th>\n",
              "      <th>CreationDate</th>\n",
              "      <th>Score</th>\n",
              "      <th>ViewCount</th>\n",
              "      <th>Body</th>\n",
              "      <th>OwnerUserId</th>\n",
              "      <th>LastActivityDate</th>\n",
              "      <th>Title</th>\n",
              "      <th>Tags</th>\n",
              "      <th>AnswerCount</th>\n",
              "      <th>CommentCount</th>\n",
              "      <th>FavoriteCount</th>\n",
              "      <th>ClosedDate</th>\n",
              "      <th>AcceptedAnswerId</th>\n",
              "      <th>LastEditorUserId</th>\n",
              "      <th>LastEditDate</th>\n",
              "      <th>ParentId</th>\n",
              "      <th>OwnerDisplayName</th>\n",
              "      <th>CommunityOwnedDate</th>\n",
              "      <th>LastEditorDisplayName</th>\n",
              "    </tr>\n",
              "  </thead>\n",
              "  <tbody>\n",
              "    <tr>\n",
              "      <th>0</th>\n",
              "      <td>5</td>\n",
              "      <td>1</td>\n",
              "      <td>2014-05-13T23:58:30.457</td>\n",
              "      <td>8</td>\n",
              "      <td>643</td>\n",
              "      <td>&lt;p&gt;I've always been interested in machine lear...</td>\n",
              "      <td>5</td>\n",
              "      <td>2014-05-14T00:36:31.077</td>\n",
              "      <td>How can I do simple machine learning without h...</td>\n",
              "      <td>&lt;machine-learning&gt;</td>\n",
              "      <td>1</td>\n",
              "      <td>1</td>\n",
              "      <td>1</td>\n",
              "      <td>2014-05-14T14:40:25.950</td>\n",
              "      <td>0</td>\n",
              "      <td>0</td>\n",
              "      <td>0</td>\n",
              "      <td>0</td>\n",
              "      <td>0</td>\n",
              "      <td>0</td>\n",
              "      <td>0</td>\n",
              "    </tr>\n",
              "    <tr>\n",
              "      <th>1</th>\n",
              "      <td>7</td>\n",
              "      <td>1</td>\n",
              "      <td>2014-05-14T00:11:06.457</td>\n",
              "      <td>4</td>\n",
              "      <td>429</td>\n",
              "      <td>&lt;p&gt;As a researcher and instructor, I'm looking...</td>\n",
              "      <td>36</td>\n",
              "      <td>2014-05-16T13:45:00.237</td>\n",
              "      <td>What open-source books (or other materials) pr...</td>\n",
              "      <td>&lt;education&gt;&lt;open-source&gt;</td>\n",
              "      <td>3</td>\n",
              "      <td>4</td>\n",
              "      <td>1</td>\n",
              "      <td>2014-05-14T08:40:54.950</td>\n",
              "      <td>10</td>\n",
              "      <td>97</td>\n",
              "      <td>2014-05-16T13:45:00.237</td>\n",
              "      <td>0</td>\n",
              "      <td>0</td>\n",
              "      <td>0</td>\n",
              "      <td>0</td>\n",
              "    </tr>\n",
              "    <tr>\n",
              "      <th>2</th>\n",
              "      <td>14</td>\n",
              "      <td>1</td>\n",
              "      <td>2014-05-14T01:25:59.677</td>\n",
              "      <td>22</td>\n",
              "      <td>1542</td>\n",
              "      <td>&lt;p&gt;I am sure data science as will be discussed...</td>\n",
              "      <td>66</td>\n",
              "      <td>2014-06-20T17:36:05.023</td>\n",
              "      <td>Is Data Science the Same as Data Mining?</td>\n",
              "      <td>&lt;data-mining&gt;&lt;definitions&gt;</td>\n",
              "      <td>4</td>\n",
              "      <td>1</td>\n",
              "      <td>6</td>\n",
              "      <td>0</td>\n",
              "      <td>29</td>\n",
              "      <td>322</td>\n",
              "      <td>2014-06-17T16:17:20.473</td>\n",
              "      <td>0</td>\n",
              "      <td>0</td>\n",
              "      <td>0</td>\n",
              "      <td>0</td>\n",
              "    </tr>\n",
              "    <tr>\n",
              "      <th>3</th>\n",
              "      <td>15</td>\n",
              "      <td>1</td>\n",
              "      <td>2014-05-14T01:41:23.110</td>\n",
              "      <td>1</td>\n",
              "      <td>636</td>\n",
              "      <td>&lt;p&gt;In which situations would one system be pre...</td>\n",
              "      <td>64</td>\n",
              "      <td>2014-05-14T01:41:23.110</td>\n",
              "      <td>What are the advantages and disadvantages of S...</td>\n",
              "      <td>&lt;databases&gt;</td>\n",
              "      <td>0</td>\n",
              "      <td>1</td>\n",
              "      <td>0</td>\n",
              "      <td>2014-05-14T07:41:49.437</td>\n",
              "      <td>0</td>\n",
              "      <td>0</td>\n",
              "      <td>0</td>\n",
              "      <td>0</td>\n",
              "      <td>0</td>\n",
              "      <td>0</td>\n",
              "      <td>0</td>\n",
              "    </tr>\n",
              "    <tr>\n",
              "      <th>4</th>\n",
              "      <td>16</td>\n",
              "      <td>1</td>\n",
              "      <td>2014-05-14T01:57:56.880</td>\n",
              "      <td>16</td>\n",
              "      <td>350</td>\n",
              "      <td>&lt;p&gt;I use &lt;a href=\"http://www.csie.ntu.edu.tw/~...</td>\n",
              "      <td>63</td>\n",
              "      <td>2014-05-17T16:24:14.523</td>\n",
              "      <td>Use liblinear on big data for semantic analysis</td>\n",
              "      <td>&lt;machine-learning&gt;&lt;bigdata&gt;&lt;libsvm&gt;</td>\n",
              "      <td>2</td>\n",
              "      <td>0</td>\n",
              "      <td>0</td>\n",
              "      <td>0</td>\n",
              "      <td>46</td>\n",
              "      <td>84</td>\n",
              "      <td>2014-05-17T16:24:14.523</td>\n",
              "      <td>0</td>\n",
              "      <td>0</td>\n",
              "      <td>0</td>\n",
              "      <td>0</td>\n",
              "    </tr>\n",
              "    <tr>\n",
              "      <th>...</th>\n",
              "      <td>...</td>\n",
              "      <td>...</td>\n",
              "      <td>...</td>\n",
              "      <td>...</td>\n",
              "      <td>...</td>\n",
              "      <td>...</td>\n",
              "      <td>...</td>\n",
              "      <td>...</td>\n",
              "      <td>...</td>\n",
              "      <td>...</td>\n",
              "      <td>...</td>\n",
              "      <td>...</td>\n",
              "      <td>...</td>\n",
              "      <td>...</td>\n",
              "      <td>...</td>\n",
              "      <td>...</td>\n",
              "      <td>...</td>\n",
              "      <td>...</td>\n",
              "      <td>...</td>\n",
              "      <td>...</td>\n",
              "      <td>...</td>\n",
              "    </tr>\n",
              "    <tr>\n",
              "      <th>20497</th>\n",
              "      <td>64043</td>\n",
              "      <td>1</td>\n",
              "      <td>2019-11-30T23:29:33.853</td>\n",
              "      <td>0</td>\n",
              "      <td>4</td>\n",
              "      <td>&lt;p&gt;given this example :&lt;/p&gt;\\n\\n&lt;pre&gt;&lt;code&gt;# Ex...</td>\n",
              "      <td>78312</td>\n",
              "      <td>2019-11-30T23:29:33.853</td>\n",
              "      <td>i need explanation to a way of implementing cr...</td>\n",
              "      <td>&lt;machine-learning&gt;&lt;r&gt;&lt;cross-validation&gt;</td>\n",
              "      <td>0</td>\n",
              "      <td>0</td>\n",
              "      <td>0</td>\n",
              "      <td>0</td>\n",
              "      <td>0</td>\n",
              "      <td>0</td>\n",
              "      <td>0</td>\n",
              "      <td>0</td>\n",
              "      <td>0</td>\n",
              "      <td>0</td>\n",
              "      <td>0</td>\n",
              "    </tr>\n",
              "    <tr>\n",
              "      <th>20498</th>\n",
              "      <td>64044</td>\n",
              "      <td>1</td>\n",
              "      <td>2019-11-30T23:30:41.133</td>\n",
              "      <td>1</td>\n",
              "      <td>4</td>\n",
              "      <td>&lt;p&gt;So I have &lt;strong&gt;82 different sets of data...</td>\n",
              "      <td>82164</td>\n",
              "      <td>2019-11-30T23:30:41.133</td>\n",
              "      <td>Keras LSTM Input Shape - Batch Size and Time Step</td>\n",
              "      <td>&lt;machine-learning&gt;&lt;keras&gt;&lt;tensorflow&gt;&lt;lstm&gt;&lt;rnn&gt;</td>\n",
              "      <td>0</td>\n",
              "      <td>0</td>\n",
              "      <td>0</td>\n",
              "      <td>0</td>\n",
              "      <td>0</td>\n",
              "      <td>0</td>\n",
              "      <td>0</td>\n",
              "      <td>0</td>\n",
              "      <td>0</td>\n",
              "      <td>0</td>\n",
              "      <td>0</td>\n",
              "    </tr>\n",
              "    <tr>\n",
              "      <th>20499</th>\n",
              "      <td>64047</td>\n",
              "      <td>1</td>\n",
              "      <td>2019-12-01T00:16:55.170</td>\n",
              "      <td>0</td>\n",
              "      <td>4</td>\n",
              "      <td>&lt;p&gt;My wife has seizures a few times a month an...</td>\n",
              "      <td>86211</td>\n",
              "      <td>2019-12-01T02:04:48.333</td>\n",
              "      <td>Relationship between two sets of dates</td>\n",
              "      <td>&lt;time-series&gt;&lt;correlation&gt;&lt;excel&gt;</td>\n",
              "      <td>0</td>\n",
              "      <td>0</td>\n",
              "      <td>0</td>\n",
              "      <td>0</td>\n",
              "      <td>0</td>\n",
              "      <td>1330</td>\n",
              "      <td>2019-12-01T02:04:48.333</td>\n",
              "      <td>0</td>\n",
              "      <td>0</td>\n",
              "      <td>0</td>\n",
              "      <td>0</td>\n",
              "    </tr>\n",
              "    <tr>\n",
              "      <th>20500</th>\n",
              "      <td>64048</td>\n",
              "      <td>1</td>\n",
              "      <td>2019-12-01T00:32:11.913</td>\n",
              "      <td>0</td>\n",
              "      <td>3</td>\n",
              "      <td>&lt;p&gt;I am looking at the documentation and this ...</td>\n",
              "      <td>54721</td>\n",
              "      <td>2019-12-01T00:32:11.913</td>\n",
              "      <td>How to use keras.utils.Sequence with multiple ...</td>\n",
              "      <td>&lt;keras&gt;&lt;tensorflow&gt;</td>\n",
              "      <td>0</td>\n",
              "      <td>0</td>\n",
              "      <td>0</td>\n",
              "      <td>0</td>\n",
              "      <td>0</td>\n",
              "      <td>0</td>\n",
              "      <td>0</td>\n",
              "      <td>0</td>\n",
              "      <td>0</td>\n",
              "      <td>0</td>\n",
              "      <td>0</td>\n",
              "    </tr>\n",
              "    <tr>\n",
              "      <th>20501</th>\n",
              "      <td>64049</td>\n",
              "      <td>1</td>\n",
              "      <td>2019-12-01T02:13:26.667</td>\n",
              "      <td>0</td>\n",
              "      <td>5</td>\n",
              "      <td>&lt;p&gt;when to use randomforest over xgboost and v...</td>\n",
              "      <td>86213</td>\n",
              "      <td>2019-12-01T02:13:26.667</td>\n",
              "      <td>when to use random forest over xgboost and vic...</td>\n",
              "      <td>&lt;machine-learning&gt;</td>\n",
              "      <td>0</td>\n",
              "      <td>1</td>\n",
              "      <td>0</td>\n",
              "      <td>0</td>\n",
              "      <td>0</td>\n",
              "      <td>0</td>\n",
              "      <td>0</td>\n",
              "      <td>0</td>\n",
              "      <td>0</td>\n",
              "      <td>0</td>\n",
              "      <td>0</td>\n",
              "    </tr>\n",
              "  </tbody>\n",
              "</table>\n",
              "<p>20502 rows × 21 columns</p>\n",
              "</div>"
            ],
            "text/plain": [
              "          Id  PostTypeId  ... CommunityOwnedDate  LastEditorDisplayName\n",
              "0          5           1  ...                  0                      0\n",
              "1          7           1  ...                  0                      0\n",
              "2         14           1  ...                  0                      0\n",
              "3         15           1  ...                  0                      0\n",
              "4         16           1  ...                  0                      0\n",
              "...      ...         ...  ...                ...                    ...\n",
              "20497  64043           1  ...                  0                      0\n",
              "20498  64044           1  ...                  0                      0\n",
              "20499  64047           1  ...                  0                      0\n",
              "20500  64048           1  ...                  0                      0\n",
              "20501  64049           1  ...                  0                      0\n",
              "\n",
              "[20502 rows x 21 columns]"
            ]
          },
          "metadata": {
            "tags": []
          },
          "execution_count": 47
        }
      ]
    },
    {
      "cell_type": "code",
      "metadata": {
        "id": "J2Wp8Wh_oSZP"
      },
      "source": [
        "highest_query = '''\n",
        "SELECT q.Score, q.Body FROM questions_df q WHERE q.Score > 0 ORDER BY q.SCORE DESC\n",
        "LIMIT 493\n",
        "'''\n",
        "lowest_query = '''\n",
        "SELECT q.Score, q.Body FROM questions_df q WHERE q.Score < 0 ORDER BY q.SCORE ASC\n",
        "\n",
        "'''\n",
        "hi = ps.sqldf(highest_query, locals())\n",
        "lo = ps.sqldf(lowest_query, locals())\n",
        "\n",
        "\n",
        "hi_content = []\n",
        "lo_content = []\n",
        "for body in hi['Body']:\n",
        "  hi_content.append(body)\n",
        "\n",
        "for body in lo['Body']:\n",
        "  lo_content.append(body)\n",
        "highest_content = hi_content\n",
        "lowest_content = lo_content"
      ],
      "execution_count": 48,
      "outputs": []
    },
    {
      "cell_type": "code",
      "metadata": {
        "id": "WODBxK012CC5",
        "outputId": "a70f9078-6d39-47d2-c5ab-2da49b31695e",
        "colab": {
          "base_uri": "https://localhost:8080/",
          "height": 419
        }
      },
      "source": [
        "lo"
      ],
      "execution_count": 49,
      "outputs": [
        {
          "output_type": "execute_result",
          "data": {
            "text/html": [
              "<div>\n",
              "<style scoped>\n",
              "    .dataframe tbody tr th:only-of-type {\n",
              "        vertical-align: middle;\n",
              "    }\n",
              "\n",
              "    .dataframe tbody tr th {\n",
              "        vertical-align: top;\n",
              "    }\n",
              "\n",
              "    .dataframe thead th {\n",
              "        text-align: right;\n",
              "    }\n",
              "</style>\n",
              "<table border=\"1\" class=\"dataframe\">\n",
              "  <thead>\n",
              "    <tr style=\"text-align: right;\">\n",
              "      <th></th>\n",
              "      <th>Score</th>\n",
              "      <th>Body</th>\n",
              "    </tr>\n",
              "  </thead>\n",
              "  <tbody>\n",
              "    <tr>\n",
              "      <th>0</th>\n",
              "      <td>-6</td>\n",
              "      <td>&lt;p&gt;Please, could someone recommend a paper or ...</td>\n",
              "    </tr>\n",
              "    <tr>\n",
              "      <th>1</th>\n",
              "      <td>-6</td>\n",
              "      <td>&lt;p&gt;Hello there community im looking for a way ...</td>\n",
              "    </tr>\n",
              "    <tr>\n",
              "      <th>2</th>\n",
              "      <td>-6</td>\n",
              "      <td>&lt;p&gt;I was posting this on different sites witho...</td>\n",
              "    </tr>\n",
              "    <tr>\n",
              "      <th>3</th>\n",
              "      <td>-5</td>\n",
              "      <td>&lt;p&gt;As what I described in the title, we are es...</td>\n",
              "    </tr>\n",
              "    <tr>\n",
              "      <th>4</th>\n",
              "      <td>-5</td>\n",
              "      <td>&lt;p&gt;I am pursing Data Analyst course at Udacity...</td>\n",
              "    </tr>\n",
              "    <tr>\n",
              "      <th>...</th>\n",
              "      <td>...</td>\n",
              "      <td>...</td>\n",
              "    </tr>\n",
              "    <tr>\n",
              "      <th>488</th>\n",
              "      <td>-1</td>\n",
              "      <td>&lt;p&gt;I am at the initial stage of training my mo...</td>\n",
              "    </tr>\n",
              "    <tr>\n",
              "      <th>489</th>\n",
              "      <td>-1</td>\n",
              "      <td>&lt;p&gt;Hello guys how can I use python to create a...</td>\n",
              "    </tr>\n",
              "    <tr>\n",
              "      <th>490</th>\n",
              "      <td>-1</td>\n",
              "      <td>&lt;p&gt;My goal is to recommend jobs to job seekers...</td>\n",
              "    </tr>\n",
              "    <tr>\n",
              "      <th>491</th>\n",
              "      <td>-1</td>\n",
              "      <td>&lt;p&gt;ValueError: Error when checking input: expe...</td>\n",
              "    </tr>\n",
              "    <tr>\n",
              "      <th>492</th>\n",
              "      <td>-1</td>\n",
              "      <td>&lt;p&gt;I am creating a message passing neural netw...</td>\n",
              "    </tr>\n",
              "  </tbody>\n",
              "</table>\n",
              "<p>493 rows × 2 columns</p>\n",
              "</div>"
            ],
            "text/plain": [
              "     Score                                               Body\n",
              "0       -6  <p>Please, could someone recommend a paper or ...\n",
              "1       -6  <p>Hello there community im looking for a way ...\n",
              "2       -6  <p>I was posting this on different sites witho...\n",
              "3       -5  <p>As what I described in the title, we are es...\n",
              "4       -5  <p>I am pursing Data Analyst course at Udacity...\n",
              "..     ...                                                ...\n",
              "488     -1  <p>I am at the initial stage of training my mo...\n",
              "489     -1  <p>Hello guys how can I use python to create a...\n",
              "490     -1  <p>My goal is to recommend jobs to job seekers...\n",
              "491     -1  <p>ValueError: Error when checking input: expe...\n",
              "492     -1  <p>I am creating a message passing neural netw...\n",
              "\n",
              "[493 rows x 2 columns]"
            ]
          },
          "metadata": {
            "tags": []
          },
          "execution_count": 49
        }
      ]
    },
    {
      "cell_type": "code",
      "metadata": {
        "id": "E_ZJHjNKfMTu",
        "outputId": "06d1ef9b-dcc8-451e-d880-d9a4f59facd4",
        "colab": {
          "base_uri": "https://localhost:8080/",
          "height": 71
        }
      },
      "source": [
        "grader.grade(test_case_id = 'test_lowest_content', answer = lowest_content)"
      ],
      "execution_count": 50,
      "outputs": [
        {
          "output_type": "stream",
          "text": [
            "Correct! You earned 2/2 points. You are a star!\n",
            "\n",
            "Your submission has been successfully recorded in the gradebook.\n"
          ],
          "name": "stdout"
        }
      ]
    },
    {
      "cell_type": "code",
      "metadata": {
        "id": "BWWkJMFXglNf",
        "outputId": "17a4ec0e-8096-4cfb-92a0-d54c65957746",
        "colab": {
          "base_uri": "https://localhost:8080/",
          "height": 71
        }
      },
      "source": [
        "grader.grade(test_case_id = 'test_highest_content', answer = highest_content)"
      ],
      "execution_count": 51,
      "outputs": [
        {
          "output_type": "stream",
          "text": [
            "Correct! You earned 2/2 points. You are a star!\n",
            "\n",
            "Your submission has been successfully recorded in the gradebook.\n"
          ],
          "name": "stdout"
        }
      ]
    },
    {
      "cell_type": "markdown",
      "metadata": {
        "id": "OyQXqWu20mkc"
      },
      "source": [
        "### 3.2 Cleaning our Text with Regex\n",
        "Now that we have the content of our highest/lowest scored posts, we will now need to clean and tokenize them. \n"
      ]
    },
    {
      "cell_type": "markdown",
      "metadata": {
        "id": "9cCz0zh2ZSzM"
      },
      "source": [
        "First, before we do anything, let's just take a look at what we are working with\n"
      ]
    },
    {
      "cell_type": "code",
      "metadata": {
        "id": "p5KJ4fYy2v9d",
        "outputId": "2ac99439-f7f6-4551-887d-3ef68aaef68b",
        "colab": {
          "base_uri": "https://localhost:8080/",
          "height": 107
        }
      },
      "source": [
        "highest_content[0]"
      ],
      "execution_count": 52,
      "outputs": [
        {
          "output_type": "execute_result",
          "data": {
            "application/vnd.google.colaboratory.intrinsic+json": {
              "type": "string"
            },
            "text/plain": [
              "'<p>I recently read <a href=\"http://arxiv.org/abs/1411.4038\">Fully Convolutional Networks for Semantic Segmentation</a> by Jonathan Long, Evan Shelhamer, Trevor Darrell. I don\\'t understand what \"deconvolutional layers\" do / how they work.</p>\\n\\n<p>The relevant part is</p>\\n\\n<blockquote>\\n  <p>3.3. Upsampling is backwards strided convolution</p>\\n  \\n  <p>Another way to connect coarse outputs to dense pixels\\n  is interpolation. For instance, simple bilinear interpolation\\n  computes each output $y_{ij}$ from the nearest four inputs by a\\n  linear map that depends only on the relative positions of the\\n  input and output cells.<br/>\\n  In a sense, upsampling with factor $f$ is convolution with\\n  a fractional input stride of 1/f. So long as $f$ is integral, a\\n  natural way to upsample is therefore backwards convolution\\n  (sometimes called deconvolution) with an output stride of\\n  $f$. Such an operation is trivial to implement, since it simply\\n  reverses the forward and backward passes of convolution.<br/>\\n  Thus upsampling is performed in-network for end-to-end\\n  learning by backpropagation from the pixelwise loss.<br/>\\n  Note that the deconvolution filter in such a layer need not\\n  be fixed (e.g., to bilinear upsampling), but can be learned.\\n  A stack of deconvolution layers and activation functions can\\n  even learn a nonlinear upsampling.<br/>\\n  In our experiments, we find that in-network upsampling\\n  is fast and effective for learning dense prediction. Our best\\n  segmentation architecture uses these layers to learn to upsample\\n  for refined prediction in Section 4.2.</p>\\n</blockquote>\\n\\n<p>I don\\'t think I really understood how convolutional layers are trained. </p>\\n\\n<p>What I think I\\'ve understood is that convolutional layers with a kernel size $k$ learn filters of size $k \\\\times k$. The output of a convolutional layer with kernel size $k$, stride $s \\\\in \\\\mathbb{N}$ and $n$ filters is of dimension $\\\\frac{\\\\text{Input dim}}{s^2} \\\\cdot n$. However, I don\\'t know how the learning of convolutional layers works. (I understand how simple MLPs learn with gradient descent, if that helps).</p>\\n\\n<p>So if my understanding of convolutional layers is correct, I have no clue how this can be reversed.</p>\\n\\n<p>Could anybody please help me to understand deconvolutional layers?</p>\\n'"
            ]
          },
          "metadata": {
            "tags": []
          },
          "execution_count": 52
        }
      ]
    },
    {
      "cell_type": "markdown",
      "metadata": {
        "id": "wduz_X6a25lN"
      },
      "source": [
        "You probably noticed a couple of things:\n",
        "\n",
        "1. html tags (\\<p\\>, \\<a\\>, etc.)\n",
        "2. embedded latex (words surrounded $$)\n",
        "3. newline characters(\\n)\n",
        "\n",
        "We are going to clean out all of these cases using **regex**, a staple text processing tool that matches strings based on a specified pattern. Creating these patterns is actually considered a form of art to some, as the syntax is very extensive. As a brief introduction here are some basic pattern components that you will need to know:\n",
        "- \"c\": matches a \"c\" character in a string\n",
        "- \"c*\": matches 0 or more c characters\n",
        "- \".\" matches any character\n",
        "- \".*c\": matches any characters until you encounter \"c\"\n",
        "\n",
        "**TODO:** Below, create a function **remove_bad_patterns(text)** that removes all of the 3 cases listed above from a given string, text. You will need to \n",
        "1. create patterns to handle each of the cases\n",
        "2. use **re.sub(pattern, newstring)** to substitute all matches with the empty string, \"\". If you want to test your pattern, check out [this tool](https://regexr.com).\n",
        "\n",
        "Note: \"$\" is considered a special character in regex, so you will need to escape it with \"\\$\" to specify you want to match the character.\n",
        "\n"
      ]
    },
    {
      "cell_type": "code",
      "metadata": {
        "id": "RddxrRuFsWoh"
      },
      "source": [
        "import re\n",
        "\n",
        "def remove_bad_patterns(text):\n",
        "    \"\"\"Remove html, latex, and newline characters from a string\n",
        "    \n",
        "    :param text: content as a string\n",
        "    :return: cleaned text string\n",
        "    \"\"\"\n",
        "    pattern = re.compile('''<[^>]*>|\\\\n|[${},()]|\\\\|[\\W]/g''')\n",
        "    new = []\n",
        "    for txt in text:\n",
        "      \n",
        "      txt = pattern.sub('',txt)\n",
        "      new.append(txt)\n",
        "    return new\n",
        "\n"
      ],
      "execution_count": 53,
      "outputs": []
    },
    {
      "cell_type": "markdown",
      "metadata": {
        "id": "-KuHZkyfMjHB"
      },
      "source": [
        "Now, apply this function to both **highest_content** and **lowest_content** to create **cleaned_highest_content** and **cleaned_lowest_content**, respectively, and let's take another look at the new and improved first entry:"
      ]
    },
    {
      "cell_type": "code",
      "metadata": {
        "id": "zHv_uU6-L5kL",
        "outputId": "8f16c7ae-2f9f-49e9-8dd6-17bc165e827a",
        "colab": {
          "base_uri": "https://localhost:8080/",
          "height": 107
        }
      },
      "source": [
        "cleaned_highest_content = remove_bad_patterns(highest_content)\n",
        "cleaned_lowest_content = remove_bad_patterns(lowest_content) #TODO\n",
        "cleaned_highest_content[0]"
      ],
      "execution_count": 54,
      "outputs": [
        {
          "output_type": "execute_result",
          "data": {
            "application/vnd.google.colaboratory.intrinsic+json": {
              "type": "string"
            },
            "text/plain": [
              "'I recently read Fully Convolutional Networks for Semantic Segmentation by Jonathan Long Evan Shelhamer Trevor Darrell. I don\\'t understand what \"deconvolutional layers\" do / how they work.The relevant part is  3.3. Upsampling is backwards strided convolution    Another way to connect coarse outputs to dense pixels  is interpolation. For instance simple bilinear interpolation  computes each output y_ij from the nearest four inputs by a  linear map that depends only on the relative positions of the  input and output cells.  In a sense upsampling with factor f is convolution with  a fractional input stride of 1/f. So long as f is integral a  natural way to upsample is therefore backwards convolution  sometimes called deconvolution with an output stride of  f. Such an operation is trivial to implement since it simply  reverses the forward and backward passes of convolution.  Thus upsampling is performed in-network for end-to-end  learning by backpropagation from the pixelwise loss.  Note that the deconvolution filter in such a layer need not  be fixed e.g. to bilinear upsampling but can be learned.  A stack of deconvolution layers and activation functions can  even learn a nonlinear upsampling.  In our experiments we find that in-network upsampling  is fast and effective for learning dense prediction. Our best  segmentation architecture uses these layers to learn to upsample  for refined prediction in Section 4.2.I don\\'t think I really understood how convolutional layers are trained. What I think I\\'ve understood is that convolutional layers with a kernel size k learn filters of size k \\\\times k. The output of a convolutional layer with kernel size k stride s \\\\in \\\\mathbbN and n filters is of dimension \\\\frac\\\\textInput dims^2 \\\\cdot n. However I don\\'t know how the learning of convolutional layers works. I understand how simple MLPs learn with gradient descent if that helps.So if my understanding of convolutional layers is correct I have no clue how this can be reversed.Could anybody please help me to understand deconvolutional layers?'"
            ]
          },
          "metadata": {
            "tags": []
          },
          "execution_count": 54
        }
      ]
    },
    {
      "cell_type": "code",
      "metadata": {
        "id": "j7VMJsGZh9Ym",
        "outputId": "a4e414a0-474b-4fd9-834e-257845fde894",
        "colab": {
          "base_uri": "https://localhost:8080/",
          "height": 71
        }
      },
      "source": [
        "grader.grade(test_case_id = 'test_cleaned_highest', answer = cleaned_highest_content)"
      ],
      "execution_count": 55,
      "outputs": [
        {
          "output_type": "stream",
          "text": [
            "Correct! You earned 3/3 points. You are a star!\n",
            "\n",
            "Your submission has been successfully recorded in the gradebook.\n"
          ],
          "name": "stdout"
        }
      ]
    },
    {
      "cell_type": "code",
      "metadata": {
        "id": "Oqa35Zyhh9jH",
        "outputId": "79295cce-4989-4f78-bc03-912b153b20ed",
        "colab": {
          "base_uri": "https://localhost:8080/",
          "height": 71
        }
      },
      "source": [
        "grader.grade(test_case_id = 'test_cleaned_lowest', answer = cleaned_lowest_content)"
      ],
      "execution_count": 56,
      "outputs": [
        {
          "output_type": "stream",
          "text": [
            "Correct! You earned 3/3 points. You are a star!\n",
            "\n",
            "Your submission has been successfully recorded in the gradebook.\n"
          ],
          "name": "stdout"
        }
      ]
    },
    {
      "cell_type": "markdown",
      "metadata": {
        "id": "zK0qh7TRMoj7"
      },
      "source": [
        "A lot cleaner, right? Of course, it's not perfect but it'll do for our purposes in this homework. With that out of the way let us now...\n"
      ]
    },
    {
      "cell_type": "markdown",
      "metadata": {
        "id": "RNwLCBeTOLy3"
      },
      "source": [
        "###3.3 Tokenize the Text\n",
        "\n",
        "Here, we are going to split up the content into a list of words. Here, we will use the **nltk** package, which contains an extensive set of tools to process text. Of course, like regex, this homework would be miles long if we really went into detail, so we are only going to utilize the following components:\n",
        "- nltk.word_tokenize(): a function used to tokenize our text\n",
        "- nltk.corpus.stopwords: a list of commonly used words such as \"a\",\"an\",\"in\" that are often ignored in text-related analysis\n",
        "\n",
        "\n",
        "**TODO:** First, use **stopwords** to create a set of the most common english stopwords. Then, implement **tokenized_content(content)** that takes in a content string and \n",
        "1. tokenizes the text\n",
        "2. lowercases the token\n",
        "3. removes stop words (commonly used words such as \"a\",\"an\", \"in\")"
      ]
    },
    {
      "cell_type": "code",
      "metadata": {
        "id": "LIWiVzUUpvjA",
        "outputId": "1e180e07-f96e-4589-f9a9-7bdf6a8920f2",
        "colab": {
          "base_uri": "https://localhost:8080/",
          "height": 107
        }
      },
      "source": [
        "import nltk\n",
        "from nltk.corpus import stopwords\n",
        "nltk.download('stopwords')\n",
        "nltk.download('punkt')"
      ],
      "execution_count": 57,
      "outputs": [
        {
          "output_type": "stream",
          "text": [
            "[nltk_data] Downloading package stopwords to /root/nltk_data...\n",
            "[nltk_data]   Unzipping corpora/stopwords.zip.\n",
            "[nltk_data] Downloading package punkt to /root/nltk_data...\n",
            "[nltk_data]   Package punkt is already up-to-date!\n"
          ],
          "name": "stdout"
        },
        {
          "output_type": "execute_result",
          "data": {
            "text/plain": [
              "True"
            ]
          },
          "metadata": {
            "tags": []
          },
          "execution_count": 57
        }
      ]
    },
    {
      "cell_type": "code",
      "metadata": {
        "id": "rEwEm-E7pxjT"
      },
      "source": [
        "stopwords = set(stopwords.words('english')) \n"
      ],
      "execution_count": 58,
      "outputs": []
    },
    {
      "cell_type": "code",
      "metadata": {
        "id": "oH5uXsYR26jV",
        "outputId": "fdd4dc57-d7ca-4445-b871-32c4a6ca1b39",
        "colab": {
          "base_uri": "https://localhost:8080/",
          "height": 73
        }
      },
      "source": [
        "print(stopwords)\n",
        "'would' in stopwords"
      ],
      "execution_count": 59,
      "outputs": [
        {
          "output_type": "stream",
          "text": [
            "{'can', 'myself', 'we', 'those', 'did', 'hasn', 'shouldn', 'as', 'my', 'most', 'that', \"won't\", 'an', 'of', 'hers', 'no', 'before', 're', 'while', 'shan', 'm', \"aren't\", 'in', 'whom', 'yours', 'from', 'her', 'haven', 'under', \"that'll\", 'so', 'didn', \"mightn't\", 'only', 'should', 'themselves', 'through', 'its', 'your', 'wouldn', 'you', 'few', 'own', 'o', 'what', 'or', 'he', 'too', 'more', 'theirs', 's', 'up', 'had', 'about', 'y', 'to', 'for', \"she's\", 'd', \"wouldn't\", 'doing', \"shan't\", 'on', 'by', 'during', \"you've\", 'him', 'were', 'is', 'couldn', 'these', 'ours', 'ma', 'all', 'this', 'over', 'same', 'me', 'off', \"couldn't\", 'doesn', 'against', 'do', 'some', 'she', 'down', 'will', 'don', 'any', 'isn', 'above', 'than', 'just', 'won', 've', 'now', \"hasn't\", 'yourselves', 'other', 'i', 'how', 'needn', 'which', 'each', 'his', 'their', 'again', 'out', 'mightn', 'be', 'being', 'herself', 'they', 't', 'does', \"mustn't\", \"needn't\", 'after', 'a', 'been', 'ain', 'there', 'has', 'then', 'hadn', 'our', 'into', \"you're\", 'because', 'll', 'itself', 'am', 'have', 'between', 'at', 'who', \"hadn't\", \"didn't\", 'not', \"should've\", 'very', \"weren't\", \"wasn't\", 'them', 'himself', 'are', 'here', 'if', 'where', 'until', 'weren', \"isn't\", \"shouldn't\", 'having', 'yourself', 'but', 'wasn', 'with', \"haven't\", 'the', 'below', 'both', \"it's\", 'aren', 'and', \"you'd\", \"don't\", 'why', 'once', 'such', 'when', \"you'll\", 'it', 'mustn', \"doesn't\", 'was', 'further', 'ourselves', 'nor'}\n"
          ],
          "name": "stdout"
        },
        {
          "output_type": "execute_result",
          "data": {
            "text/plain": [
              "False"
            ]
          },
          "metadata": {
            "tags": []
          },
          "execution_count": 59
        }
      ]
    },
    {
      "cell_type": "code",
      "metadata": {
        "id": "Gbi4KvlXpJXV"
      },
      "source": [
        "def tokenize_content(content):\n",
        "  \"\"\"returns tokenized string\n",
        "\n",
        "  :param content: text string\n",
        "  :return: tokenized text/list of words\n",
        "  \"\"\"\n",
        "  #TODO\n",
        "  new = [] \n",
        "  for txt in content:\n",
        "    txt = nltk.word_tokenize(txt)\n",
        "    for ele in txt:\n",
        "      ele = ele.lower()\n",
        "      if ele not in stopwords and ele.isalpha():\n",
        "        new.append(ele)\n",
        "  return new\n"
      ],
      "execution_count": 60,
      "outputs": []
    },
    {
      "cell_type": "markdown",
      "metadata": {
        "id": "Es5zPleHSROw"
      },
      "source": [
        "Now, apply your tokenized_titles function to each piece of content in **cleaned_highest_content** and **cleaned_lowest content** and flatten both of the lists to create **highest_tokens** and **lowest_tokens**\n"
      ]
    },
    {
      "cell_type": "code",
      "metadata": {
        "id": "DwsxzxdYpiic"
      },
      "source": [
        "highest_tokens = tokenize_content(cleaned_highest_content)\n",
        "lowest_tokens =  tokenize_content(cleaned_lowest_content)"
      ],
      "execution_count": 61,
      "outputs": []
    },
    {
      "cell_type": "code",
      "metadata": {
        "id": "y4v6dzmXk6Yp",
        "outputId": "222bdf71-fa3e-4481-bcaa-a9a67fbc13a8",
        "colab": {
          "base_uri": "https://localhost:8080/",
          "height": 71
        }
      },
      "source": [
        "grader.grade(test_case_id = 'test_highest_tokens', answer = highest_tokens)"
      ],
      "execution_count": 62,
      "outputs": [
        {
          "output_type": "stream",
          "text": [
            "Correct! You earned 2/2 points. You are a star!\n",
            "\n",
            "Your submission has been successfully recorded in the gradebook.\n"
          ],
          "name": "stdout"
        }
      ]
    },
    {
      "cell_type": "code",
      "metadata": {
        "id": "8kPhea-Tk9Nh",
        "outputId": "690a81ce-bb62-4879-9bc9-fc90d6f49d8c",
        "colab": {
          "base_uri": "https://localhost:8080/",
          "height": 71
        }
      },
      "source": [
        "grader.grade(test_case_id = 'test_lowest_tokens', answer = lowest_tokens)"
      ],
      "execution_count": 63,
      "outputs": [
        {
          "output_type": "stream",
          "text": [
            "You earned 1/2 points.\n",
            "\n",
            "But, don't worry you can re-submit and we will keep only your latest score.\n"
          ],
          "name": "stdout"
        }
      ]
    },
    {
      "cell_type": "markdown",
      "metadata": {
        "id": "pUYScz9YSKsM"
      },
      "source": [
        "### 3.4 Most Frequent Words"
      ]
    },
    {
      "cell_type": "markdown",
      "metadata": {
        "id": "JT0sTQHvp5E6"
      },
      "source": [
        "Now, find the 20 most common words amongst the content of your highest and lowest questions.\n",
        "\n",
        "\n",
        "\n",
        "Hint: https://docs.python.org/2/library/collections.html#counter-objects"
      ]
    },
    {
      "cell_type": "code",
      "metadata": {
        "id": "bRWGYkoep-I3"
      },
      "source": [
        "lowest_counter = Counter()\n",
        "for word in lowest_tokens:\n",
        "  lowest_counter[word] +=1\n",
        "lowest_most_common = lowest_counter.most_common(20)"
      ],
      "execution_count": 64,
      "outputs": []
    },
    {
      "cell_type": "code",
      "metadata": {
        "id": "Vusua1Edp8mm"
      },
      "source": [
        "highest_counter = Counter()\n",
        "for word in highest_tokens:\n",
        "  highest_counter[word] +=1\n",
        "highest_most_common = highest_counter.most_common(20)"
      ],
      "execution_count": 65,
      "outputs": []
    },
    {
      "cell_type": "code",
      "metadata": {
        "id": "nnxwDMtple3d",
        "outputId": "2146ebd9-50e2-437c-c6a5-6d80b29b9b97",
        "colab": {
          "base_uri": "https://localhost:8080/",
          "height": 73
        }
      },
      "source": [
        "print(highest_most_common)\n",
        "print(lowest_most_common)"
      ],
      "execution_count": 66,
      "outputs": [
        {
          "output_type": "stream",
          "text": [
            "[('data', 590), ('would', 304), ('use', 265), ('like', 264), ('using', 222), ('model', 216), ('one', 215), ('learning', 198), ('example', 141), ('training', 139), ('set', 133), ('problem', 133), ('network', 131), ('could', 127), ('layer', 126), ('features', 125), ('time', 120), ('know', 118), ('question', 113), ('dataset', 112)]\n",
            "[('data', 476), ('gt', 228), ('like', 219), ('would', 206), ('model', 191), ('using', 178), ('want', 170), ('use', 153), ('dataset', 143), ('one', 140), ('lt', 139), ('get', 126), ('x', 118), ('false', 118), ('example', 111), ('need', 110), ('import', 109), ('know', 108), ('null', 108), ('problem', 107)]\n"
          ],
          "name": "stdout"
        }
      ]
    },
    {
      "cell_type": "code",
      "metadata": {
        "id": "Y7WeWoRZtEOT",
        "outputId": "8ffea4ad-3bff-48e0-a689-16efb0bba4ef",
        "colab": {
          "base_uri": "https://localhost:8080/",
          "height": 71
        }
      },
      "source": [
        "grader.grade(test_case_id = 'test_highest_most_common', answer = highest_most_common)"
      ],
      "execution_count": 67,
      "outputs": [
        {
          "output_type": "stream",
          "text": [
            "Correct! You earned 2/2 points. You are a star!\n",
            "\n",
            "Your submission has been successfully recorded in the gradebook.\n"
          ],
          "name": "stdout"
        }
      ]
    },
    {
      "cell_type": "code",
      "metadata": {
        "id": "KG2W2YIbuJQj",
        "outputId": "20ef8fe4-730a-4730-bd96-4aafb0afe8ab",
        "colab": {
          "base_uri": "https://localhost:8080/",
          "height": 71
        }
      },
      "source": [
        "grader.grade(test_case_id = 'test_lowest_most_common', answer = lowest_most_common)"
      ],
      "execution_count": 68,
      "outputs": [
        {
          "output_type": "stream",
          "text": [
            "Correct! You earned 2/2 points. You are a star!\n",
            "\n",
            "Your submission has been successfully recorded in the gradebook.\n"
          ],
          "name": "stdout"
        }
      ]
    },
    {
      "cell_type": "markdown",
      "metadata": {
        "id": "pvwIdmhNZmhY"
      },
      "source": [
        "###3.5 Refining our Lists\n",
        "\n",
        "Hmmm...both of these lists seem to overrepresent the common jargon of data science. Let's try to tease out words that distinguish the high from the low scoring posts. \n",
        "\n",
        "One approach would be to find words in one list that are not in the other. This, however, may be too naive, as even if a word is extremely common in our high list, if it appears only once in our low list, it would get removed from consideration.\n",
        "\n",
        "Let's instead find the difference between the counts within our two lists. Thus, if a word is really common in one, but not the other, the count would only decrease slightly. Alternatively, if a word is common in both lists, it would effectively zero out.\n",
        "\n",
        "**TODO:** Using the difference method, create a **distinct_highest_common** and **distinct_lowest_commonr**  that find the top 20 counts of words within each group of posts after using the difference method described above. Be careful on which list you are subtracting!\n"
      ]
    },
    {
      "cell_type": "code",
      "metadata": {
        "id": "tWCBa1f7mMrx"
      },
      "source": [
        "d = lowest_counter - highest_counter\n",
        "\n",
        "d2 = highest_counter - lowest_counter"
      ],
      "execution_count": 69,
      "outputs": []
    },
    {
      "cell_type": "code",
      "metadata": {
        "id": "Vnx8MsbBA99U"
      },
      "source": [
        "distinct_highest_common = d2.most_common(20)"
      ],
      "execution_count": 70,
      "outputs": []
    },
    {
      "cell_type": "code",
      "metadata": {
        "id": "xT3hzB_vA2UA"
      },
      "source": [
        "distinct_lowest_common = d.most_common(20)"
      ],
      "execution_count": 71,
      "outputs": []
    },
    {
      "cell_type": "code",
      "metadata": {
        "id": "sJZutqmMwLoR",
        "outputId": "ba881829-7afe-4f48-ba1c-937e7f7f1ef0",
        "colab": {
          "base_uri": "https://localhost:8080/",
          "height": 71
        }
      },
      "source": [
        "grader.grade(test_case_id = 'test_distinct_highest_common', answer = distinct_highest_common)"
      ],
      "execution_count": 72,
      "outputs": [
        {
          "output_type": "stream",
          "text": [
            "Correct! You earned 2/2 points. You are a star!\n",
            "\n",
            "Your submission has been successfully recorded in the gradebook.\n"
          ],
          "name": "stdout"
        }
      ]
    },
    {
      "cell_type": "code",
      "metadata": {
        "id": "wCCFeH6-wMQS",
        "outputId": "0b3c2d0d-3c7f-42b7-db15-a749fe121d49",
        "colab": {
          "base_uri": "https://localhost:8080/",
          "height": 71
        }
      },
      "source": [
        "grader.grade(test_case_id = 'test_distinct_lowest_common', answer = distinct_lowest_common)"
      ],
      "execution_count": 73,
      "outputs": [
        {
          "output_type": "stream",
          "text": [
            "Correct! You earned 2/2 points. You are a star!\n",
            "\n",
            "Your submission has been successfully recorded in the gradebook.\n"
          ],
          "name": "stdout"
        }
      ]
    },
    {
      "cell_type": "markdown",
      "metadata": {
        "id": "ztARzQHyexXQ"
      },
      "source": [
        "The lists are much more different right? It seems as if low scoring posts tend to ask a lot about errors/code while higher posts are much more conceptual based.\n",
        "\n",
        "So if you're a looking for a high reputation, don't ask people to debug your code!"
      ]
    },
    {
      "cell_type": "markdown",
      "metadata": {
        "id": "HEAi4a6OcjE4"
      },
      "source": [
        "### 3.6 Word Clouds\n",
        "\n",
        "Before we move on from this dataset, let's do one final step and visualize our results with wordclouds.\n",
        "\n",
        "**TODO**: Take a look at [this documentation](https://amueller.github.io/word_cloud/generated/wordcloud.WordCloud.html) and create two word clouds for our two groups of distinct tokens.\n",
        "\n",
        "Be sure to create these on the full list of distinct tokens, and not just the top 20. We will be going through your notebooks and manually grading your world clouds (worth 4 points). \n"
      ]
    },
    {
      "cell_type": "code",
      "metadata": {
        "id": "VYNzQJDicpLw",
        "outputId": "5bb8bc89-e5c2-4f13-84a8-9a804368b164",
        "colab": {
          "base_uri": "https://localhost:8080/",
          "height": 217
        }
      },
      "source": [
        "worldc = WordCloud()\n",
        "highest_wordcloud = worldc.fit_words(d2)\n",
        "highest_wordcloud.to_image()"
      ],
      "execution_count": 74,
      "outputs": [
        {
          "output_type": "execute_result",
          "data": {
            "image/png": "[encoded data removed]",
            "text/plain": [
              "<PIL.Image.Image image mode=RGB size=400x200 at 0x7F05B54C81D0>"
            ]
          },
          "metadata": {
            "tags": []
          },
          "execution_count": 74
        }
      ]
    },
    {
      "cell_type": "code",
      "metadata": {
        "id": "ONjr3Kq1ciCu",
        "outputId": "93e7479d-f118-4d83-a82b-355a70fd19fa",
        "colab": {
          "base_uri": "https://localhost:8080/",
          "height": 217
        }
      },
      "source": [
        "lowest_wordcloud = worldc.fit_words(d)\n",
        "lowest_wordcloud.to_image()"
      ],
      "execution_count": 75,
      "outputs": [
        {
          "output_type": "execute_result",
          "data": {
            "image/png": "[encoded data removed]",
            "text/plain": [
              "<PIL.Image.Image image mode=RGB size=400x200 at 0x7F05B555DB00>"
            ]
          },
          "metadata": {
            "tags": []
          },
          "execution_count": 75
        }
      ]
    },
    {
      "cell_type": "markdown",
      "metadata": {
        "id": "ISe_XMH7ivEa"
      },
      "source": [
        "#Section 2: Spark, Hierarchical Data and Graph Data on Yelp Reviews Dataset"
      ]
    },
    {
      "cell_type": "markdown",
      "metadata": {
        "id": "KJJHiaJ_1P9G"
      },
      "source": [
        "## Getting Started with Apache Spark\n",
        "\n",
        "Now that you've seen how to run SQL queries through pandas, we'll working with running SQL in Apache Spark! Apache Spark is a complex, cluster-based data processing system written in Scala used for big data processing. For the most part, Spark interfaces “smoothly” to Python.\n",
        "\n",
        "While Spark dataframes try to emulate the same programming style as Pandas DataFrames, there are some differences in how you express things. Please refer to the Lecture Slides or the following resources to learn about these differences:\n",
        "\n",
        "https://lab.getbase.com/pandarize-spark-dataframes/\n",
        "https://ogirardot.wordpress.com/2015/07/31/from-pandas-to-apache-sparks-dataframe/ \n",
        "\n",
        "For this assignment, we are going to get familiar with Spark without worrying too much about sharding and distribution. This isn’t really using it to its strengths -- and in fact you might find Spark to be slow -- but it will get you comfortable with programming in Spark without worrying about distributed nodes, clusters, and spending real dollars on the cloud. For Homework 3, we’ll connect your Jupyter instance to Spark running on the cloud.\n",
        "\n",
        "### Initializing a Connection to Spark\n",
        "\n",
        "We'll open a connection to Spark as follows. From `SparkSession`, you can load data into Spark DataFrames as well as `RDD`s.\n",
        "\n",
        "Run the following cells to setup this part of the notebook! (Note: if you finish the section above you can just start running things from here)"
      ]
    },
    {
      "cell_type": "code",
      "metadata": {
        "id": "G8RH4R771X6n"
      },
      "source": [
        "%%capture\n",
        "!apt install libkrb5-dev\n",
        "!wget https://www-us.apache.org/dist/spark/spark-2.4.5/spark-2.4.5-bin-hadoop2.7.tgz\n",
        "!tar xf spark-2.4.5-bin-hadoop2.7.tgz\n",
        "!pip install findspark\n",
        "!pip install sparkmagic\n",
        "!pip install pyspark\n",
        "! pip install pyspark --user\n",
        "! pip install seaborn --user\n",
        "! pip install plotly --user\n",
        "! pip install imageio --user\n",
        "! pip install folium --user"
      ],
      "execution_count": 76,
      "outputs": []
    },
    {
      "cell_type": "code",
      "metadata": {
        "id": "pNctzcXRkexY"
      },
      "source": [
        "%%capture\n",
        "!apt update\n",
        "!apt install gcc python-dev libkrb5-dev"
      ],
      "execution_count": 77,
      "outputs": []
    },
    {
      "cell_type": "code",
      "metadata": {
        "id": "PP28kxLekWG7"
      },
      "source": [
        "from pyspark.sql import SparkSession\n",
        "from pyspark.sql.types import *\n",
        "import pyspark.sql.functions as F\n",
        "\n",
        "import os\n",
        "\n",
        "spark = SparkSession.builder.appName('Graphs-HW2').getOrCreate()\n"
      ],
      "execution_count": 78,
      "outputs": []
    },
    {
      "cell_type": "code",
      "metadata": {
        "id": "7Gm6aXPq1Ulc"
      },
      "source": [
        "%load_ext sparkmagic.magics"
      ],
      "execution_count": 79,
      "outputs": []
    },
    {
      "cell_type": "code",
      "metadata": {
        "id": "NiGROEgu1gfN"
      },
      "source": [
        "import numpy as np\n",
        "import pandas as pd\n",
        "import matplotlib\n",
        "\n",
        "#misc\n",
        "import gc\n",
        "import time\n",
        "import warnings\n",
        "\n",
        "\n",
        "#graph section\n",
        "import networkx as nx\n",
        "#import heapq  # for getting top n number of things from list,dict\n",
        "import pandas as pd\n",
        "import numpy as np\n",
        "\n",
        "# JSON parsing\n",
        "import json\n",
        "\n",
        "# HTML parsing\n",
        "from lxml import etree\n",
        "import urllib\n",
        "\n",
        "# SQLite RDBMS\n",
        "import sqlite3\n",
        "\n",
        "# Time conversions\n",
        "import time\n",
        "\n",
        "# Parallel processing\n",
        "# import swifter\n",
        "\n",
        "# NoSQL DB\n",
        "from pymongo import MongoClient\n",
        "from pymongo.errors import DuplicateKeyError, OperationFailure\n",
        "\n",
        "import os\n",
        "os.environ['SPARK_HOME'] = '/content/spark-2.4.5-bin-hadoop2.7'\n",
        "os.environ[\"JAVA_HOME\"] = \"/usr/lib/jvm/java-8-openjdk-amd64\"\n",
        "import pyspark\n",
        "from pyspark.sql import SQLContext"
      ],
      "execution_count": 80,
      "outputs": []
    },
    {
      "cell_type": "code",
      "metadata": {
        "id": "bF0xipwC1hme"
      },
      "source": [
        "try:\n",
        "    if(spark == None):\n",
        "        spark = SparkSession.builder.appName('Initial').getOrCreate()\n",
        "        sqlContext=SQLContext(spark)\n",
        "except NameError:\n",
        "    spark = SparkSession.builder.appName('Initial').getOrCreate()\n",
        "    sqlContext=SQLContext(spark)\n"
      ],
      "execution_count": 81,
      "outputs": []
    },
    {
      "cell_type": "markdown",
      "metadata": {
        "id": "mw-YbXpG1owp"
      },
      "source": [
        "### Download data\n",
        "\n",
        "The following code retrieves the Yelp dataset files from Google Drive."
      ]
    },
    {
      "cell_type": "code",
      "metadata": {
        "id": "SuRm7t0it3nF",
        "outputId": "3c43da12-3667-4e41-fb82-92027f064eb3",
        "colab": {
          "base_uri": "https://localhost:8080/",
          "height": 35
        }
      },
      "source": [
        "from google_drive_downloader import GoogleDriveDownloader as gdd\n",
        "\n",
        "gdd.download_file_from_google_drive(file_id='1XCANGSCd0pUNcXq18t2QDwCIpJxus8Dy',\n",
        "                                    dest_path='/content/yelp_business_attributes.csv')\n",
        "\n",
        "gdd.download_file_from_google_drive(file_id='11lwBibxX7PYGgOfHU25_dDDDsPX1Pt0Y',\n",
        "                                    dest_path='/content/yelp_business.csv')\n",
        "\n",
        "gdd.download_file_from_google_drive(file_id='1FU5Q-96erhTmk8SjC4XHUm94yWc6h3a0',\n",
        "                                    dest_path='/content/yelp_checkin.csv')\n",
        "\n",
        "gdd.download_file_from_google_drive(file_id='1UaaLrCKjqoQ7G3JT_VUw56pc-dnTwyrS', dest_path='/content/yelp_review2.csv')\n",
        "\n",
        "gdd.download_file_from_google_drive(file_id='1JNFZeLlimxNSwcOb-oBxxbwJqdg22WgD',\n",
        "                                    dest_path='/content/yelp_user.csv')\n"
      ],
      "execution_count": 333,
      "outputs": [
        {
          "output_type": "stream",
          "text": [
            "Downloading 11lwBibxX7PYGgOfHU25_dDDDsPX1Pt0Y into /content/yelp_business.csv... Done.\n"
          ],
          "name": "stdout"
        }
      ]
    },
    {
      "cell_type": "code",
      "metadata": {
        "id": "7hIZZKJiyh0M",
        "outputId": "720650e0-dde6-46a9-dca3-e0c4f4ecca1a",
        "colab": {
          "base_uri": "https://localhost:8080/",
          "height": 1000
        }
      },
      "source": [
        "!wget https://penn-cis545-files.s3.amazonaws.com/yelp_business_attributes.csv -P /content\n",
        "# !wget https://penn-cis545-files.s3.amazonaws.com/yelp_business.csv -P /content\n",
        "# !wget https://penn-cis545-files.s3.amazonaws.com/yelp_checkin.csv -P /content\n",
        "# !wget https://penn-cis545-files.s3.amazonaws.com/yelp_review2.csv -P /content\n",
        "# !wget https://penn-cis545-files.s3.amazonaws.com/yelp_user.csv -P /content"
      ],
      "execution_count": 83,
      "outputs": [
        {
          "output_type": "stream",
          "text": [
            "--2020-10-10 15:12:19--  https://penn-cis545-files.s3.amazonaws.com/yelp_business_attributes.csv\n",
            "Resolving penn-cis545-files.s3.amazonaws.com (penn-cis545-files.s3.amazonaws.com)... 52.216.140.228\n",
            "Connecting to penn-cis545-files.s3.amazonaws.com (penn-cis545-files.s3.amazonaws.com)|52.216.140.228|:443... connected.\n",
            "HTTP request sent, awaiting response... 200 OK\n",
            "Length: 41377121 (39M) [text/csv]\n",
            "Saving to: ‘/content/yelp_business_attributes.csv.1’\n",
            "\n",
            "yelp_business_attri 100%[===================>]  39.46M  30.1MB/s    in 1.3s    \n",
            "\n",
            "2020-10-10 15:12:21 (30.1 MB/s) - ‘/content/yelp_business_attributes.csv.1’ saved [41377121/41377121]\n",
            "\n",
            "--2020-10-10 15:12:21--  https://penn-cis545-files.s3.amazonaws.com/yelp_business.csv\n",
            "Resolving penn-cis545-files.s3.amazonaws.com (penn-cis545-files.s3.amazonaws.com)... 54.231.81.168\n",
            "Connecting to penn-cis545-files.s3.amazonaws.com (penn-cis545-files.s3.amazonaws.com)|54.231.81.168|:443... connected.\n",
            "HTTP request sent, awaiting response... 200 OK\n",
            "Length: 31760674 (30M) [text/csv]\n",
            "Saving to: ‘/content/yelp_business.csv.1’\n",
            "\n",
            "yelp_business.csv.1 100%[===================>]  30.29M  30.3MB/s    in 1.0s    \n",
            "\n",
            "2020-10-10 15:12:22 (30.3 MB/s) - ‘/content/yelp_business.csv.1’ saved [31760674/31760674]\n",
            "\n",
            "--2020-10-10 15:12:22--  https://penn-cis545-files.s3.amazonaws.com/yelp_checkin.csv\n",
            "Resolving penn-cis545-files.s3.amazonaws.com (penn-cis545-files.s3.amazonaws.com)... 52.216.237.67\n",
            "Connecting to penn-cis545-files.s3.amazonaws.com (penn-cis545-files.s3.amazonaws.com)|52.216.237.67|:443... connected.\n",
            "HTTP request sent, awaiting response... 200 OK\n",
            "Length: 135964892 (130M) [text/csv]\n",
            "Saving to: ‘/content/yelp_checkin.csv.1’\n",
            "\n",
            "yelp_checkin.csv.1  100%[===================>] 129.67M  39.0MB/s    in 3.3s    \n",
            "\n",
            "2020-10-10 15:12:26 (39.0 MB/s) - ‘/content/yelp_checkin.csv.1’ saved [135964892/135964892]\n",
            "\n",
            "--2020-10-10 15:12:26--  https://penn-cis545-files.s3.amazonaws.com/yelp_review2.csv\n",
            "Resolving penn-cis545-files.s3.amazonaws.com (penn-cis545-files.s3.amazonaws.com)... 52.217.98.148\n",
            "Connecting to penn-cis545-files.s3.amazonaws.com (penn-cis545-files.s3.amazonaws.com)|52.217.98.148|:443... connected.\n",
            "HTTP request sent, awaiting response... 200 OK\n",
            "Length: 3791120545 (3.5G) [text/csv]\n",
            "Saving to: ‘/content/yelp_review2.csv.1’\n",
            "\n",
            "yelp_review2.csv.1  100%[===================>]   3.53G  45.2MB/s    in 81s     \n",
            "\n",
            "2020-10-10 15:13:48 (44.4 MB/s) - ‘/content/yelp_review2.csv.1’ saved [3791120545/3791120545]\n",
            "\n",
            "--2020-10-10 15:13:48--  https://penn-cis545-files.s3.amazonaws.com/yelp_user.csv\n",
            "Resolving penn-cis545-files.s3.amazonaws.com (penn-cis545-files.s3.amazonaws.com)... 52.217.11.132\n",
            "Connecting to penn-cis545-files.s3.amazonaws.com (penn-cis545-files.s3.amazonaws.com)|52.217.11.132|:443... connected.\n",
            "HTTP request sent, awaiting response... 200 OK\n",
            "Length: 1363176944 (1.3G) [text/csv]\n",
            "Saving to: ‘/content/yelp_user.csv.1’\n",
            "\n",
            "yelp_user.csv.1     100%[===================>]   1.27G  48.1MB/s    in 28s     \n",
            "\n",
            "2020-10-10 15:14:16 (46.8 MB/s) - ‘/content/yelp_user.csv.1’ saved [1363176944/1363176944]\n",
            "\n"
          ],
          "name": "stdout"
        }
      ]
    },
    {
      "cell_type": "markdown",
      "metadata": {
        "id": "srYXW3JwvIZi"
      },
      "source": [
        "## Part 4: Working with Spark [21 points total]\n",
        "\n"
      ]
    },
    {
      "cell_type": "markdown",
      "metadata": {
        "id": "1tjhGYPK1vmm"
      },
      "source": [
        "### 4.1 Load Our Datasets\n",
        "\n",
        "\n",
        "In this section, we'll be using Spark to look into social data from Yelp. To start, let's read our data into Spark. As an example of how to do this, to load the file `input.txt` into a Spark DataFrame, you can use lines like the following.\n",
        "\n",
        "```\n",
        "# Read lines from the text file\n",
        "input_sdf = spark.read.load('input.txt', format=\"text\")\n",
        "```\n",
        "\n",
        "We’ll use the suffix `_sdf` to represent “Spark DataFrame,” much as we used `_df` to denote a Pandas DataFrame. \n",
        "\n",
        "\n",
        "**TODO:** Load the various files from Yelp. Your datasets should be named `yelp_business_sdf`, `yelp_business_attributes_sdf`, `yelp_business_horus_sdf`, `yelp_check_in_sdf`, `yelp_reviews_sdf`, and `yelp_users_sdf`. Submit the first 75 entries of the yelp_business_sdf, sorted by the \"name\" column in ascending order, to the autograder as a pandas dataframe by using the toPandas() function to convert it. "
      ]
    },
    {
      "cell_type": "code",
      "metadata": {
        "id": "7mtQl7Bi1rHe"
      },
      "source": [
        "# TODO: load Yelp datasets\n",
        "\n",
        "yelp_business_sdf = spark.read.load('/content/yelp_business.csv',format='csv',header='true')\n",
        "yelp_business_attributes_sdf = spark.read.load('/content/yelp_business_attributes.csv',format='csv',header='true') \n",
        "yelp_check_in_sdf = spark.read.load('/content/yelp_checkin.csv',format='csv',header='true') \n",
        "yelp_reviews_sdf = spark.read.load('/content/yelp_review2.csv',format='csv',header='true') \n",
        "yelp_users_sdf = spark.read.load('/content/yelp_user.csv',format='csv',header='true') \n"
      ],
      "execution_count": 88,
      "outputs": []
    },
    {
      "cell_type": "code",
      "metadata": {
        "id": "w8FLEPR9EuS1",
        "outputId": "68214b0b-1139-4490-92ca-5a47bef8b413",
        "colab": {
          "base_uri": "https://localhost:8080/",
          "height": 485
        }
      },
      "source": [
        "yelp_business_sdf.show()"
      ],
      "execution_count": 89,
      "outputs": [
        {
          "output_type": "stream",
          "text": [
            "+--------------------+--------------------+------------------+--------------------+--------------+-------------+-----------+-------------+--------------+------------+------------+-------+--------------------+\n",
            "|         business_id|                name|      neighborhood|             address|          city|        state|postal_code|     latitude|     longitude|       stars|review_count|is_open|          categories|\n",
            "+--------------------+--------------------+------------------+--------------------+--------------+-------------+-----------+-------------+--------------+------------+------------+-------+--------------------+\n",
            "|FYWN1wneV18bWNgQj...|\"\"\"Dental by Desi...|              null| \"\"\"4855 E Warner Rd|     Ste B9\"\"\"|    Ahwatukee|         AZ|        85044|    33.3306902|-111.9785992|         4.0|     22|                   1|\n",
            "|He-G7vWjzVUysIKrf...|\"\"\"Stephen Szabo ...|              null|\"\"\"3101 Washingto...|      McMurray|           PA|      15317|   40.2916853|   -80.1048999|         3.0|          11|      1|Hair Stylists;Hai...|\n",
            "|KQPW8lFf1y5BT2Mxi...|\"\"\"Western Motor ...|              null|  \"\"\"6025 N 27th Ave|      Ste 1\"\"\"|      Phoenix|         AZ|        85017|    33.5249025|-112.1153098|         1.5|     18|                   1|\n",
            "|8DShNS-LuFqpEWIp0...|\"\"\"Sports Authori...|              null|\"\"\"5000 Arizona M...|    Ste 435\"\"\"|        Tempe|         AZ|        85282|    33.3831468|-111.9647254|         3.0|      9|                   0|\n",
            "|PfOCPjBrlQAnz__NX...|\"\"\"Brick House Ta...|              null|  \"\"\"581 Howe Ave\"\"\"|Cuyahoga Falls|           OH|      44221|   41.1195346|   -81.4756898|         3.5|         116|      1|American (New);Ni...|\n",
            "|o9eMRCWt5PkpLDE0g...|       \"\"\"Messina\"\"\"|              null|\"\"\"Richterstr. 11\"\"\"|     Stuttgart|           BW|      70567|      48.7272|       9.14795|         4.0|           5|      1| Italian;Restaurants|\n",
            "|kCoE3jvEtg6UVz5SO...|    \"\"\"BDJ Realty\"\"\"|         Summerlin|  \"\"\"2620 Regatta Dr|    Ste 102\"\"\"|    Las Vegas|         NV|        89128|      36.20743|  -115.26846|         4.0|      5|                   1|\n",
            "|OD2hnuuTJI9uotcKy...|   \"\"\"Soccer Zone\"\"\"|              null|\"\"\"7240 W Lake Me...|      Ste 4\"\"\"|    Las Vegas|         NV|        89128|    36.1974844|-115.2496601|         1.5|      9|                   1|\n",
            "|EsMcGiZaQuG1OOvL9...|\"\"\"Any Given Sund...|              null|\"\"\"2612 Brandt Sc...|       Wexford|           PA|      15090|40.6151022445|-80.0913487465|         5.0|          15|      1|Coffee & Tea;Ice ...|\n",
            "|TGWhGNusxyMaA4kQV...|\"\"\"Detailing Gone...|              null|                \"\"\"\"|     Henderson|           NV|      89014|36.0558252127| -115.04635039|         5.0|           7|      1|Automotive;Auto D...|\n",
            "|XOSRcvtaKc_Q5H1SA...|\"\"\"East Coast Cof...|              null|\"\"\"737 West Pike ...|       Houston|           PA|      15342|40.2415480142|-80.2128151059|         4.5|           3|      0|Breakfast & Brunc...|\n",
            "|Y0eMNa5C-YU1RQOZf...|\"\"\"CubeSmart Self...|              null|\"\"\"2414 South Gil...|      Chandler|           AZ|      85286|   33.2717201|  -111.7912569|         5.0|          23|      1|Local Services;Se...|\n",
            "|xcgFnd-MwkZeO5G2H...|\"\"\"T & T Bakery a...|   Markham Village|\"\"\"35 Main Street...|       Markham|           ON|    L3P 1X3|   43.8751774|   -79.2601532|         4.0|          38|      1|Bakeries;Bagels;Food|\n",
            "|NmZtoE3v8RdSJEczY...|\"\"\"Complete Denta...|              null|\"\"\"107 Whitaker S...|     Homestead|           PA|      15120|   40.4014882|   -79.8879161|         2.0|           5|      1|General Dentistry...|\n",
            "|fNMVV_ZX7CJSDWQGd...|\"\"\"Showmars Gover...|            Uptown|  \"\"\"600 E 4th St\"\"\"|     Charlotte|           NC|      28202|   35.2216474|   -80.8393449|         3.5|           7|      1|Restaurants;Ameri...|\n",
            "|l09JfMeQ6ynYs5MCJ...|\"\"\"Alize Catering\"\"\"|Yonge and Eglinton| \"\"\"2459 Yonge St\"\"\"|       Toronto|           ON|    M4P 2H6|   43.7113993|   -79.3993388|         3.0|          12|      0|Italian;French;Re...|\n",
            "|IQSlT5jGE6CCDhSG0...|\"\"\"T & Y Nail Spa\"\"\"|              null|\"\"\"8411 W Thunder...|   Unit 101\"\"\"|       Peoria|         AZ|        85381|    33.6086538|-112.2400118|         3.0|     20|                   1|\n",
            "|b2I2DXtZVnpUMCXp1...|\"\"\"Meineke Car Ca...|              null|\"\"\"2518 Ironwood ...|   Sun Prairie|           WI|      53590|     43.18508|    -89.262047|         3.5|           9|      1|Tires;Oil Change ...|\n",
            "|0FMKDOU8TJT1x87OK...|\"\"\"Senior's Barbe...|              null|\"\"\"13375 W McDowe...|      Goodyear|           AZ|      85395|    33.463629|   -112.347038|         5.0|          65|      1|Barbers;Beauty & ...|\n",
            "|Gu-xs3NIQTj3Mj2xY...|\"\"\"Maxim Bakery &...|              null|\"\"\"9665 Bayview A...|   Unit 1-4\"\"\"|Richmond Hill|         ON|      L4C 9V4|    43.8675648| -79.4126618|         3.5|     34|                   1|\n",
            "+--------------------+--------------------+------------------+--------------------+--------------+-------------+-----------+-------------+--------------+------------+------------+-------+--------------------+\n",
            "only showing top 20 rows\n",
            "\n"
          ],
          "name": "stdout"
        }
      ]
    },
    {
      "cell_type": "code",
      "metadata": {
        "id": "cRjwuThgjdze"
      },
      "source": [
        "yelp_business = yelp_business_sdf.toPandas().sort_values(by = ['name'], ascending = True)[:75]"
      ],
      "execution_count": 90,
      "outputs": []
    },
    {
      "cell_type": "code",
      "metadata": {
        "id": "vqHKFiT-12wT",
        "outputId": "f326477d-a4ec-45e4-fc6d-628ed191ed63",
        "colab": {
          "base_uri": "https://localhost:8080/",
          "height": 71
        }
      },
      "source": [
        "grader.grade(test_case_id = 'check_yelp_load', answer = yelp_business[:75])"
      ],
      "execution_count": 91,
      "outputs": [
        {
          "output_type": "stream",
          "text": [
            "Correct! You earned 3/3 points. You are a star!\n",
            "\n",
            "Your submission has been successfully recorded in the gradebook.\n"
          ],
          "name": "stdout"
        }
      ]
    },
    {
      "cell_type": "markdown",
      "metadata": {
        "id": "yvm3tmQ7c6N-"
      },
      "source": [
        "One key difference between using Pandas SQL and Spark SQL is that you'll need to create a view of your data before Spark is able to query it. Note that when using a temporary view as we will be doing, Spark does not persist the data in memory. \n",
        "\n",
        "**TODO:** Put all of your Spark dataframes from the previous section into temporary tables. The syntax is as follows:\n",
        "*yelp_business_sdf.createOrReplaceTempView('yelp_business')*\n",
        "\n",
        "Note that when you're accessing the yelp data within Spark SQL later in the homework you'll want to refer to each table as the name of the view you assigned - for instance \"yelp_business\" not \"yelp_business_sdf\". This distinction is important as this table is only visible to Spark as \"yelp_business\"."
      ]
    },
    {
      "cell_type": "code",
      "metadata": {
        "id": "ADFIa6jx16Sm"
      },
      "source": [
        "# TODO: save tables with names such as yelp_business, yelp_users\n",
        "yelp_business_sdf.createOrReplaceTempView('yelp_business')\n",
        "yelp_business_attributes_sdf.createOrReplaceTempView('yelp_business_attributes')\n",
        "yelp_check_in_sdf.createOrReplaceTempView('yelp_check_in')\n",
        "yelp_reviews_sdf.createOrReplaceTempView('yelp_reviews')\n",
        "yelp_users_sdf.createOrReplaceTempView('yelp_users')"
      ],
      "execution_count": 92,
      "outputs": []
    },
    {
      "cell_type": "markdown",
      "metadata": {
        "id": "P-C8wBruelo4"
      },
      "source": [
        "Next, explore the sdf's using the Sandbox area below. Some functions that might be useful are:\n",
        "* show (shows the first few rows of data, similar to head in Pandas)\n",
        "* count (counts number of rows, similar to using len in Pandas)\n",
        "* dtypes (same as in Pandas) \n",
        "* describe (use with show to see summary statistics, similar to just describe on its own in Pandas)\n",
        "\n",
        "You are not limited to these functions and are welcome to use any other ones. The purpose of this exploration is to get a sense of what the data looks like before moving on. Again, **this section is not graded**, but we encourage you to get familiar with the data before diving in.\n"
      ]
    },
    {
      "cell_type": "code",
      "metadata": {
        "id": "Dc4VrDtToDVB",
        "outputId": "7b42168c-5841-4186-ddb6-ee472f52f613",
        "colab": {
          "base_uri": "https://localhost:8080/",
          "height": 505
        }
      },
      "source": [
        "# your EDA here! feel free to add more cells\n",
        "yelp_users_sdf.show()"
      ],
      "execution_count": 93,
      "outputs": [
        {
          "output_type": "stream",
          "text": [
            "+--------------------+-------+------------+-------------+--------------------+------+-----+----+----+-----+-------------+--------------+---------------+------------------+---------------+---------------+---------------+----------------+---------------+----------------+-----------------+-----------------+\n",
            "|             user_id|   name|review_count|yelping_since|             friends|useful|funny|cool|fans|elite|average_stars|compliment_hot|compliment_more|compliment_profile|compliment_cute|compliment_list|compliment_note|compliment_plain|compliment_cool|compliment_funny|compliment_writer|compliment_photos|\n",
            "+--------------------+-------+------------+-------------+--------------------+------+-----+----+----+-----+-------------+--------------+---------------+------------------+---------------+---------------+---------------+----------------+---------------+----------------+-----------------+-----------------+\n",
            "|JJ-aSuM4pCFPdkfoZ...|  Chris|          10|   2013-09-24|0njfJmB-7n84DlIgU...|     0|    0|   0|   0| None|          3.7|             0|              0|                 0|              0|              0|              0|               0|              0|               0|                0|                0|\n",
            "|uUzsFQn_6cXDh6rPN...|  Tiffy|           1|   2017-03-02|                None|     0|    0|   0|   0| None|          2.0|             0|              0|                 0|              0|              0|              0|               0|              0|               0|                0|                0|\n",
            "|mBneaEEH5EMyxaVyq...|   Mark|           6|   2015-03-13|                None|     0|    0|   0|   0| None|         4.67|             0|              0|                 0|              0|              0|              0|               0|              0|               0|                0|                0|\n",
            "|W5mJGs-dcDWRGEhAz...| Evelyn|           3|   2016-09-08|                None|     0|    0|   0|   0| None|         4.67|             0|              0|                 0|              0|              0|              0|               0|              0|               0|                0|                0|\n",
            "|4E8--zUZO1Rr1IBK4...|   Lisa|          11|   2012-07-16|                None|     4|    0|   0|   0| None|         3.45|             0|              0|                 0|              0|              0|              0|               0|              0|               0|                1|                0|\n",
            "|Ob-2oGBQ7rwwYwUvh...|      B|           9|   2012-05-01|                None|     0|    0|   0|   0| None|         4.78|             0|              0|                 0|              0|              0|              0|               0|              0|               0|                0|                0|\n",
            "|JaTVvKsBl0bHHJEpE...|  Peter|           2|   2013-03-23|                None|     0|    0|   0|   0| None|          5.0|             0|              0|                 0|              0|              0|              0|               0|              0|               0|                0|                0|\n",
            "|Ykj0DVsz0c6rX9ghj...|Colleen|           1|   2010-10-10|                None|     0|    0|   0|   0| None|          1.0|             0|              0|                 0|              0|              0|              0|               0|              0|               0|                0|                0|\n",
            "|kmyEPfKnHQJdTceCd...|      A|           7|   2012-10-16|                None|     0|    0|   0|   0| None|         4.29|             0|              0|                 0|              0|              0|              0|               0|              0|               0|                0|                0|\n",
            "|H54pA7YHfjl8IjhHA...|   Chad|           3|   2010-06-25|                None|     0|    0|   0|   0| None|          5.0|             0|              0|                 0|              0|              0|              0|               0|              0|               0|                0|                0|\n",
            "|WRae-wZkpRoxMrgJd...|   Mike|           1|   2017-11-29|                None|     0|    0|   0|   0| None|          5.0|             0|              0|                 0|              0|              0|              0|               0|              0|               0|                0|                0|\n",
            "|Mmv5fPxbF8XEMN4EP...|  Chris|           2|   2016-06-24|                None|     0|    0|   0|   0| None|         1.67|             0|              0|                 0|              0|              0|              0|               0|              0|               0|                0|                0|\n",
            "|LdqGHXsNQowMrvgTN...|  Susan|           1|   2013-09-29|                None|     3|    1|   0|   0| None|          2.0|             0|              0|                 0|              0|              0|              0|               0|              0|               0|                0|                0|\n",
            "|TsgBsn19Wjwpyo81g...|  Cathy|           4|   2010-11-28|                None|     0|    0|   0|   0| None|          4.0|             0|              0|                 0|              0|              0|              1|               0|              0|               0|                0|                0|\n",
            "|V--GjQPlTpeWbcB2c...|   Cody|           2|   2017-10-24|                None|     2|    0|   1|   0| None|          3.0|             0|              0|                 0|              0|              0|              0|               0|              0|               0|                0|                0|\n",
            "|a_gKYQ5YMg39FHNYJ...|Joselyn|           1|   2017-11-07|                None|     0|    0|   0|   0| None|          5.0|             0|              0|                 0|              0|              0|              0|               0|              0|               0|                0|                0|\n",
            "|sz8Heh56kO_6_LBko...|Rosalie|           4|   2015-06-25|                None|     0|    0|   0|   0| None|          3.0|             0|              0|                 0|              0|              0|              0|               0|              0|               0|                0|                0|\n",
            "|h5ERTYn2vQ1QbjTZv...|  Bobby|           3|   2017-01-07|jYiZnueCr7gVq9T34...|     0|    0|   0|   0| None|         3.33|             0|              0|                 0|              0|              0|              0|               0|              0|               0|                0|                0|\n",
            "|jYnkJR3T8yCERXywo...|   Hugo|          48|   2010-07-06|hkXekeW_Jj6mIy8r8...|    15|    6|   2|   3| None|         3.73|             2|              0|                 0|              0|              0|              1|               1|              1|               1|                2|                0|\n",
            "|GMGZsk1dj043UI3zW...|   volk|           0|   2011-08-05|                None|     0|    0|   0|   0| None|         4.29|             0|              0|                 0|              0|              0|              0|               0|              0|               0|                0|                0|\n",
            "+--------------------+-------+------------+-------------+--------------------+------+-----+----+----+-----+-------------+--------------+---------------+------------------+---------------+---------------+---------------+----------------+---------------+----------------+-----------------+-----------------+\n",
            "only showing top 20 rows\n",
            "\n"
          ],
          "name": "stdout"
        }
      ]
    },
    {
      "cell_type": "markdown",
      "metadata": {
        "id": "DBjwu_4ZbgdG"
      },
      "source": [
        "### 4.2 Simple Analytics on the Data\n",
        "In this section, we will be executing Spark operations on the data given. Beyond simply executing the queries, you may try using .explain() method to see more about the query execution. Also, please read the data description prior to attempting the following questions to understand the data."
      ]
    },
    {
      "cell_type": "markdown",
      "metadata": {
        "id": "4S-K77HvqCJi"
      },
      "source": [
        "#### 4.2.1 Spark and Big Data\n",
        "You may be wondering why we can't just use Pandas SQL for analytics on the yelp data. As the data we're working with gets larger data, performance in Pandas will slow - or the data may even be too large to load into Pandas.\n",
        "\n",
        "For a simple example, let's compare how long the same query takes to run in Pandas SQL and Spark SQL.\n",
        "\n",
        "**TODO:** First, convert the yelp business table to Pandas. Then, using the yelp business table, select the name of businesses located in Pennsylvania. Run this query in both Pandas SQL and Spark SQL and time how long the query takes to run. The time module will be useful for this. You may want to separate your code into several cells to ensure you are only timing one query at a time. Submit the ratio of the time it took the query to run in Pandas SQL to the time it took the query to run in Spark SQL, called `time_ratio`, to the autograder.\n",
        "\n",
        "As a reminder, Spark uses lazy computation, meaning results are delayed until they are actually needed. Therefore, you will need to show your table (or do some other computation that requires the table to be generated) in order for your query to run in Spark."
      ]
    },
    {
      "cell_type": "code",
      "metadata": {
        "id": "U6i-3fPdTKxH"
      },
      "source": [
        "import time"
      ],
      "execution_count": 94,
      "outputs": []
    },
    {
      "cell_type": "code",
      "metadata": {
        "id": "ljPlRHFAlR35"
      },
      "source": [
        "# TODO: Convert the yelp_business_sdf to Pandas \n",
        "yelp_business_df = yelp_business_sdf.toPandas()"
      ],
      "execution_count": 95,
      "outputs": []
    },
    {
      "cell_type": "code",
      "metadata": {
        "id": "cmjETG7MJ2Io",
        "outputId": "b68fc246-e627-4e98-9e4c-46fa840ec1ff",
        "colab": {
          "base_uri": "https://localhost:8080/",
          "height": 796
        }
      },
      "source": [
        "yelp_business_df"
      ],
      "execution_count": 96,
      "outputs": [
        {
          "output_type": "execute_result",
          "data": {
            "text/html": [
              "<div>\n",
              "<style scoped>\n",
              "    .dataframe tbody tr th:only-of-type {\n",
              "        vertical-align: middle;\n",
              "    }\n",
              "\n",
              "    .dataframe tbody tr th {\n",
              "        vertical-align: top;\n",
              "    }\n",
              "\n",
              "    .dataframe thead th {\n",
              "        text-align: right;\n",
              "    }\n",
              "</style>\n",
              "<table border=\"1\" class=\"dataframe\">\n",
              "  <thead>\n",
              "    <tr style=\"text-align: right;\">\n",
              "      <th></th>\n",
              "      <th>business_id</th>\n",
              "      <th>name</th>\n",
              "      <th>neighborhood</th>\n",
              "      <th>address</th>\n",
              "      <th>city</th>\n",
              "      <th>state</th>\n",
              "      <th>postal_code</th>\n",
              "      <th>latitude</th>\n",
              "      <th>longitude</th>\n",
              "      <th>stars</th>\n",
              "      <th>review_count</th>\n",
              "      <th>is_open</th>\n",
              "      <th>categories</th>\n",
              "    </tr>\n",
              "  </thead>\n",
              "  <tbody>\n",
              "    <tr>\n",
              "      <th>0</th>\n",
              "      <td>FYWN1wneV18bWNgQjJ2GNg</td>\n",
              "      <td>\"\"\"Dental by Design\"\"\"</td>\n",
              "      <td>None</td>\n",
              "      <td>\"\"\"4855 E Warner Rd</td>\n",
              "      <td>Ste B9\"\"\"</td>\n",
              "      <td>Ahwatukee</td>\n",
              "      <td>AZ</td>\n",
              "      <td>85044</td>\n",
              "      <td>33.3306902</td>\n",
              "      <td>-111.9785992</td>\n",
              "      <td>4.0</td>\n",
              "      <td>22</td>\n",
              "      <td>1</td>\n",
              "    </tr>\n",
              "    <tr>\n",
              "      <th>1</th>\n",
              "      <td>He-G7vWjzVUysIKrfNbPUQ</td>\n",
              "      <td>\"\"\"Stephen Szabo Salon\"\"\"</td>\n",
              "      <td>None</td>\n",
              "      <td>\"\"\"3101 Washington Rd\"\"\"</td>\n",
              "      <td>McMurray</td>\n",
              "      <td>PA</td>\n",
              "      <td>15317</td>\n",
              "      <td>40.2916853</td>\n",
              "      <td>-80.1048999</td>\n",
              "      <td>3.0</td>\n",
              "      <td>11</td>\n",
              "      <td>1</td>\n",
              "      <td>Hair Stylists;Hair Salons;Men's Hair Salons;Bl...</td>\n",
              "    </tr>\n",
              "    <tr>\n",
              "      <th>2</th>\n",
              "      <td>KQPW8lFf1y5BT2MxiSZ3QA</td>\n",
              "      <td>\"\"\"Western Motor Vehicle\"\"\"</td>\n",
              "      <td>None</td>\n",
              "      <td>\"\"\"6025 N 27th Ave</td>\n",
              "      <td>Ste 1\"\"\"</td>\n",
              "      <td>Phoenix</td>\n",
              "      <td>AZ</td>\n",
              "      <td>85017</td>\n",
              "      <td>33.5249025</td>\n",
              "      <td>-112.1153098</td>\n",
              "      <td>1.5</td>\n",
              "      <td>18</td>\n",
              "      <td>1</td>\n",
              "    </tr>\n",
              "    <tr>\n",
              "      <th>3</th>\n",
              "      <td>8DShNS-LuFqpEWIp0HxijA</td>\n",
              "      <td>\"\"\"Sports Authority\"\"\"</td>\n",
              "      <td>None</td>\n",
              "      <td>\"\"\"5000 Arizona Mills Cr</td>\n",
              "      <td>Ste 435\"\"\"</td>\n",
              "      <td>Tempe</td>\n",
              "      <td>AZ</td>\n",
              "      <td>85282</td>\n",
              "      <td>33.3831468</td>\n",
              "      <td>-111.9647254</td>\n",
              "      <td>3.0</td>\n",
              "      <td>9</td>\n",
              "      <td>0</td>\n",
              "    </tr>\n",
              "    <tr>\n",
              "      <th>4</th>\n",
              "      <td>PfOCPjBrlQAnz__NXj9h_w</td>\n",
              "      <td>\"\"\"Brick House Tavern + Tap\"\"\"</td>\n",
              "      <td>None</td>\n",
              "      <td>\"\"\"581 Howe Ave\"\"\"</td>\n",
              "      <td>Cuyahoga Falls</td>\n",
              "      <td>OH</td>\n",
              "      <td>44221</td>\n",
              "      <td>41.1195346</td>\n",
              "      <td>-81.4756898</td>\n",
              "      <td>3.5</td>\n",
              "      <td>116</td>\n",
              "      <td>1</td>\n",
              "      <td>American (New);Nightlife;Bars;Sandwiches;Ameri...</td>\n",
              "    </tr>\n",
              "    <tr>\n",
              "      <th>...</th>\n",
              "      <td>...</td>\n",
              "      <td>...</td>\n",
              "      <td>...</td>\n",
              "      <td>...</td>\n",
              "      <td>...</td>\n",
              "      <td>...</td>\n",
              "      <td>...</td>\n",
              "      <td>...</td>\n",
              "      <td>...</td>\n",
              "      <td>...</td>\n",
              "      <td>...</td>\n",
              "      <td>...</td>\n",
              "      <td>...</td>\n",
              "    </tr>\n",
              "    <tr>\n",
              "      <th>174562</th>\n",
              "      <td>ALV5R8NkZ1KGOZeuZl3u0A</td>\n",
              "      <td>\"\"\"Whitby Toyota\"\"\"</td>\n",
              "      <td>None</td>\n",
              "      <td>\"\"\"1025 Dundas Street W\"\"\"</td>\n",
              "      <td>Whitby</td>\n",
              "      <td>ON</td>\n",
              "      <td>L1P 1Z1</td>\n",
              "      <td>43.8734599006</td>\n",
              "      <td>-78.9680334729</td>\n",
              "      <td>4.0</td>\n",
              "      <td>4</td>\n",
              "      <td>1</td>\n",
              "      <td>Car Dealers;Automotive</td>\n",
              "    </tr>\n",
              "    <tr>\n",
              "      <th>174563</th>\n",
              "      <td>gRGalHVu6BcaUDIAGVW_xQ</td>\n",
              "      <td>\"\"\"Village Auto Body\"\"\"</td>\n",
              "      <td>None</td>\n",
              "      <td>\"\"\"3957 Brecksville Rd\"\"\"</td>\n",
              "      <td>Richfield</td>\n",
              "      <td>OH</td>\n",
              "      <td>44286</td>\n",
              "      <td>41.243385</td>\n",
              "      <td>-81.636212</td>\n",
              "      <td>5.0</td>\n",
              "      <td>3</td>\n",
              "      <td>1</td>\n",
              "      <td>Body Shops;Automotive</td>\n",
              "    </tr>\n",
              "    <tr>\n",
              "      <th>174564</th>\n",
              "      <td>XXvZBIHoJBU5d6-a-oyMWQ</td>\n",
              "      <td>\"\"\"AAM\"\"\"</td>\n",
              "      <td>None</td>\n",
              "      <td>\"\"\"1600 W Broadway Rd</td>\n",
              "      <td>Ste 200\"\"\"</td>\n",
              "      <td>Tempe</td>\n",
              "      <td>AZ</td>\n",
              "      <td>85282</td>\n",
              "      <td>33.4079141</td>\n",
              "      <td>-111.965098</td>\n",
              "      <td>1.5</td>\n",
              "      <td>19</td>\n",
              "      <td>1</td>\n",
              "    </tr>\n",
              "    <tr>\n",
              "      <th>174565</th>\n",
              "      <td>lNpPGgM96nPIYM1shxciHg</td>\n",
              "      <td>\"\"\"Bronze Beauty Spray Tanning\"\"\"</td>\n",
              "      <td>None</td>\n",
              "      <td>\"\"\"300 Camp Horne Rd</td>\n",
              "      <td>Ste 250\"\"\"</td>\n",
              "      <td>Pittsburgh</td>\n",
              "      <td>PA</td>\n",
              "      <td>15202</td>\n",
              "      <td>40.5177242</td>\n",
              "      <td>-80.0914664</td>\n",
              "      <td>5.0</td>\n",
              "      <td>14</td>\n",
              "      <td>1</td>\n",
              "    </tr>\n",
              "    <tr>\n",
              "      <th>174566</th>\n",
              "      <td>viKaP26BcHU6cLx8sf4gKg</td>\n",
              "      <td>\"\"\"Phoenix Pharmacy\"\"\"</td>\n",
              "      <td>None</td>\n",
              "      <td>\"\"\"1701 East Thomas Rd</td>\n",
              "      <td>Ste 105\"\"\"</td>\n",
              "      <td>Phoenix</td>\n",
              "      <td>AZ</td>\n",
              "      <td>85016</td>\n",
              "      <td>33.4798608958</td>\n",
              "      <td>-112.044689035</td>\n",
              "      <td>5.0</td>\n",
              "      <td>4</td>\n",
              "      <td>1</td>\n",
              "    </tr>\n",
              "  </tbody>\n",
              "</table>\n",
              "<p>174567 rows × 13 columns</p>\n",
              "</div>"
            ],
            "text/plain": [
              "                   business_id  ...                                         categories\n",
              "0       FYWN1wneV18bWNgQjJ2GNg  ...                                                  1\n",
              "1       He-G7vWjzVUysIKrfNbPUQ  ...  Hair Stylists;Hair Salons;Men's Hair Salons;Bl...\n",
              "2       KQPW8lFf1y5BT2MxiSZ3QA  ...                                                  1\n",
              "3       8DShNS-LuFqpEWIp0HxijA  ...                                                  0\n",
              "4       PfOCPjBrlQAnz__NXj9h_w  ...  American (New);Nightlife;Bars;Sandwiches;Ameri...\n",
              "...                        ...  ...                                                ...\n",
              "174562  ALV5R8NkZ1KGOZeuZl3u0A  ...                             Car Dealers;Automotive\n",
              "174563  gRGalHVu6BcaUDIAGVW_xQ  ...                              Body Shops;Automotive\n",
              "174564  XXvZBIHoJBU5d6-a-oyMWQ  ...                                                  1\n",
              "174565  lNpPGgM96nPIYM1shxciHg  ...                                                  1\n",
              "174566  viKaP26BcHU6cLx8sf4gKg  ...                                                  1\n",
              "\n",
              "[174567 rows x 13 columns]"
            ]
          },
          "metadata": {
            "tags": []
          },
          "execution_count": 96
        }
      ]
    },
    {
      "cell_type": "code",
      "metadata": {
        "id": "adEbp1mhqKKR"
      },
      "source": [
        "# TODO: Time the query takes to run in Pandas SQL\n",
        "query = '''\n",
        "SELECT name FROM yelp_business_df WHERE state = 'PA' \n",
        "'''\n",
        "t1 = time.time()\n",
        "yelp_business_df_t = ps.sqldf(query, locals())\n",
        "t1_end = time.time() - t1"
      ],
      "execution_count": 97,
      "outputs": []
    },
    {
      "cell_type": "code",
      "metadata": {
        "id": "Df-qacPRjsny",
        "outputId": "0d3b2909-af74-411e-93b3-b6cfa30fdc7c",
        "colab": {
          "base_uri": "https://localhost:8080/",
          "height": 485
        }
      },
      "source": [
        "# TODO: Time the query takes to run in Spark SQL\n",
        "query2 = '''\n",
        "SELECT name FROM yelp_business WHERE state = 'PA' \n",
        "'''\n",
        "t2 = time.time()\n",
        "yelp_business_sdf_t = spark.sql(query2)\n",
        "yelp_business_sdf_t.show()\n",
        "t2_end = time.time() - t2"
      ],
      "execution_count": 98,
      "outputs": [
        {
          "output_type": "stream",
          "text": [
            "+--------------------+\n",
            "|                name|\n",
            "+--------------------+\n",
            "|\"\"\"Stephen Szabo ...|\n",
            "|\"\"\"Any Given Sund...|\n",
            "|\"\"\"East Coast Cof...|\n",
            "|\"\"\"Complete Denta...|\n",
            "|\"\"\"Carrabba's Ita...|\n",
            "|\"\"\"Enterprise Ren...|\n",
            "|\"\"\"River Moon Caf...|\n",
            "|\"\"\"Crazy Mocha Co...|\n",
            "|\"\"\"Bruegger's Bag...|\n",
            "|         \"\"\"Blush\"\"\"|\n",
            "|      \"\"\"T.W.Tile\"\"\"|\n",
            "|\"\"\"Coraopolis Col...|\n",
            "|\"\"\"Police Station...|\n",
            "|\"\"\"Napoli Pizzeri...|\n",
            "|\"\"\"Sheraton Great...|\n",
            "|        \"\"\"Allure\"\"\"|\n",
            "|\"\"\"Double Take Au...|\n",
            "|\"\"\"Coyle Auto Bod...|\n",
            "|     \"\"\"Pizza Hut\"\"\"|\n",
            "|  \"\"\"Shear Talent\"\"\"|\n",
            "+--------------------+\n",
            "only showing top 20 rows\n",
            "\n"
          ],
          "name": "stdout"
        }
      ]
    },
    {
      "cell_type": "code",
      "metadata": {
        "id": "vABMmUcwl6xS"
      },
      "source": [
        "# TODO: Ratio of time taken in Pandas SQL to time taken in SPark SQL\n",
        "\n",
        "time_ratio = t1_end / t2_end"
      ],
      "execution_count": 99,
      "outputs": []
    },
    {
      "cell_type": "code",
      "metadata": {
        "id": "W5xWd4MJr6sr",
        "outputId": "2b612f41-9cb0-4794-926a-1f3e56631ea6",
        "colab": {
          "base_uri": "https://localhost:8080/",
          "height": 71
        }
      },
      "source": [
        "grader.grade(test_case_id = 'time_check', answer = time_ratio)"
      ],
      "execution_count": 100,
      "outputs": [
        {
          "output_type": "stream",
          "text": [
            "Correct! You earned 3/3 points. You are a star!\n",
            "\n",
            "Your submission has been successfully recorded in the gradebook.\n"
          ],
          "name": "stdout"
        }
      ]
    },
    {
      "cell_type": "markdown",
      "metadata": {
        "id": "v6n8ooy9iIqH"
      },
      "source": [
        "#### 4.2.2 Cities by number of businesses\n",
        "\n",
        "Next, we'll explore which cities have the most restaurants. \n",
        "\n",
        "**TODO:** Find the top 10 cities by number of (Yelp-listed) businesses. This table should include `city`, `state`, and `num_restaurants`, which is the number of restaurants in the city. Convert this sdf to Pandas and submit top10_cities_df to the autograder. Remember to only convert small tables to Pandas!\n",
        "\n",
        "\n",
        "Your table should look something like:\n",
        ">city | state | num_restaurants\n",
        ">--- | --- |--- \n",
        ">city 1 | state 1|  rating 1 | number 1\n",
        ">city 2| state 2| rating 2 | number 2\n",
        "\n",
        "\n"
      ]
    },
    {
      "cell_type": "code",
      "metadata": {
        "id": "y7lPtnowiH5u",
        "outputId": "f653f3c3-78bd-454a-eda8-4959ca309cbb",
        "colab": {
          "base_uri": "https://localhost:8080/",
          "height": 359
        }
      },
      "source": [
        "# TODO: cities by number of businesses\n",
        "# Worth 5 points\n",
        "top_ten_query = '''\n",
        "SELECT  city, COUNT(city) AS num_restaurants , first(state) AS state FROM yelp_business GROUP BY city\n",
        "ORDER BY num_restaurants DESC LIMIT 10\n",
        "'''\n",
        "top10_cities_sdf = spark.sql(top_ten_query)\n",
        "# top10_cities_sdf.show()\n",
        "top10_cities_df = top10_cities_sdf.toPandas()\n",
        "top10_cities_df"
      ],
      "execution_count": 101,
      "outputs": [
        {
          "output_type": "execute_result",
          "data": {
            "text/html": [
              "<div>\n",
              "<style scoped>\n",
              "    .dataframe tbody tr th:only-of-type {\n",
              "        vertical-align: middle;\n",
              "    }\n",
              "\n",
              "    .dataframe tbody tr th {\n",
              "        vertical-align: top;\n",
              "    }\n",
              "\n",
              "    .dataframe thead th {\n",
              "        text-align: right;\n",
              "    }\n",
              "</style>\n",
              "<table border=\"1\" class=\"dataframe\">\n",
              "  <thead>\n",
              "    <tr style=\"text-align: right;\">\n",
              "      <th></th>\n",
              "      <th>city</th>\n",
              "      <th>num_restaurants</th>\n",
              "      <th>state</th>\n",
              "    </tr>\n",
              "  </thead>\n",
              "  <tbody>\n",
              "    <tr>\n",
              "      <th>0</th>\n",
              "      <td>Las Vegas</td>\n",
              "      <td>16112</td>\n",
              "      <td>NV</td>\n",
              "    </tr>\n",
              "    <tr>\n",
              "      <th>1</th>\n",
              "      <td>Toronto</td>\n",
              "      <td>14595</td>\n",
              "      <td>ON</td>\n",
              "    </tr>\n",
              "    <tr>\n",
              "      <th>2</th>\n",
              "      <td>Phoenix</td>\n",
              "      <td>11967</td>\n",
              "      <td>AZ</td>\n",
              "    </tr>\n",
              "    <tr>\n",
              "      <th>3</th>\n",
              "      <td>Charlotte</td>\n",
              "      <td>5986</td>\n",
              "      <td>NC</td>\n",
              "    </tr>\n",
              "    <tr>\n",
              "      <th>4</th>\n",
              "      <td>Pittsburgh</td>\n",
              "      <td>5771</td>\n",
              "      <td>PA</td>\n",
              "    </tr>\n",
              "    <tr>\n",
              "      <th>5</th>\n",
              "      <td>Montréal</td>\n",
              "      <td>5223</td>\n",
              "      <td>QC</td>\n",
              "    </tr>\n",
              "    <tr>\n",
              "      <th>6</th>\n",
              "      <td>Scottsdale</td>\n",
              "      <td>4327</td>\n",
              "      <td>AZ</td>\n",
              "    </tr>\n",
              "    <tr>\n",
              "      <th>7</th>\n",
              "      <td>Mesa</td>\n",
              "      <td>3629</td>\n",
              "      <td>AZ</td>\n",
              "    </tr>\n",
              "    <tr>\n",
              "      <th>8</th>\n",
              "      <td>Edinburgh</td>\n",
              "      <td>3148</td>\n",
              "      <td>MLN</td>\n",
              "    </tr>\n",
              "    <tr>\n",
              "      <th>9</th>\n",
              "      <td>Cleveland</td>\n",
              "      <td>3069</td>\n",
              "      <td>OH</td>\n",
              "    </tr>\n",
              "  </tbody>\n",
              "</table>\n",
              "</div>"
            ],
            "text/plain": [
              "         city  num_restaurants state\n",
              "0   Las Vegas            16112    NV\n",
              "1     Toronto            14595    ON\n",
              "2     Phoenix            11967    AZ\n",
              "3   Charlotte             5986    NC\n",
              "4  Pittsburgh             5771    PA\n",
              "5    Montréal             5223    QC\n",
              "6  Scottsdale             4327    AZ\n",
              "7        Mesa             3629    AZ\n",
              "8   Edinburgh             3148   MLN\n",
              "9   Cleveland             3069    OH"
            ]
          },
          "metadata": {
            "tags": []
          },
          "execution_count": 101
        }
      ]
    },
    {
      "cell_type": "code",
      "metadata": {
        "id": "GRDb7UcThGDE",
        "outputId": "7ca2720f-5da4-4aba-96eb-34af60080bb4",
        "colab": {
          "base_uri": "https://localhost:8080/",
          "height": 71
        }
      },
      "source": [
        "grader.grade(test_case_id = 'top10CitiesCheck', answer = top10_cities_df)"
      ],
      "execution_count": 102,
      "outputs": [
        {
          "output_type": "stream",
          "text": [
            "Correct! You earned 6/6 points. You are a star!\n",
            "\n",
            "Your submission has been successfully recorded in the gradebook.\n"
          ],
          "name": "stdout"
        }
      ]
    },
    {
      "cell_type": "markdown",
      "metadata": {
        "id": "2L8pEamDbeUC"
      },
      "source": [
        "#### 4.2.3 Business ratings across states\n",
        "\n",
        "Next, we'll be looking into how ratings for the same business vary state by state. Throughout this problem, we'll be intersted in the *average rating by business and by state*. \n",
        "\n",
        "**TODO:** For each business, find the states where the business's average rating is below the *maximum of the business's per-state* average rating.  Think about how to factor that into steps!\n",
        "\n",
        "* Compute the average rating for each business name by state. For each business, find the maximum average rating across all states' average ratings. \n",
        "\n",
        "* Then compute an sdf containing the business name, state, avg_rating, and max_avg_rating for businesses in states where that business is *not* most highly rated. Order the output in order of business name, decreasing avg_rating, and increasing state name. \n",
        "\n",
        "Convert the top 100 rows to Pandas and submit `below_avg_states_df` to the autograder.\n",
        "\n",
        "Your table should look something like:\n",
        ">name | state |avg_rating | max_avg_rating\n",
        ">--- | --- |--- | ---\n",
        ">business name 1 | state 1|  rating 1 | maxing rating 1\n",
        ">business name 1 | state 2| rating 2 | maxing rating 1\n",
        ">business name 2 | state 3| rating 3 | maxing rating 2\n"
      ]
    },
    {
      "cell_type": "code",
      "metadata": {
        "id": "AjHxpZTjbVQU"
      },
      "source": [
        "ave_q = '''\n",
        "SELECT y.name, y.state, AVG(y.stars) AS avg_rating FROM yelp_business y \n",
        "GROUP BY name, state \n",
        "'''\n",
        "ave = spark.sql(ave_q)\n",
        "ave.createOrReplaceTempView('ave')\n",
        "\n",
        "max_q = '''\n",
        "SELECT name, MAX(avg_rating) AS max_avg_rating FROM ave GROUP BY name\n",
        "'''\n",
        "max = spark.sql(max_q)\n",
        "max.createOrReplaceTempView('max')"
      ],
      "execution_count": 103,
      "outputs": []
    },
    {
      "cell_type": "code",
      "metadata": {
        "id": "h9lW4U2Fl68S",
        "outputId": "41b868ee-dd2a-4ae3-8356-96f5a45f2806",
        "colab": {
          "base_uri": "https://localhost:8080/",
          "height": 485
        }
      },
      "source": [
        "below_ave_q = '''\n",
        "SELECT a.name, a.state, a.avg_rating, b.max_avg_rating FROM ave a\n",
        "JOIN max b ON a.name = b.name\n",
        "WHERE a.avg_rating < b.max_avg_rating\n",
        "ORDER BY a.name, a.avg_rating DESC, a.state ASC\n",
        "LIMIT 100\n",
        "'''\n",
        "\n",
        "below_ave = spark.sql(below_ave_q)\n",
        "below_ave.show()"
      ],
      "execution_count": 104,
      "outputs": [
        {
          "output_type": "stream",
          "text": [
            "+--------------------+--------------+------------------+--------------+\n",
            "|                name|         state|        avg_rating|max_avg_rating|\n",
            "+--------------------+--------------+------------------+--------------+\n",
            "|     \"\"\"007 Nails\"\"\"|       Madison|       -89.3089837|           4.0|\n",
            "| \"\"\"1-800-Flowers\"\"\"|      Chandler|      -111.8579703|           1.5|\n",
            "|\"\"\"1-800-PACK-RAT\"\"\"|            NV|               3.0|           4.0|\n",
            "|\"\"\"1-800-PACK-RAT\"\"\"|     Charlotte|       -80.9788992|           4.0|\n",
            "|\"\"\"1-800-PACK-RAT\"\"\"|       Phoenix|       -112.124813|           4.0|\n",
            "|\"\"\"180 Smoke Vape...|       Toronto|      -79.47104285|           2.5|\n",
            "|\"\"\"2 Gals Kitchen\"\"\"|       Concord|    -80.5904935265|           4.5|\n",
            "|     \"\"\"20 Lounge\"\"\"|    Scottsdale|    -111.924063675|     33.539848|\n",
            "|\"\"\"20/20 Image Ey...|Fountain Hills|      -111.7208984|           3.0|\n",
            "|\"\"\"20/20 Image Ey...|    Scottsdale|      -111.8800402|           3.0|\n",
            "|\"\"\"20/20 Image Ey...|      Chandler|    -111.909484863|           3.0|\n",
            "|\"\"\"20/20 Image Ey...|      Glendale|    -112.201180458|           3.0|\n",
            "|\"\"\"21st Century F...|      Glendale|       -112.182589|   -112.100194|\n",
            "|\"\"\"24 Carrots Jui...|      Chandler|      -111.9471779|           4.0|\n",
            "|\"\"\"24 Hour Fitnes...|            AZ|3.1818181818181817|           3.3|\n",
            "|\"\"\"2nd Wind Exerc...|            AZ|               4.0|           5.0|\n",
            "|\"\"\"2nd Wind Exerc...|    Scottsdale|      -111.9246735|           5.0|\n",
            "|\"\"\"3 Tomatoes & A...|        Peoria|      -112.2369046|           2.5|\n",
            "|   \"\"\"305 Kustoms\"\"\"|     Las Vegas|      -115.2440597|           5.0|\n",
            "|\"\"\"360 Physical T...|          Mesa|       -111.742062|           3.5|\n",
            "+--------------------+--------------+------------------+--------------+\n",
            "only showing top 20 rows\n",
            "\n"
          ],
          "name": "stdout"
        }
      ]
    },
    {
      "cell_type": "code",
      "metadata": {
        "id": "8X8U1EQebds6"
      },
      "source": [
        "below_avg_states_df = below_ave.toPandas()"
      ],
      "execution_count": 105,
      "outputs": []
    },
    {
      "cell_type": "code",
      "metadata": {
        "id": "vcvF1Z6fnyUu",
        "outputId": "3604fd88-94a7-4aea-a630-3d3024070732",
        "colab": {
          "base_uri": "https://localhost:8080/",
          "height": 419
        }
      },
      "source": [
        "below_avg_states_df"
      ],
      "execution_count": 106,
      "outputs": [
        {
          "output_type": "execute_result",
          "data": {
            "text/html": [
              "<div>\n",
              "<style scoped>\n",
              "    .dataframe tbody tr th:only-of-type {\n",
              "        vertical-align: middle;\n",
              "    }\n",
              "\n",
              "    .dataframe tbody tr th {\n",
              "        vertical-align: top;\n",
              "    }\n",
              "\n",
              "    .dataframe thead th {\n",
              "        text-align: right;\n",
              "    }\n",
              "</style>\n",
              "<table border=\"1\" class=\"dataframe\">\n",
              "  <thead>\n",
              "    <tr style=\"text-align: right;\">\n",
              "      <th></th>\n",
              "      <th>name</th>\n",
              "      <th>state</th>\n",
              "      <th>avg_rating</th>\n",
              "      <th>max_avg_rating</th>\n",
              "    </tr>\n",
              "  </thead>\n",
              "  <tbody>\n",
              "    <tr>\n",
              "      <th>0</th>\n",
              "      <td>\"\"\"007 Nails\"\"\"</td>\n",
              "      <td>Madison</td>\n",
              "      <td>-89.308984</td>\n",
              "      <td>4.000000</td>\n",
              "    </tr>\n",
              "    <tr>\n",
              "      <th>1</th>\n",
              "      <td>\"\"\"1-800-Flowers\"\"\"</td>\n",
              "      <td>Chandler</td>\n",
              "      <td>-111.857970</td>\n",
              "      <td>1.500000</td>\n",
              "    </tr>\n",
              "    <tr>\n",
              "      <th>2</th>\n",
              "      <td>\"\"\"1-800-PACK-RAT\"\"\"</td>\n",
              "      <td>NV</td>\n",
              "      <td>3.000000</td>\n",
              "      <td>4.000000</td>\n",
              "    </tr>\n",
              "    <tr>\n",
              "      <th>3</th>\n",
              "      <td>\"\"\"1-800-PACK-RAT\"\"\"</td>\n",
              "      <td>Charlotte</td>\n",
              "      <td>-80.978899</td>\n",
              "      <td>4.000000</td>\n",
              "    </tr>\n",
              "    <tr>\n",
              "      <th>4</th>\n",
              "      <td>\"\"\"1-800-PACK-RAT\"\"\"</td>\n",
              "      <td>Phoenix</td>\n",
              "      <td>-112.124813</td>\n",
              "      <td>4.000000</td>\n",
              "    </tr>\n",
              "    <tr>\n",
              "      <th>...</th>\n",
              "      <td>...</td>\n",
              "      <td>...</td>\n",
              "      <td>...</td>\n",
              "      <td>...</td>\n",
              "    </tr>\n",
              "    <tr>\n",
              "      <th>95</th>\n",
              "      <td>\"\"\"APCO - Appliance Parts Company\"\"\"</td>\n",
              "      <td>Avondale</td>\n",
              "      <td>-112.300839</td>\n",
              "      <td>3.000000</td>\n",
              "    </tr>\n",
              "    <tr>\n",
              "      <th>96</th>\n",
              "      <td>\"\"\"AQ Nails Design Studio\"\"\"</td>\n",
              "      <td>Markham</td>\n",
              "      <td>-79.326930</td>\n",
              "      <td>-79.303354</td>\n",
              "    </tr>\n",
              "    <tr>\n",
              "      <th>97</th>\n",
              "      <td>\"\"\"ARC Document Solutions\"\"\"</td>\n",
              "      <td>AZ</td>\n",
              "      <td>3.500000</td>\n",
              "      <td>5.000000</td>\n",
              "    </tr>\n",
              "    <tr>\n",
              "      <th>98</th>\n",
              "      <td>\"\"\"ASAP Serve\"\"\"</td>\n",
              "      <td>Chandler</td>\n",
              "      <td>-111.857145</td>\n",
              "      <td>-111.822610</td>\n",
              "    </tr>\n",
              "    <tr>\n",
              "      <th>99</th>\n",
              "      <td>\"\"\"ASICS Outlet\"\"\"</td>\n",
              "      <td>Chandler</td>\n",
              "      <td>-111.973514</td>\n",
              "      <td>-80.971493</td>\n",
              "    </tr>\n",
              "  </tbody>\n",
              "</table>\n",
              "<p>100 rows × 4 columns</p>\n",
              "</div>"
            ],
            "text/plain": [
              "                                    name      state  avg_rating  max_avg_rating\n",
              "0                        \"\"\"007 Nails\"\"\"    Madison  -89.308984        4.000000\n",
              "1                    \"\"\"1-800-Flowers\"\"\"   Chandler -111.857970        1.500000\n",
              "2                   \"\"\"1-800-PACK-RAT\"\"\"         NV    3.000000        4.000000\n",
              "3                   \"\"\"1-800-PACK-RAT\"\"\"  Charlotte  -80.978899        4.000000\n",
              "4                   \"\"\"1-800-PACK-RAT\"\"\"    Phoenix -112.124813        4.000000\n",
              "..                                   ...        ...         ...             ...\n",
              "95  \"\"\"APCO - Appliance Parts Company\"\"\"   Avondale -112.300839        3.000000\n",
              "96          \"\"\"AQ Nails Design Studio\"\"\"    Markham  -79.326930      -79.303354\n",
              "97          \"\"\"ARC Document Solutions\"\"\"         AZ    3.500000        5.000000\n",
              "98                      \"\"\"ASAP Serve\"\"\"   Chandler -111.857145     -111.822610\n",
              "99                    \"\"\"ASICS Outlet\"\"\"   Chandler -111.973514      -80.971493\n",
              "\n",
              "[100 rows x 4 columns]"
            ]
          },
          "metadata": {
            "tags": []
          },
          "execution_count": 106
        }
      ]
    },
    {
      "cell_type": "code",
      "metadata": {
        "id": "tpoocHBtfyrB",
        "outputId": "1773c238-333b-4fd2-d1ac-9aca52e1e47a",
        "colab": {
          "base_uri": "https://localhost:8080/",
          "height": 71
        }
      },
      "source": [
        "grader.grade(test_case_id = 'check_by_state_rating', answer = below_avg_states_df)"
      ],
      "execution_count": 107,
      "outputs": [
        {
          "output_type": "stream",
          "text": [
            "Correct! You earned 9/9 points. You are a star!\n",
            "\n",
            "Your submission has been successfully recorded in the gradebook.\n"
          ],
          "name": "stdout"
        }
      ]
    },
    {
      "cell_type": "markdown",
      "metadata": {
        "id": "7auunIQG7hi2"
      },
      "source": [
        "###4.3 Format Yelp Data as a Graph\n",
        "\n",
        "\n",
        "The Yelp data you've been working with can be thought of as graph data. Recall that a graph is made up of a set of verticies that are connected by edges. Within the context of our data, we can think of the users/businesses as nodes. Edges would then represent a review by a user for a business.\n",
        "\n",
        "With this in mind, we now want to reformat the yelp_reviews dataset to look more like a graph. \n",
        "\n",
        "**TODO:** Use Spark SQL to rename the user_id column of yelp_reviews data to from_node and rename the business_id column to to_node. Filter to rows where both the user_id and business_id are not null.  Create a temporary view with this table.\n",
        "\n",
        "Your table should look something like:\n",
        ">from_node | to_node | score\n",
        ">--- | --- | ---\n",
        ">user id 1 | business id 1 | stars 1\n",
        ">user id 2 | business id 2 | stars 2\n",
        "\n"
      ]
    },
    {
      "cell_type": "code",
      "metadata": {
        "id": "VQQcIDBWogZd",
        "outputId": "2c57c057-b6e5-4d52-995a-9ab7558d2fe6",
        "colab": {
          "base_uri": "https://localhost:8080/",
          "height": 485
        }
      },
      "source": [
        "yelp_reviews_sdf.show()"
      ],
      "execution_count": 108,
      "outputs": [
        {
          "output_type": "stream",
          "text": [
            "+--------------------+--------------------+--------------------+-----+----------+--------------------+------+-----+----+\n",
            "|           review_id|             user_id|         business_id|stars|      date|                text|useful|funny|cool|\n",
            "+--------------------+--------------------+--------------------+-----+----------+--------------------+------+-----+----+\n",
            "|vkVSCC7xljjrAI4UG...|bv2nCi5Qv5vroFiqK...|AEx2SYEUJmTxVVB18...|    5|2016-05-28|Super simple plac...|     0|    0|   0|\n",
            "|n6QzIUObkYshz4dz2...|bv2nCi5Qv5vroFiqK...|VR6GpWIda3SfvPC-l...|    5|2016-05-28|Small unassuming ...|     0|    0|   0|\n",
            "|MV3CcKScW05u5LVfF...|bv2nCi5Qv5vroFiqK...|CKC0-MOWMqoeWf6s-...|    5|2016-05-28|Lester's is locat...|     0|    0|   0|\n",
            "|IXvOzsEMYtiJI0CAR...|bv2nCi5Qv5vroFiqK...|ACFtxLv8pGrrxMm6E...|    4|2016-05-28|Love coming here....|     0|    0|   0|\n",
            "|L_9BTb55X0GDtThi6...|bv2nCi5Qv5vroFiqK...|s2I_Ni76bjJNK9yG6...|    4|2016-05-28|Had their chocola...|     0|    0|   0|\n",
            "|HRPm3vEZ_F-33TYVT...|_4iMDXbXZ1p1ONG29...|8QWPlVQ6D-OExqXoa...|    5|2014-09-24|Cycle Pub Las Veg...|     1|    0|   0|\n",
            "|ymAUG8DZfQcFTBSOi...|u0LXt3Uea_GidxRW1...|9_CGhHMz8698M9-Pk...|    4|2012-05-11|Who would have gu...|     0|    0|   2|\n",
            "|8UIishPUD92hXtScS...|u0LXt3Uea_GidxRW1...|gkCorLgPyQLsptTHa...|    4|2015-10-27|Always drove past...|     1|    0|   0|\n",
            "|w41ZS9shepfO3uEyh...|u0LXt3Uea_GidxRW1...|5r6-G9C4YLbC7Ziz5...|    3|2013-02-09|Not bad!! Love th...|     1|    0|   0|\n",
            "|WF_QTN3p-thD74hqp...|u0LXt3Uea_GidxRW1...|fDF_o2JPU8BR1Gya-...|    5|2016-04-06|Love this place! ...|     3|    0|   0|\n",
            "|PIsUSmvaUWB00qv5K...|u0LXt3Uea_GidxRW1...|z8oIoCT1cXz7gZP5G...|    4|2013-05-01|This is currently...|     1|    0|   0|\n",
            "|PdZ_uFjbbkjtm3SCY...|u0LXt3Uea_GidxRW1...|XWTPNfskXoUL-Lf32...|    3|2011-09-28|Server was a litt...|     5|    0|   1|\n",
            "|x5oV6wm9_Pb1QQ6jk...|u0LXt3Uea_GidxRW1...|13nKUHH-uEUXVZylg...|    1|2011-02-16|I thought Tidy's ...|     9|    0|   1|\n",
            "|lsoSqIrrDbQvWpMvs...|u0LXt3Uea_GidxRW1...|RtUvSWO_UZ8V3Wpj0...|    3|2012-12-03|Wanted to check o...|     2|    1|   1|\n",
            "|23eqwlZzCWZkADWfd...|u0LXt3Uea_GidxRW1...|Aov96CM4FZAXeZvKt...|    5|2010-07-16|This place is awe...|     2|    0|   1|\n",
            "|FunI9om-aK5oMIIJm...|u0LXt3Uea_GidxRW1...|0W4lkclzZThpx3V65...|    4|2011-09-28|a must stop when ...|     0|    0|   0|\n",
            "|FKu4iU62EmWT6GZXP...|u0LXt3Uea_GidxRW1...|fdnNZMk1NP7ZhL-YM...|    1|2012-10-23|I too have been t...|     0|    0|   0|\n",
            "|xdu8nXrbNKeaywCX7...|u0LXt3Uea_GidxRW1...|PFPUMF38-lraKzLcT...|    3|2010-09-15|Came here with my...|     2|    0|   0|\n",
            "|K7o5jDInfmX3cY5oH...|u0LXt3Uea_GidxRW1...|oWTn2IzrprsRkPfUL...|    3|2012-09-23|Came here for a b...|     4|    0|   0|\n",
            "|WYDFJOBOl7cycd7gN...|u0LXt3Uea_GidxRW1...|zgQHtqX0gqMw1nlBZ...|    1|2012-10-30|really excited to...|     9|    2|   1|\n",
            "+--------------------+--------------------+--------------------+-----+----------+--------------------+------+-----+----+\n",
            "only showing top 20 rows\n",
            "\n"
          ],
          "name": "stdout"
        }
      ]
    },
    {
      "cell_type": "code",
      "metadata": {
        "id": "-JlSq4FCbbCh"
      },
      "source": [
        "review_q = '''\n",
        "SELECT user_id AS from_node, business_id AS to_node, stars FROM yelp_reviews\n",
        "WHERE user_id IS NOT NULL AND business_id IS NOT NULL\n",
        "'''\n",
        "\n",
        "review_graph_sdf = spark.sql(review_q)\n",
        "review_graph_sdf.createOrReplaceTempView('review_graph')"
      ],
      "execution_count": 109,
      "outputs": []
    },
    {
      "cell_type": "code",
      "metadata": {
        "id": "36o1clK3jwzY",
        "outputId": "a60bdae4-1eea-4504-83db-2fd1752e530b",
        "colab": {
          "base_uri": "https://localhost:8080/",
          "height": 305
        }
      },
      "source": [
        "review_graph_sdf.show(10)"
      ],
      "execution_count": 110,
      "outputs": [
        {
          "output_type": "stream",
          "text": [
            "+--------------------+--------------------+-----+\n",
            "|           from_node|             to_node|stars|\n",
            "+--------------------+--------------------+-----+\n",
            "|bv2nCi5Qv5vroFiqK...|AEx2SYEUJmTxVVB18...|    5|\n",
            "|bv2nCi5Qv5vroFiqK...|VR6GpWIda3SfvPC-l...|    5|\n",
            "|bv2nCi5Qv5vroFiqK...|CKC0-MOWMqoeWf6s-...|    5|\n",
            "|bv2nCi5Qv5vroFiqK...|ACFtxLv8pGrrxMm6E...|    4|\n",
            "|bv2nCi5Qv5vroFiqK...|s2I_Ni76bjJNK9yG6...|    4|\n",
            "|_4iMDXbXZ1p1ONG29...|8QWPlVQ6D-OExqXoa...|    5|\n",
            "|u0LXt3Uea_GidxRW1...|9_CGhHMz8698M9-Pk...|    4|\n",
            "|u0LXt3Uea_GidxRW1...|gkCorLgPyQLsptTHa...|    4|\n",
            "|u0LXt3Uea_GidxRW1...|5r6-G9C4YLbC7Ziz5...|    3|\n",
            "|u0LXt3Uea_GidxRW1...|fDF_o2JPU8BR1Gya-...|    5|\n",
            "+--------------------+--------------------+-----+\n",
            "only showing top 10 rows\n",
            "\n"
          ],
          "name": "stdout"
        }
      ]
    },
    {
      "cell_type": "markdown",
      "metadata": {
        "id": "5Qz2_SEHYztC"
      },
      "source": [
        "**TODO:** Once you've made your graph and created a temporary view, use Spark SQL to filter to the rows in the graph that contain the sequence \"abc\" anywhere in the from_node. Convert this subset to a Pandas dataframe called named `review_graph_abc`  and submit this to the autograder.\n",
        "\n",
        "HINT: Look into the LIKE keyword and wildcards in SQL. \n",
        "\n",
        "\n"
      ]
    },
    {
      "cell_type": "code",
      "metadata": {
        "id": "5xWBs7KXW9Bo"
      },
      "source": [
        "review_graph_abc_sdf = spark.sql('SELECT * FROM review_graph WHERE from_node LIKE \"%abc%\" ')\n",
        "review_graph_abc = review_graph_abc_sdf.toPandas()"
      ],
      "execution_count": 111,
      "outputs": []
    },
    {
      "cell_type": "code",
      "metadata": {
        "id": "joCY97gtaiJi",
        "outputId": "e318bc76-9095-4d89-8d04-f023ade78d2f",
        "colab": {
          "base_uri": "https://localhost:8080/",
          "height": 71
        }
      },
      "source": [
        "# Add test case for making graph\n",
        "grader.grade(test_case_id = 'reviewGraphCheck', answer = review_graph_abc)"
      ],
      "execution_count": 112,
      "outputs": [
        {
          "output_type": "stream",
          "text": [
            "Correct! You earned 5/5 points. You are a star!\n",
            "\n",
            "Your submission has been successfully recorded in the gradebook.\n"
          ],
          "name": "stdout"
        }
      ]
    },
    {
      "cell_type": "markdown",
      "metadata": {
        "id": "zA84jsFau2Ls"
      },
      "source": [
        "\n",
        "## Part 5. “Traversing” a Graph [21 points total]\n",
        "\n",
        "For our next tasks, we will be “walking” the graph and making connections.\n",
        "\n"
      ]
    },
    {
      "cell_type": "markdown",
      "metadata": {
        "id": "PrftJPvUiY59"
      },
      "source": [
        "\n",
        "### 5.1 Intro to Distributed Breadth-First Search\n",
        "\n",
        "\n",
        "Now that we have created our graph, we will be implementing a graph traversal algorithm known as Breadth First Search. It works in a way that's equivalent to how a stain spreads on a white t-shirt. Take a look at the graph below:\n",
        "\n",
        "<p align = \"center\">\n",
        "<img src = \"https://imgur.com/WU3AUwg.png\" width= \"600\" align =\"center\"/>\n",
        "\n",
        "* Consider starting BFS from point A (green). This is considered the starting frontier/singular origin node.\n",
        "* The first round of BFS would involve finding all the nodes directly reachable from A, namely B-F (blue circles). These blue nodes make up the next frontier at depth 1 away from our starting node A.\n",
        "* The second round would then be identifying the red nodes which are the neighbors of the blue nodes. Now, the red nodes all belong to a frontier 2 depth away from A.\n",
        "\n",
        "This process continues until all the nodes in the graph have been visited. \n",
        "\n",
        "\n",
        "If you would like to learn more about BFS, I highly suggest looking [here](https://www.tutorialspoint.com/data_structures_algorithms/breadth_first_traversal.html).\n",
        "\n",
        "\n",
        "We will now be implementing **spark_bfs(G, N, d)**, our spark flavor of BFS that takes a graph **G**, a set of origin nodes **N**, and a max depth **d**.\n",
        "\n",
        "In order to write a successful BFS function, you are going to need to figure out \n",
        "1. how to keep track of nodes that we have visited\n",
        "2. how to properly find all the nodes at the next depth\n",
        "3. how to avoid cycles and ensure that we do not constantly loop through the same edges (take a look at J-K in the graph)\n"
      ]
    },
    {
      "cell_type": "markdown",
      "metadata": {
        "id": "sG8yQrCLjegX"
      },
      "source": [
        "### 5.2 Implement one Traversal\n",
        "\n",
        "To break down this process, let's think about how we would implement a single traversal of the graph. That is given the green node in the graph above, how are we going to get the blue nodes?\n",
        "\n",
        "\n",
        "Consider the simple graph below **which is different from the graph in the image above**:"
      ]
    },
    {
      "cell_type": "code",
      "metadata": {
        "id": "7uQoYThcBSdZ",
        "outputId": "785b7cab-31ad-4a31-9085-81479c5bdd17",
        "colab": {
          "base_uri": "https://localhost:8080/",
          "height": 251
        }
      },
      "source": [
        "simple = [('A', 'B'),\n",
        "         ('A', 'C'),\n",
        "         ('A', 'D'),\n",
        "         ('C', 'F'),\n",
        "         ('F', 'A'),\n",
        "         ('B', 'G'),\n",
        "         ('G', 'H'),\n",
        "         ('D', 'E')]\n",
        "simple_dict = {'from_node': ['A', 'A', 'A', 'C', 'F', 'B', 'G', 'D'],\n",
        "       'to_node': ['B', 'C', 'D', 'F', 'A', 'G', 'H', 'E']}\n",
        "simple_graph_df = pd.DataFrame.from_dict(simple_dict)\n",
        "simple_graph_sdf = spark.createDataFrame(simple_graph_df)\n",
        "simple_graph_sdf.show()"
      ],
      "execution_count": 113,
      "outputs": [
        {
          "output_type": "stream",
          "text": [
            "+---------+-------+\n",
            "|from_node|to_node|\n",
            "+---------+-------+\n",
            "|        A|      B|\n",
            "|        A|      C|\n",
            "|        A|      D|\n",
            "|        C|      F|\n",
            "|        F|      A|\n",
            "|        B|      G|\n",
            "|        G|      H|\n",
            "|        D|      E|\n",
            "+---------+-------+\n",
            "\n"
          ],
          "name": "stdout"
        }
      ]
    },
    {
      "cell_type": "markdown",
      "metadata": {
        "id": "HHRMuWzgqykO"
      },
      "source": [
        "As you can see, each row of this dataframe represents an edge between two nodes Although the nodes are labeled \"from\" and \"to\", the edges are actually undirected, meaning that A-->B represents the same edge as B-->A.\n",
        "\n",
        "Let's define our starting node as follows:"
      ]
    },
    {
      "cell_type": "code",
      "metadata": {
        "id": "Qcs0x5KaJi_B"
      },
      "source": [
        "smallOrig = [{'node': 'A'}]"
      ],
      "execution_count": 114,
      "outputs": []
    },
    {
      "cell_type": "markdown",
      "metadata": {
        "id": "KAhTWrTrvJRJ"
      },
      "source": [
        "Then, bfs with graph G, starting from smallOrig to depth 1, or  **spark_bfs(G, smallOrig, 1)** would output as follows:"
      ]
    },
    {
      "cell_type": "code",
      "metadata": {
        "id": "fGq2lYQKvJ0S",
        "outputId": "eb9019a0-e56a-4be3-b64c-48a2093e5086",
        "colab": {
          "base_uri": "https://localhost:8080/",
          "height": 197
        }
      },
      "source": [
        "simple_1_round_dict = {'node': ['F', 'B', 'D', 'C', 'A'],\n",
        "       'distance': [1, 1, 1, 1, 0]}\n",
        "simple_1_round_bfs_df = pd.DataFrame.from_dict(simple_1_round_dict)\n",
        "simple_1_round_bfs_sdf = spark.createDataFrame(simple_1_round_bfs_df)\n",
        "simple_1_round_bfs_sdf.show()"
      ],
      "execution_count": 115,
      "outputs": [
        {
          "output_type": "stream",
          "text": [
            "+----+--------+\n",
            "|node|distance|\n",
            "+----+--------+\n",
            "|   F|       1|\n",
            "|   B|       1|\n",
            "|   D|       1|\n",
            "|   C|       1|\n",
            "|   A|       0|\n",
            "+----+--------+\n",
            "\n"
          ],
          "name": "stdout"
        }
      ]
    },
    {
      "cell_type": "markdown",
      "metadata": {
        "id": "kjF7XBz9vcDD"
      },
      "source": [
        "As you can see, this dataframe logs each node with its corresponding distance away from A. Moreover, we also know that these nodes are **visited**. \n",
        "\n",
        "Hopefully, you can see how we can use our original graph and this new information to find the nodes at depth two. \n",
        "\n",
        "This is exactly what we will try to accomplish with **spark_bfs_1_round(visited_nodes)** which will ultimately be the inner function of **spark_bfs** that we use to perform exactly one traversal of a graph.\n",
        "\n",
        "**TODO**: Write **spark_bfs_1_round(visted_nodes)** that takes the currently dataframe of visited_nodes, performs one round of BFS, and returns an updated visited nodes dataframe. You should assume that a temporary sdf G already exists."
      ]
    },
    {
      "cell_type": "code",
      "metadata": {
        "id": "7Yz3Gz5FAtrW"
      },
      "source": [
        "def spark_bfs_1_round(visited_nodes):\n",
        "  \"\"\"\n",
        "  :param visited_nodes: dataframe with columns node and distance\n",
        "  :return: dataframe of updated visuted nodes, with columns node and distance\n",
        "  \"\"\"\n",
        "  \n",
        "  #TODO\n",
        "  visited_nodes.createOrReplaceTempView('visited')\n",
        "  new = spark.sql('''\n",
        "  SELECT G.to_node AS node FROM G \n",
        "  JOIN visited v1 ON G.from_node = v1.node\n",
        "  ''')\n",
        "  new.createOrReplaceTempView('new')\n",
        "  new2 = spark.sql('''\n",
        "  SELECT G.from_node AS node FROM G \n",
        "  JOIN visited v1 ON G.to_node = v1.node\n",
        "  ''')\n",
        "  new2.createOrReplaceTempView('new2')\n",
        "  more = new.union(new2).drop_duplicates()\n",
        "  more = more.union(visited_nodes.select('node')).drop_duplicates()\n",
        "  max = visited_nodes.agg({'distance':'max'}).collect()[0]\n",
        "  max = max['max(distance)']\n",
        "  more.createOrReplaceTempView('more')\n",
        "  more = spark.sql('SELECT more.node, v.distance FROM more LEFT JOIN visited v ON v.node=more.node')\n",
        "  more = more.fillna(max+1)\n",
        "  after = more.orderBy('node')\n",
        "  return after"
      ],
      "execution_count": 326,
      "outputs": []
    },
    {
      "cell_type": "code",
      "metadata": {
        "id": "qyzCwY-QLcf9"
      },
      "source": [
        "schema = StructType([StructField(\"node\", StringType(), True),StructField(\"distance\", IntegerType(), True) ])\n",
        "visited_nodes = spark.createDataFrame(smallOrig,schema)\n",
        "visited_nodes.createOrReplaceTempView('visited')\n",
        "new = spark.sql('''\n",
        "SELECT G.to_node AS node FROM G \n",
        "JOIN visited v1 ON G.from_node = v1.node\n",
        "''')\n",
        "new.createOrReplaceTempView('new')\n",
        "new2 = spark.sql('''\n",
        "SELECT G.from_node AS node FROM G \n",
        "JOIN visited v1 ON G.to_node = v1.node\n",
        "''')\n",
        "new2.createOrReplaceTempView('new2')\n",
        "more = new.union(new2).drop_duplicates()\n",
        "more = more.union(visited_nodes.select('node')).drop_duplicates()\n",
        "max = visited_nodes.agg({'distance':'max'}).collect()[0]\n",
        "max = max['max(distance)']\n",
        "more.createOrReplaceTempView('more')\n",
        "more = spark.sql('SELECT more.node, v.distance FROM more LEFT JOIN visited v ON v.node=more.node')\n",
        "more = more.fillna(max+1)\n",
        "after = more.orderBy('node')"
      ],
      "execution_count": 323,
      "outputs": []
    },
    {
      "cell_type": "code",
      "metadata": {
        "id": "dqSqX7vkL-1D",
        "outputId": "8a8190fb-c36a-4874-b7c2-21799fffaa19",
        "colab": {
          "base_uri": "https://localhost:8080/",
          "height": 449
        }
      },
      "source": [
        "new.show()\n",
        "new2.show()\n",
        "after.show()"
      ],
      "execution_count": 325,
      "outputs": [
        {
          "output_type": "stream",
          "text": [
            "+----+\n",
            "|node|\n",
            "+----+\n",
            "|   B|\n",
            "|   C|\n",
            "|   D|\n",
            "+----+\n",
            "\n",
            "+----+\n",
            "|node|\n",
            "+----+\n",
            "|   F|\n",
            "+----+\n",
            "\n",
            "+----+--------+\n",
            "|node|distance|\n",
            "+----+--------+\n",
            "|   A|       0|\n",
            "|   B|       1|\n",
            "|   C|       1|\n",
            "|   D|       1|\n",
            "|   F|       1|\n",
            "+----+--------+\n",
            "\n"
          ],
          "name": "stdout"
        }
      ]
    },
    {
      "cell_type": "markdown",
      "metadata": {
        "id": "4Z1LRfM4NMvV"
      },
      "source": [
        "Now, run the inner function on **simple_1_round_bfs_sdf** result of 1 round of BFS on simple graph and store the results in **simple_bfs_result**. This is ultimately what the output of BFS to depth 2 should look like."
      ]
    },
    {
      "cell_type": "code",
      "metadata": {
        "id": "fDboxYrZKH-l",
        "outputId": "d66c0fa0-c07a-44b9-9146-2320adaec8c0",
        "colab": {
          "base_uri": "https://localhost:8080/",
          "height": 233
        }
      },
      "source": [
        "simple_graph_sdf.createOrReplaceTempView('G')\n",
        "simple_bfs_result = spark_bfs_1_round(simple_1_round_bfs_sdf)\n",
        "simple_bfs_result.show()"
      ],
      "execution_count": 293,
      "outputs": [
        {
          "output_type": "stream",
          "text": [
            "+----+--------+\n",
            "|node|distance|\n",
            "+----+--------+\n",
            "|   A|       0|\n",
            "|   B|       1|\n",
            "|   C|       1|\n",
            "|   D|       1|\n",
            "|   E|       2|\n",
            "|   F|       1|\n",
            "|   G|       2|\n",
            "+----+--------+\n",
            "\n"
          ],
          "name": "stdout"
        }
      ]
    },
    {
      "cell_type": "markdown",
      "metadata": {
        "id": "WD82GqyJNWGu"
      },
      "source": [
        "Convert this result to Pandas, sorted by the node, and submit it to the autograder."
      ]
    },
    {
      "cell_type": "code",
      "metadata": {
        "id": "5_vnk78_K9B1"
      },
      "source": [
        "simple_bfs_test = simple_bfs_result.toPandas()"
      ],
      "execution_count": 294,
      "outputs": []
    },
    {
      "cell_type": "code",
      "metadata": {
        "id": "HKcVOdEdLOXZ",
        "outputId": "86ebb8e1-85e2-49b4-b249-bafb633dade7",
        "colab": {
          "base_uri": "https://localhost:8080/",
          "height": 71
        }
      },
      "source": [
        "grader.grade(test_case_id = 'checksimpleBFS', answer = simple_bfs_test)"
      ],
      "execution_count": 295,
      "outputs": [
        {
          "output_type": "stream",
          "text": [
            "Correct! You earned 6/6 points. You are a star!\n",
            "\n",
            "Your submission has been successfully recorded in the gradebook.\n"
          ],
          "name": "stdout"
        }
      ]
    },
    {
      "cell_type": "markdown",
      "metadata": {
        "id": "ZOnnxL65yssC"
      },
      "source": [
        "### 5.3 Full BFS Implemntation\n",
        "\n",
        "Now, we will fully implement **spark_bfs**. This function should iteratively call your implemented version of **spark_bfs_1_round** and ultimately return the output of this function at **max_depth**.\n",
        "\n",
        "You are also responsible for initializing the starting dataframe, that is converting the list of origin nodes into a spark dataframe with the nodes logged at distance 0.\n",
        "\n",
        "Consider the following: \n",
        "\n",
        "```\n",
        "schema = StructType([\n",
        "            StructField(\"node\", StringType(), True)\n",
        "        ])\n",
        "\n",
        "    my_sdf = spark.createDataFrame(origins, schema)\n",
        "```\n",
        "\n",
        "The schema ultimately specifies the structure of the Spark DataFrame with a string `node` column. It then calls **spark.createDataFrame** to map this schema to the **origins** nodes. Also, you are responsible for ensuring that a view of your graph is available within this function. (Note: you will also need to add in a distance column)\n",
        "\n",
        "**TODO:** implement **spark_bfs(G,origins,max_depth)** and run on **review_graph_sdf** initalized in 4.3. Note: you may want to run tests on the **simple_graph** example as the `review_graph_sdf` will take quite some time to run."
      ]
    },
    {
      "cell_type": "code",
      "metadata": {
        "id": "wXkRvJXKiVum"
      },
      "source": [
        "# TODO: iterative search over undirected graph\n",
        "# Worth 5 points directly, but will be needed later\n",
        "\n",
        "def spark_bfs(G, origins, max_depth):\n",
        "  \"\"\" runs distributed BFS to a specified max depth\n",
        "\n",
        "  :param G: graph dataframe from 4.3\n",
        "  :param origins: list of origin nodes stored as {\"node\": nodeValue}\n",
        "  :param max_depth: integer value of max depth to run BFS to\n",
        "  :return: dataframe with columns node, distance of all visited nodes\n",
        "  \"\"\"\n",
        "\n",
        "  #TODO \n",
        "  schema = StructType([StructField(\"node\", StringType(), True),StructField(\"distance\", IntegerType(), True) ])\n",
        "  for node in origins:\n",
        "    node['distance'] = 0\n",
        "  my_sdf = spark.createDataFrame(origins, schema)\n",
        "  G.createOrReplaceTempView('G')\n",
        "  for i in range(0,max_depth):\n",
        "    my_sdf = spark_bfs_1_round(my_sdf)\n",
        "  \n",
        "  return my_sdf\n"
      ],
      "execution_count": 301,
      "outputs": []
    },
    {
      "cell_type": "markdown",
      "metadata": {
        "id": "LFA-Al0MNutj"
      },
      "source": [
        "Test that this function works on the simple example first. "
      ]
    },
    {
      "cell_type": "code",
      "metadata": {
        "id": "twqNOYGOM_5u",
        "outputId": "c5ed93da-0e50-4482-cf55-e0f7bbdda72a",
        "colab": {
          "base_uri": "https://localhost:8080/",
          "height": 251
        }
      },
      "source": [
        "simple_bfs_iterative_result = spark_bfs(simple_graph_sdf, smallOrig, 3)\n",
        "simple_bfs_iterative_result.show()"
      ],
      "execution_count": 327,
      "outputs": [
        {
          "output_type": "stream",
          "text": [
            "+----+--------+\n",
            "|node|distance|\n",
            "+----+--------+\n",
            "|   A|       0|\n",
            "|   B|       1|\n",
            "|   C|       1|\n",
            "|   D|       1|\n",
            "|   E|       2|\n",
            "|   F|       1|\n",
            "|   G|       2|\n",
            "|   H|       3|\n",
            "+----+--------+\n",
            "\n"
          ],
          "name": "stdout"
        }
      ]
    },
    {
      "cell_type": "markdown",
      "metadata": {
        "id": "WYpE6Pp1njJu"
      },
      "source": [
        "**TODO**: Using the starting node defined below, create **bfs_3** as the result of running **sparkbfs** on **review_graph_sdf** to a depth of 3. Finally, create a pandas dataframe of the first 75 results sorted by id as **answer_75_df** and submit this to the autograder."
      ]
    },
    {
      "cell_type": "code",
      "metadata": {
        "id": "6jXgJiW1hYjU"
      },
      "source": [
        "# review_graph_sdf.createOrReplaceTempView('G')"
      ],
      "execution_count": 122,
      "outputs": []
    },
    {
      "cell_type": "code",
      "metadata": {
        "id": "PbLA3gooh_yi"
      },
      "source": [
        "# # schema = StructType([StructField(\"node\", StringType(), True),StructField(\"distance\", IntegerType(), True) ])\n",
        "# # visited_nodes = spark.createDataFrame(orig, schema)\n",
        "# visited_nodes = after\n",
        "# visited_nodes.createOrReplaceTempView('visited')\n",
        "# new = spark.sql('SELECT G.from_node, G.to_node AS node FROM visited v RIGHT JOIN G ON v.node = G.from_node ')\n",
        "# # new.createOrReplaceTempView('new')\n",
        "# more = spark.sql(' SELECT n.node, v.distance FROM new n LEFT JOIN visited v ON v.node = n.node WHERE v.node IS NULL')\n",
        "# max = visited_nodes.agg({'distance':'max'}).collect()[0]\n",
        "# max = max['max(distance)']\n",
        "# more = more.fillna(max+1)\n",
        "# after = visited_nodes.union(more)\n",
        "# after = after.orderBy('node')"
      ],
      "execution_count": 123,
      "outputs": []
    },
    {
      "cell_type": "code",
      "metadata": {
        "id": "Y3U9J2lyiina"
      },
      "source": [
        "# new.show()"
      ],
      "execution_count": 124,
      "outputs": []
    },
    {
      "cell_type": "code",
      "metadata": {
        "id": "rVUwgLmhiiAY"
      },
      "source": [
        "orig = [{'node': 'bv2nCi5Qv5vroFiqKGopiw'}]\n",
        "\n",
        "bfs_3 = spark_bfs(review_graph_sdf, orig, 3)\n"
      ],
      "execution_count": 328,
      "outputs": []
    },
    {
      "cell_type": "code",
      "metadata": {
        "id": "DZwiin6fnV8d"
      },
      "source": [
        "answer_75_df = bfs_3.limit(75).toPandas()\n",
        "length = bfs_3.count()"
      ],
      "execution_count": 329,
      "outputs": []
    },
    {
      "cell_type": "markdown",
      "metadata": {
        "id": "8ZnMt_CKnouC"
      },
      "source": [
        "When submitting to the autograder, submit as a tuple where first value is the length of your output dataframe and the second is the first 75 rows of your result.\n",
        "\n",
        "However, before you grab your first 75 rows, sort by the ids"
      ]
    },
    {
      "cell_type": "code",
      "metadata": {
        "id": "VAqdWoVtjDMI",
        "outputId": "35f52401-0d45-44b9-f205-d8c864fdbc75",
        "colab": {
          "base_uri": "https://localhost:8080/",
          "height": 71
        }
      },
      "source": [
        "#13603 is just obtained from running count.count()\n",
        "grader.grade(test_case_id = 'checkBFS', answer = (length, answer_75_df))"
      ],
      "execution_count": 330,
      "outputs": [
        {
          "output_type": "stream",
          "text": [
            "Correct! You earned 10/10 points. You are a star!\n",
            "\n",
            "Your submission has been successfully recorded in the gradebook.\n"
          ],
          "name": "stdout"
        }
      ]
    },
    {
      "cell_type": "markdown",
      "metadata": {
        "id": "CgwWGKJR2h7C"
      },
      "source": [
        "Congratulations on making it to the end of Homework 2! Feel free to fill out [this form](https://forms.gle/DbDuEbqqifoFrRxaA) with any feedback for this and prior homeworks. We know this assignment was pretty dense, but we hope that you still managed to learn a lot from it :)\n"
      ]
    }
  ]
}