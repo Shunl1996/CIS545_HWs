{
  "nbformat": 4,
  "nbformat_minor": 0,
  "metadata": {
    "colab": {
      "name": "HW3_STUDENT.ipynb",
      "provenance": [],
      "collapsed_sections": [],
      "toc_visible": true,
      "include_colab_link": true
    },
    "kernelspec": {
      "name": "python3",
      "display_name": "Python 3"
    },
    "widgets": {
      "application/vnd.jupyter.widget-state+json": {
        "66cb305b206848d193a132bd2b4d4fc9": {
          "model_module": "@jupyter-widgets/controls",
          "model_name": "FloatProgressModel",
          "state": {
            "_view_name": "ProgressView",
            "style": "IPY_MODEL_8d65b3fed2754c4aa0adf2c2fbdf9b45",
            "_dom_classes": [],
            "description": "Progress:",
            "_model_name": "FloatProgressModel",
            "bar_style": "info",
            "max": 1,
            "_view_module": "@jupyter-widgets/controls",
            "_model_module_version": "1.5.0",
            "value": 0,
            "_view_count": null,
            "_view_module_version": "1.5.0",
            "orientation": "horizontal",
            "min": 0,
            "description_tooltip": null,
            "_model_module": "@jupyter-widgets/controls",
            "layout": "IPY_MODEL_9334263681f34962ac1700ef85b5425c"
          }
        },
        "8d65b3fed2754c4aa0adf2c2fbdf9b45": {
          "model_module": "@jupyter-widgets/controls",
          "model_name": "ProgressStyleModel",
          "state": {
            "_view_name": "StyleView",
            "_model_name": "ProgressStyleModel",
            "description_width": "",
            "_view_module": "@jupyter-widgets/base",
            "_model_module_version": "1.5.0",
            "_view_count": null,
            "_view_module_version": "1.2.0",
            "bar_color": null,
            "_model_module": "@jupyter-widgets/controls"
          }
        },
        "9334263681f34962ac1700ef85b5425c": {
          "model_module": "@jupyter-widgets/base",
          "model_name": "LayoutModel",
          "state": {
            "_view_name": "LayoutView",
            "grid_template_rows": null,
            "right": null,
            "justify_content": null,
            "_view_module": "@jupyter-widgets/base",
            "overflow": null,
            "_model_module_version": "1.2.0",
            "_view_count": null,
            "flex_flow": null,
            "width": "50%",
            "min_width": null,
            "border": null,
            "align_items": null,
            "bottom": null,
            "_model_module": "@jupyter-widgets/base",
            "top": null,
            "grid_column": null,
            "overflow_y": null,
            "overflow_x": null,
            "grid_auto_flow": null,
            "grid_area": null,
            "grid_template_columns": null,
            "flex": null,
            "_model_name": "LayoutModel",
            "justify_items": null,
            "grid_row": null,
            "max_height": null,
            "align_content": null,
            "visibility": null,
            "align_self": null,
            "height": "25px",
            "min_height": null,
            "padding": null,
            "grid_auto_rows": null,
            "grid_gap": null,
            "max_width": null,
            "order": null,
            "_view_module_version": "1.2.0",
            "grid_template_areas": null,
            "object_position": null,
            "object_fit": null,
            "grid_auto_columns": null,
            "margin": null,
            "display": null,
            "left": null
          }
        },
        "5524543b43034fff808e526599b10e04": {
          "model_module": "@jupyter-widgets/controls",
          "model_name": "FloatProgressModel",
          "state": {
            "_view_name": "ProgressView",
            "style": "IPY_MODEL_8a2a4eb97199480ca8c7f81dfa27494c",
            "_dom_classes": [],
            "description": "Progress:",
            "_model_name": "FloatProgressModel",
            "bar_style": "info",
            "max": 1,
            "_view_module": "@jupyter-widgets/controls",
            "_model_module_version": "1.5.0",
            "value": 0,
            "_view_count": null,
            "_view_module_version": "1.5.0",
            "orientation": "horizontal",
            "min": 0,
            "description_tooltip": null,
            "_model_module": "@jupyter-widgets/controls",
            "layout": "IPY_MODEL_bcb7f06659264a7c96aa60b09ecd85c5"
          }
        },
        "8a2a4eb97199480ca8c7f81dfa27494c": {
          "model_module": "@jupyter-widgets/controls",
          "model_name": "ProgressStyleModel",
          "state": {
            "_view_name": "StyleView",
            "_model_name": "ProgressStyleModel",
            "description_width": "",
            "_view_module": "@jupyter-widgets/base",
            "_model_module_version": "1.5.0",
            "_view_count": null,
            "_view_module_version": "1.2.0",
            "bar_color": null,
            "_model_module": "@jupyter-widgets/controls"
          }
        },
        "bcb7f06659264a7c96aa60b09ecd85c5": {
          "model_module": "@jupyter-widgets/base",
          "model_name": "LayoutModel",
          "state": {
            "_view_name": "LayoutView",
            "grid_template_rows": null,
            "right": null,
            "justify_content": null,
            "_view_module": "@jupyter-widgets/base",
            "overflow": null,
            "_model_module_version": "1.2.0",
            "_view_count": null,
            "flex_flow": null,
            "width": "50%",
            "min_width": null,
            "border": null,
            "align_items": null,
            "bottom": null,
            "_model_module": "@jupyter-widgets/base",
            "top": null,
            "grid_column": null,
            "overflow_y": null,
            "overflow_x": null,
            "grid_auto_flow": null,
            "grid_area": null,
            "grid_template_columns": null,
            "flex": null,
            "_model_name": "LayoutModel",
            "justify_items": null,
            "grid_row": null,
            "max_height": null,
            "align_content": null,
            "visibility": null,
            "align_self": null,
            "height": "25px",
            "min_height": null,
            "padding": null,
            "grid_auto_rows": null,
            "grid_gap": null,
            "max_width": null,
            "order": null,
            "_view_module_version": "1.2.0",
            "grid_template_areas": null,
            "object_position": null,
            "object_fit": null,
            "grid_auto_columns": null,
            "margin": null,
            "display": null,
            "left": null
          }
        },
        "f55235e8c96546f89df7ac37ba138224": {
          "model_module": "@jupyter-widgets/controls",
          "model_name": "FloatProgressModel",
          "state": {
            "_view_name": "ProgressView",
            "style": "IPY_MODEL_67eda0a92d21451ca5bc423df145f080",
            "_dom_classes": [],
            "description": "Progress:",
            "_model_name": "FloatProgressModel",
            "bar_style": "info",
            "max": 1,
            "_view_module": "@jupyter-widgets/controls",
            "_model_module_version": "1.5.0",
            "value": 0,
            "_view_count": null,
            "_view_module_version": "1.5.0",
            "orientation": "horizontal",
            "min": 0,
            "description_tooltip": null,
            "_model_module": "@jupyter-widgets/controls",
            "layout": "IPY_MODEL_c5a2e5d8843248b9b2d4d56d43e6119d"
          }
        },
        "67eda0a92d21451ca5bc423df145f080": {
          "model_module": "@jupyter-widgets/controls",
          "model_name": "ProgressStyleModel",
          "state": {
            "_view_name": "StyleView",
            "_model_name": "ProgressStyleModel",
            "description_width": "",
            "_view_module": "@jupyter-widgets/base",
            "_model_module_version": "1.5.0",
            "_view_count": null,
            "_view_module_version": "1.2.0",
            "bar_color": null,
            "_model_module": "@jupyter-widgets/controls"
          }
        },
        "c5a2e5d8843248b9b2d4d56d43e6119d": {
          "model_module": "@jupyter-widgets/base",
          "model_name": "LayoutModel",
          "state": {
            "_view_name": "LayoutView",
            "grid_template_rows": null,
            "right": null,
            "justify_content": null,
            "_view_module": "@jupyter-widgets/base",
            "overflow": null,
            "_model_module_version": "1.2.0",
            "_view_count": null,
            "flex_flow": null,
            "width": "50%",
            "min_width": null,
            "border": null,
            "align_items": null,
            "bottom": null,
            "_model_module": "@jupyter-widgets/base",
            "top": null,
            "grid_column": null,
            "overflow_y": null,
            "overflow_x": null,
            "grid_auto_flow": null,
            "grid_area": null,
            "grid_template_columns": null,
            "flex": null,
            "_model_name": "LayoutModel",
            "justify_items": null,
            "grid_row": null,
            "max_height": null,
            "align_content": null,
            "visibility": null,
            "align_self": null,
            "height": "25px",
            "min_height": null,
            "padding": null,
            "grid_auto_rows": null,
            "grid_gap": null,
            "max_width": null,
            "order": null,
            "_view_module_version": "1.2.0",
            "grid_template_areas": null,
            "object_position": null,
            "object_fit": null,
            "grid_auto_columns": null,
            "margin": null,
            "display": null,
            "left": null
          }
        },
        "3bbdc2bfd17440a4a73b49d9a5f7b72b": {
          "model_module": "@jupyter-widgets/controls",
          "model_name": "FloatProgressModel",
          "state": {
            "_view_name": "ProgressView",
            "style": "IPY_MODEL_c55dd92f0e4f4d6984f3d413262e7ceb",
            "_dom_classes": [],
            "description": "Progress:",
            "_model_name": "FloatProgressModel",
            "bar_style": "info",
            "max": 1,
            "_view_module": "@jupyter-widgets/controls",
            "_model_module_version": "1.5.0",
            "value": 0,
            "_view_count": null,
            "_view_module_version": "1.5.0",
            "orientation": "horizontal",
            "min": 0,
            "description_tooltip": null,
            "_model_module": "@jupyter-widgets/controls",
            "layout": "IPY_MODEL_0cb11348c43745cfa950726a21591c54"
          }
        },
        "c55dd92f0e4f4d6984f3d413262e7ceb": {
          "model_module": "@jupyter-widgets/controls",
          "model_name": "ProgressStyleModel",
          "state": {
            "_view_name": "StyleView",
            "_model_name": "ProgressStyleModel",
            "description_width": "",
            "_view_module": "@jupyter-widgets/base",
            "_model_module_version": "1.5.0",
            "_view_count": null,
            "_view_module_version": "1.2.0",
            "bar_color": null,
            "_model_module": "@jupyter-widgets/controls"
          }
        },
        "0cb11348c43745cfa950726a21591c54": {
          "model_module": "@jupyter-widgets/base",
          "model_name": "LayoutModel",
          "state": {
            "_view_name": "LayoutView",
            "grid_template_rows": null,
            "right": null,
            "justify_content": null,
            "_view_module": "@jupyter-widgets/base",
            "overflow": null,
            "_model_module_version": "1.2.0",
            "_view_count": null,
            "flex_flow": null,
            "width": "50%",
            "min_width": null,
            "border": null,
            "align_items": null,
            "bottom": null,
            "_model_module": "@jupyter-widgets/base",
            "top": null,
            "grid_column": null,
            "overflow_y": null,
            "overflow_x": null,
            "grid_auto_flow": null,
            "grid_area": null,
            "grid_template_columns": null,
            "flex": null,
            "_model_name": "LayoutModel",
            "justify_items": null,
            "grid_row": null,
            "max_height": null,
            "align_content": null,
            "visibility": null,
            "align_self": null,
            "height": "25px",
            "min_height": null,
            "padding": null,
            "grid_auto_rows": null,
            "grid_gap": null,
            "max_width": null,
            "order": null,
            "_view_module_version": "1.2.0",
            "grid_template_areas": null,
            "object_position": null,
            "object_fit": null,
            "grid_auto_columns": null,
            "margin": null,
            "display": null,
            "left": null
          }
        },
        "8ca0e030a9044cac907f5fafea44bf4d": {
          "model_module": "@jupyter-widgets/controls",
          "model_name": "FloatProgressModel",
          "state": {
            "_view_name": "ProgressView",
            "style": "IPY_MODEL_b71c9e7480434e9f9846a2135ae13c79",
            "_dom_classes": [],
            "description": "Progress:",
            "_model_name": "FloatProgressModel",
            "bar_style": "info",
            "max": 1,
            "_view_module": "@jupyter-widgets/controls",
            "_model_module_version": "1.5.0",
            "value": 0,
            "_view_count": null,
            "_view_module_version": "1.5.0",
            "orientation": "horizontal",
            "min": 0,
            "description_tooltip": null,
            "_model_module": "@jupyter-widgets/controls",
            "layout": "IPY_MODEL_cb9685b4a88f4083b2a7921bdcc9d5a5"
          }
        },
        "b71c9e7480434e9f9846a2135ae13c79": {
          "model_module": "@jupyter-widgets/controls",
          "model_name": "ProgressStyleModel",
          "state": {
            "_view_name": "StyleView",
            "_model_name": "ProgressStyleModel",
            "description_width": "",
            "_view_module": "@jupyter-widgets/base",
            "_model_module_version": "1.5.0",
            "_view_count": null,
            "_view_module_version": "1.2.0",
            "bar_color": null,
            "_model_module": "@jupyter-widgets/controls"
          }
        },
        "cb9685b4a88f4083b2a7921bdcc9d5a5": {
          "model_module": "@jupyter-widgets/base",
          "model_name": "LayoutModel",
          "state": {
            "_view_name": "LayoutView",
            "grid_template_rows": null,
            "right": null,
            "justify_content": null,
            "_view_module": "@jupyter-widgets/base",
            "overflow": null,
            "_model_module_version": "1.2.0",
            "_view_count": null,
            "flex_flow": null,
            "width": "50%",
            "min_width": null,
            "border": null,
            "align_items": null,
            "bottom": null,
            "_model_module": "@jupyter-widgets/base",
            "top": null,
            "grid_column": null,
            "overflow_y": null,
            "overflow_x": null,
            "grid_auto_flow": null,
            "grid_area": null,
            "grid_template_columns": null,
            "flex": null,
            "_model_name": "LayoutModel",
            "justify_items": null,
            "grid_row": null,
            "max_height": null,
            "align_content": null,
            "visibility": null,
            "align_self": null,
            "height": "25px",
            "min_height": null,
            "padding": null,
            "grid_auto_rows": null,
            "grid_gap": null,
            "max_width": null,
            "order": null,
            "_view_module_version": "1.2.0",
            "grid_template_areas": null,
            "object_position": null,
            "object_fit": null,
            "grid_auto_columns": null,
            "margin": null,
            "display": null,
            "left": null
          }
        },
        "3e8236a3fb2447f4a6334e5d7737d043": {
          "model_module": "@jupyter-widgets/controls",
          "model_name": "FloatProgressModel",
          "state": {
            "_view_name": "ProgressView",
            "style": "IPY_MODEL_7bbfc26569aa468c851006afd94eff2a",
            "_dom_classes": [],
            "description": "Progress:",
            "_model_name": "FloatProgressModel",
            "bar_style": "info",
            "max": 1,
            "_view_module": "@jupyter-widgets/controls",
            "_model_module_version": "1.5.0",
            "value": 0,
            "_view_count": null,
            "_view_module_version": "1.5.0",
            "orientation": "horizontal",
            "min": 0,
            "description_tooltip": null,
            "_model_module": "@jupyter-widgets/controls",
            "layout": "IPY_MODEL_b06499570a9f41e295b2c9bff4a90a70"
          }
        },
        "7bbfc26569aa468c851006afd94eff2a": {
          "model_module": "@jupyter-widgets/controls",
          "model_name": "ProgressStyleModel",
          "state": {
            "_view_name": "StyleView",
            "_model_name": "ProgressStyleModel",
            "description_width": "",
            "_view_module": "@jupyter-widgets/base",
            "_model_module_version": "1.5.0",
            "_view_count": null,
            "_view_module_version": "1.2.0",
            "bar_color": null,
            "_model_module": "@jupyter-widgets/controls"
          }
        },
        "b06499570a9f41e295b2c9bff4a90a70": {
          "model_module": "@jupyter-widgets/base",
          "model_name": "LayoutModel",
          "state": {
            "_view_name": "LayoutView",
            "grid_template_rows": null,
            "right": null,
            "justify_content": null,
            "_view_module": "@jupyter-widgets/base",
            "overflow": null,
            "_model_module_version": "1.2.0",
            "_view_count": null,
            "flex_flow": null,
            "width": "50%",
            "min_width": null,
            "border": null,
            "align_items": null,
            "bottom": null,
            "_model_module": "@jupyter-widgets/base",
            "top": null,
            "grid_column": null,
            "overflow_y": null,
            "overflow_x": null,
            "grid_auto_flow": null,
            "grid_area": null,
            "grid_template_columns": null,
            "flex": null,
            "_model_name": "LayoutModel",
            "justify_items": null,
            "grid_row": null,
            "max_height": null,
            "align_content": null,
            "visibility": null,
            "align_self": null,
            "height": "25px",
            "min_height": null,
            "padding": null,
            "grid_auto_rows": null,
            "grid_gap": null,
            "max_width": null,
            "order": null,
            "_view_module_version": "1.2.0",
            "grid_template_areas": null,
            "object_position": null,
            "object_fit": null,
            "grid_auto_columns": null,
            "margin": null,
            "display": null,
            "left": null
          }
        },
        "e20a174a5d3942d7829f9ed539f667ce": {
          "model_module": "@jupyter-widgets/controls",
          "model_name": "FloatProgressModel",
          "state": {
            "_view_name": "ProgressView",
            "style": "IPY_MODEL_94f7ed09fa14484a9e8a56c721568af6",
            "_dom_classes": [],
            "description": "Progress:",
            "_model_name": "FloatProgressModel",
            "bar_style": "info",
            "max": 1,
            "_view_module": "@jupyter-widgets/controls",
            "_model_module_version": "1.5.0",
            "value": 0,
            "_view_count": null,
            "_view_module_version": "1.5.0",
            "orientation": "horizontal",
            "min": 0,
            "description_tooltip": null,
            "_model_module": "@jupyter-widgets/controls",
            "layout": "IPY_MODEL_8536537ac7494db9b9b8b44e90631298"
          }
        },
        "94f7ed09fa14484a9e8a56c721568af6": {
          "model_module": "@jupyter-widgets/controls",
          "model_name": "ProgressStyleModel",
          "state": {
            "_view_name": "StyleView",
            "_model_name": "ProgressStyleModel",
            "description_width": "",
            "_view_module": "@jupyter-widgets/base",
            "_model_module_version": "1.5.0",
            "_view_count": null,
            "_view_module_version": "1.2.0",
            "bar_color": null,
            "_model_module": "@jupyter-widgets/controls"
          }
        },
        "8536537ac7494db9b9b8b44e90631298": {
          "model_module": "@jupyter-widgets/base",
          "model_name": "LayoutModel",
          "state": {
            "_view_name": "LayoutView",
            "grid_template_rows": null,
            "right": null,
            "justify_content": null,
            "_view_module": "@jupyter-widgets/base",
            "overflow": null,
            "_model_module_version": "1.2.0",
            "_view_count": null,
            "flex_flow": null,
            "width": "50%",
            "min_width": null,
            "border": null,
            "align_items": null,
            "bottom": null,
            "_model_module": "@jupyter-widgets/base",
            "top": null,
            "grid_column": null,
            "overflow_y": null,
            "overflow_x": null,
            "grid_auto_flow": null,
            "grid_area": null,
            "grid_template_columns": null,
            "flex": null,
            "_model_name": "LayoutModel",
            "justify_items": null,
            "grid_row": null,
            "max_height": null,
            "align_content": null,
            "visibility": null,
            "align_self": null,
            "height": "25px",
            "min_height": null,
            "padding": null,
            "grid_auto_rows": null,
            "grid_gap": null,
            "max_width": null,
            "order": null,
            "_view_module_version": "1.2.0",
            "grid_template_areas": null,
            "object_position": null,
            "object_fit": null,
            "grid_auto_columns": null,
            "margin": null,
            "display": null,
            "left": null
          }
        },
        "df990388bceb43efaba7b3707734568b": {
          "model_module": "@jupyter-widgets/controls",
          "model_name": "FloatProgressModel",
          "state": {
            "_view_name": "ProgressView",
            "style": "IPY_MODEL_671e5ee69e95445eafbe5209d56c99a1",
            "_dom_classes": [],
            "description": "Progress:",
            "_model_name": "FloatProgressModel",
            "bar_style": "info",
            "max": 1,
            "_view_module": "@jupyter-widgets/controls",
            "_model_module_version": "1.5.0",
            "value": 0,
            "_view_count": null,
            "_view_module_version": "1.5.0",
            "orientation": "horizontal",
            "min": 0,
            "description_tooltip": null,
            "_model_module": "@jupyter-widgets/controls",
            "layout": "IPY_MODEL_0e0ce2ebf2e2471199ccc4eed2db8921"
          }
        },
        "671e5ee69e95445eafbe5209d56c99a1": {
          "model_module": "@jupyter-widgets/controls",
          "model_name": "ProgressStyleModel",
          "state": {
            "_view_name": "StyleView",
            "_model_name": "ProgressStyleModel",
            "description_width": "",
            "_view_module": "@jupyter-widgets/base",
            "_model_module_version": "1.5.0",
            "_view_count": null,
            "_view_module_version": "1.2.0",
            "bar_color": null,
            "_model_module": "@jupyter-widgets/controls"
          }
        },
        "0e0ce2ebf2e2471199ccc4eed2db8921": {
          "model_module": "@jupyter-widgets/base",
          "model_name": "LayoutModel",
          "state": {
            "_view_name": "LayoutView",
            "grid_template_rows": null,
            "right": null,
            "justify_content": null,
            "_view_module": "@jupyter-widgets/base",
            "overflow": null,
            "_model_module_version": "1.2.0",
            "_view_count": null,
            "flex_flow": null,
            "width": "50%",
            "min_width": null,
            "border": null,
            "align_items": null,
            "bottom": null,
            "_model_module": "@jupyter-widgets/base",
            "top": null,
            "grid_column": null,
            "overflow_y": null,
            "overflow_x": null,
            "grid_auto_flow": null,
            "grid_area": null,
            "grid_template_columns": null,
            "flex": null,
            "_model_name": "LayoutModel",
            "justify_items": null,
            "grid_row": null,
            "max_height": null,
            "align_content": null,
            "visibility": null,
            "align_self": null,
            "height": "25px",
            "min_height": null,
            "padding": null,
            "grid_auto_rows": null,
            "grid_gap": null,
            "max_width": null,
            "order": null,
            "_view_module_version": "1.2.0",
            "grid_template_areas": null,
            "object_position": null,
            "object_fit": null,
            "grid_auto_columns": null,
            "margin": null,
            "display": null,
            "left": null
          }
        },
        "f7a6929165cc40ada27c40eba54d3e37": {
          "model_module": "@jupyter-widgets/controls",
          "model_name": "FloatProgressModel",
          "state": {
            "_view_name": "ProgressView",
            "style": "IPY_MODEL_9ea568ae4083451b8d044c99a7075499",
            "_dom_classes": [],
            "description": "Progress:",
            "_model_name": "FloatProgressModel",
            "bar_style": "info",
            "max": 1,
            "_view_module": "@jupyter-widgets/controls",
            "_model_module_version": "1.5.0",
            "value": 0,
            "_view_count": null,
            "_view_module_version": "1.5.0",
            "orientation": "horizontal",
            "min": 0,
            "description_tooltip": null,
            "_model_module": "@jupyter-widgets/controls",
            "layout": "IPY_MODEL_9a7babc6975e489ea1264dd8c096ad08"
          }
        },
        "9ea568ae4083451b8d044c99a7075499": {
          "model_module": "@jupyter-widgets/controls",
          "model_name": "ProgressStyleModel",
          "state": {
            "_view_name": "StyleView",
            "_model_name": "ProgressStyleModel",
            "description_width": "",
            "_view_module": "@jupyter-widgets/base",
            "_model_module_version": "1.5.0",
            "_view_count": null,
            "_view_module_version": "1.2.0",
            "bar_color": null,
            "_model_module": "@jupyter-widgets/controls"
          }
        },
        "9a7babc6975e489ea1264dd8c096ad08": {
          "model_module": "@jupyter-widgets/base",
          "model_name": "LayoutModel",
          "state": {
            "_view_name": "LayoutView",
            "grid_template_rows": null,
            "right": null,
            "justify_content": null,
            "_view_module": "@jupyter-widgets/base",
            "overflow": null,
            "_model_module_version": "1.2.0",
            "_view_count": null,
            "flex_flow": null,
            "width": "50%",
            "min_width": null,
            "border": null,
            "align_items": null,
            "bottom": null,
            "_model_module": "@jupyter-widgets/base",
            "top": null,
            "grid_column": null,
            "overflow_y": null,
            "overflow_x": null,
            "grid_auto_flow": null,
            "grid_area": null,
            "grid_template_columns": null,
            "flex": null,
            "_model_name": "LayoutModel",
            "justify_items": null,
            "grid_row": null,
            "max_height": null,
            "align_content": null,
            "visibility": null,
            "align_self": null,
            "height": "25px",
            "min_height": null,
            "padding": null,
            "grid_auto_rows": null,
            "grid_gap": null,
            "max_width": null,
            "order": null,
            "_view_module_version": "1.2.0",
            "grid_template_areas": null,
            "object_position": null,
            "object_fit": null,
            "grid_auto_columns": null,
            "margin": null,
            "display": null,
            "left": null
          }
        },
        "ea2ba5660d8441b8b4ff0fec8f0303ce": {
          "model_module": "@jupyter-widgets/controls",
          "model_name": "FloatProgressModel",
          "state": {
            "_view_name": "ProgressView",
            "style": "IPY_MODEL_f5f2f68c487f46c486a0fa8121ee733e",
            "_dom_classes": [],
            "description": "Progress:",
            "_model_name": "FloatProgressModel",
            "bar_style": "info",
            "max": 1,
            "_view_module": "@jupyter-widgets/controls",
            "_model_module_version": "1.5.0",
            "value": 0.75,
            "_view_count": null,
            "_view_module_version": "1.5.0",
            "orientation": "horizontal",
            "min": 0,
            "description_tooltip": null,
            "_model_module": "@jupyter-widgets/controls",
            "layout": "IPY_MODEL_9813af45a0a44ebfa01f9ecf3a95f02d"
          }
        },
        "f5f2f68c487f46c486a0fa8121ee733e": {
          "model_module": "@jupyter-widgets/controls",
          "model_name": "ProgressStyleModel",
          "state": {
            "_view_name": "StyleView",
            "_model_name": "ProgressStyleModel",
            "description_width": "",
            "_view_module": "@jupyter-widgets/base",
            "_model_module_version": "1.5.0",
            "_view_count": null,
            "_view_module_version": "1.2.0",
            "bar_color": null,
            "_model_module": "@jupyter-widgets/controls"
          }
        },
        "9813af45a0a44ebfa01f9ecf3a95f02d": {
          "model_module": "@jupyter-widgets/base",
          "model_name": "LayoutModel",
          "state": {
            "_view_name": "LayoutView",
            "grid_template_rows": null,
            "right": null,
            "justify_content": null,
            "_view_module": "@jupyter-widgets/base",
            "overflow": null,
            "_model_module_version": "1.2.0",
            "_view_count": null,
            "flex_flow": null,
            "width": "50%",
            "min_width": null,
            "border": null,
            "align_items": null,
            "bottom": null,
            "_model_module": "@jupyter-widgets/base",
            "top": null,
            "grid_column": null,
            "overflow_y": null,
            "overflow_x": null,
            "grid_auto_flow": null,
            "grid_area": null,
            "grid_template_columns": null,
            "flex": null,
            "_model_name": "LayoutModel",
            "justify_items": null,
            "grid_row": null,
            "max_height": null,
            "align_content": null,
            "visibility": null,
            "align_self": null,
            "height": "25px",
            "min_height": null,
            "padding": null,
            "grid_auto_rows": null,
            "grid_gap": null,
            "max_width": null,
            "order": null,
            "_view_module_version": "1.2.0",
            "grid_template_areas": null,
            "object_position": null,
            "object_fit": null,
            "grid_auto_columns": null,
            "margin": null,
            "display": null,
            "left": null
          }
        },
        "65857daec786404d83ad4f61f01f9740": {
          "model_module": "@jupyter-widgets/controls",
          "model_name": "FloatProgressModel",
          "state": {
            "_view_name": "ProgressView",
            "style": "IPY_MODEL_225f10bfca7042fb9b83824b056c1403",
            "_dom_classes": [],
            "description": "Progress:",
            "_model_name": "FloatProgressModel",
            "bar_style": "info",
            "max": 1,
            "_view_module": "@jupyter-widgets/controls",
            "_model_module_version": "1.5.0",
            "value": 0,
            "_view_count": null,
            "_view_module_version": "1.5.0",
            "orientation": "horizontal",
            "min": 0,
            "description_tooltip": null,
            "_model_module": "@jupyter-widgets/controls",
            "layout": "IPY_MODEL_5982ce17f932466480d4d8e6dd406782"
          }
        },
        "225f10bfca7042fb9b83824b056c1403": {
          "model_module": "@jupyter-widgets/controls",
          "model_name": "ProgressStyleModel",
          "state": {
            "_view_name": "StyleView",
            "_model_name": "ProgressStyleModel",
            "description_width": "",
            "_view_module": "@jupyter-widgets/base",
            "_model_module_version": "1.5.0",
            "_view_count": null,
            "_view_module_version": "1.2.0",
            "bar_color": null,
            "_model_module": "@jupyter-widgets/controls"
          }
        },
        "5982ce17f932466480d4d8e6dd406782": {
          "model_module": "@jupyter-widgets/base",
          "model_name": "LayoutModel",
          "state": {
            "_view_name": "LayoutView",
            "grid_template_rows": null,
            "right": null,
            "justify_content": null,
            "_view_module": "@jupyter-widgets/base",
            "overflow": null,
            "_model_module_version": "1.2.0",
            "_view_count": null,
            "flex_flow": null,
            "width": "50%",
            "min_width": null,
            "border": null,
            "align_items": null,
            "bottom": null,
            "_model_module": "@jupyter-widgets/base",
            "top": null,
            "grid_column": null,
            "overflow_y": null,
            "overflow_x": null,
            "grid_auto_flow": null,
            "grid_area": null,
            "grid_template_columns": null,
            "flex": null,
            "_model_name": "LayoutModel",
            "justify_items": null,
            "grid_row": null,
            "max_height": null,
            "align_content": null,
            "visibility": null,
            "align_self": null,
            "height": "25px",
            "min_height": null,
            "padding": null,
            "grid_auto_rows": null,
            "grid_gap": null,
            "max_width": null,
            "order": null,
            "_view_module_version": "1.2.0",
            "grid_template_areas": null,
            "object_position": null,
            "object_fit": null,
            "grid_auto_columns": null,
            "margin": null,
            "display": null,
            "left": null
          }
        },
        "553a18c4d5f04328a4d0de82ae524165": {
          "model_module": "@jupyter-widgets/controls",
          "model_name": "FloatProgressModel",
          "state": {
            "_view_name": "ProgressView",
            "style": "IPY_MODEL_92758a87000441b3be4c93d989a83598",
            "_dom_classes": [],
            "description": "Progress:",
            "_model_name": "FloatProgressModel",
            "bar_style": "info",
            "max": 1,
            "_view_module": "@jupyter-widgets/controls",
            "_model_module_version": "1.5.0",
            "value": 0,
            "_view_count": null,
            "_view_module_version": "1.5.0",
            "orientation": "horizontal",
            "min": 0,
            "description_tooltip": null,
            "_model_module": "@jupyter-widgets/controls",
            "layout": "IPY_MODEL_36ac782b15b849b39305a5ed63d0896a"
          }
        },
        "92758a87000441b3be4c93d989a83598": {
          "model_module": "@jupyter-widgets/controls",
          "model_name": "ProgressStyleModel",
          "state": {
            "_view_name": "StyleView",
            "_model_name": "ProgressStyleModel",
            "description_width": "",
            "_view_module": "@jupyter-widgets/base",
            "_model_module_version": "1.5.0",
            "_view_count": null,
            "_view_module_version": "1.2.0",
            "bar_color": null,
            "_model_module": "@jupyter-widgets/controls"
          }
        },
        "36ac782b15b849b39305a5ed63d0896a": {
          "model_module": "@jupyter-widgets/base",
          "model_name": "LayoutModel",
          "state": {
            "_view_name": "LayoutView",
            "grid_template_rows": null,
            "right": null,
            "justify_content": null,
            "_view_module": "@jupyter-widgets/base",
            "overflow": null,
            "_model_module_version": "1.2.0",
            "_view_count": null,
            "flex_flow": null,
            "width": "50%",
            "min_width": null,
            "border": null,
            "align_items": null,
            "bottom": null,
            "_model_module": "@jupyter-widgets/base",
            "top": null,
            "grid_column": null,
            "overflow_y": null,
            "overflow_x": null,
            "grid_auto_flow": null,
            "grid_area": null,
            "grid_template_columns": null,
            "flex": null,
            "_model_name": "LayoutModel",
            "justify_items": null,
            "grid_row": null,
            "max_height": null,
            "align_content": null,
            "visibility": null,
            "align_self": null,
            "height": "25px",
            "min_height": null,
            "padding": null,
            "grid_auto_rows": null,
            "grid_gap": null,
            "max_width": null,
            "order": null,
            "_view_module_version": "1.2.0",
            "grid_template_areas": null,
            "object_position": null,
            "object_fit": null,
            "grid_auto_columns": null,
            "margin": null,
            "display": null,
            "left": null
          }
        },
        "ba339b92a646406eb3a9804e404ceb1b": {
          "model_module": "@jupyter-widgets/controls",
          "model_name": "FloatProgressModel",
          "state": {
            "_view_name": "ProgressView",
            "style": "IPY_MODEL_120d7a397ee84207a58609977d4066b1",
            "_dom_classes": [],
            "description": "Progress:",
            "_model_name": "FloatProgressModel",
            "bar_style": "info",
            "max": 1,
            "_view_module": "@jupyter-widgets/controls",
            "_model_module_version": "1.5.0",
            "value": 0.875,
            "_view_count": null,
            "_view_module_version": "1.5.0",
            "orientation": "horizontal",
            "min": 0,
            "description_tooltip": null,
            "_model_module": "@jupyter-widgets/controls",
            "layout": "IPY_MODEL_8191704fb4764a9eb8fe1f94ed4873fc"
          }
        },
        "120d7a397ee84207a58609977d4066b1": {
          "model_module": "@jupyter-widgets/controls",
          "model_name": "ProgressStyleModel",
          "state": {
            "_view_name": "StyleView",
            "_model_name": "ProgressStyleModel",
            "description_width": "",
            "_view_module": "@jupyter-widgets/base",
            "_model_module_version": "1.5.0",
            "_view_count": null,
            "_view_module_version": "1.2.0",
            "bar_color": null,
            "_model_module": "@jupyter-widgets/controls"
          }
        },
        "8191704fb4764a9eb8fe1f94ed4873fc": {
          "model_module": "@jupyter-widgets/base",
          "model_name": "LayoutModel",
          "state": {
            "_view_name": "LayoutView",
            "grid_template_rows": null,
            "right": null,
            "justify_content": null,
            "_view_module": "@jupyter-widgets/base",
            "overflow": null,
            "_model_module_version": "1.2.0",
            "_view_count": null,
            "flex_flow": null,
            "width": "50%",
            "min_width": null,
            "border": null,
            "align_items": null,
            "bottom": null,
            "_model_module": "@jupyter-widgets/base",
            "top": null,
            "grid_column": null,
            "overflow_y": null,
            "overflow_x": null,
            "grid_auto_flow": null,
            "grid_area": null,
            "grid_template_columns": null,
            "flex": null,
            "_model_name": "LayoutModel",
            "justify_items": null,
            "grid_row": null,
            "max_height": null,
            "align_content": null,
            "visibility": null,
            "align_self": null,
            "height": "25px",
            "min_height": null,
            "padding": null,
            "grid_auto_rows": null,
            "grid_gap": null,
            "max_width": null,
            "order": null,
            "_view_module_version": "1.2.0",
            "grid_template_areas": null,
            "object_position": null,
            "object_fit": null,
            "grid_auto_columns": null,
            "margin": null,
            "display": null,
            "left": null
          }
        },
        "c0abb8c849ed4db2a98361d78903de44": {
          "model_module": "@jupyter-widgets/controls",
          "model_name": "FloatProgressModel",
          "state": {
            "_view_name": "ProgressView",
            "style": "IPY_MODEL_2eadabdd7e7047e786ac7de05a16762e",
            "_dom_classes": [],
            "description": "Progress:",
            "_model_name": "FloatProgressModel",
            "bar_style": "info",
            "max": 1,
            "_view_module": "@jupyter-widgets/controls",
            "_model_module_version": "1.5.0",
            "value": 0.27586206896551724,
            "_view_count": null,
            "_view_module_version": "1.5.0",
            "orientation": "horizontal",
            "min": 0,
            "description_tooltip": null,
            "_model_module": "@jupyter-widgets/controls",
            "layout": "IPY_MODEL_b600b4f719bf49d3a1507aebf4a651d4"
          }
        },
        "2eadabdd7e7047e786ac7de05a16762e": {
          "model_module": "@jupyter-widgets/controls",
          "model_name": "ProgressStyleModel",
          "state": {
            "_view_name": "StyleView",
            "_model_name": "ProgressStyleModel",
            "description_width": "",
            "_view_module": "@jupyter-widgets/base",
            "_model_module_version": "1.5.0",
            "_view_count": null,
            "_view_module_version": "1.2.0",
            "bar_color": null,
            "_model_module": "@jupyter-widgets/controls"
          }
        },
        "b600b4f719bf49d3a1507aebf4a651d4": {
          "model_module": "@jupyter-widgets/base",
          "model_name": "LayoutModel",
          "state": {
            "_view_name": "LayoutView",
            "grid_template_rows": null,
            "right": null,
            "justify_content": null,
            "_view_module": "@jupyter-widgets/base",
            "overflow": null,
            "_model_module_version": "1.2.0",
            "_view_count": null,
            "flex_flow": null,
            "width": "50%",
            "min_width": null,
            "border": null,
            "align_items": null,
            "bottom": null,
            "_model_module": "@jupyter-widgets/base",
            "top": null,
            "grid_column": null,
            "overflow_y": null,
            "overflow_x": null,
            "grid_auto_flow": null,
            "grid_area": null,
            "grid_template_columns": null,
            "flex": null,
            "_model_name": "LayoutModel",
            "justify_items": null,
            "grid_row": null,
            "max_height": null,
            "align_content": null,
            "visibility": null,
            "align_self": null,
            "height": "25px",
            "min_height": null,
            "padding": null,
            "grid_auto_rows": null,
            "grid_gap": null,
            "max_width": null,
            "order": null,
            "_view_module_version": "1.2.0",
            "grid_template_areas": null,
            "object_position": null,
            "object_fit": null,
            "grid_auto_columns": null,
            "margin": null,
            "display": null,
            "left": null
          }
        },
        "c83c8ac592454de091f8532adc3ada75": {
          "model_module": "@jupyter-widgets/controls",
          "model_name": "FloatProgressModel",
          "state": {
            "_view_name": "ProgressView",
            "style": "IPY_MODEL_7c763b571a5d418094ab65ac89a62eb7",
            "_dom_classes": [],
            "description": "Progress:",
            "_model_name": "FloatProgressModel",
            "bar_style": "info",
            "max": 1,
            "_view_module": "@jupyter-widgets/controls",
            "_model_module_version": "1.5.0",
            "value": 0,
            "_view_count": null,
            "_view_module_version": "1.5.0",
            "orientation": "horizontal",
            "min": 0,
            "description_tooltip": null,
            "_model_module": "@jupyter-widgets/controls",
            "layout": "IPY_MODEL_89acb928f7e544fcb35b4a9baa5b90eb"
          }
        },
        "7c763b571a5d418094ab65ac89a62eb7": {
          "model_module": "@jupyter-widgets/controls",
          "model_name": "ProgressStyleModel",
          "state": {
            "_view_name": "StyleView",
            "_model_name": "ProgressStyleModel",
            "description_width": "",
            "_view_module": "@jupyter-widgets/base",
            "_model_module_version": "1.5.0",
            "_view_count": null,
            "_view_module_version": "1.2.0",
            "bar_color": null,
            "_model_module": "@jupyter-widgets/controls"
          }
        },
        "89acb928f7e544fcb35b4a9baa5b90eb": {
          "model_module": "@jupyter-widgets/base",
          "model_name": "LayoutModel",
          "state": {
            "_view_name": "LayoutView",
            "grid_template_rows": null,
            "right": null,
            "justify_content": null,
            "_view_module": "@jupyter-widgets/base",
            "overflow": null,
            "_model_module_version": "1.2.0",
            "_view_count": null,
            "flex_flow": null,
            "width": "50%",
            "min_width": null,
            "border": null,
            "align_items": null,
            "bottom": null,
            "_model_module": "@jupyter-widgets/base",
            "top": null,
            "grid_column": null,
            "overflow_y": null,
            "overflow_x": null,
            "grid_auto_flow": null,
            "grid_area": null,
            "grid_template_columns": null,
            "flex": null,
            "_model_name": "LayoutModel",
            "justify_items": null,
            "grid_row": null,
            "max_height": null,
            "align_content": null,
            "visibility": null,
            "align_self": null,
            "height": "25px",
            "min_height": null,
            "padding": null,
            "grid_auto_rows": null,
            "grid_gap": null,
            "max_width": null,
            "order": null,
            "_view_module_version": "1.2.0",
            "grid_template_areas": null,
            "object_position": null,
            "object_fit": null,
            "grid_auto_columns": null,
            "margin": null,
            "display": null,
            "left": null
          }
        },
        "bc966005cd7d4f46b0cfb47cb5c96933": {
          "model_module": "@jupyter-widgets/controls",
          "model_name": "FloatProgressModel",
          "state": {
            "_view_name": "ProgressView",
            "style": "IPY_MODEL_990295a9fa3844cb9855effbe48690b4",
            "_dom_classes": [],
            "description": "Progress:",
            "_model_name": "FloatProgressModel",
            "bar_style": "info",
            "max": 1,
            "_view_module": "@jupyter-widgets/controls",
            "_model_module_version": "1.5.0",
            "value": 0.48484848484848486,
            "_view_count": null,
            "_view_module_version": "1.5.0",
            "orientation": "horizontal",
            "min": 0,
            "description_tooltip": null,
            "_model_module": "@jupyter-widgets/controls",
            "layout": "IPY_MODEL_d8db4d57ab534f4ab743924d2f7f2165"
          }
        },
        "990295a9fa3844cb9855effbe48690b4": {
          "model_module": "@jupyter-widgets/controls",
          "model_name": "ProgressStyleModel",
          "state": {
            "_view_name": "StyleView",
            "_model_name": "ProgressStyleModel",
            "description_width": "",
            "_view_module": "@jupyter-widgets/base",
            "_model_module_version": "1.5.0",
            "_view_count": null,
            "_view_module_version": "1.2.0",
            "bar_color": null,
            "_model_module": "@jupyter-widgets/controls"
          }
        },
        "d8db4d57ab534f4ab743924d2f7f2165": {
          "model_module": "@jupyter-widgets/base",
          "model_name": "LayoutModel",
          "state": {
            "_view_name": "LayoutView",
            "grid_template_rows": null,
            "right": null,
            "justify_content": null,
            "_view_module": "@jupyter-widgets/base",
            "overflow": null,
            "_model_module_version": "1.2.0",
            "_view_count": null,
            "flex_flow": null,
            "width": "50%",
            "min_width": null,
            "border": null,
            "align_items": null,
            "bottom": null,
            "_model_module": "@jupyter-widgets/base",
            "top": null,
            "grid_column": null,
            "overflow_y": null,
            "overflow_x": null,
            "grid_auto_flow": null,
            "grid_area": null,
            "grid_template_columns": null,
            "flex": null,
            "_model_name": "LayoutModel",
            "justify_items": null,
            "grid_row": null,
            "max_height": null,
            "align_content": null,
            "visibility": null,
            "align_self": null,
            "height": "25px",
            "min_height": null,
            "padding": null,
            "grid_auto_rows": null,
            "grid_gap": null,
            "max_width": null,
            "order": null,
            "_view_module_version": "1.2.0",
            "grid_template_areas": null,
            "object_position": null,
            "object_fit": null,
            "grid_auto_columns": null,
            "margin": null,
            "display": null,
            "left": null
          }
        },
        "847678ad248d46108e3c31bd67500524": {
          "model_module": "@jupyter-widgets/controls",
          "model_name": "FloatProgressModel",
          "state": {
            "_view_name": "ProgressView",
            "style": "IPY_MODEL_87060ff98bcc4cafbf165be1804f411d",
            "_dom_classes": [],
            "description": "Progress:",
            "_model_name": "FloatProgressModel",
            "bar_style": "info",
            "max": 1,
            "_view_module": "@jupyter-widgets/controls",
            "_model_module_version": "1.5.0",
            "value": 0.4827586206896552,
            "_view_count": null,
            "_view_module_version": "1.5.0",
            "orientation": "horizontal",
            "min": 0,
            "description_tooltip": null,
            "_model_module": "@jupyter-widgets/controls",
            "layout": "IPY_MODEL_26569e9c198b43c9a7c5907d8afbc9a4"
          }
        },
        "87060ff98bcc4cafbf165be1804f411d": {
          "model_module": "@jupyter-widgets/controls",
          "model_name": "ProgressStyleModel",
          "state": {
            "_view_name": "StyleView",
            "_model_name": "ProgressStyleModel",
            "description_width": "",
            "_view_module": "@jupyter-widgets/base",
            "_model_module_version": "1.5.0",
            "_view_count": null,
            "_view_module_version": "1.2.0",
            "bar_color": null,
            "_model_module": "@jupyter-widgets/controls"
          }
        },
        "26569e9c198b43c9a7c5907d8afbc9a4": {
          "model_module": "@jupyter-widgets/base",
          "model_name": "LayoutModel",
          "state": {
            "_view_name": "LayoutView",
            "grid_template_rows": null,
            "right": null,
            "justify_content": null,
            "_view_module": "@jupyter-widgets/base",
            "overflow": null,
            "_model_module_version": "1.2.0",
            "_view_count": null,
            "flex_flow": null,
            "width": "50%",
            "min_width": null,
            "border": null,
            "align_items": null,
            "bottom": null,
            "_model_module": "@jupyter-widgets/base",
            "top": null,
            "grid_column": null,
            "overflow_y": null,
            "overflow_x": null,
            "grid_auto_flow": null,
            "grid_area": null,
            "grid_template_columns": null,
            "flex": null,
            "_model_name": "LayoutModel",
            "justify_items": null,
            "grid_row": null,
            "max_height": null,
            "align_content": null,
            "visibility": null,
            "align_self": null,
            "height": "25px",
            "min_height": null,
            "padding": null,
            "grid_auto_rows": null,
            "grid_gap": null,
            "max_width": null,
            "order": null,
            "_view_module_version": "1.2.0",
            "grid_template_areas": null,
            "object_position": null,
            "object_fit": null,
            "grid_auto_columns": null,
            "margin": null,
            "display": null,
            "left": null
          }
        },
        "b20f9b4fe78646acb4fc0f3d7a9dc9e8": {
          "model_module": "@jupyter-widgets/controls",
          "model_name": "FloatProgressModel",
          "state": {
            "_view_name": "ProgressView",
            "style": "IPY_MODEL_02eda454772a43cb97973609ab78c523",
            "_dom_classes": [],
            "description": "Progress:",
            "_model_name": "FloatProgressModel",
            "bar_style": "info",
            "max": 1,
            "_view_module": "@jupyter-widgets/controls",
            "_model_module_version": "1.5.0",
            "value": 0,
            "_view_count": null,
            "_view_module_version": "1.5.0",
            "orientation": "horizontal",
            "min": 0,
            "description_tooltip": null,
            "_model_module": "@jupyter-widgets/controls",
            "layout": "IPY_MODEL_de8981d5133c44ef895f803e906c90f0"
          }
        },
        "02eda454772a43cb97973609ab78c523": {
          "model_module": "@jupyter-widgets/controls",
          "model_name": "ProgressStyleModel",
          "state": {
            "_view_name": "StyleView",
            "_model_name": "ProgressStyleModel",
            "description_width": "",
            "_view_module": "@jupyter-widgets/base",
            "_model_module_version": "1.5.0",
            "_view_count": null,
            "_view_module_version": "1.2.0",
            "bar_color": null,
            "_model_module": "@jupyter-widgets/controls"
          }
        },
        "de8981d5133c44ef895f803e906c90f0": {
          "model_module": "@jupyter-widgets/base",
          "model_name": "LayoutModel",
          "state": {
            "_view_name": "LayoutView",
            "grid_template_rows": null,
            "right": null,
            "justify_content": null,
            "_view_module": "@jupyter-widgets/base",
            "overflow": null,
            "_model_module_version": "1.2.0",
            "_view_count": null,
            "flex_flow": null,
            "width": "50%",
            "min_width": null,
            "border": null,
            "align_items": null,
            "bottom": null,
            "_model_module": "@jupyter-widgets/base",
            "top": null,
            "grid_column": null,
            "overflow_y": null,
            "overflow_x": null,
            "grid_auto_flow": null,
            "grid_area": null,
            "grid_template_columns": null,
            "flex": null,
            "_model_name": "LayoutModel",
            "justify_items": null,
            "grid_row": null,
            "max_height": null,
            "align_content": null,
            "visibility": null,
            "align_self": null,
            "height": "25px",
            "min_height": null,
            "padding": null,
            "grid_auto_rows": null,
            "grid_gap": null,
            "max_width": null,
            "order": null,
            "_view_module_version": "1.2.0",
            "grid_template_areas": null,
            "object_position": null,
            "object_fit": null,
            "grid_auto_columns": null,
            "margin": null,
            "display": null,
            "left": null
          }
        },
        "a50d7f88e1074a8eb5e31134be6faeea": {
          "model_module": "@jupyter-widgets/controls",
          "model_name": "FloatProgressModel",
          "state": {
            "_view_name": "ProgressView",
            "style": "IPY_MODEL_0922f51a610d4f7a94d6303a55368763",
            "_dom_classes": [],
            "description": "Progress:",
            "_model_name": "FloatProgressModel",
            "bar_style": "info",
            "max": 1,
            "_view_module": "@jupyter-widgets/controls",
            "_model_module_version": "1.5.0",
            "value": 0.6551724137931034,
            "_view_count": null,
            "_view_module_version": "1.5.0",
            "orientation": "horizontal",
            "min": 0,
            "description_tooltip": null,
            "_model_module": "@jupyter-widgets/controls",
            "layout": "IPY_MODEL_8025d8dfcbd04185a14b788e766d8520"
          }
        },
        "0922f51a610d4f7a94d6303a55368763": {
          "model_module": "@jupyter-widgets/controls",
          "model_name": "ProgressStyleModel",
          "state": {
            "_view_name": "StyleView",
            "_model_name": "ProgressStyleModel",
            "description_width": "",
            "_view_module": "@jupyter-widgets/base",
            "_model_module_version": "1.5.0",
            "_view_count": null,
            "_view_module_version": "1.2.0",
            "bar_color": null,
            "_model_module": "@jupyter-widgets/controls"
          }
        },
        "8025d8dfcbd04185a14b788e766d8520": {
          "model_module": "@jupyter-widgets/base",
          "model_name": "LayoutModel",
          "state": {
            "_view_name": "LayoutView",
            "grid_template_rows": null,
            "right": null,
            "justify_content": null,
            "_view_module": "@jupyter-widgets/base",
            "overflow": null,
            "_model_module_version": "1.2.0",
            "_view_count": null,
            "flex_flow": null,
            "width": "50%",
            "min_width": null,
            "border": null,
            "align_items": null,
            "bottom": null,
            "_model_module": "@jupyter-widgets/base",
            "top": null,
            "grid_column": null,
            "overflow_y": null,
            "overflow_x": null,
            "grid_auto_flow": null,
            "grid_area": null,
            "grid_template_columns": null,
            "flex": null,
            "_model_name": "LayoutModel",
            "justify_items": null,
            "grid_row": null,
            "max_height": null,
            "align_content": null,
            "visibility": null,
            "align_self": null,
            "height": "25px",
            "min_height": null,
            "padding": null,
            "grid_auto_rows": null,
            "grid_gap": null,
            "max_width": null,
            "order": null,
            "_view_module_version": "1.2.0",
            "grid_template_areas": null,
            "object_position": null,
            "object_fit": null,
            "grid_auto_columns": null,
            "margin": null,
            "display": null,
            "left": null
          }
        },
        "6f583cabd4074ee7942f84f7bd99cc55": {
          "model_module": "@jupyter-widgets/controls",
          "model_name": "FloatProgressModel",
          "state": {
            "_view_name": "ProgressView",
            "style": "IPY_MODEL_ffc79bb876394da89e7f5aed0bea06a4",
            "_dom_classes": [],
            "description": "Progress:",
            "_model_name": "FloatProgressModel",
            "bar_style": "info",
            "max": 1,
            "_view_module": "@jupyter-widgets/controls",
            "_model_module_version": "1.5.0",
            "value": 0.5517241379310345,
            "_view_count": null,
            "_view_module_version": "1.5.0",
            "orientation": "horizontal",
            "min": 0,
            "description_tooltip": null,
            "_model_module": "@jupyter-widgets/controls",
            "layout": "IPY_MODEL_579bef23f3aa44fb9125e01c8e22ca93"
          }
        },
        "ffc79bb876394da89e7f5aed0bea06a4": {
          "model_module": "@jupyter-widgets/controls",
          "model_name": "ProgressStyleModel",
          "state": {
            "_view_name": "StyleView",
            "_model_name": "ProgressStyleModel",
            "description_width": "",
            "_view_module": "@jupyter-widgets/base",
            "_model_module_version": "1.5.0",
            "_view_count": null,
            "_view_module_version": "1.2.0",
            "bar_color": null,
            "_model_module": "@jupyter-widgets/controls"
          }
        },
        "579bef23f3aa44fb9125e01c8e22ca93": {
          "model_module": "@jupyter-widgets/base",
          "model_name": "LayoutModel",
          "state": {
            "_view_name": "LayoutView",
            "grid_template_rows": null,
            "right": null,
            "justify_content": null,
            "_view_module": "@jupyter-widgets/base",
            "overflow": null,
            "_model_module_version": "1.2.0",
            "_view_count": null,
            "flex_flow": null,
            "width": "50%",
            "min_width": null,
            "border": null,
            "align_items": null,
            "bottom": null,
            "_model_module": "@jupyter-widgets/base",
            "top": null,
            "grid_column": null,
            "overflow_y": null,
            "overflow_x": null,
            "grid_auto_flow": null,
            "grid_area": null,
            "grid_template_columns": null,
            "flex": null,
            "_model_name": "LayoutModel",
            "justify_items": null,
            "grid_row": null,
            "max_height": null,
            "align_content": null,
            "visibility": null,
            "align_self": null,
            "height": "25px",
            "min_height": null,
            "padding": null,
            "grid_auto_rows": null,
            "grid_gap": null,
            "max_width": null,
            "order": null,
            "_view_module_version": "1.2.0",
            "grid_template_areas": null,
            "object_position": null,
            "object_fit": null,
            "grid_auto_columns": null,
            "margin": null,
            "display": null,
            "left": null
          }
        },
        "77ab87e1815a47a58a14b4953cfda079": {
          "model_module": "@jupyter-widgets/controls",
          "model_name": "FloatProgressModel",
          "state": {
            "_view_name": "ProgressView",
            "style": "IPY_MODEL_60886390f872403f892c8de23915b8f8",
            "_dom_classes": [],
            "description": "Progress:",
            "_model_name": "FloatProgressModel",
            "bar_style": "info",
            "max": 1,
            "_view_module": "@jupyter-widgets/controls",
            "_model_module_version": "1.5.0",
            "value": 0,
            "_view_count": null,
            "_view_module_version": "1.5.0",
            "orientation": "horizontal",
            "min": 0,
            "description_tooltip": null,
            "_model_module": "@jupyter-widgets/controls",
            "layout": "IPY_MODEL_30283b47e51f4d8584f611796a173b56"
          }
        },
        "60886390f872403f892c8de23915b8f8": {
          "model_module": "@jupyter-widgets/controls",
          "model_name": "ProgressStyleModel",
          "state": {
            "_view_name": "StyleView",
            "_model_name": "ProgressStyleModel",
            "description_width": "",
            "_view_module": "@jupyter-widgets/base",
            "_model_module_version": "1.5.0",
            "_view_count": null,
            "_view_module_version": "1.2.0",
            "bar_color": null,
            "_model_module": "@jupyter-widgets/controls"
          }
        },
        "30283b47e51f4d8584f611796a173b56": {
          "model_module": "@jupyter-widgets/base",
          "model_name": "LayoutModel",
          "state": {
            "_view_name": "LayoutView",
            "grid_template_rows": null,
            "right": null,
            "justify_content": null,
            "_view_module": "@jupyter-widgets/base",
            "overflow": null,
            "_model_module_version": "1.2.0",
            "_view_count": null,
            "flex_flow": null,
            "width": "50%",
            "min_width": null,
            "border": null,
            "align_items": null,
            "bottom": null,
            "_model_module": "@jupyter-widgets/base",
            "top": null,
            "grid_column": null,
            "overflow_y": null,
            "overflow_x": null,
            "grid_auto_flow": null,
            "grid_area": null,
            "grid_template_columns": null,
            "flex": null,
            "_model_name": "LayoutModel",
            "justify_items": null,
            "grid_row": null,
            "max_height": null,
            "align_content": null,
            "visibility": null,
            "align_self": null,
            "height": "25px",
            "min_height": null,
            "padding": null,
            "grid_auto_rows": null,
            "grid_gap": null,
            "max_width": null,
            "order": null,
            "_view_module_version": "1.2.0",
            "grid_template_areas": null,
            "object_position": null,
            "object_fit": null,
            "grid_auto_columns": null,
            "margin": null,
            "display": null,
            "left": null
          }
        },
        "43c4d3d6ac874fe59a8525ef105f1dad": {
          "model_module": "@jupyter-widgets/controls",
          "model_name": "FloatProgressModel",
          "state": {
            "_view_name": "ProgressView",
            "style": "IPY_MODEL_55f005c12e0b4eb0ad5d2327d315c285",
            "_dom_classes": [],
            "description": "Progress:",
            "_model_name": "FloatProgressModel",
            "bar_style": "info",
            "max": 1,
            "_view_module": "@jupyter-widgets/controls",
            "_model_module_version": "1.5.0",
            "value": 0.3135593220338983,
            "_view_count": null,
            "_view_module_version": "1.5.0",
            "orientation": "horizontal",
            "min": 0,
            "description_tooltip": null,
            "_model_module": "@jupyter-widgets/controls",
            "layout": "IPY_MODEL_4edfb73fc4ff477581772d978eb76390"
          }
        },
        "55f005c12e0b4eb0ad5d2327d315c285": {
          "model_module": "@jupyter-widgets/controls",
          "model_name": "ProgressStyleModel",
          "state": {
            "_view_name": "StyleView",
            "_model_name": "ProgressStyleModel",
            "description_width": "",
            "_view_module": "@jupyter-widgets/base",
            "_model_module_version": "1.5.0",
            "_view_count": null,
            "_view_module_version": "1.2.0",
            "bar_color": null,
            "_model_module": "@jupyter-widgets/controls"
          }
        },
        "4edfb73fc4ff477581772d978eb76390": {
          "model_module": "@jupyter-widgets/base",
          "model_name": "LayoutModel",
          "state": {
            "_view_name": "LayoutView",
            "grid_template_rows": null,
            "right": null,
            "justify_content": null,
            "_view_module": "@jupyter-widgets/base",
            "overflow": null,
            "_model_module_version": "1.2.0",
            "_view_count": null,
            "flex_flow": null,
            "width": "50%",
            "min_width": null,
            "border": null,
            "align_items": null,
            "bottom": null,
            "_model_module": "@jupyter-widgets/base",
            "top": null,
            "grid_column": null,
            "overflow_y": null,
            "overflow_x": null,
            "grid_auto_flow": null,
            "grid_area": null,
            "grid_template_columns": null,
            "flex": null,
            "_model_name": "LayoutModel",
            "justify_items": null,
            "grid_row": null,
            "max_height": null,
            "align_content": null,
            "visibility": null,
            "align_self": null,
            "height": "25px",
            "min_height": null,
            "padding": null,
            "grid_auto_rows": null,
            "grid_gap": null,
            "max_width": null,
            "order": null,
            "_view_module_version": "1.2.0",
            "grid_template_areas": null,
            "object_position": null,
            "object_fit": null,
            "grid_auto_columns": null,
            "margin": null,
            "display": null,
            "left": null
          }
        },
        "3d929b10801e44d5a9dfb013f68f6aec": {
          "model_module": "@jupyter-widgets/controls",
          "model_name": "FloatProgressModel",
          "state": {
            "_view_name": "ProgressView",
            "style": "IPY_MODEL_f8745954fe2a456aac4ff256b9e81b8a",
            "_dom_classes": [],
            "description": "Progress:",
            "_model_name": "FloatProgressModel",
            "bar_style": "info",
            "max": 1,
            "_view_module": "@jupyter-widgets/controls",
            "_model_module_version": "1.5.0",
            "value": 0.6551724137931034,
            "_view_count": null,
            "_view_module_version": "1.5.0",
            "orientation": "horizontal",
            "min": 0,
            "description_tooltip": null,
            "_model_module": "@jupyter-widgets/controls",
            "layout": "IPY_MODEL_88c35f14f569481a9ba01090f740a031"
          }
        },
        "f8745954fe2a456aac4ff256b9e81b8a": {
          "model_module": "@jupyter-widgets/controls",
          "model_name": "ProgressStyleModel",
          "state": {
            "_view_name": "StyleView",
            "_model_name": "ProgressStyleModel",
            "description_width": "",
            "_view_module": "@jupyter-widgets/base",
            "_model_module_version": "1.5.0",
            "_view_count": null,
            "_view_module_version": "1.2.0",
            "bar_color": null,
            "_model_module": "@jupyter-widgets/controls"
          }
        },
        "88c35f14f569481a9ba01090f740a031": {
          "model_module": "@jupyter-widgets/base",
          "model_name": "LayoutModel",
          "state": {
            "_view_name": "LayoutView",
            "grid_template_rows": null,
            "right": null,
            "justify_content": null,
            "_view_module": "@jupyter-widgets/base",
            "overflow": null,
            "_model_module_version": "1.2.0",
            "_view_count": null,
            "flex_flow": null,
            "width": "50%",
            "min_width": null,
            "border": null,
            "align_items": null,
            "bottom": null,
            "_model_module": "@jupyter-widgets/base",
            "top": null,
            "grid_column": null,
            "overflow_y": null,
            "overflow_x": null,
            "grid_auto_flow": null,
            "grid_area": null,
            "grid_template_columns": null,
            "flex": null,
            "_model_name": "LayoutModel",
            "justify_items": null,
            "grid_row": null,
            "max_height": null,
            "align_content": null,
            "visibility": null,
            "align_self": null,
            "height": "25px",
            "min_height": null,
            "padding": null,
            "grid_auto_rows": null,
            "grid_gap": null,
            "max_width": null,
            "order": null,
            "_view_module_version": "1.2.0",
            "grid_template_areas": null,
            "object_position": null,
            "object_fit": null,
            "grid_auto_columns": null,
            "margin": null,
            "display": null,
            "left": null
          }
        },
        "a6dc05f6134147d8be1bdbbd0ee4aed3": {
          "model_module": "@jupyter-widgets/controls",
          "model_name": "FloatProgressModel",
          "state": {
            "_view_name": "ProgressView",
            "style": "IPY_MODEL_3cff0266985a405fba1df6351f05f015",
            "_dom_classes": [],
            "description": "Progress:",
            "_model_name": "FloatProgressModel",
            "bar_style": "info",
            "max": 1,
            "_view_module": "@jupyter-widgets/controls",
            "_model_module_version": "1.5.0",
            "value": 0,
            "_view_count": null,
            "_view_module_version": "1.5.0",
            "orientation": "horizontal",
            "min": 0,
            "description_tooltip": null,
            "_model_module": "@jupyter-widgets/controls",
            "layout": "IPY_MODEL_51272bf8d5a04f2ea8d21a4c55f3828c"
          }
        },
        "3cff0266985a405fba1df6351f05f015": {
          "model_module": "@jupyter-widgets/controls",
          "model_name": "ProgressStyleModel",
          "state": {
            "_view_name": "StyleView",
            "_model_name": "ProgressStyleModel",
            "description_width": "",
            "_view_module": "@jupyter-widgets/base",
            "_model_module_version": "1.5.0",
            "_view_count": null,
            "_view_module_version": "1.2.0",
            "bar_color": null,
            "_model_module": "@jupyter-widgets/controls"
          }
        },
        "51272bf8d5a04f2ea8d21a4c55f3828c": {
          "model_module": "@jupyter-widgets/base",
          "model_name": "LayoutModel",
          "state": {
            "_view_name": "LayoutView",
            "grid_template_rows": null,
            "right": null,
            "justify_content": null,
            "_view_module": "@jupyter-widgets/base",
            "overflow": null,
            "_model_module_version": "1.2.0",
            "_view_count": null,
            "flex_flow": null,
            "width": "50%",
            "min_width": null,
            "border": null,
            "align_items": null,
            "bottom": null,
            "_model_module": "@jupyter-widgets/base",
            "top": null,
            "grid_column": null,
            "overflow_y": null,
            "overflow_x": null,
            "grid_auto_flow": null,
            "grid_area": null,
            "grid_template_columns": null,
            "flex": null,
            "_model_name": "LayoutModel",
            "justify_items": null,
            "grid_row": null,
            "max_height": null,
            "align_content": null,
            "visibility": null,
            "align_self": null,
            "height": "25px",
            "min_height": null,
            "padding": null,
            "grid_auto_rows": null,
            "grid_gap": null,
            "max_width": null,
            "order": null,
            "_view_module_version": "1.2.0",
            "grid_template_areas": null,
            "object_position": null,
            "object_fit": null,
            "grid_auto_columns": null,
            "margin": null,
            "display": null,
            "left": null
          }
        },
        "de30ec741ba746a99ba47315f6b0b879": {
          "model_module": "@jupyter-widgets/controls",
          "model_name": "FloatProgressModel",
          "state": {
            "_view_name": "ProgressView",
            "style": "IPY_MODEL_3786eb58d06d4a349bfa075a90d7616a",
            "_dom_classes": [],
            "description": "Progress:",
            "_model_name": "FloatProgressModel",
            "bar_style": "info",
            "max": 1,
            "_view_module": "@jupyter-widgets/controls",
            "_model_module_version": "1.5.0",
            "value": 0,
            "_view_count": null,
            "_view_module_version": "1.5.0",
            "orientation": "horizontal",
            "min": 0,
            "description_tooltip": null,
            "_model_module": "@jupyter-widgets/controls",
            "layout": "IPY_MODEL_0db93e69707c46b69a451886d58a29c4"
          }
        },
        "3786eb58d06d4a349bfa075a90d7616a": {
          "model_module": "@jupyter-widgets/controls",
          "model_name": "ProgressStyleModel",
          "state": {
            "_view_name": "StyleView",
            "_model_name": "ProgressStyleModel",
            "description_width": "",
            "_view_module": "@jupyter-widgets/base",
            "_model_module_version": "1.5.0",
            "_view_count": null,
            "_view_module_version": "1.2.0",
            "bar_color": null,
            "_model_module": "@jupyter-widgets/controls"
          }
        },
        "0db93e69707c46b69a451886d58a29c4": {
          "model_module": "@jupyter-widgets/base",
          "model_name": "LayoutModel",
          "state": {
            "_view_name": "LayoutView",
            "grid_template_rows": null,
            "right": null,
            "justify_content": null,
            "_view_module": "@jupyter-widgets/base",
            "overflow": null,
            "_model_module_version": "1.2.0",
            "_view_count": null,
            "flex_flow": null,
            "width": "50%",
            "min_width": null,
            "border": null,
            "align_items": null,
            "bottom": null,
            "_model_module": "@jupyter-widgets/base",
            "top": null,
            "grid_column": null,
            "overflow_y": null,
            "overflow_x": null,
            "grid_auto_flow": null,
            "grid_area": null,
            "grid_template_columns": null,
            "flex": null,
            "_model_name": "LayoutModel",
            "justify_items": null,
            "grid_row": null,
            "max_height": null,
            "align_content": null,
            "visibility": null,
            "align_self": null,
            "height": "25px",
            "min_height": null,
            "padding": null,
            "grid_auto_rows": null,
            "grid_gap": null,
            "max_width": null,
            "order": null,
            "_view_module_version": "1.2.0",
            "grid_template_areas": null,
            "object_position": null,
            "object_fit": null,
            "grid_auto_columns": null,
            "margin": null,
            "display": null,
            "left": null
          }
        },
        "76efa02793d446c4a1cdbb238ac0ae6a": {
          "model_module": "@jupyter-widgets/controls",
          "model_name": "FloatProgressModel",
          "state": {
            "_view_name": "ProgressView",
            "style": "IPY_MODEL_661c3fd5592b41db8c0844afcdd80909",
            "_dom_classes": [],
            "description": "Progress:",
            "_model_name": "FloatProgressModel",
            "bar_style": "info",
            "max": 1,
            "_view_module": "@jupyter-widgets/controls",
            "_model_module_version": "1.5.0",
            "value": 0.6078431372549019,
            "_view_count": null,
            "_view_module_version": "1.5.0",
            "orientation": "horizontal",
            "min": 0,
            "description_tooltip": null,
            "_model_module": "@jupyter-widgets/controls",
            "layout": "IPY_MODEL_b5e7724d28ca47909f98dba3a0592fe5"
          }
        },
        "661c3fd5592b41db8c0844afcdd80909": {
          "model_module": "@jupyter-widgets/controls",
          "model_name": "ProgressStyleModel",
          "state": {
            "_view_name": "StyleView",
            "_model_name": "ProgressStyleModel",
            "description_width": "",
            "_view_module": "@jupyter-widgets/base",
            "_model_module_version": "1.5.0",
            "_view_count": null,
            "_view_module_version": "1.2.0",
            "bar_color": null,
            "_model_module": "@jupyter-widgets/controls"
          }
        },
        "b5e7724d28ca47909f98dba3a0592fe5": {
          "model_module": "@jupyter-widgets/base",
          "model_name": "LayoutModel",
          "state": {
            "_view_name": "LayoutView",
            "grid_template_rows": null,
            "right": null,
            "justify_content": null,
            "_view_module": "@jupyter-widgets/base",
            "overflow": null,
            "_model_module_version": "1.2.0",
            "_view_count": null,
            "flex_flow": null,
            "width": "50%",
            "min_width": null,
            "border": null,
            "align_items": null,
            "bottom": null,
            "_model_module": "@jupyter-widgets/base",
            "top": null,
            "grid_column": null,
            "overflow_y": null,
            "overflow_x": null,
            "grid_auto_flow": null,
            "grid_area": null,
            "grid_template_columns": null,
            "flex": null,
            "_model_name": "LayoutModel",
            "justify_items": null,
            "grid_row": null,
            "max_height": null,
            "align_content": null,
            "visibility": null,
            "align_self": null,
            "height": "25px",
            "min_height": null,
            "padding": null,
            "grid_auto_rows": null,
            "grid_gap": null,
            "max_width": null,
            "order": null,
            "_view_module_version": "1.2.0",
            "grid_template_areas": null,
            "object_position": null,
            "object_fit": null,
            "grid_auto_columns": null,
            "margin": null,
            "display": null,
            "left": null
          }
        },
        "3839cba2494e444cb2f423736b502ea5": {
          "model_module": "@jupyter-widgets/controls",
          "model_name": "FloatProgressModel",
          "state": {
            "_view_name": "ProgressView",
            "style": "IPY_MODEL_9632333f07fb442a8d442b0bf68e6bca",
            "_dom_classes": [],
            "description": "Progress:",
            "_model_name": "FloatProgressModel",
            "bar_style": "info",
            "max": 1,
            "_view_module": "@jupyter-widgets/controls",
            "_model_module_version": "1.5.0",
            "value": 0.5196078431372549,
            "_view_count": null,
            "_view_module_version": "1.5.0",
            "orientation": "horizontal",
            "min": 0,
            "description_tooltip": null,
            "_model_module": "@jupyter-widgets/controls",
            "layout": "IPY_MODEL_e99037b4152748a7a104b90b978d6345"
          }
        },
        "9632333f07fb442a8d442b0bf68e6bca": {
          "model_module": "@jupyter-widgets/controls",
          "model_name": "ProgressStyleModel",
          "state": {
            "_view_name": "StyleView",
            "_model_name": "ProgressStyleModel",
            "description_width": "",
            "_view_module": "@jupyter-widgets/base",
            "_model_module_version": "1.5.0",
            "_view_count": null,
            "_view_module_version": "1.2.0",
            "bar_color": null,
            "_model_module": "@jupyter-widgets/controls"
          }
        },
        "e99037b4152748a7a104b90b978d6345": {
          "model_module": "@jupyter-widgets/base",
          "model_name": "LayoutModel",
          "state": {
            "_view_name": "LayoutView",
            "grid_template_rows": null,
            "right": null,
            "justify_content": null,
            "_view_module": "@jupyter-widgets/base",
            "overflow": null,
            "_model_module_version": "1.2.0",
            "_view_count": null,
            "flex_flow": null,
            "width": "50%",
            "min_width": null,
            "border": null,
            "align_items": null,
            "bottom": null,
            "_model_module": "@jupyter-widgets/base",
            "top": null,
            "grid_column": null,
            "overflow_y": null,
            "overflow_x": null,
            "grid_auto_flow": null,
            "grid_area": null,
            "grid_template_columns": null,
            "flex": null,
            "_model_name": "LayoutModel",
            "justify_items": null,
            "grid_row": null,
            "max_height": null,
            "align_content": null,
            "visibility": null,
            "align_self": null,
            "height": "25px",
            "min_height": null,
            "padding": null,
            "grid_auto_rows": null,
            "grid_gap": null,
            "max_width": null,
            "order": null,
            "_view_module_version": "1.2.0",
            "grid_template_areas": null,
            "object_position": null,
            "object_fit": null,
            "grid_auto_columns": null,
            "margin": null,
            "display": null,
            "left": null
          }
        },
        "aaabaad8247e47c08c3951805551d6a1": {
          "model_module": "@jupyter-widgets/controls",
          "model_name": "FloatProgressModel",
          "state": {
            "_view_name": "ProgressView",
            "style": "IPY_MODEL_8486d50fc1bf458b995bf0f9691c5015",
            "_dom_classes": [],
            "description": "Progress:",
            "_model_name": "FloatProgressModel",
            "bar_style": "info",
            "max": 1,
            "_view_module": "@jupyter-widgets/controls",
            "_model_module_version": "1.5.0",
            "value": 0,
            "_view_count": null,
            "_view_module_version": "1.5.0",
            "orientation": "horizontal",
            "min": 0,
            "description_tooltip": null,
            "_model_module": "@jupyter-widgets/controls",
            "layout": "IPY_MODEL_ab9228ec2e194580858c9de472025044"
          }
        },
        "8486d50fc1bf458b995bf0f9691c5015": {
          "model_module": "@jupyter-widgets/controls",
          "model_name": "ProgressStyleModel",
          "state": {
            "_view_name": "StyleView",
            "_model_name": "ProgressStyleModel",
            "description_width": "",
            "_view_module": "@jupyter-widgets/base",
            "_model_module_version": "1.5.0",
            "_view_count": null,
            "_view_module_version": "1.2.0",
            "bar_color": null,
            "_model_module": "@jupyter-widgets/controls"
          }
        },
        "ab9228ec2e194580858c9de472025044": {
          "model_module": "@jupyter-widgets/base",
          "model_name": "LayoutModel",
          "state": {
            "_view_name": "LayoutView",
            "grid_template_rows": null,
            "right": null,
            "justify_content": null,
            "_view_module": "@jupyter-widgets/base",
            "overflow": null,
            "_model_module_version": "1.2.0",
            "_view_count": null,
            "flex_flow": null,
            "width": "50%",
            "min_width": null,
            "border": null,
            "align_items": null,
            "bottom": null,
            "_model_module": "@jupyter-widgets/base",
            "top": null,
            "grid_column": null,
            "overflow_y": null,
            "overflow_x": null,
            "grid_auto_flow": null,
            "grid_area": null,
            "grid_template_columns": null,
            "flex": null,
            "_model_name": "LayoutModel",
            "justify_items": null,
            "grid_row": null,
            "max_height": null,
            "align_content": null,
            "visibility": null,
            "align_self": null,
            "height": "25px",
            "min_height": null,
            "padding": null,
            "grid_auto_rows": null,
            "grid_gap": null,
            "max_width": null,
            "order": null,
            "_view_module_version": "1.2.0",
            "grid_template_areas": null,
            "object_position": null,
            "object_fit": null,
            "grid_auto_columns": null,
            "margin": null,
            "display": null,
            "left": null
          }
        },
        "5724498d3a2d4fca8835e5f4efcb1e71": {
          "model_module": "@jupyter-widgets/controls",
          "model_name": "FloatProgressModel",
          "state": {
            "_view_name": "ProgressView",
            "style": "IPY_MODEL_ce5e089837b0406b92194d0046c4e77e",
            "_dom_classes": [],
            "description": "Progress:",
            "_model_name": "FloatProgressModel",
            "bar_style": "info",
            "max": 1,
            "_view_module": "@jupyter-widgets/controls",
            "_model_module_version": "1.5.0",
            "value": 0,
            "_view_count": null,
            "_view_module_version": "1.5.0",
            "orientation": "horizontal",
            "min": 0,
            "description_tooltip": null,
            "_model_module": "@jupyter-widgets/controls",
            "layout": "IPY_MODEL_62462bba77a541a1919ef14a89dcad5e"
          }
        },
        "ce5e089837b0406b92194d0046c4e77e": {
          "model_module": "@jupyter-widgets/controls",
          "model_name": "ProgressStyleModel",
          "state": {
            "_view_name": "StyleView",
            "_model_name": "ProgressStyleModel",
            "description_width": "",
            "_view_module": "@jupyter-widgets/base",
            "_model_module_version": "1.5.0",
            "_view_count": null,
            "_view_module_version": "1.2.0",
            "bar_color": null,
            "_model_module": "@jupyter-widgets/controls"
          }
        },
        "62462bba77a541a1919ef14a89dcad5e": {
          "model_module": "@jupyter-widgets/base",
          "model_name": "LayoutModel",
          "state": {
            "_view_name": "LayoutView",
            "grid_template_rows": null,
            "right": null,
            "justify_content": null,
            "_view_module": "@jupyter-widgets/base",
            "overflow": null,
            "_model_module_version": "1.2.0",
            "_view_count": null,
            "flex_flow": null,
            "width": "50%",
            "min_width": null,
            "border": null,
            "align_items": null,
            "bottom": null,
            "_model_module": "@jupyter-widgets/base",
            "top": null,
            "grid_column": null,
            "overflow_y": null,
            "overflow_x": null,
            "grid_auto_flow": null,
            "grid_area": null,
            "grid_template_columns": null,
            "flex": null,
            "_model_name": "LayoutModel",
            "justify_items": null,
            "grid_row": null,
            "max_height": null,
            "align_content": null,
            "visibility": null,
            "align_self": null,
            "height": "25px",
            "min_height": null,
            "padding": null,
            "grid_auto_rows": null,
            "grid_gap": null,
            "max_width": null,
            "order": null,
            "_view_module_version": "1.2.0",
            "grid_template_areas": null,
            "object_position": null,
            "object_fit": null,
            "grid_auto_columns": null,
            "margin": null,
            "display": null,
            "left": null
          }
        },
        "9bb588353346450da1e9d7c021652241": {
          "model_module": "@jupyter-widgets/controls",
          "model_name": "FloatProgressModel",
          "state": {
            "_view_name": "ProgressView",
            "style": "IPY_MODEL_a76756507377488aadbcacdc701322fb",
            "_dom_classes": [],
            "description": "Progress:",
            "_model_name": "FloatProgressModel",
            "bar_style": "info",
            "max": 1,
            "_view_module": "@jupyter-widgets/controls",
            "_model_module_version": "1.5.0",
            "value": 0,
            "_view_count": null,
            "_view_module_version": "1.5.0",
            "orientation": "horizontal",
            "min": 0,
            "description_tooltip": null,
            "_model_module": "@jupyter-widgets/controls",
            "layout": "IPY_MODEL_77a6aa41f549470bb539fa0957532510"
          }
        },
        "a76756507377488aadbcacdc701322fb": {
          "model_module": "@jupyter-widgets/controls",
          "model_name": "ProgressStyleModel",
          "state": {
            "_view_name": "StyleView",
            "_model_name": "ProgressStyleModel",
            "description_width": "",
            "_view_module": "@jupyter-widgets/base",
            "_model_module_version": "1.5.0",
            "_view_count": null,
            "_view_module_version": "1.2.0",
            "bar_color": null,
            "_model_module": "@jupyter-widgets/controls"
          }
        },
        "77a6aa41f549470bb539fa0957532510": {
          "model_module": "@jupyter-widgets/base",
          "model_name": "LayoutModel",
          "state": {
            "_view_name": "LayoutView",
            "grid_template_rows": null,
            "right": null,
            "justify_content": null,
            "_view_module": "@jupyter-widgets/base",
            "overflow": null,
            "_model_module_version": "1.2.0",
            "_view_count": null,
            "flex_flow": null,
            "width": "50%",
            "min_width": null,
            "border": null,
            "align_items": null,
            "bottom": null,
            "_model_module": "@jupyter-widgets/base",
            "top": null,
            "grid_column": null,
            "overflow_y": null,
            "overflow_x": null,
            "grid_auto_flow": null,
            "grid_area": null,
            "grid_template_columns": null,
            "flex": null,
            "_model_name": "LayoutModel",
            "justify_items": null,
            "grid_row": null,
            "max_height": null,
            "align_content": null,
            "visibility": null,
            "align_self": null,
            "height": "25px",
            "min_height": null,
            "padding": null,
            "grid_auto_rows": null,
            "grid_gap": null,
            "max_width": null,
            "order": null,
            "_view_module_version": "1.2.0",
            "grid_template_areas": null,
            "object_position": null,
            "object_fit": null,
            "grid_auto_columns": null,
            "margin": null,
            "display": null,
            "left": null
          }
        },
        "06c4ca957fdf49be94c04e8dab4e0c79": {
          "model_module": "@jupyter-widgets/controls",
          "model_name": "FloatProgressModel",
          "state": {
            "_view_name": "ProgressView",
            "style": "IPY_MODEL_9fece517e1bb4705b2d2464a830836e3",
            "_dom_classes": [],
            "description": "Progress:",
            "_model_name": "FloatProgressModel",
            "bar_style": "info",
            "max": 1,
            "_view_module": "@jupyter-widgets/controls",
            "_model_module_version": "1.5.0",
            "value": 0.41379310344827586,
            "_view_count": null,
            "_view_module_version": "1.5.0",
            "orientation": "horizontal",
            "min": 0,
            "description_tooltip": null,
            "_model_module": "@jupyter-widgets/controls",
            "layout": "IPY_MODEL_8c62bdfd47cc47999ce9301dfd6fa3b6"
          }
        },
        "9fece517e1bb4705b2d2464a830836e3": {
          "model_module": "@jupyter-widgets/controls",
          "model_name": "ProgressStyleModel",
          "state": {
            "_view_name": "StyleView",
            "_model_name": "ProgressStyleModel",
            "description_width": "",
            "_view_module": "@jupyter-widgets/base",
            "_model_module_version": "1.5.0",
            "_view_count": null,
            "_view_module_version": "1.2.0",
            "bar_color": null,
            "_model_module": "@jupyter-widgets/controls"
          }
        },
        "8c62bdfd47cc47999ce9301dfd6fa3b6": {
          "model_module": "@jupyter-widgets/base",
          "model_name": "LayoutModel",
          "state": {
            "_view_name": "LayoutView",
            "grid_template_rows": null,
            "right": null,
            "justify_content": null,
            "_view_module": "@jupyter-widgets/base",
            "overflow": null,
            "_model_module_version": "1.2.0",
            "_view_count": null,
            "flex_flow": null,
            "width": "50%",
            "min_width": null,
            "border": null,
            "align_items": null,
            "bottom": null,
            "_model_module": "@jupyter-widgets/base",
            "top": null,
            "grid_column": null,
            "overflow_y": null,
            "overflow_x": null,
            "grid_auto_flow": null,
            "grid_area": null,
            "grid_template_columns": null,
            "flex": null,
            "_model_name": "LayoutModel",
            "justify_items": null,
            "grid_row": null,
            "max_height": null,
            "align_content": null,
            "visibility": null,
            "align_self": null,
            "height": "25px",
            "min_height": null,
            "padding": null,
            "grid_auto_rows": null,
            "grid_gap": null,
            "max_width": null,
            "order": null,
            "_view_module_version": "1.2.0",
            "grid_template_areas": null,
            "object_position": null,
            "object_fit": null,
            "grid_auto_columns": null,
            "margin": null,
            "display": null,
            "left": null
          }
        },
        "ed4be93cce0147d1b76681d2df072d04": {
          "model_module": "@jupyter-widgets/controls",
          "model_name": "FloatProgressModel",
          "state": {
            "_view_name": "ProgressView",
            "style": "IPY_MODEL_7862f470338b4a1390d557079bbfba9d",
            "_dom_classes": [],
            "description": "Progress:",
            "_model_name": "FloatProgressModel",
            "bar_style": "info",
            "max": 1,
            "_view_module": "@jupyter-widgets/controls",
            "_model_module_version": "1.5.0",
            "value": 0.5517241379310345,
            "_view_count": null,
            "_view_module_version": "1.5.0",
            "orientation": "horizontal",
            "min": 0,
            "description_tooltip": null,
            "_model_module": "@jupyter-widgets/controls",
            "layout": "IPY_MODEL_ccf60531147f4c0e93add8f2edb0c23f"
          }
        },
        "7862f470338b4a1390d557079bbfba9d": {
          "model_module": "@jupyter-widgets/controls",
          "model_name": "ProgressStyleModel",
          "state": {
            "_view_name": "StyleView",
            "_model_name": "ProgressStyleModel",
            "description_width": "",
            "_view_module": "@jupyter-widgets/base",
            "_model_module_version": "1.5.0",
            "_view_count": null,
            "_view_module_version": "1.2.0",
            "bar_color": null,
            "_model_module": "@jupyter-widgets/controls"
          }
        },
        "ccf60531147f4c0e93add8f2edb0c23f": {
          "model_module": "@jupyter-widgets/base",
          "model_name": "LayoutModel",
          "state": {
            "_view_name": "LayoutView",
            "grid_template_rows": null,
            "right": null,
            "justify_content": null,
            "_view_module": "@jupyter-widgets/base",
            "overflow": null,
            "_model_module_version": "1.2.0",
            "_view_count": null,
            "flex_flow": null,
            "width": "50%",
            "min_width": null,
            "border": null,
            "align_items": null,
            "bottom": null,
            "_model_module": "@jupyter-widgets/base",
            "top": null,
            "grid_column": null,
            "overflow_y": null,
            "overflow_x": null,
            "grid_auto_flow": null,
            "grid_area": null,
            "grid_template_columns": null,
            "flex": null,
            "_model_name": "LayoutModel",
            "justify_items": null,
            "grid_row": null,
            "max_height": null,
            "align_content": null,
            "visibility": null,
            "align_self": null,
            "height": "25px",
            "min_height": null,
            "padding": null,
            "grid_auto_rows": null,
            "grid_gap": null,
            "max_width": null,
            "order": null,
            "_view_module_version": "1.2.0",
            "grid_template_areas": null,
            "object_position": null,
            "object_fit": null,
            "grid_auto_columns": null,
            "margin": null,
            "display": null,
            "left": null
          }
        },
        "4550afcfacde4757a4524c8601aba7dc": {
          "model_module": "@jupyter-widgets/controls",
          "model_name": "FloatProgressModel",
          "state": {
            "_view_name": "ProgressView",
            "style": "IPY_MODEL_cc22a99f389546fc83bd508adb126baf",
            "_dom_classes": [],
            "description": "Progress:",
            "_model_name": "FloatProgressModel",
            "bar_style": "info",
            "max": 1,
            "_view_module": "@jupyter-widgets/controls",
            "_model_module_version": "1.5.0",
            "value": 0.5517241379310345,
            "_view_count": null,
            "_view_module_version": "1.5.0",
            "orientation": "horizontal",
            "min": 0,
            "description_tooltip": null,
            "_model_module": "@jupyter-widgets/controls",
            "layout": "IPY_MODEL_2fb44f4cde3f4d66bca8a5e58858c4e2"
          }
        },
        "cc22a99f389546fc83bd508adb126baf": {
          "model_module": "@jupyter-widgets/controls",
          "model_name": "ProgressStyleModel",
          "state": {
            "_view_name": "StyleView",
            "_model_name": "ProgressStyleModel",
            "description_width": "",
            "_view_module": "@jupyter-widgets/base",
            "_model_module_version": "1.5.0",
            "_view_count": null,
            "_view_module_version": "1.2.0",
            "bar_color": null,
            "_model_module": "@jupyter-widgets/controls"
          }
        },
        "2fb44f4cde3f4d66bca8a5e58858c4e2": {
          "model_module": "@jupyter-widgets/base",
          "model_name": "LayoutModel",
          "state": {
            "_view_name": "LayoutView",
            "grid_template_rows": null,
            "right": null,
            "justify_content": null,
            "_view_module": "@jupyter-widgets/base",
            "overflow": null,
            "_model_module_version": "1.2.0",
            "_view_count": null,
            "flex_flow": null,
            "width": "50%",
            "min_width": null,
            "border": null,
            "align_items": null,
            "bottom": null,
            "_model_module": "@jupyter-widgets/base",
            "top": null,
            "grid_column": null,
            "overflow_y": null,
            "overflow_x": null,
            "grid_auto_flow": null,
            "grid_area": null,
            "grid_template_columns": null,
            "flex": null,
            "_model_name": "LayoutModel",
            "justify_items": null,
            "grid_row": null,
            "max_height": null,
            "align_content": null,
            "visibility": null,
            "align_self": null,
            "height": "25px",
            "min_height": null,
            "padding": null,
            "grid_auto_rows": null,
            "grid_gap": null,
            "max_width": null,
            "order": null,
            "_view_module_version": "1.2.0",
            "grid_template_areas": null,
            "object_position": null,
            "object_fit": null,
            "grid_auto_columns": null,
            "margin": null,
            "display": null,
            "left": null
          }
        },
        "ff1d5320aeec4c2aaafe3e55db859445": {
          "model_module": "@jupyter-widgets/controls",
          "model_name": "FloatProgressModel",
          "state": {
            "_view_name": "ProgressView",
            "style": "IPY_MODEL_83487381e288445b845b87d2ec9bcf19",
            "_dom_classes": [],
            "description": "Progress:",
            "_model_name": "FloatProgressModel",
            "bar_style": "info",
            "max": 1,
            "_view_module": "@jupyter-widgets/controls",
            "_model_module_version": "1.5.0",
            "value": 0.5517241379310345,
            "_view_count": null,
            "_view_module_version": "1.5.0",
            "orientation": "horizontal",
            "min": 0,
            "description_tooltip": null,
            "_model_module": "@jupyter-widgets/controls",
            "layout": "IPY_MODEL_ce0513730389446e8c51338b7c9ae929"
          }
        },
        "83487381e288445b845b87d2ec9bcf19": {
          "model_module": "@jupyter-widgets/controls",
          "model_name": "ProgressStyleModel",
          "state": {
            "_view_name": "StyleView",
            "_model_name": "ProgressStyleModel",
            "description_width": "",
            "_view_module": "@jupyter-widgets/base",
            "_model_module_version": "1.5.0",
            "_view_count": null,
            "_view_module_version": "1.2.0",
            "bar_color": null,
            "_model_module": "@jupyter-widgets/controls"
          }
        },
        "ce0513730389446e8c51338b7c9ae929": {
          "model_module": "@jupyter-widgets/base",
          "model_name": "LayoutModel",
          "state": {
            "_view_name": "LayoutView",
            "grid_template_rows": null,
            "right": null,
            "justify_content": null,
            "_view_module": "@jupyter-widgets/base",
            "overflow": null,
            "_model_module_version": "1.2.0",
            "_view_count": null,
            "flex_flow": null,
            "width": "50%",
            "min_width": null,
            "border": null,
            "align_items": null,
            "bottom": null,
            "_model_module": "@jupyter-widgets/base",
            "top": null,
            "grid_column": null,
            "overflow_y": null,
            "overflow_x": null,
            "grid_auto_flow": null,
            "grid_area": null,
            "grid_template_columns": null,
            "flex": null,
            "_model_name": "LayoutModel",
            "justify_items": null,
            "grid_row": null,
            "max_height": null,
            "align_content": null,
            "visibility": null,
            "align_self": null,
            "height": "25px",
            "min_height": null,
            "padding": null,
            "grid_auto_rows": null,
            "grid_gap": null,
            "max_width": null,
            "order": null,
            "_view_module_version": "1.2.0",
            "grid_template_areas": null,
            "object_position": null,
            "object_fit": null,
            "grid_auto_columns": null,
            "margin": null,
            "display": null,
            "left": null
          }
        },
        "a64263cb36c44e2bbe1cf6bd98f49c4f": {
          "model_module": "@jupyter-widgets/controls",
          "model_name": "FloatProgressModel",
          "state": {
            "_view_name": "ProgressView",
            "style": "IPY_MODEL_0b646d7591cd4a78a7ff05f857ac96de",
            "_dom_classes": [],
            "description": "Progress:",
            "_model_name": "FloatProgressModel",
            "bar_style": "info",
            "max": 1,
            "_view_module": "@jupyter-widgets/controls",
            "_model_module_version": "1.5.0",
            "value": 0,
            "_view_count": null,
            "_view_module_version": "1.5.0",
            "orientation": "horizontal",
            "min": 0,
            "description_tooltip": null,
            "_model_module": "@jupyter-widgets/controls",
            "layout": "IPY_MODEL_d9d67b806d734f4cb47dc250720af6eb"
          }
        },
        "0b646d7591cd4a78a7ff05f857ac96de": {
          "model_module": "@jupyter-widgets/controls",
          "model_name": "ProgressStyleModel",
          "state": {
            "_view_name": "StyleView",
            "_model_name": "ProgressStyleModel",
            "description_width": "",
            "_view_module": "@jupyter-widgets/base",
            "_model_module_version": "1.5.0",
            "_view_count": null,
            "_view_module_version": "1.2.0",
            "bar_color": null,
            "_model_module": "@jupyter-widgets/controls"
          }
        },
        "d9d67b806d734f4cb47dc250720af6eb": {
          "model_module": "@jupyter-widgets/base",
          "model_name": "LayoutModel",
          "state": {
            "_view_name": "LayoutView",
            "grid_template_rows": null,
            "right": null,
            "justify_content": null,
            "_view_module": "@jupyter-widgets/base",
            "overflow": null,
            "_model_module_version": "1.2.0",
            "_view_count": null,
            "flex_flow": null,
            "width": "50%",
            "min_width": null,
            "border": null,
            "align_items": null,
            "bottom": null,
            "_model_module": "@jupyter-widgets/base",
            "top": null,
            "grid_column": null,
            "overflow_y": null,
            "overflow_x": null,
            "grid_auto_flow": null,
            "grid_area": null,
            "grid_template_columns": null,
            "flex": null,
            "_model_name": "LayoutModel",
            "justify_items": null,
            "grid_row": null,
            "max_height": null,
            "align_content": null,
            "visibility": null,
            "align_self": null,
            "height": "25px",
            "min_height": null,
            "padding": null,
            "grid_auto_rows": null,
            "grid_gap": null,
            "max_width": null,
            "order": null,
            "_view_module_version": "1.2.0",
            "grid_template_areas": null,
            "object_position": null,
            "object_fit": null,
            "grid_auto_columns": null,
            "margin": null,
            "display": null,
            "left": null
          }
        },
        "43f6f6c1b51b483e8c79c0495b83de45": {
          "model_module": "@jupyter-widgets/controls",
          "model_name": "FloatProgressModel",
          "state": {
            "_view_name": "ProgressView",
            "style": "IPY_MODEL_657097936ae34282817cc1610065c00d",
            "_dom_classes": [],
            "description": "Progress:",
            "_model_name": "FloatProgressModel",
            "bar_style": "info",
            "max": 1,
            "_view_module": "@jupyter-widgets/controls",
            "_model_module_version": "1.5.0",
            "value": 0.27647058823529413,
            "_view_count": null,
            "_view_module_version": "1.5.0",
            "orientation": "horizontal",
            "min": 0,
            "description_tooltip": null,
            "_model_module": "@jupyter-widgets/controls",
            "layout": "IPY_MODEL_dbe7161610ee40c482a2854fb988ba9b"
          }
        },
        "657097936ae34282817cc1610065c00d": {
          "model_module": "@jupyter-widgets/controls",
          "model_name": "ProgressStyleModel",
          "state": {
            "_view_name": "StyleView",
            "_model_name": "ProgressStyleModel",
            "description_width": "",
            "_view_module": "@jupyter-widgets/base",
            "_model_module_version": "1.5.0",
            "_view_count": null,
            "_view_module_version": "1.2.0",
            "bar_color": null,
            "_model_module": "@jupyter-widgets/controls"
          }
        },
        "dbe7161610ee40c482a2854fb988ba9b": {
          "model_module": "@jupyter-widgets/base",
          "model_name": "LayoutModel",
          "state": {
            "_view_name": "LayoutView",
            "grid_template_rows": null,
            "right": null,
            "justify_content": null,
            "_view_module": "@jupyter-widgets/base",
            "overflow": null,
            "_model_module_version": "1.2.0",
            "_view_count": null,
            "flex_flow": null,
            "width": "50%",
            "min_width": null,
            "border": null,
            "align_items": null,
            "bottom": null,
            "_model_module": "@jupyter-widgets/base",
            "top": null,
            "grid_column": null,
            "overflow_y": null,
            "overflow_x": null,
            "grid_auto_flow": null,
            "grid_area": null,
            "grid_template_columns": null,
            "flex": null,
            "_model_name": "LayoutModel",
            "justify_items": null,
            "grid_row": null,
            "max_height": null,
            "align_content": null,
            "visibility": null,
            "align_self": null,
            "height": "25px",
            "min_height": null,
            "padding": null,
            "grid_auto_rows": null,
            "grid_gap": null,
            "max_width": null,
            "order": null,
            "_view_module_version": "1.2.0",
            "grid_template_areas": null,
            "object_position": null,
            "object_fit": null,
            "grid_auto_columns": null,
            "margin": null,
            "display": null,
            "left": null
          }
        },
        "35ce7850a5bc4d71963701c9223f0e15": {
          "model_module": "@jupyter-widgets/controls",
          "model_name": "FloatProgressModel",
          "state": {
            "_view_name": "ProgressView",
            "style": "IPY_MODEL_f898904d8dcd4b269183bcefb454964a",
            "_dom_classes": [],
            "description": "Progress:",
            "_model_name": "FloatProgressModel",
            "bar_style": "info",
            "max": 1,
            "_view_module": "@jupyter-widgets/controls",
            "_model_module_version": "1.5.0",
            "value": 0,
            "_view_count": null,
            "_view_module_version": "1.5.0",
            "orientation": "horizontal",
            "min": 0,
            "description_tooltip": null,
            "_model_module": "@jupyter-widgets/controls",
            "layout": "IPY_MODEL_aa2556329176412caaa68f67550c674c"
          }
        },
        "f898904d8dcd4b269183bcefb454964a": {
          "model_module": "@jupyter-widgets/controls",
          "model_name": "ProgressStyleModel",
          "state": {
            "_view_name": "StyleView",
            "_model_name": "ProgressStyleModel",
            "description_width": "",
            "_view_module": "@jupyter-widgets/base",
            "_model_module_version": "1.5.0",
            "_view_count": null,
            "_view_module_version": "1.2.0",
            "bar_color": null,
            "_model_module": "@jupyter-widgets/controls"
          }
        },
        "aa2556329176412caaa68f67550c674c": {
          "model_module": "@jupyter-widgets/base",
          "model_name": "LayoutModel",
          "state": {
            "_view_name": "LayoutView",
            "grid_template_rows": null,
            "right": null,
            "justify_content": null,
            "_view_module": "@jupyter-widgets/base",
            "overflow": null,
            "_model_module_version": "1.2.0",
            "_view_count": null,
            "flex_flow": null,
            "width": "50%",
            "min_width": null,
            "border": null,
            "align_items": null,
            "bottom": null,
            "_model_module": "@jupyter-widgets/base",
            "top": null,
            "grid_column": null,
            "overflow_y": null,
            "overflow_x": null,
            "grid_auto_flow": null,
            "grid_area": null,
            "grid_template_columns": null,
            "flex": null,
            "_model_name": "LayoutModel",
            "justify_items": null,
            "grid_row": null,
            "max_height": null,
            "align_content": null,
            "visibility": null,
            "align_self": null,
            "height": "25px",
            "min_height": null,
            "padding": null,
            "grid_auto_rows": null,
            "grid_gap": null,
            "max_width": null,
            "order": null,
            "_view_module_version": "1.2.0",
            "grid_template_areas": null,
            "object_position": null,
            "object_fit": null,
            "grid_auto_columns": null,
            "margin": null,
            "display": null,
            "left": null
          }
        },
        "50a424df47564c99ae85dc9acdee3558": {
          "model_module": "@jupyter-widgets/controls",
          "model_name": "FloatProgressModel",
          "state": {
            "_view_name": "ProgressView",
            "style": "IPY_MODEL_8839164c8bfe4b1a9b7dde47aacceee8",
            "_dom_classes": [],
            "description": "Progress:",
            "_model_name": "FloatProgressModel",
            "bar_style": "info",
            "max": 1,
            "_view_module": "@jupyter-widgets/controls",
            "_model_module_version": "1.5.0",
            "value": 0,
            "_view_count": null,
            "_view_module_version": "1.5.0",
            "orientation": "horizontal",
            "min": 0,
            "description_tooltip": null,
            "_model_module": "@jupyter-widgets/controls",
            "layout": "IPY_MODEL_27489edafd724eb786125932e7b462cb"
          }
        },
        "8839164c8bfe4b1a9b7dde47aacceee8": {
          "model_module": "@jupyter-widgets/controls",
          "model_name": "ProgressStyleModel",
          "state": {
            "_view_name": "StyleView",
            "_model_name": "ProgressStyleModel",
            "description_width": "",
            "_view_module": "@jupyter-widgets/base",
            "_model_module_version": "1.5.0",
            "_view_count": null,
            "_view_module_version": "1.2.0",
            "bar_color": null,
            "_model_module": "@jupyter-widgets/controls"
          }
        },
        "27489edafd724eb786125932e7b462cb": {
          "model_module": "@jupyter-widgets/base",
          "model_name": "LayoutModel",
          "state": {
            "_view_name": "LayoutView",
            "grid_template_rows": null,
            "right": null,
            "justify_content": null,
            "_view_module": "@jupyter-widgets/base",
            "overflow": null,
            "_model_module_version": "1.2.0",
            "_view_count": null,
            "flex_flow": null,
            "width": "50%",
            "min_width": null,
            "border": null,
            "align_items": null,
            "bottom": null,
            "_model_module": "@jupyter-widgets/base",
            "top": null,
            "grid_column": null,
            "overflow_y": null,
            "overflow_x": null,
            "grid_auto_flow": null,
            "grid_area": null,
            "grid_template_columns": null,
            "flex": null,
            "_model_name": "LayoutModel",
            "justify_items": null,
            "grid_row": null,
            "max_height": null,
            "align_content": null,
            "visibility": null,
            "align_self": null,
            "height": "25px",
            "min_height": null,
            "padding": null,
            "grid_auto_rows": null,
            "grid_gap": null,
            "max_width": null,
            "order": null,
            "_view_module_version": "1.2.0",
            "grid_template_areas": null,
            "object_position": null,
            "object_fit": null,
            "grid_auto_columns": null,
            "margin": null,
            "display": null,
            "left": null
          }
        },
        "2c7574d530e74722bfb5bfb30bc235e3": {
          "model_module": "@jupyter-widgets/controls",
          "model_name": "FloatProgressModel",
          "state": {
            "_view_name": "ProgressView",
            "style": "IPY_MODEL_4a917ca93fcf48e59b41c6f4435be551",
            "_dom_classes": [],
            "description": "Progress:",
            "_model_name": "FloatProgressModel",
            "bar_style": "info",
            "max": 1,
            "_view_module": "@jupyter-widgets/controls",
            "_model_module_version": "1.5.0",
            "value": 0.2984126984126984,
            "_view_count": null,
            "_view_module_version": "1.5.0",
            "orientation": "horizontal",
            "min": 0,
            "description_tooltip": null,
            "_model_module": "@jupyter-widgets/controls",
            "layout": "IPY_MODEL_fb26c50500984c1cb1874502d186f430"
          }
        },
        "4a917ca93fcf48e59b41c6f4435be551": {
          "model_module": "@jupyter-widgets/controls",
          "model_name": "ProgressStyleModel",
          "state": {
            "_view_name": "StyleView",
            "_model_name": "ProgressStyleModel",
            "description_width": "",
            "_view_module": "@jupyter-widgets/base",
            "_model_module_version": "1.5.0",
            "_view_count": null,
            "_view_module_version": "1.2.0",
            "bar_color": null,
            "_model_module": "@jupyter-widgets/controls"
          }
        },
        "fb26c50500984c1cb1874502d186f430": {
          "model_module": "@jupyter-widgets/base",
          "model_name": "LayoutModel",
          "state": {
            "_view_name": "LayoutView",
            "grid_template_rows": null,
            "right": null,
            "justify_content": null,
            "_view_module": "@jupyter-widgets/base",
            "overflow": null,
            "_model_module_version": "1.2.0",
            "_view_count": null,
            "flex_flow": null,
            "width": "50%",
            "min_width": null,
            "border": null,
            "align_items": null,
            "bottom": null,
            "_model_module": "@jupyter-widgets/base",
            "top": null,
            "grid_column": null,
            "overflow_y": null,
            "overflow_x": null,
            "grid_auto_flow": null,
            "grid_area": null,
            "grid_template_columns": null,
            "flex": null,
            "_model_name": "LayoutModel",
            "justify_items": null,
            "grid_row": null,
            "max_height": null,
            "align_content": null,
            "visibility": null,
            "align_self": null,
            "height": "25px",
            "min_height": null,
            "padding": null,
            "grid_auto_rows": null,
            "grid_gap": null,
            "max_width": null,
            "order": null,
            "_view_module_version": "1.2.0",
            "grid_template_areas": null,
            "object_position": null,
            "object_fit": null,
            "grid_auto_columns": null,
            "margin": null,
            "display": null,
            "left": null
          }
        },
        "a761bd454b69498689b108f414140977": {
          "model_module": "@jupyter-widgets/controls",
          "model_name": "FloatProgressModel",
          "state": {
            "_view_name": "ProgressView",
            "style": "IPY_MODEL_ce6fb7cc422045daaaf4a762c7de7d6e",
            "_dom_classes": [],
            "description": "Progress:",
            "_model_name": "FloatProgressModel",
            "bar_style": "info",
            "max": 1,
            "_view_module": "@jupyter-widgets/controls",
            "_model_module_version": "1.5.0",
            "value": 0.3323529411764706,
            "_view_count": null,
            "_view_module_version": "1.5.0",
            "orientation": "horizontal",
            "min": 0,
            "description_tooltip": null,
            "_model_module": "@jupyter-widgets/controls",
            "layout": "IPY_MODEL_68af2f75f3a04af3a509ccdc7c5ea9a2"
          }
        },
        "ce6fb7cc422045daaaf4a762c7de7d6e": {
          "model_module": "@jupyter-widgets/controls",
          "model_name": "ProgressStyleModel",
          "state": {
            "_view_name": "StyleView",
            "_model_name": "ProgressStyleModel",
            "description_width": "",
            "_view_module": "@jupyter-widgets/base",
            "_model_module_version": "1.5.0",
            "_view_count": null,
            "_view_module_version": "1.2.0",
            "bar_color": null,
            "_model_module": "@jupyter-widgets/controls"
          }
        },
        "68af2f75f3a04af3a509ccdc7c5ea9a2": {
          "model_module": "@jupyter-widgets/base",
          "model_name": "LayoutModel",
          "state": {
            "_view_name": "LayoutView",
            "grid_template_rows": null,
            "right": null,
            "justify_content": null,
            "_view_module": "@jupyter-widgets/base",
            "overflow": null,
            "_model_module_version": "1.2.0",
            "_view_count": null,
            "flex_flow": null,
            "width": "50%",
            "min_width": null,
            "border": null,
            "align_items": null,
            "bottom": null,
            "_model_module": "@jupyter-widgets/base",
            "top": null,
            "grid_column": null,
            "overflow_y": null,
            "overflow_x": null,
            "grid_auto_flow": null,
            "grid_area": null,
            "grid_template_columns": null,
            "flex": null,
            "_model_name": "LayoutModel",
            "justify_items": null,
            "grid_row": null,
            "max_height": null,
            "align_content": null,
            "visibility": null,
            "align_self": null,
            "height": "25px",
            "min_height": null,
            "padding": null,
            "grid_auto_rows": null,
            "grid_gap": null,
            "max_width": null,
            "order": null,
            "_view_module_version": "1.2.0",
            "grid_template_areas": null,
            "object_position": null,
            "object_fit": null,
            "grid_auto_columns": null,
            "margin": null,
            "display": null,
            "left": null
          }
        },
        "f69d767a1a1a4aee916fe7f05dfbfdd3": {
          "model_module": "@jupyter-widgets/controls",
          "model_name": "FloatProgressModel",
          "state": {
            "_view_name": "ProgressView",
            "style": "IPY_MODEL_0d805eeb98c64c019d1176abe199527e",
            "_dom_classes": [],
            "description": "Progress:",
            "_model_name": "FloatProgressModel",
            "bar_style": "info",
            "max": 1,
            "_view_module": "@jupyter-widgets/controls",
            "_model_module_version": "1.5.0",
            "value": 0,
            "_view_count": null,
            "_view_module_version": "1.5.0",
            "orientation": "horizontal",
            "min": 0,
            "description_tooltip": null,
            "_model_module": "@jupyter-widgets/controls",
            "layout": "IPY_MODEL_f4c7b9905ef2477697c74a70d1d08a88"
          }
        },
        "0d805eeb98c64c019d1176abe199527e": {
          "model_module": "@jupyter-widgets/controls",
          "model_name": "ProgressStyleModel",
          "state": {
            "_view_name": "StyleView",
            "_model_name": "ProgressStyleModel",
            "description_width": "",
            "_view_module": "@jupyter-widgets/base",
            "_model_module_version": "1.5.0",
            "_view_count": null,
            "_view_module_version": "1.2.0",
            "bar_color": null,
            "_model_module": "@jupyter-widgets/controls"
          }
        },
        "f4c7b9905ef2477697c74a70d1d08a88": {
          "model_module": "@jupyter-widgets/base",
          "model_name": "LayoutModel",
          "state": {
            "_view_name": "LayoutView",
            "grid_template_rows": null,
            "right": null,
            "justify_content": null,
            "_view_module": "@jupyter-widgets/base",
            "overflow": null,
            "_model_module_version": "1.2.0",
            "_view_count": null,
            "flex_flow": null,
            "width": "50%",
            "min_width": null,
            "border": null,
            "align_items": null,
            "bottom": null,
            "_model_module": "@jupyter-widgets/base",
            "top": null,
            "grid_column": null,
            "overflow_y": null,
            "overflow_x": null,
            "grid_auto_flow": null,
            "grid_area": null,
            "grid_template_columns": null,
            "flex": null,
            "_model_name": "LayoutModel",
            "justify_items": null,
            "grid_row": null,
            "max_height": null,
            "align_content": null,
            "visibility": null,
            "align_self": null,
            "height": "25px",
            "min_height": null,
            "padding": null,
            "grid_auto_rows": null,
            "grid_gap": null,
            "max_width": null,
            "order": null,
            "_view_module_version": "1.2.0",
            "grid_template_areas": null,
            "object_position": null,
            "object_fit": null,
            "grid_auto_columns": null,
            "margin": null,
            "display": null,
            "left": null
          }
        },
        "c70ead156e3e4af1bbd6b011a24c2c25": {
          "model_module": "@jupyter-widgets/controls",
          "model_name": "FloatProgressModel",
          "state": {
            "_view_name": "ProgressView",
            "style": "IPY_MODEL_70de2cd43b8e487ca7b3932ed5e2b056",
            "_dom_classes": [],
            "description": "Progress:",
            "_model_name": "FloatProgressModel",
            "bar_style": "info",
            "max": 1,
            "_view_module": "@jupyter-widgets/controls",
            "_model_module_version": "1.5.0",
            "value": 0.5,
            "_view_count": null,
            "_view_module_version": "1.5.0",
            "orientation": "horizontal",
            "min": 0,
            "description_tooltip": null,
            "_model_module": "@jupyter-widgets/controls",
            "layout": "IPY_MODEL_6e95c4c504c840d494641f6bab5a28bd"
          }
        },
        "70de2cd43b8e487ca7b3932ed5e2b056": {
          "model_module": "@jupyter-widgets/controls",
          "model_name": "ProgressStyleModel",
          "state": {
            "_view_name": "StyleView",
            "_model_name": "ProgressStyleModel",
            "description_width": "",
            "_view_module": "@jupyter-widgets/base",
            "_model_module_version": "1.5.0",
            "_view_count": null,
            "_view_module_version": "1.2.0",
            "bar_color": null,
            "_model_module": "@jupyter-widgets/controls"
          }
        },
        "6e95c4c504c840d494641f6bab5a28bd": {
          "model_module": "@jupyter-widgets/base",
          "model_name": "LayoutModel",
          "state": {
            "_view_name": "LayoutView",
            "grid_template_rows": null,
            "right": null,
            "justify_content": null,
            "_view_module": "@jupyter-widgets/base",
            "overflow": null,
            "_model_module_version": "1.2.0",
            "_view_count": null,
            "flex_flow": null,
            "width": "50%",
            "min_width": null,
            "border": null,
            "align_items": null,
            "bottom": null,
            "_model_module": "@jupyter-widgets/base",
            "top": null,
            "grid_column": null,
            "overflow_y": null,
            "overflow_x": null,
            "grid_auto_flow": null,
            "grid_area": null,
            "grid_template_columns": null,
            "flex": null,
            "_model_name": "LayoutModel",
            "justify_items": null,
            "grid_row": null,
            "max_height": null,
            "align_content": null,
            "visibility": null,
            "align_self": null,
            "height": "25px",
            "min_height": null,
            "padding": null,
            "grid_auto_rows": null,
            "grid_gap": null,
            "max_width": null,
            "order": null,
            "_view_module_version": "1.2.0",
            "grid_template_areas": null,
            "object_position": null,
            "object_fit": null,
            "grid_auto_columns": null,
            "margin": null,
            "display": null,
            "left": null
          }
        },
        "00e1601c6b59447f810a39a071070111": {
          "model_module": "@jupyter-widgets/controls",
          "model_name": "FloatProgressModel",
          "state": {
            "_view_name": "ProgressView",
            "style": "IPY_MODEL_08145c1656c041ae9099eade4d55cdd5",
            "_dom_classes": [],
            "description": "Progress:",
            "_model_name": "FloatProgressModel",
            "bar_style": "info",
            "max": 1,
            "_view_module": "@jupyter-widgets/controls",
            "_model_module_version": "1.5.0",
            "value": 0,
            "_view_count": null,
            "_view_module_version": "1.5.0",
            "orientation": "horizontal",
            "min": 0,
            "description_tooltip": null,
            "_model_module": "@jupyter-widgets/controls",
            "layout": "IPY_MODEL_ef10682c22eb4868a1e36f598191b379"
          }
        },
        "08145c1656c041ae9099eade4d55cdd5": {
          "model_module": "@jupyter-widgets/controls",
          "model_name": "ProgressStyleModel",
          "state": {
            "_view_name": "StyleView",
            "_model_name": "ProgressStyleModel",
            "description_width": "",
            "_view_module": "@jupyter-widgets/base",
            "_model_module_version": "1.5.0",
            "_view_count": null,
            "_view_module_version": "1.2.0",
            "bar_color": null,
            "_model_module": "@jupyter-widgets/controls"
          }
        },
        "ef10682c22eb4868a1e36f598191b379": {
          "model_module": "@jupyter-widgets/base",
          "model_name": "LayoutModel",
          "state": {
            "_view_name": "LayoutView",
            "grid_template_rows": null,
            "right": null,
            "justify_content": null,
            "_view_module": "@jupyter-widgets/base",
            "overflow": null,
            "_model_module_version": "1.2.0",
            "_view_count": null,
            "flex_flow": null,
            "width": "50%",
            "min_width": null,
            "border": null,
            "align_items": null,
            "bottom": null,
            "_model_module": "@jupyter-widgets/base",
            "top": null,
            "grid_column": null,
            "overflow_y": null,
            "overflow_x": null,
            "grid_auto_flow": null,
            "grid_area": null,
            "grid_template_columns": null,
            "flex": null,
            "_model_name": "LayoutModel",
            "justify_items": null,
            "grid_row": null,
            "max_height": null,
            "align_content": null,
            "visibility": null,
            "align_self": null,
            "height": "25px",
            "min_height": null,
            "padding": null,
            "grid_auto_rows": null,
            "grid_gap": null,
            "max_width": null,
            "order": null,
            "_view_module_version": "1.2.0",
            "grid_template_areas": null,
            "object_position": null,
            "object_fit": null,
            "grid_auto_columns": null,
            "margin": null,
            "display": null,
            "left": null
          }
        },
        "876e5f9844ad4d09bd1aee2544ab6fb0": {
          "model_module": "@jupyter-widgets/controls",
          "model_name": "FloatProgressModel",
          "state": {
            "_view_name": "ProgressView",
            "style": "IPY_MODEL_684da258d42141bdaffd0cd55e781cac",
            "_dom_classes": [],
            "description": "Progress:",
            "_model_name": "FloatProgressModel",
            "bar_style": "info",
            "max": 1,
            "_view_module": "@jupyter-widgets/controls",
            "_model_module_version": "1.5.0",
            "value": 0,
            "_view_count": null,
            "_view_module_version": "1.5.0",
            "orientation": "horizontal",
            "min": 0,
            "description_tooltip": null,
            "_model_module": "@jupyter-widgets/controls",
            "layout": "IPY_MODEL_3268e0391a1544e98823c70f02a0cf87"
          }
        },
        "684da258d42141bdaffd0cd55e781cac": {
          "model_module": "@jupyter-widgets/controls",
          "model_name": "ProgressStyleModel",
          "state": {
            "_view_name": "StyleView",
            "_model_name": "ProgressStyleModel",
            "description_width": "",
            "_view_module": "@jupyter-widgets/base",
            "_model_module_version": "1.5.0",
            "_view_count": null,
            "_view_module_version": "1.2.0",
            "bar_color": null,
            "_model_module": "@jupyter-widgets/controls"
          }
        },
        "3268e0391a1544e98823c70f02a0cf87": {
          "model_module": "@jupyter-widgets/base",
          "model_name": "LayoutModel",
          "state": {
            "_view_name": "LayoutView",
            "grid_template_rows": null,
            "right": null,
            "justify_content": null,
            "_view_module": "@jupyter-widgets/base",
            "overflow": null,
            "_model_module_version": "1.2.0",
            "_view_count": null,
            "flex_flow": null,
            "width": "50%",
            "min_width": null,
            "border": null,
            "align_items": null,
            "bottom": null,
            "_model_module": "@jupyter-widgets/base",
            "top": null,
            "grid_column": null,
            "overflow_y": null,
            "overflow_x": null,
            "grid_auto_flow": null,
            "grid_area": null,
            "grid_template_columns": null,
            "flex": null,
            "_model_name": "LayoutModel",
            "justify_items": null,
            "grid_row": null,
            "max_height": null,
            "align_content": null,
            "visibility": null,
            "align_self": null,
            "height": "25px",
            "min_height": null,
            "padding": null,
            "grid_auto_rows": null,
            "grid_gap": null,
            "max_width": null,
            "order": null,
            "_view_module_version": "1.2.0",
            "grid_template_areas": null,
            "object_position": null,
            "object_fit": null,
            "grid_auto_columns": null,
            "margin": null,
            "display": null,
            "left": null
          }
        },
        "54d268aa3f8243fea1506c719de5a28a": {
          "model_module": "@jupyter-widgets/controls",
          "model_name": "FloatProgressModel",
          "state": {
            "_view_name": "ProgressView",
            "style": "IPY_MODEL_0f44582cd188422da820ca4e13d126c1",
            "_dom_classes": [],
            "description": "Progress:",
            "_model_name": "FloatProgressModel",
            "bar_style": "info",
            "max": 1,
            "_view_module": "@jupyter-widgets/controls",
            "_model_module_version": "1.5.0",
            "value": 0,
            "_view_count": null,
            "_view_module_version": "1.5.0",
            "orientation": "horizontal",
            "min": 0,
            "description_tooltip": null,
            "_model_module": "@jupyter-widgets/controls",
            "layout": "IPY_MODEL_1110061cc2174ef7b0c371981ef4aa6c"
          }
        },
        "0f44582cd188422da820ca4e13d126c1": {
          "model_module": "@jupyter-widgets/controls",
          "model_name": "ProgressStyleModel",
          "state": {
            "_view_name": "StyleView",
            "_model_name": "ProgressStyleModel",
            "description_width": "",
            "_view_module": "@jupyter-widgets/base",
            "_model_module_version": "1.5.0",
            "_view_count": null,
            "_view_module_version": "1.2.0",
            "bar_color": null,
            "_model_module": "@jupyter-widgets/controls"
          }
        },
        "1110061cc2174ef7b0c371981ef4aa6c": {
          "model_module": "@jupyter-widgets/base",
          "model_name": "LayoutModel",
          "state": {
            "_view_name": "LayoutView",
            "grid_template_rows": null,
            "right": null,
            "justify_content": null,
            "_view_module": "@jupyter-widgets/base",
            "overflow": null,
            "_model_module_version": "1.2.0",
            "_view_count": null,
            "flex_flow": null,
            "width": "50%",
            "min_width": null,
            "border": null,
            "align_items": null,
            "bottom": null,
            "_model_module": "@jupyter-widgets/base",
            "top": null,
            "grid_column": null,
            "overflow_y": null,
            "overflow_x": null,
            "grid_auto_flow": null,
            "grid_area": null,
            "grid_template_columns": null,
            "flex": null,
            "_model_name": "LayoutModel",
            "justify_items": null,
            "grid_row": null,
            "max_height": null,
            "align_content": null,
            "visibility": null,
            "align_self": null,
            "height": "25px",
            "min_height": null,
            "padding": null,
            "grid_auto_rows": null,
            "grid_gap": null,
            "max_width": null,
            "order": null,
            "_view_module_version": "1.2.0",
            "grid_template_areas": null,
            "object_position": null,
            "object_fit": null,
            "grid_auto_columns": null,
            "margin": null,
            "display": null,
            "left": null
          }
        },
        "651f2c57f1ff475f80b55bdc9fd699c4": {
          "model_module": "@jupyter-widgets/controls",
          "model_name": "FloatProgressModel",
          "state": {
            "_view_name": "ProgressView",
            "style": "IPY_MODEL_d65030ee52974296adeccd22eeebcc2a",
            "_dom_classes": [],
            "description": "Progress:",
            "_model_name": "FloatProgressModel",
            "bar_style": "info",
            "max": 1,
            "_view_module": "@jupyter-widgets/controls",
            "_model_module_version": "1.5.0",
            "value": 0,
            "_view_count": null,
            "_view_module_version": "1.5.0",
            "orientation": "horizontal",
            "min": 0,
            "description_tooltip": null,
            "_model_module": "@jupyter-widgets/controls",
            "layout": "IPY_MODEL_3a97aac33bc543fdaa21e657105e9ad6"
          }
        },
        "d65030ee52974296adeccd22eeebcc2a": {
          "model_module": "@jupyter-widgets/controls",
          "model_name": "ProgressStyleModel",
          "state": {
            "_view_name": "StyleView",
            "_model_name": "ProgressStyleModel",
            "description_width": "",
            "_view_module": "@jupyter-widgets/base",
            "_model_module_version": "1.5.0",
            "_view_count": null,
            "_view_module_version": "1.2.0",
            "bar_color": null,
            "_model_module": "@jupyter-widgets/controls"
          }
        },
        "3a97aac33bc543fdaa21e657105e9ad6": {
          "model_module": "@jupyter-widgets/base",
          "model_name": "LayoutModel",
          "state": {
            "_view_name": "LayoutView",
            "grid_template_rows": null,
            "right": null,
            "justify_content": null,
            "_view_module": "@jupyter-widgets/base",
            "overflow": null,
            "_model_module_version": "1.2.0",
            "_view_count": null,
            "flex_flow": null,
            "width": "50%",
            "min_width": null,
            "border": null,
            "align_items": null,
            "bottom": null,
            "_model_module": "@jupyter-widgets/base",
            "top": null,
            "grid_column": null,
            "overflow_y": null,
            "overflow_x": null,
            "grid_auto_flow": null,
            "grid_area": null,
            "grid_template_columns": null,
            "flex": null,
            "_model_name": "LayoutModel",
            "justify_items": null,
            "grid_row": null,
            "max_height": null,
            "align_content": null,
            "visibility": null,
            "align_self": null,
            "height": "25px",
            "min_height": null,
            "padding": null,
            "grid_auto_rows": null,
            "grid_gap": null,
            "max_width": null,
            "order": null,
            "_view_module_version": "1.2.0",
            "grid_template_areas": null,
            "object_position": null,
            "object_fit": null,
            "grid_auto_columns": null,
            "margin": null,
            "display": null,
            "left": null
          }
        },
        "053af89b1a5043a082409a92185722f0": {
          "model_module": "@jupyter-widgets/controls",
          "model_name": "FloatProgressModel",
          "state": {
            "_view_name": "ProgressView",
            "style": "IPY_MODEL_459b060777e54b87a0bb66ac4a74c5fd",
            "_dom_classes": [],
            "description": "Progress:",
            "_model_name": "FloatProgressModel",
            "bar_style": "info",
            "max": 1,
            "_view_module": "@jupyter-widgets/controls",
            "_model_module_version": "1.5.0",
            "value": 0,
            "_view_count": null,
            "_view_module_version": "1.5.0",
            "orientation": "horizontal",
            "min": 0,
            "description_tooltip": null,
            "_model_module": "@jupyter-widgets/controls",
            "layout": "IPY_MODEL_d68de065057a4248aaea40400b850ec9"
          }
        },
        "459b060777e54b87a0bb66ac4a74c5fd": {
          "model_module": "@jupyter-widgets/controls",
          "model_name": "ProgressStyleModel",
          "state": {
            "_view_name": "StyleView",
            "_model_name": "ProgressStyleModel",
            "description_width": "",
            "_view_module": "@jupyter-widgets/base",
            "_model_module_version": "1.5.0",
            "_view_count": null,
            "_view_module_version": "1.2.0",
            "bar_color": null,
            "_model_module": "@jupyter-widgets/controls"
          }
        },
        "d68de065057a4248aaea40400b850ec9": {
          "model_module": "@jupyter-widgets/base",
          "model_name": "LayoutModel",
          "state": {
            "_view_name": "LayoutView",
            "grid_template_rows": null,
            "right": null,
            "justify_content": null,
            "_view_module": "@jupyter-widgets/base",
            "overflow": null,
            "_model_module_version": "1.2.0",
            "_view_count": null,
            "flex_flow": null,
            "width": "50%",
            "min_width": null,
            "border": null,
            "align_items": null,
            "bottom": null,
            "_model_module": "@jupyter-widgets/base",
            "top": null,
            "grid_column": null,
            "overflow_y": null,
            "overflow_x": null,
            "grid_auto_flow": null,
            "grid_area": null,
            "grid_template_columns": null,
            "flex": null,
            "_model_name": "LayoutModel",
            "justify_items": null,
            "grid_row": null,
            "max_height": null,
            "align_content": null,
            "visibility": null,
            "align_self": null,
            "height": "25px",
            "min_height": null,
            "padding": null,
            "grid_auto_rows": null,
            "grid_gap": null,
            "max_width": null,
            "order": null,
            "_view_module_version": "1.2.0",
            "grid_template_areas": null,
            "object_position": null,
            "object_fit": null,
            "grid_auto_columns": null,
            "margin": null,
            "display": null,
            "left": null
          }
        },
        "b3d6537d5ad54feeb8484078b323e2de": {
          "model_module": "@jupyter-widgets/controls",
          "model_name": "FloatProgressModel",
          "state": {
            "_view_name": "ProgressView",
            "style": "IPY_MODEL_8b1d7b50e9bc411e80d3a9b3c83d08bb",
            "_dom_classes": [],
            "description": "Progress:",
            "_model_name": "FloatProgressModel",
            "bar_style": "info",
            "max": 1,
            "_view_module": "@jupyter-widgets/controls",
            "_model_module_version": "1.5.0",
            "value": 0.75,
            "_view_count": null,
            "_view_module_version": "1.5.0",
            "orientation": "horizontal",
            "min": 0,
            "description_tooltip": null,
            "_model_module": "@jupyter-widgets/controls",
            "layout": "IPY_MODEL_86379c188e304baabb9554e938250eff"
          }
        },
        "8b1d7b50e9bc411e80d3a9b3c83d08bb": {
          "model_module": "@jupyter-widgets/controls",
          "model_name": "ProgressStyleModel",
          "state": {
            "_view_name": "StyleView",
            "_model_name": "ProgressStyleModel",
            "description_width": "",
            "_view_module": "@jupyter-widgets/base",
            "_model_module_version": "1.5.0",
            "_view_count": null,
            "_view_module_version": "1.2.0",
            "bar_color": null,
            "_model_module": "@jupyter-widgets/controls"
          }
        },
        "86379c188e304baabb9554e938250eff": {
          "model_module": "@jupyter-widgets/base",
          "model_name": "LayoutModel",
          "state": {
            "_view_name": "LayoutView",
            "grid_template_rows": null,
            "right": null,
            "justify_content": null,
            "_view_module": "@jupyter-widgets/base",
            "overflow": null,
            "_model_module_version": "1.2.0",
            "_view_count": null,
            "flex_flow": null,
            "width": "50%",
            "min_width": null,
            "border": null,
            "align_items": null,
            "bottom": null,
            "_model_module": "@jupyter-widgets/base",
            "top": null,
            "grid_column": null,
            "overflow_y": null,
            "overflow_x": null,
            "grid_auto_flow": null,
            "grid_area": null,
            "grid_template_columns": null,
            "flex": null,
            "_model_name": "LayoutModel",
            "justify_items": null,
            "grid_row": null,
            "max_height": null,
            "align_content": null,
            "visibility": null,
            "align_self": null,
            "height": "25px",
            "min_height": null,
            "padding": null,
            "grid_auto_rows": null,
            "grid_gap": null,
            "max_width": null,
            "order": null,
            "_view_module_version": "1.2.0",
            "grid_template_areas": null,
            "object_position": null,
            "object_fit": null,
            "grid_auto_columns": null,
            "margin": null,
            "display": null,
            "left": null
          }
        },
        "8d3bd2b953c347f2a3bdb2dd9c00eeca": {
          "model_module": "@jupyter-widgets/controls",
          "model_name": "FloatProgressModel",
          "state": {
            "_view_name": "ProgressView",
            "style": "IPY_MODEL_cda9ca52a9a847999d0c313ddb683852",
            "_dom_classes": [],
            "description": "Progress:",
            "_model_name": "FloatProgressModel",
            "bar_style": "info",
            "max": 1,
            "_view_module": "@jupyter-widgets/controls",
            "_model_module_version": "1.5.0",
            "value": 0,
            "_view_count": null,
            "_view_module_version": "1.5.0",
            "orientation": "horizontal",
            "min": 0,
            "description_tooltip": null,
            "_model_module": "@jupyter-widgets/controls",
            "layout": "IPY_MODEL_04019d8d12ad4a31afd240c201470a91"
          }
        },
        "cda9ca52a9a847999d0c313ddb683852": {
          "model_module": "@jupyter-widgets/controls",
          "model_name": "ProgressStyleModel",
          "state": {
            "_view_name": "StyleView",
            "_model_name": "ProgressStyleModel",
            "description_width": "",
            "_view_module": "@jupyter-widgets/base",
            "_model_module_version": "1.5.0",
            "_view_count": null,
            "_view_module_version": "1.2.0",
            "bar_color": null,
            "_model_module": "@jupyter-widgets/controls"
          }
        },
        "04019d8d12ad4a31afd240c201470a91": {
          "model_module": "@jupyter-widgets/base",
          "model_name": "LayoutModel",
          "state": {
            "_view_name": "LayoutView",
            "grid_template_rows": null,
            "right": null,
            "justify_content": null,
            "_view_module": "@jupyter-widgets/base",
            "overflow": null,
            "_model_module_version": "1.2.0",
            "_view_count": null,
            "flex_flow": null,
            "width": "50%",
            "min_width": null,
            "border": null,
            "align_items": null,
            "bottom": null,
            "_model_module": "@jupyter-widgets/base",
            "top": null,
            "grid_column": null,
            "overflow_y": null,
            "overflow_x": null,
            "grid_auto_flow": null,
            "grid_area": null,
            "grid_template_columns": null,
            "flex": null,
            "_model_name": "LayoutModel",
            "justify_items": null,
            "grid_row": null,
            "max_height": null,
            "align_content": null,
            "visibility": null,
            "align_self": null,
            "height": "25px",
            "min_height": null,
            "padding": null,
            "grid_auto_rows": null,
            "grid_gap": null,
            "max_width": null,
            "order": null,
            "_view_module_version": "1.2.0",
            "grid_template_areas": null,
            "object_position": null,
            "object_fit": null,
            "grid_auto_columns": null,
            "margin": null,
            "display": null,
            "left": null
          }
        },
        "d42a14d583c1426cb8226df182bc0678": {
          "model_module": "@jupyter-widgets/controls",
          "model_name": "FloatProgressModel",
          "state": {
            "_view_name": "ProgressView",
            "style": "IPY_MODEL_89997d57048340ea95f3f9d3a13b10ac",
            "_dom_classes": [],
            "description": "Progress:",
            "_model_name": "FloatProgressModel",
            "bar_style": "info",
            "max": 1,
            "_view_module": "@jupyter-widgets/controls",
            "_model_module_version": "1.5.0",
            "value": 0.875,
            "_view_count": null,
            "_view_module_version": "1.5.0",
            "orientation": "horizontal",
            "min": 0,
            "description_tooltip": null,
            "_model_module": "@jupyter-widgets/controls",
            "layout": "IPY_MODEL_cb1e22344b6b41228bac3e9859dfe72d"
          }
        },
        "89997d57048340ea95f3f9d3a13b10ac": {
          "model_module": "@jupyter-widgets/controls",
          "model_name": "ProgressStyleModel",
          "state": {
            "_view_name": "StyleView",
            "_model_name": "ProgressStyleModel",
            "description_width": "",
            "_view_module": "@jupyter-widgets/base",
            "_model_module_version": "1.5.0",
            "_view_count": null,
            "_view_module_version": "1.2.0",
            "bar_color": null,
            "_model_module": "@jupyter-widgets/controls"
          }
        },
        "cb1e22344b6b41228bac3e9859dfe72d": {
          "model_module": "@jupyter-widgets/base",
          "model_name": "LayoutModel",
          "state": {
            "_view_name": "LayoutView",
            "grid_template_rows": null,
            "right": null,
            "justify_content": null,
            "_view_module": "@jupyter-widgets/base",
            "overflow": null,
            "_model_module_version": "1.2.0",
            "_view_count": null,
            "flex_flow": null,
            "width": "50%",
            "min_width": null,
            "border": null,
            "align_items": null,
            "bottom": null,
            "_model_module": "@jupyter-widgets/base",
            "top": null,
            "grid_column": null,
            "overflow_y": null,
            "overflow_x": null,
            "grid_auto_flow": null,
            "grid_area": null,
            "grid_template_columns": null,
            "flex": null,
            "_model_name": "LayoutModel",
            "justify_items": null,
            "grid_row": null,
            "max_height": null,
            "align_content": null,
            "visibility": null,
            "align_self": null,
            "height": "25px",
            "min_height": null,
            "padding": null,
            "grid_auto_rows": null,
            "grid_gap": null,
            "max_width": null,
            "order": null,
            "_view_module_version": "1.2.0",
            "grid_template_areas": null,
            "object_position": null,
            "object_fit": null,
            "grid_auto_columns": null,
            "margin": null,
            "display": null,
            "left": null
          }
        },
        "8700d850753645a28e1a54dda96849b2": {
          "model_module": "@jupyter-widgets/controls",
          "model_name": "FloatProgressModel",
          "state": {
            "_view_name": "ProgressView",
            "style": "IPY_MODEL_9323e12b9fc743948dc4aa64643ebe2f",
            "_dom_classes": [],
            "description": "Progress:",
            "_model_name": "FloatProgressModel",
            "bar_style": "info",
            "max": 1,
            "_view_module": "@jupyter-widgets/controls",
            "_model_module_version": "1.5.0",
            "value": 0.6724137931034483,
            "_view_count": null,
            "_view_module_version": "1.5.0",
            "orientation": "horizontal",
            "min": 0,
            "description_tooltip": null,
            "_model_module": "@jupyter-widgets/controls",
            "layout": "IPY_MODEL_7b6fdee534de43f58cbb69994d28d060"
          }
        },
        "9323e12b9fc743948dc4aa64643ebe2f": {
          "model_module": "@jupyter-widgets/controls",
          "model_name": "ProgressStyleModel",
          "state": {
            "_view_name": "StyleView",
            "_model_name": "ProgressStyleModel",
            "description_width": "",
            "_view_module": "@jupyter-widgets/base",
            "_model_module_version": "1.5.0",
            "_view_count": null,
            "_view_module_version": "1.2.0",
            "bar_color": null,
            "_model_module": "@jupyter-widgets/controls"
          }
        },
        "7b6fdee534de43f58cbb69994d28d060": {
          "model_module": "@jupyter-widgets/base",
          "model_name": "LayoutModel",
          "state": {
            "_view_name": "LayoutView",
            "grid_template_rows": null,
            "right": null,
            "justify_content": null,
            "_view_module": "@jupyter-widgets/base",
            "overflow": null,
            "_model_module_version": "1.2.0",
            "_view_count": null,
            "flex_flow": null,
            "width": "50%",
            "min_width": null,
            "border": null,
            "align_items": null,
            "bottom": null,
            "_model_module": "@jupyter-widgets/base",
            "top": null,
            "grid_column": null,
            "overflow_y": null,
            "overflow_x": null,
            "grid_auto_flow": null,
            "grid_area": null,
            "grid_template_columns": null,
            "flex": null,
            "_model_name": "LayoutModel",
            "justify_items": null,
            "grid_row": null,
            "max_height": null,
            "align_content": null,
            "visibility": null,
            "align_self": null,
            "height": "25px",
            "min_height": null,
            "padding": null,
            "grid_auto_rows": null,
            "grid_gap": null,
            "max_width": null,
            "order": null,
            "_view_module_version": "1.2.0",
            "grid_template_areas": null,
            "object_position": null,
            "object_fit": null,
            "grid_auto_columns": null,
            "margin": null,
            "display": null,
            "left": null
          }
        },
        "9aa7e2f1faa948de9579e7cf183e4939": {
          "model_module": "@jupyter-widgets/controls",
          "model_name": "FloatProgressModel",
          "state": {
            "_view_name": "ProgressView",
            "style": "IPY_MODEL_2f9143ee5caa4ef189962621813961c1",
            "_dom_classes": [],
            "description": "Progress:",
            "_model_name": "FloatProgressModel",
            "bar_style": "info",
            "max": 1,
            "_view_module": "@jupyter-widgets/controls",
            "_model_module_version": "1.5.0",
            "value": 0,
            "_view_count": null,
            "_view_module_version": "1.5.0",
            "orientation": "horizontal",
            "min": 0,
            "description_tooltip": null,
            "_model_module": "@jupyter-widgets/controls",
            "layout": "IPY_MODEL_745a0a1165c04e0ebe2633f56c056e79"
          }
        },
        "2f9143ee5caa4ef189962621813961c1": {
          "model_module": "@jupyter-widgets/controls",
          "model_name": "ProgressStyleModel",
          "state": {
            "_view_name": "StyleView",
            "_model_name": "ProgressStyleModel",
            "description_width": "",
            "_view_module": "@jupyter-widgets/base",
            "_model_module_version": "1.5.0",
            "_view_count": null,
            "_view_module_version": "1.2.0",
            "bar_color": null,
            "_model_module": "@jupyter-widgets/controls"
          }
        },
        "745a0a1165c04e0ebe2633f56c056e79": {
          "model_module": "@jupyter-widgets/base",
          "model_name": "LayoutModel",
          "state": {
            "_view_name": "LayoutView",
            "grid_template_rows": null,
            "right": null,
            "justify_content": null,
            "_view_module": "@jupyter-widgets/base",
            "overflow": null,
            "_model_module_version": "1.2.0",
            "_view_count": null,
            "flex_flow": null,
            "width": "50%",
            "min_width": null,
            "border": null,
            "align_items": null,
            "bottom": null,
            "_model_module": "@jupyter-widgets/base",
            "top": null,
            "grid_column": null,
            "overflow_y": null,
            "overflow_x": null,
            "grid_auto_flow": null,
            "grid_area": null,
            "grid_template_columns": null,
            "flex": null,
            "_model_name": "LayoutModel",
            "justify_items": null,
            "grid_row": null,
            "max_height": null,
            "align_content": null,
            "visibility": null,
            "align_self": null,
            "height": "25px",
            "min_height": null,
            "padding": null,
            "grid_auto_rows": null,
            "grid_gap": null,
            "max_width": null,
            "order": null,
            "_view_module_version": "1.2.0",
            "grid_template_areas": null,
            "object_position": null,
            "object_fit": null,
            "grid_auto_columns": null,
            "margin": null,
            "display": null,
            "left": null
          }
        },
        "c7ce1842f14a457e903598ebb837539f": {
          "model_module": "@jupyter-widgets/controls",
          "model_name": "FloatProgressModel",
          "state": {
            "_view_name": "ProgressView",
            "style": "IPY_MODEL_d7e23ecc5ee64e4bb194a26629c1cd1f",
            "_dom_classes": [],
            "description": "Progress:",
            "_model_name": "FloatProgressModel",
            "bar_style": "info",
            "max": 1,
            "_view_module": "@jupyter-widgets/controls",
            "_model_module_version": "1.5.0",
            "value": 0,
            "_view_count": null,
            "_view_module_version": "1.5.0",
            "orientation": "horizontal",
            "min": 0,
            "description_tooltip": null,
            "_model_module": "@jupyter-widgets/controls",
            "layout": "IPY_MODEL_7741985b368b4846a398a1c583a234ad"
          }
        },
        "d7e23ecc5ee64e4bb194a26629c1cd1f": {
          "model_module": "@jupyter-widgets/controls",
          "model_name": "ProgressStyleModel",
          "state": {
            "_view_name": "StyleView",
            "_model_name": "ProgressStyleModel",
            "description_width": "",
            "_view_module": "@jupyter-widgets/base",
            "_model_module_version": "1.5.0",
            "_view_count": null,
            "_view_module_version": "1.2.0",
            "bar_color": null,
            "_model_module": "@jupyter-widgets/controls"
          }
        },
        "7741985b368b4846a398a1c583a234ad": {
          "model_module": "@jupyter-widgets/base",
          "model_name": "LayoutModel",
          "state": {
            "_view_name": "LayoutView",
            "grid_template_rows": null,
            "right": null,
            "justify_content": null,
            "_view_module": "@jupyter-widgets/base",
            "overflow": null,
            "_model_module_version": "1.2.0",
            "_view_count": null,
            "flex_flow": null,
            "width": "50%",
            "min_width": null,
            "border": null,
            "align_items": null,
            "bottom": null,
            "_model_module": "@jupyter-widgets/base",
            "top": null,
            "grid_column": null,
            "overflow_y": null,
            "overflow_x": null,
            "grid_auto_flow": null,
            "grid_area": null,
            "grid_template_columns": null,
            "flex": null,
            "_model_name": "LayoutModel",
            "justify_items": null,
            "grid_row": null,
            "max_height": null,
            "align_content": null,
            "visibility": null,
            "align_self": null,
            "height": "25px",
            "min_height": null,
            "padding": null,
            "grid_auto_rows": null,
            "grid_gap": null,
            "max_width": null,
            "order": null,
            "_view_module_version": "1.2.0",
            "grid_template_areas": null,
            "object_position": null,
            "object_fit": null,
            "grid_auto_columns": null,
            "margin": null,
            "display": null,
            "left": null
          }
        },
        "926c0c66493d400fa6075733f5e27a49": {
          "model_module": "@jupyter-widgets/controls",
          "model_name": "FloatProgressModel",
          "state": {
            "_view_name": "ProgressView",
            "style": "IPY_MODEL_8e0f8e27ddf04f75a21aa869cdcc8db4",
            "_dom_classes": [],
            "description": "Progress:",
            "_model_name": "FloatProgressModel",
            "bar_style": "info",
            "max": 1,
            "_view_module": "@jupyter-widgets/controls",
            "_model_module_version": "1.5.0",
            "value": 0.875,
            "_view_count": null,
            "_view_module_version": "1.5.0",
            "orientation": "horizontal",
            "min": 0,
            "description_tooltip": null,
            "_model_module": "@jupyter-widgets/controls",
            "layout": "IPY_MODEL_b200d6c8bfd84ca8afe841d493c58e7b"
          }
        },
        "8e0f8e27ddf04f75a21aa869cdcc8db4": {
          "model_module": "@jupyter-widgets/controls",
          "model_name": "ProgressStyleModel",
          "state": {
            "_view_name": "StyleView",
            "_model_name": "ProgressStyleModel",
            "description_width": "",
            "_view_module": "@jupyter-widgets/base",
            "_model_module_version": "1.5.0",
            "_view_count": null,
            "_view_module_version": "1.2.0",
            "bar_color": null,
            "_model_module": "@jupyter-widgets/controls"
          }
        },
        "b200d6c8bfd84ca8afe841d493c58e7b": {
          "model_module": "@jupyter-widgets/base",
          "model_name": "LayoutModel",
          "state": {
            "_view_name": "LayoutView",
            "grid_template_rows": null,
            "right": null,
            "justify_content": null,
            "_view_module": "@jupyter-widgets/base",
            "overflow": null,
            "_model_module_version": "1.2.0",
            "_view_count": null,
            "flex_flow": null,
            "width": "50%",
            "min_width": null,
            "border": null,
            "align_items": null,
            "bottom": null,
            "_model_module": "@jupyter-widgets/base",
            "top": null,
            "grid_column": null,
            "overflow_y": null,
            "overflow_x": null,
            "grid_auto_flow": null,
            "grid_area": null,
            "grid_template_columns": null,
            "flex": null,
            "_model_name": "LayoutModel",
            "justify_items": null,
            "grid_row": null,
            "max_height": null,
            "align_content": null,
            "visibility": null,
            "align_self": null,
            "height": "25px",
            "min_height": null,
            "padding": null,
            "grid_auto_rows": null,
            "grid_gap": null,
            "max_width": null,
            "order": null,
            "_view_module_version": "1.2.0",
            "grid_template_areas": null,
            "object_position": null,
            "object_fit": null,
            "grid_auto_columns": null,
            "margin": null,
            "display": null,
            "left": null
          }
        },
        "93166e0419fc40f8a0d2761bb4265a91": {
          "model_module": "@jupyter-widgets/controls",
          "model_name": "FloatProgressModel",
          "state": {
            "_view_name": "ProgressView",
            "style": "IPY_MODEL_da2802aaeeb448d0a45e0b143ff0b704",
            "_dom_classes": [],
            "description": "Progress:",
            "_model_name": "FloatProgressModel",
            "bar_style": "info",
            "max": 1,
            "_view_module": "@jupyter-widgets/controls",
            "_model_module_version": "1.5.0",
            "value": 0,
            "_view_count": null,
            "_view_module_version": "1.5.0",
            "orientation": "horizontal",
            "min": 0,
            "description_tooltip": null,
            "_model_module": "@jupyter-widgets/controls",
            "layout": "IPY_MODEL_fdfdef2b0aa1429caced75bd92e4cd4b"
          }
        },
        "da2802aaeeb448d0a45e0b143ff0b704": {
          "model_module": "@jupyter-widgets/controls",
          "model_name": "ProgressStyleModel",
          "state": {
            "_view_name": "StyleView",
            "_model_name": "ProgressStyleModel",
            "description_width": "",
            "_view_module": "@jupyter-widgets/base",
            "_model_module_version": "1.5.0",
            "_view_count": null,
            "_view_module_version": "1.2.0",
            "bar_color": null,
            "_model_module": "@jupyter-widgets/controls"
          }
        },
        "fdfdef2b0aa1429caced75bd92e4cd4b": {
          "model_module": "@jupyter-widgets/base",
          "model_name": "LayoutModel",
          "state": {
            "_view_name": "LayoutView",
            "grid_template_rows": null,
            "right": null,
            "justify_content": null,
            "_view_module": "@jupyter-widgets/base",
            "overflow": null,
            "_model_module_version": "1.2.0",
            "_view_count": null,
            "flex_flow": null,
            "width": "50%",
            "min_width": null,
            "border": null,
            "align_items": null,
            "bottom": null,
            "_model_module": "@jupyter-widgets/base",
            "top": null,
            "grid_column": null,
            "overflow_y": null,
            "overflow_x": null,
            "grid_auto_flow": null,
            "grid_area": null,
            "grid_template_columns": null,
            "flex": null,
            "_model_name": "LayoutModel",
            "justify_items": null,
            "grid_row": null,
            "max_height": null,
            "align_content": null,
            "visibility": null,
            "align_self": null,
            "height": "25px",
            "min_height": null,
            "padding": null,
            "grid_auto_rows": null,
            "grid_gap": null,
            "max_width": null,
            "order": null,
            "_view_module_version": "1.2.0",
            "grid_template_areas": null,
            "object_position": null,
            "object_fit": null,
            "grid_auto_columns": null,
            "margin": null,
            "display": null,
            "left": null
          }
        },
        "7d4803d0494f4fd09b3bed89bec5183a": {
          "model_module": "@jupyter-widgets/controls",
          "model_name": "FloatProgressModel",
          "state": {
            "_view_name": "ProgressView",
            "style": "IPY_MODEL_42fcc05228604fb493f156de9b08a176",
            "_dom_classes": [],
            "description": "Progress:",
            "_model_name": "FloatProgressModel",
            "bar_style": "info",
            "max": 1,
            "_view_module": "@jupyter-widgets/controls",
            "_model_module_version": "1.5.0",
            "value": 0,
            "_view_count": null,
            "_view_module_version": "1.5.0",
            "orientation": "horizontal",
            "min": 0,
            "description_tooltip": null,
            "_model_module": "@jupyter-widgets/controls",
            "layout": "IPY_MODEL_78ec509e08b64ff9950a471a89db450e"
          }
        },
        "42fcc05228604fb493f156de9b08a176": {
          "model_module": "@jupyter-widgets/controls",
          "model_name": "ProgressStyleModel",
          "state": {
            "_view_name": "StyleView",
            "_model_name": "ProgressStyleModel",
            "description_width": "",
            "_view_module": "@jupyter-widgets/base",
            "_model_module_version": "1.5.0",
            "_view_count": null,
            "_view_module_version": "1.2.0",
            "bar_color": null,
            "_model_module": "@jupyter-widgets/controls"
          }
        },
        "78ec509e08b64ff9950a471a89db450e": {
          "model_module": "@jupyter-widgets/base",
          "model_name": "LayoutModel",
          "state": {
            "_view_name": "LayoutView",
            "grid_template_rows": null,
            "right": null,
            "justify_content": null,
            "_view_module": "@jupyter-widgets/base",
            "overflow": null,
            "_model_module_version": "1.2.0",
            "_view_count": null,
            "flex_flow": null,
            "width": "50%",
            "min_width": null,
            "border": null,
            "align_items": null,
            "bottom": null,
            "_model_module": "@jupyter-widgets/base",
            "top": null,
            "grid_column": null,
            "overflow_y": null,
            "overflow_x": null,
            "grid_auto_flow": null,
            "grid_area": null,
            "grid_template_columns": null,
            "flex": null,
            "_model_name": "LayoutModel",
            "justify_items": null,
            "grid_row": null,
            "max_height": null,
            "align_content": null,
            "visibility": null,
            "align_self": null,
            "height": "25px",
            "min_height": null,
            "padding": null,
            "grid_auto_rows": null,
            "grid_gap": null,
            "max_width": null,
            "order": null,
            "_view_module_version": "1.2.0",
            "grid_template_areas": null,
            "object_position": null,
            "object_fit": null,
            "grid_auto_columns": null,
            "margin": null,
            "display": null,
            "left": null
          }
        },
        "61a236294956495faaea0c37eff50f1d": {
          "model_module": "@jupyter-widgets/controls",
          "model_name": "FloatProgressModel",
          "state": {
            "_view_name": "ProgressView",
            "style": "IPY_MODEL_e6f0e6e7b2934d3ca7dfd50ae02642d6",
            "_dom_classes": [],
            "description": "Progress:",
            "_model_name": "FloatProgressModel",
            "bar_style": "info",
            "max": 1,
            "_view_module": "@jupyter-widgets/controls",
            "_model_module_version": "1.5.0",
            "value": 0.9583333333333334,
            "_view_count": null,
            "_view_module_version": "1.5.0",
            "orientation": "horizontal",
            "min": 0,
            "description_tooltip": null,
            "_model_module": "@jupyter-widgets/controls",
            "layout": "IPY_MODEL_4e820775409841b9b0d5cfe5d9086554"
          }
        },
        "e6f0e6e7b2934d3ca7dfd50ae02642d6": {
          "model_module": "@jupyter-widgets/controls",
          "model_name": "ProgressStyleModel",
          "state": {
            "_view_name": "StyleView",
            "_model_name": "ProgressStyleModel",
            "description_width": "",
            "_view_module": "@jupyter-widgets/base",
            "_model_module_version": "1.5.0",
            "_view_count": null,
            "_view_module_version": "1.2.0",
            "bar_color": null,
            "_model_module": "@jupyter-widgets/controls"
          }
        },
        "4e820775409841b9b0d5cfe5d9086554": {
          "model_module": "@jupyter-widgets/base",
          "model_name": "LayoutModel",
          "state": {
            "_view_name": "LayoutView",
            "grid_template_rows": null,
            "right": null,
            "justify_content": null,
            "_view_module": "@jupyter-widgets/base",
            "overflow": null,
            "_model_module_version": "1.2.0",
            "_view_count": null,
            "flex_flow": null,
            "width": "50%",
            "min_width": null,
            "border": null,
            "align_items": null,
            "bottom": null,
            "_model_module": "@jupyter-widgets/base",
            "top": null,
            "grid_column": null,
            "overflow_y": null,
            "overflow_x": null,
            "grid_auto_flow": null,
            "grid_area": null,
            "grid_template_columns": null,
            "flex": null,
            "_model_name": "LayoutModel",
            "justify_items": null,
            "grid_row": null,
            "max_height": null,
            "align_content": null,
            "visibility": null,
            "align_self": null,
            "height": "25px",
            "min_height": null,
            "padding": null,
            "grid_auto_rows": null,
            "grid_gap": null,
            "max_width": null,
            "order": null,
            "_view_module_version": "1.2.0",
            "grid_template_areas": null,
            "object_position": null,
            "object_fit": null,
            "grid_auto_columns": null,
            "margin": null,
            "display": null,
            "left": null
          }
        },
        "65701135f0d840aab45bcd61d527e2b8": {
          "model_module": "@jupyter-widgets/controls",
          "model_name": "FloatProgressModel",
          "state": {
            "_view_name": "ProgressView",
            "style": "IPY_MODEL_4aaad654c19e4d698746051621ca127d",
            "_dom_classes": [],
            "description": "Progress:",
            "_model_name": "FloatProgressModel",
            "bar_style": "info",
            "max": 1,
            "_view_module": "@jupyter-widgets/controls",
            "_model_module_version": "1.5.0",
            "value": 0,
            "_view_count": null,
            "_view_module_version": "1.5.0",
            "orientation": "horizontal",
            "min": 0,
            "description_tooltip": null,
            "_model_module": "@jupyter-widgets/controls",
            "layout": "IPY_MODEL_133c19fbbb5e460da7944abbb7d8747a"
          }
        },
        "4aaad654c19e4d698746051621ca127d": {
          "model_module": "@jupyter-widgets/controls",
          "model_name": "ProgressStyleModel",
          "state": {
            "_view_name": "StyleView",
            "_model_name": "ProgressStyleModel",
            "description_width": "",
            "_view_module": "@jupyter-widgets/base",
            "_model_module_version": "1.5.0",
            "_view_count": null,
            "_view_module_version": "1.2.0",
            "bar_color": null,
            "_model_module": "@jupyter-widgets/controls"
          }
        },
        "133c19fbbb5e460da7944abbb7d8747a": {
          "model_module": "@jupyter-widgets/base",
          "model_name": "LayoutModel",
          "state": {
            "_view_name": "LayoutView",
            "grid_template_rows": null,
            "right": null,
            "justify_content": null,
            "_view_module": "@jupyter-widgets/base",
            "overflow": null,
            "_model_module_version": "1.2.0",
            "_view_count": null,
            "flex_flow": null,
            "width": "50%",
            "min_width": null,
            "border": null,
            "align_items": null,
            "bottom": null,
            "_model_module": "@jupyter-widgets/base",
            "top": null,
            "grid_column": null,
            "overflow_y": null,
            "overflow_x": null,
            "grid_auto_flow": null,
            "grid_area": null,
            "grid_template_columns": null,
            "flex": null,
            "_model_name": "LayoutModel",
            "justify_items": null,
            "grid_row": null,
            "max_height": null,
            "align_content": null,
            "visibility": null,
            "align_self": null,
            "height": "25px",
            "min_height": null,
            "padding": null,
            "grid_auto_rows": null,
            "grid_gap": null,
            "max_width": null,
            "order": null,
            "_view_module_version": "1.2.0",
            "grid_template_areas": null,
            "object_position": null,
            "object_fit": null,
            "grid_auto_columns": null,
            "margin": null,
            "display": null,
            "left": null
          }
        },
        "9b7a991663e943049c9db29119f6f520": {
          "model_module": "@jupyter-widgets/controls",
          "model_name": "FloatProgressModel",
          "state": {
            "_view_name": "ProgressView",
            "style": "IPY_MODEL_c383beb1fd3741e1887dde64a0b832a0",
            "_dom_classes": [],
            "description": "Progress:",
            "_model_name": "FloatProgressModel",
            "bar_style": "info",
            "max": 1,
            "_view_module": "@jupyter-widgets/controls",
            "_model_module_version": "1.5.0",
            "value": 0,
            "_view_count": null,
            "_view_module_version": "1.5.0",
            "orientation": "horizontal",
            "min": 0,
            "description_tooltip": null,
            "_model_module": "@jupyter-widgets/controls",
            "layout": "IPY_MODEL_cbfcd7f6dd774dba99c14e38ef5ae3b1"
          }
        },
        "c383beb1fd3741e1887dde64a0b832a0": {
          "model_module": "@jupyter-widgets/controls",
          "model_name": "ProgressStyleModel",
          "state": {
            "_view_name": "StyleView",
            "_model_name": "ProgressStyleModel",
            "description_width": "",
            "_view_module": "@jupyter-widgets/base",
            "_model_module_version": "1.5.0",
            "_view_count": null,
            "_view_module_version": "1.2.0",
            "bar_color": null,
            "_model_module": "@jupyter-widgets/controls"
          }
        },
        "cbfcd7f6dd774dba99c14e38ef5ae3b1": {
          "model_module": "@jupyter-widgets/base",
          "model_name": "LayoutModel",
          "state": {
            "_view_name": "LayoutView",
            "grid_template_rows": null,
            "right": null,
            "justify_content": null,
            "_view_module": "@jupyter-widgets/base",
            "overflow": null,
            "_model_module_version": "1.2.0",
            "_view_count": null,
            "flex_flow": null,
            "width": "50%",
            "min_width": null,
            "border": null,
            "align_items": null,
            "bottom": null,
            "_model_module": "@jupyter-widgets/base",
            "top": null,
            "grid_column": null,
            "overflow_y": null,
            "overflow_x": null,
            "grid_auto_flow": null,
            "grid_area": null,
            "grid_template_columns": null,
            "flex": null,
            "_model_name": "LayoutModel",
            "justify_items": null,
            "grid_row": null,
            "max_height": null,
            "align_content": null,
            "visibility": null,
            "align_self": null,
            "height": "25px",
            "min_height": null,
            "padding": null,
            "grid_auto_rows": null,
            "grid_gap": null,
            "max_width": null,
            "order": null,
            "_view_module_version": "1.2.0",
            "grid_template_areas": null,
            "object_position": null,
            "object_fit": null,
            "grid_auto_columns": null,
            "margin": null,
            "display": null,
            "left": null
          }
        },
        "7a329e2a326447b0adae53b399342867": {
          "model_module": "@jupyter-widgets/controls",
          "model_name": "FloatProgressModel",
          "state": {
            "_view_name": "ProgressView",
            "style": "IPY_MODEL_a5d7b04047bb4552bd4de79596279783",
            "_dom_classes": [],
            "description": "Progress:",
            "_model_name": "FloatProgressModel",
            "bar_style": "info",
            "max": 1,
            "_view_module": "@jupyter-widgets/controls",
            "_model_module_version": "1.5.0",
            "value": 0.3220779220779221,
            "_view_count": null,
            "_view_module_version": "1.5.0",
            "orientation": "horizontal",
            "min": 0,
            "description_tooltip": null,
            "_model_module": "@jupyter-widgets/controls",
            "layout": "IPY_MODEL_4e641392129f47158fbbc74153f3b22e"
          }
        },
        "a5d7b04047bb4552bd4de79596279783": {
          "model_module": "@jupyter-widgets/controls",
          "model_name": "ProgressStyleModel",
          "state": {
            "_view_name": "StyleView",
            "_model_name": "ProgressStyleModel",
            "description_width": "",
            "_view_module": "@jupyter-widgets/base",
            "_model_module_version": "1.5.0",
            "_view_count": null,
            "_view_module_version": "1.2.0",
            "bar_color": null,
            "_model_module": "@jupyter-widgets/controls"
          }
        },
        "4e641392129f47158fbbc74153f3b22e": {
          "model_module": "@jupyter-widgets/base",
          "model_name": "LayoutModel",
          "state": {
            "_view_name": "LayoutView",
            "grid_template_rows": null,
            "right": null,
            "justify_content": null,
            "_view_module": "@jupyter-widgets/base",
            "overflow": null,
            "_model_module_version": "1.2.0",
            "_view_count": null,
            "flex_flow": null,
            "width": "50%",
            "min_width": null,
            "border": null,
            "align_items": null,
            "bottom": null,
            "_model_module": "@jupyter-widgets/base",
            "top": null,
            "grid_column": null,
            "overflow_y": null,
            "overflow_x": null,
            "grid_auto_flow": null,
            "grid_area": null,
            "grid_template_columns": null,
            "flex": null,
            "_model_name": "LayoutModel",
            "justify_items": null,
            "grid_row": null,
            "max_height": null,
            "align_content": null,
            "visibility": null,
            "align_self": null,
            "height": "25px",
            "min_height": null,
            "padding": null,
            "grid_auto_rows": null,
            "grid_gap": null,
            "max_width": null,
            "order": null,
            "_view_module_version": "1.2.0",
            "grid_template_areas": null,
            "object_position": null,
            "object_fit": null,
            "grid_auto_columns": null,
            "margin": null,
            "display": null,
            "left": null
          }
        },
        "f6150efec73f4244b77d6c583f45a4a3": {
          "model_module": "@jupyter-widgets/controls",
          "model_name": "FloatProgressModel",
          "state": {
            "_view_name": "ProgressView",
            "style": "IPY_MODEL_58ca491c4a3b4f0a82cb832a221c30b2",
            "_dom_classes": [],
            "description": "Progress:",
            "_model_name": "FloatProgressModel",
            "bar_style": "info",
            "max": 1,
            "_view_module": "@jupyter-widgets/controls",
            "_model_module_version": "1.5.0",
            "value": 0,
            "_view_count": null,
            "_view_module_version": "1.5.0",
            "orientation": "horizontal",
            "min": 0,
            "description_tooltip": null,
            "_model_module": "@jupyter-widgets/controls",
            "layout": "IPY_MODEL_db2b001df2db4631976c52027d00f667"
          }
        },
        "58ca491c4a3b4f0a82cb832a221c30b2": {
          "model_module": "@jupyter-widgets/controls",
          "model_name": "ProgressStyleModel",
          "state": {
            "_view_name": "StyleView",
            "_model_name": "ProgressStyleModel",
            "description_width": "",
            "_view_module": "@jupyter-widgets/base",
            "_model_module_version": "1.5.0",
            "_view_count": null,
            "_view_module_version": "1.2.0",
            "bar_color": null,
            "_model_module": "@jupyter-widgets/controls"
          }
        },
        "db2b001df2db4631976c52027d00f667": {
          "model_module": "@jupyter-widgets/base",
          "model_name": "LayoutModel",
          "state": {
            "_view_name": "LayoutView",
            "grid_template_rows": null,
            "right": null,
            "justify_content": null,
            "_view_module": "@jupyter-widgets/base",
            "overflow": null,
            "_model_module_version": "1.2.0",
            "_view_count": null,
            "flex_flow": null,
            "width": "50%",
            "min_width": null,
            "border": null,
            "align_items": null,
            "bottom": null,
            "_model_module": "@jupyter-widgets/base",
            "top": null,
            "grid_column": null,
            "overflow_y": null,
            "overflow_x": null,
            "grid_auto_flow": null,
            "grid_area": null,
            "grid_template_columns": null,
            "flex": null,
            "_model_name": "LayoutModel",
            "justify_items": null,
            "grid_row": null,
            "max_height": null,
            "align_content": null,
            "visibility": null,
            "align_self": null,
            "height": "25px",
            "min_height": null,
            "padding": null,
            "grid_auto_rows": null,
            "grid_gap": null,
            "max_width": null,
            "order": null,
            "_view_module_version": "1.2.0",
            "grid_template_areas": null,
            "object_position": null,
            "object_fit": null,
            "grid_auto_columns": null,
            "margin": null,
            "display": null,
            "left": null
          }
        },
        "a819012e5e6b4ebaaa49b63c86d5bf23": {
          "model_module": "@jupyter-widgets/controls",
          "model_name": "FloatProgressModel",
          "state": {
            "_view_name": "ProgressView",
            "style": "IPY_MODEL_61e7faf3c15b4390bae59e9f2b771cf3",
            "_dom_classes": [],
            "description": "Progress:",
            "_model_name": "FloatProgressModel",
            "bar_style": "info",
            "max": 1,
            "_view_module": "@jupyter-widgets/controls",
            "_model_module_version": "1.5.0",
            "value": 0,
            "_view_count": null,
            "_view_module_version": "1.5.0",
            "orientation": "horizontal",
            "min": 0,
            "description_tooltip": null,
            "_model_module": "@jupyter-widgets/controls",
            "layout": "IPY_MODEL_67e97398666140f19e366c6aeda445fa"
          }
        },
        "61e7faf3c15b4390bae59e9f2b771cf3": {
          "model_module": "@jupyter-widgets/controls",
          "model_name": "ProgressStyleModel",
          "state": {
            "_view_name": "StyleView",
            "_model_name": "ProgressStyleModel",
            "description_width": "",
            "_view_module": "@jupyter-widgets/base",
            "_model_module_version": "1.5.0",
            "_view_count": null,
            "_view_module_version": "1.2.0",
            "bar_color": null,
            "_model_module": "@jupyter-widgets/controls"
          }
        },
        "67e97398666140f19e366c6aeda445fa": {
          "model_module": "@jupyter-widgets/base",
          "model_name": "LayoutModel",
          "state": {
            "_view_name": "LayoutView",
            "grid_template_rows": null,
            "right": null,
            "justify_content": null,
            "_view_module": "@jupyter-widgets/base",
            "overflow": null,
            "_model_module_version": "1.2.0",
            "_view_count": null,
            "flex_flow": null,
            "width": "50%",
            "min_width": null,
            "border": null,
            "align_items": null,
            "bottom": null,
            "_model_module": "@jupyter-widgets/base",
            "top": null,
            "grid_column": null,
            "overflow_y": null,
            "overflow_x": null,
            "grid_auto_flow": null,
            "grid_area": null,
            "grid_template_columns": null,
            "flex": null,
            "_model_name": "LayoutModel",
            "justify_items": null,
            "grid_row": null,
            "max_height": null,
            "align_content": null,
            "visibility": null,
            "align_self": null,
            "height": "25px",
            "min_height": null,
            "padding": null,
            "grid_auto_rows": null,
            "grid_gap": null,
            "max_width": null,
            "order": null,
            "_view_module_version": "1.2.0",
            "grid_template_areas": null,
            "object_position": null,
            "object_fit": null,
            "grid_auto_columns": null,
            "margin": null,
            "display": null,
            "left": null
          }
        },
        "fa8d6e6ef80647bd81a2fba68a71d7cc": {
          "model_module": "@jupyter-widgets/controls",
          "model_name": "FloatProgressModel",
          "state": {
            "_view_name": "ProgressView",
            "style": "IPY_MODEL_967d468bdc7948b29097d1e7f63d6662",
            "_dom_classes": [],
            "description": "Progress:",
            "_model_name": "FloatProgressModel",
            "bar_style": "info",
            "max": 1,
            "_view_module": "@jupyter-widgets/controls",
            "_model_module_version": "1.5.0",
            "value": 0,
            "_view_count": null,
            "_view_module_version": "1.5.0",
            "orientation": "horizontal",
            "min": 0,
            "description_tooltip": null,
            "_model_module": "@jupyter-widgets/controls",
            "layout": "IPY_MODEL_62861d55953c4b15b035750eb4c0f2d9"
          }
        },
        "967d468bdc7948b29097d1e7f63d6662": {
          "model_module": "@jupyter-widgets/controls",
          "model_name": "ProgressStyleModel",
          "state": {
            "_view_name": "StyleView",
            "_model_name": "ProgressStyleModel",
            "description_width": "",
            "_view_module": "@jupyter-widgets/base",
            "_model_module_version": "1.5.0",
            "_view_count": null,
            "_view_module_version": "1.2.0",
            "bar_color": null,
            "_model_module": "@jupyter-widgets/controls"
          }
        },
        "62861d55953c4b15b035750eb4c0f2d9": {
          "model_module": "@jupyter-widgets/base",
          "model_name": "LayoutModel",
          "state": {
            "_view_name": "LayoutView",
            "grid_template_rows": null,
            "right": null,
            "justify_content": null,
            "_view_module": "@jupyter-widgets/base",
            "overflow": null,
            "_model_module_version": "1.2.0",
            "_view_count": null,
            "flex_flow": null,
            "width": "50%",
            "min_width": null,
            "border": null,
            "align_items": null,
            "bottom": null,
            "_model_module": "@jupyter-widgets/base",
            "top": null,
            "grid_column": null,
            "overflow_y": null,
            "overflow_x": null,
            "grid_auto_flow": null,
            "grid_area": null,
            "grid_template_columns": null,
            "flex": null,
            "_model_name": "LayoutModel",
            "justify_items": null,
            "grid_row": null,
            "max_height": null,
            "align_content": null,
            "visibility": null,
            "align_self": null,
            "height": "25px",
            "min_height": null,
            "padding": null,
            "grid_auto_rows": null,
            "grid_gap": null,
            "max_width": null,
            "order": null,
            "_view_module_version": "1.2.0",
            "grid_template_areas": null,
            "object_position": null,
            "object_fit": null,
            "grid_auto_columns": null,
            "margin": null,
            "display": null,
            "left": null
          }
        },
        "9715d8681b5f4a19b51aec84d1d67f96": {
          "model_module": "@jupyter-widgets/controls",
          "model_name": "FloatProgressModel",
          "state": {
            "_view_name": "ProgressView",
            "style": "IPY_MODEL_5912b5b617534551ad54f0be0458adb6",
            "_dom_classes": [],
            "description": "Progress:",
            "_model_name": "FloatProgressModel",
            "bar_style": "info",
            "max": 1,
            "_view_module": "@jupyter-widgets/controls",
            "_model_module_version": "1.5.0",
            "value": 0.5641025641025641,
            "_view_count": null,
            "_view_module_version": "1.5.0",
            "orientation": "horizontal",
            "min": 0,
            "description_tooltip": null,
            "_model_module": "@jupyter-widgets/controls",
            "layout": "IPY_MODEL_ec5a6456a5cb4e42a46fadb2a887928f"
          }
        },
        "5912b5b617534551ad54f0be0458adb6": {
          "model_module": "@jupyter-widgets/controls",
          "model_name": "ProgressStyleModel",
          "state": {
            "_view_name": "StyleView",
            "_model_name": "ProgressStyleModel",
            "description_width": "",
            "_view_module": "@jupyter-widgets/base",
            "_model_module_version": "1.5.0",
            "_view_count": null,
            "_view_module_version": "1.2.0",
            "bar_color": null,
            "_model_module": "@jupyter-widgets/controls"
          }
        },
        "ec5a6456a5cb4e42a46fadb2a887928f": {
          "model_module": "@jupyter-widgets/base",
          "model_name": "LayoutModel",
          "state": {
            "_view_name": "LayoutView",
            "grid_template_rows": null,
            "right": null,
            "justify_content": null,
            "_view_module": "@jupyter-widgets/base",
            "overflow": null,
            "_model_module_version": "1.2.0",
            "_view_count": null,
            "flex_flow": null,
            "width": "50%",
            "min_width": null,
            "border": null,
            "align_items": null,
            "bottom": null,
            "_model_module": "@jupyter-widgets/base",
            "top": null,
            "grid_column": null,
            "overflow_y": null,
            "overflow_x": null,
            "grid_auto_flow": null,
            "grid_area": null,
            "grid_template_columns": null,
            "flex": null,
            "_model_name": "LayoutModel",
            "justify_items": null,
            "grid_row": null,
            "max_height": null,
            "align_content": null,
            "visibility": null,
            "align_self": null,
            "height": "25px",
            "min_height": null,
            "padding": null,
            "grid_auto_rows": null,
            "grid_gap": null,
            "max_width": null,
            "order": null,
            "_view_module_version": "1.2.0",
            "grid_template_areas": null,
            "object_position": null,
            "object_fit": null,
            "grid_auto_columns": null,
            "margin": null,
            "display": null,
            "left": null
          }
        }
      }
    }
  },
  "cells": [
    {
      "cell_type": "markdown",
      "metadata": {
        "id": "view-in-github",
        "colab_type": "text"
      },
      "source": [
        "<a href=\"https://colab.research.google.com/github/Shunl1996/CIS545_HWs/blob/hw3/HW3_STUDENT.ipynb\" target=\"_parent\"><img src=\"https://colab.research.google.com/assets/colab-badge.svg\" alt=\"Open In Colab\"/></a>"
      ]
    },
    {
      "cell_type": "markdown",
      "metadata": {
        "id": "qVMCjEV1IEC7"
      },
      "source": [
        "# CIS 545 Homework 3: Spark SQL\n",
        "### **Due Date: October 30th, 2020 at 10pm EDT**\n",
        "#### **Worth 100 points (plus 5 points extra credit)**\n",
        "\n",
        "Welcome to CIS 545 Homework 3! In this homework you will gain a mastery of using Spark SQL. By the end, you'll be a star (not that you aren't already one). Over the next few days you will be using an EMR cluster to use Spark to manipulate the  `linkedin_small_real.json` dataset  as well as the `stocks.csv`.\n",
        "\n",
        "The goal of the homework will be to create a training dataset for a Random Forest Machine learning model.  Yes, you'll be playing with machine learning shortly!\n",
        "\n",
        "The training data set will contain the monthly number of employees hired by companies in `linkedin_small_real.json` and their corresponding closing stock prices over a 10 year period (2000-2011). We will try and predict, based on this data, if the company will have a positive or negative growth in stock in the first quarter of the next year. Who's ready to make some money?\n",
        "\n",
        "## The Necessary Notes and Nags\n",
        "Before we begin here are some important notes to keep in mind,\n",
        "\n",
        "\n",
        "1.   **IMPORTANT!** I said it twice, it's really important. In this homework, we will be using AWS resources. You are given a quota ($100) to use for the entirety of the homework. There is a small chance you will use all this money, however it is important that at the end of every session, you **shut down your EMR cluster**.\n",
        "2.   **Be sure you use Google Colab for this Homework** since we must connect to the EMR cluster and local Jupyter will have issues doing that. Using a Google Colab Notebook with an EMR cluster has two important abnormalities:\n",
        "    * The first line of any cell in which you will use the spark session must be `%%spark`. Notice that all cells below have this.\n",
        "    * You will, unfortunately, not be able to stop a cell while it is running. If you wish to do so, you will need to restart your cluster. See the Setup EMR Document for reference.\n",
        "3.   You are **required** to use Spark SQL queries to handle the data in the assignment. Mastering SQL is more beneficial than being able to use Spark commands (functions) as it will show up in more areas of programming and data science/analytics than just Spark. Use the following [function list](https://spark.apache.org/docs/latest/api/sql/index.html#) to see all the SQL functions avaliable in Spark.\n",
        "4.   Throughout the homework you will be manipulating Spark dataframes (sdfs). We do not specify any ordering on the final output. You are welcome to order your final tables in whatever way you deem fit. We will conduct our own ordering when we grade.\n",
        "5. Based on the challenges you've faced in the previous homework, we are including information on the expected schema of your results.  Apache Spark is very fiddly but we hope this will help.\n",
        "6. There are portions of this homework that are _very_ hard. We urge you start early to come to office hours and get help if you get stuck. But don't worry, I can see the future, and you all got this.\n",
        "\n",
        "With that said, let's dive in.\n",
        "\n",
        "\n"
      ]
    },
    {
      "cell_type": "markdown",
      "metadata": {
        "id": "7XEqGpEGBWs5"
      },
      "source": [
        "## Step 0: Set up EMR\n",
        "\n",
        "Your first task is to create an EMR (Elastic MapReduce) cluster your AWS Educate Accounts. Please see the [attached document](https://drive.google.com/file/d/1dHBWEFFFv-19HgEq8gvKwZRcrEge0GwS/view?usp=sharing) for detailed instructions.\n",
        "\n",
        "Move on to Step 0.1 after you have completed all the steps in the document.\n",
        "\n",
        "![ACME GIANT RUBBER BAND](https://pbs.twimg.com/media/DRqbJh7UMAE2z4o?format=jpg&name=4096x4096)\n"
      ]
    },
    {
      "cell_type": "markdown",
      "metadata": {
        "id": "5iBPXxgAdXkv"
      },
      "source": [
        "### Step 0.1: The Superfluous Setup\n",
        "\n",
        "Run the following two cells. These will allow your colab notebook to connect to an use your EMR."
      ]
    },
    {
      "cell_type": "code",
      "metadata": {
        "id": "pvkEbVaaAQ1e"
      },
      "source": [
        "%%capture\n",
        "!apt update\n",
        "!apt install gcc python-dev libkrb5-dev\n",
        "!pip install sparkmagic"
      ],
      "execution_count": 1,
      "outputs": []
    },
    {
      "cell_type": "code",
      "metadata": {
        "id": "6WAJmQ8IAbRs"
      },
      "source": [
        "%%capture\n",
        "%load_ext sparkmagic.magics "
      ],
      "execution_count": 2,
      "outputs": []
    },
    {
      "cell_type": "markdown",
      "metadata": {
        "id": "CL6n768EPt9E"
      },
      "source": [
        "### Step 0.2: The Sharp Spark\n",
        "\n",
        "Now, connect your notebook to the EMR cluster you created. In the first cell, copy the link to the Master Public DNS specified in the setup document. You will need to add `http://` to the beginning of the address and the port to the end. The final format should be,\n",
        "\n",
        "`http://<your-DNS-link>:8998`\n",
        "\n",
        "For example, if my DNS (directly from the AWS EMR console) is `ec2-3-15-237-211.us-east-2.compute.amazonaws.com` my address would be,\n",
        "\n",
        "`http://ec2-3-15-237-211.us-east-2.compute.amazonaws.com:8998`\n",
        "\n",
        "Insert this in the `# TODO # below`. For our example, the cell would read,\n",
        "\n",
        "\n",
        "\n",
        "```\n",
        "%spark add -s spark_session -l python -u http://ec2-3-15-237-211.us-east-2.compute.amazonaws.com:8998\n",
        "```"
      ]
    },
    {
      "cell_type": "code",
      "metadata": {
        "id": "G9QbylT-jqX9",
        "outputId": "58ce383e-b173-48d5-8f38-fd9e087a9233",
        "colab": {
          "base_uri": "https://localhost:8080/",
          "height": 97,
          "referenced_widgets": [
            "66cb305b206848d193a132bd2b4d4fc9",
            "8d65b3fed2754c4aa0adf2c2fbdf9b45",
            "9334263681f34962ac1700ef85b5425c"
          ]
        }
      },
      "source": [
        "# TODO: Enter your Master Public DNS with the proper formatting and host\n",
        "%spark add -s spark_session -l python -u http://ec2-3-89-202-103.compute-1.amazonaws.com:8998"
      ],
      "execution_count": 3,
      "outputs": [
        {
          "output_type": "stream",
          "text": [
            "Starting Spark application\n"
          ],
          "name": "stdout"
        },
        {
          "output_type": "display_data",
          "data": {
            "text/html": [
              "<table>\n",
              "<tr><th>ID</th><th>YARN Application ID</th><th>Kind</th><th>State</th><th>Spark UI</th><th>Driver log</th><th>Current session?</th></tr><tr><td>0</td><td>application_1603849790106_0002</td><td>pyspark</td><td>idle</td><td><a target=\"_blank\" href=\"http://ip-172-31-46-139.ec2.internal:20888/proxy/application_1603849790106_0002/\">Link</a></td><td><a target=\"_blank\" href=\"http://ip-172-31-39-12.ec2.internal:8042/node/containerlogs/container_1603849790106_0002_01_000001/livy\">Link</a></td><td>✔</td></tr></table>"
            ],
            "text/plain": [
              "<IPython.core.display.HTML object>"
            ]
          },
          "metadata": {
            "tags": []
          }
        },
        {
          "output_type": "display_data",
          "data": {
            "application/vnd.jupyter.widget-view+json": {
              "model_id": "66cb305b206848d193a132bd2b4d4fc9",
              "version_minor": 0,
              "version_major": 2
            },
            "text/plain": [
              "FloatProgress(value=0.0, bar_style='info', description='Progress:', layout=Layout(height='25px', width='50%'),…"
            ]
          },
          "metadata": {
            "tags": []
          }
        },
        {
          "output_type": "stream",
          "text": [
            "SparkSession available as 'spark'.\n"
          ],
          "name": "stdout"
        }
      ]
    },
    {
      "cell_type": "code",
      "metadata": {
        "id": "QwKAHhQL0lf7"
      },
      "source": [
        "# If you ever need to restart, you may need to...\n",
        "# %spark delete -s spark_session\n",
        "#OR just factory reset runtime under the runtime tab"
      ],
      "execution_count": 4,
      "outputs": []
    },
    {
      "cell_type": "markdown",
      "metadata": {
        "id": "6yzJetbCfgh3"
      },
      "source": [
        "### Step 0.3: Cluster Log\n",
        "\n",
        "In order to keep track of clusters you have created and terminated as well as give us information about time spent on this assignment, please enter each date and time you created a cluster and the date and time you terminated the cluster. This will not impact your score."
      ]
    },
    {
      "cell_type": "markdown",
      "metadata": {
        "id": "powXPhtphhyy"
      },
      "source": [
        "EX: \n",
        "\n",
        "10/12 9:00am - 10/12 12:00pm\n",
        "\n",
        "10/13 7:00pm - 10/13 9:00pm\n",
        "\n",
        "...\n",
        "    "
      ]
    },
    {
      "cell_type": "markdown",
      "metadata": {
        "id": "SokSZv4vih0c"
      },
      "source": [
        "TODO: Create cluster log"
      ]
    },
    {
      "cell_type": "markdown",
      "metadata": {
        "id": "suCHZ_m842az"
      },
      "source": [
        "10/16 15:29 - 10/16 16:25\n",
        "\n",
        "10/18 12:51 - 10/18 17:37\n",
        "\n",
        "10/24 21:38 - 10/25 0:37\n",
        "\n",
        "10/27 21:48 - "
      ]
    },
    {
      "cell_type": "markdown",
      "metadata": {
        "id": "v1IQjUwNObb8"
      },
      "source": [
        "Enter your 8-digit Penn Key as an integer in the cell \n",
        "below. This will be used in the autograder."
      ]
    },
    {
      "cell_type": "code",
      "metadata": {
        "id": "7zM20juwqqQF",
        "outputId": "8415b841-8124-446b-864b-f8fd9fd7e75b",
        "colab": {
          "base_uri": "https://localhost:8080/",
          "height": 17,
          "referenced_widgets": [
            "5524543b43034fff808e526599b10e04",
            "8a2a4eb97199480ca8c7f81dfa27494c",
            "bcb7f06659264a7c96aa60b09ecd85c5"
          ]
        }
      },
      "source": [
        "%%spark\n",
        "from penngrader.grader import *\n",
        "STUDENT_ID = 29785339"
      ],
      "execution_count": 5,
      "outputs": [
        {
          "output_type": "display_data",
          "data": {
            "application/vnd.jupyter.widget-view+json": {
              "model_id": "5524543b43034fff808e526599b10e04",
              "version_minor": 0,
              "version_major": 2
            },
            "text/plain": [
              "FloatProgress(value=0.0, bar_style='info', description='Progress:', layout=Layout(height='25px', width='50%'),…"
            ]
          },
          "metadata": {
            "tags": []
          }
        }
      ]
    },
    {
      "cell_type": "code",
      "metadata": {
        "id": "V8Oo_5D7qoWp",
        "outputId": "a2494663-2ad5-4001-9036-aae971408765",
        "colab": {
          "base_uri": "https://localhost:8080/",
          "height": 71,
          "referenced_widgets": [
            "f55235e8c96546f89df7ac37ba138224",
            "67eda0a92d21451ca5bc423df145f080",
            "c5a2e5d8843248b9b2d4d56d43e6119d"
          ]
        }
      },
      "source": [
        "%%spark\n",
        "grader = PennGrader(homework_id = 'CIS545_Fall_2020_HW3', student_id = STUDENT_ID)"
      ],
      "execution_count": 6,
      "outputs": [
        {
          "output_type": "display_data",
          "data": {
            "application/vnd.jupyter.widget-view+json": {
              "model_id": "f55235e8c96546f89df7ac37ba138224",
              "version_minor": 0,
              "version_major": 2
            },
            "text/plain": [
              "FloatProgress(value=0.0, bar_style='info', description='Progress:', layout=Layout(height='25px', width='50%'),…"
            ]
          },
          "metadata": {
            "tags": []
          }
        },
        {
          "output_type": "stream",
          "text": [
            "PennGrader initialized with Student ID: 29785339\n",
            "\n",
            "Make sure this correct or we will not be able to store your grade"
          ],
          "name": "stdout"
        }
      ]
    },
    {
      "cell_type": "markdown",
      "metadata": {
        "id": "Bfs-EQZUzF4j"
      },
      "source": [
        "Run the following cell to setup the autograder, make sure to have set your 8 digit Penn ID in the cell above. It will also import all the modules you need for the homework.\n",
        "\n",
        "_Note_: Since we are using an EMR cluster we will only have access to some of modules that exist for Python, meaning things like `pandas`, `numpy`, etc. may not all be available. We have written the entire homework such that the solution does not require any of these."
      ]
    },
    {
      "cell_type": "markdown",
      "metadata": {
        "id": "Nf_ADEXnIK0b"
      },
      "source": [
        "## Step 1: Data Wrangling, Cleaning, and Shaping\n",
        "\n",
        "![Data Wrangler](https://compendiumofcountries.org/wiki/images/6/68/Data_Wrangler_-_Gaucho.png)\n",
        "\n",
        "The data you will use is stored in an S3 bucket, a cloud storage service. You now need to download it onto the nodes of your [EMR cluster](https://docs.aws.amazon.com/emr/latest/ManagementGuide/emr-what-is-emr.html). \n",
        "\n",
        "### Step 1.1: The Stupendous Schema\n",
        "\n",
        "When loading data, Spark will try to infer it's structure on it's own. This process is faulty because it will sometimes infer the type incorrectly. JSON documents, like the one we will use, can have nested types, such as: arrays, arrays of dictionaries, dictionaries of dictionaries, etc. Spark's ability to determine these nested types is not reliable, thus you will define a schema for `linkedin_small_real.json`.\n",
        "\n",
        "A schema is a description of the structure of data. You will be defining an explicit schema for `linkedin_small_real.json`. In Spark, schema's are defined using a `StructType` object. This is a collection of data types, termed `StructField`'s, that specify the structure and variable type of each component of the dataset. For example, suppose we have the following simple JSON object,\n",
        "\n",
        "\n",
        "```\n",
        "{\n",
        " \"student_name\": \"Data Wrangler\",\n",
        " \"GPA\": 1.4,\n",
        " \"courses\": [\n",
        "    {\"department\": \"Computer and Information Science\",\n",
        "     \"course_id\": \"CIS 545\",\n",
        "     \"semester\": \"Fall 2019\"},\n",
        "    {\"department\": \"Computer and Information Science\",\n",
        "     \"course_id\": \"CIS 555\",\n",
        "     \"semester\": \"Fall 2019\"}\n",
        " ],\n",
        " \"grad_year\": 2021\n",
        " }\n",
        "```\n",
        "\n",
        "We would define its schema as follows,\n",
        "\n",
        "```       \n",
        "schema = StructType([\n",
        "           StructField(\"student_name\", StringType(), nullable=True),\n",
        "           StructField(\"GPA\", FloatType(), nullable=True),\n",
        "           StructField(\"courses\", ArrayType(\n",
        "                StructType([\n",
        "                  StructField(\"department\", StringType(), nullable=True),\n",
        "                  StructField(\"course_id\", StringType(), nullable=True),\n",
        "                  StructField(\"semester\", StringType(), nullable=True)\n",
        "                ])\n",
        "           ), nullable=True),\n",
        "           StructField(\"grad_year\", IntegerType(), nullable=True)\n",
        "         ])\n",
        "```\n",
        "\n",
        "\n",
        "Each `StructField` has the following structure: `(name, type, nullable)`. The `nullable` flag defines that the specified field may be empty. Your first task is to define the `schema` of `linkedin_small_real.json`. A smaller version of the JSON dataset can be found [here](https://drive.google.com/a/seas.upenn.edu/file/d/1yZ_0xz6uSJ8lAxhGzn2BVjCpDOjagcqb/view?usp=sharing).\n",
        "\n",
        "_Note_: In `linkedin_small_real.json` the field `specilities` is spelled incorrectly. This is **not** a typo. (Well, it is, but it's a typo in the raw data, and we have to live with what we're given.)\n",
        "\n",
        "There is also no grading cell for this step.  But your JSON file won't load if it's wrong, so you have a way of testing.\n",
        "\n"
      ]
    },
    {
      "cell_type": "code",
      "metadata": {
        "id": "pL-Ps4KWIJ9e",
        "outputId": "9d05547c-d451-49b1-848c-d6480f0a3dc1",
        "colab": {
          "base_uri": "https://localhost:8080/",
          "height": 17,
          "referenced_widgets": [
            "3bbdc2bfd17440a4a73b49d9a5f7b72b",
            "c55dd92f0e4f4d6984f3d413262e7ceb",
            "0cb11348c43745cfa950726a21591c54"
          ]
        }
      },
      "source": [
        "%%spark\n",
        "\n",
        "from pyspark.sql.types import *\n",
        "\n",
        "# TODO: Finish defining the linkedin_small_real.json schema\n",
        "# We've provided most of the fiddly details, but you'll\n",
        "# need to fill in the **name** and the **experience**!\n",
        "\n",
        "schema = StructType([\n",
        "    StructField(\"_id\", StringType(), nullable=True),\n",
        "    StructField(\"education\", ArrayType(\n",
        "      StructType([\n",
        "          StructField(\"start\", StringType(), nullable=True),\n",
        "          StructField(\"major\", StringType(), nullable=True),\n",
        "          StructField(\"end\", StringType(), nullable=True),\n",
        "          StructField(\"name\", StringType(), nullable=True),\n",
        "          StructField(\"desc\", StringType(), nullable=True),\n",
        "          StructField(\"degree\", StringType(), nullable=True)\n",
        "      ])\n",
        "    ), nullable=True),\n",
        "    StructField(\"group\", StructType([\n",
        "          StructField(\"affilition\", ArrayType(StringType()), nullable=True),\n",
        "          StructField(\"member\", StringType(), nullable=True)\n",
        "    ]), nullable=True), \n",
        "\n",
        "    # TODO: fill in the necessary structure for the name (Don't forget the comma at the end)!\n",
        "\n",
        "    StructField(\"name\",MapType(StringType(), StringType()), nullable = True),\n",
        "\n",
        "    StructField(\"locality\", StringType(), nullable=True),\n",
        "    StructField(\"skills\", ArrayType(StringType()), nullable=True),\n",
        "    StructField(\"industry\", StringType(), nullable=True),\n",
        "    StructField(\"interval\", IntegerType(), nullable=True),\n",
        "\n",
        "    # TODO: fill in structure for experience (Don't forget the comma at the end)!\n",
        "    StructField(\"experience\", ArrayType(\n",
        "        StructType([\n",
        "              StructField(\"org\", StringType(), nullable=True),\n",
        "              StructField(\"title\", StringType(), nullable=True),\n",
        "              StructField(\"end\", StringType(), nullable=True),\n",
        "              StructField(\"start\", StringType(), nullable=True),\n",
        "              StructField(\"desc\", StringType(), nullable=True),\n",
        "        ])\n",
        "    ), nullable=True),\n",
        "\n",
        "    StructField(\"summary\", StringType(), nullable=True),\n",
        "    StructField(\"interests\", StringType(), nullable=True),\n",
        "    StructField(\"overview_html\", StringType(), nullable=True),\n",
        "    StructField(\"specilities\", StringType(), nullable=True),\n",
        "    StructField(\"homepage\", ArrayType(StringType()), nullable=True),\n",
        "    StructField(\"honors\", ArrayType(StringType()), nullable=True),\n",
        "    StructField(\"url\", StringType(), nullable=True),\n",
        "    StructField(\"also_view\", ArrayType(\n",
        "      StructType([\n",
        "          StructField(\"id\", StringType(), nullable=True),\n",
        "          StructField(\"url\", StringType(), nullable=True)\n",
        "      ])\n",
        "    ), nullable=True),\n",
        "    StructField(\"events\", ArrayType(\n",
        "      StructType([\n",
        "          StructField(\"from\", StringType(), nullable=True),\n",
        "          StructField(\"to\", StringType(), nullable=True),\n",
        "          StructField(\"title1\", StringType(), nullable=True),\n",
        "          StructField(\"start\", IntegerType(), nullable=True),\n",
        "          StructField(\"title2\", StringType(), nullable=True),\n",
        "          StructField(\"end\", IntegerType(), nullable=True)\n",
        "      ])), nullable=True)\n",
        "])\n"
      ],
      "execution_count": 7,
      "outputs": [
        {
          "output_type": "display_data",
          "data": {
            "application/vnd.jupyter.widget-view+json": {
              "model_id": "3bbdc2bfd17440a4a73b49d9a5f7b72b",
              "version_minor": 0,
              "version_major": 2
            },
            "text/plain": [
              "FloatProgress(value=0.0, bar_style='info', description='Progress:', layout=Layout(height='25px', width='50%'),…"
            ]
          },
          "metadata": {
            "tags": []
          }
        }
      ]
    },
    {
      "cell_type": "markdown",
      "metadata": {
        "id": "2Su604X9ggc2"
      },
      "source": [
        "### Step 1.2: The Langorous Load\n",
        "\n",
        "Load the `linkedin_small_real.json` dataset from your S3 bucket into a Spark dataframe (sdf) called `raw_data_sdf`. If you have constructed `schema` correctly `spark.read.json()` will read in the dataset. ***You do not need to edit this cell***.\n",
        "\n",
        "If this doesn't work, go back to the prior cell and update your `schema`!"
      ]
    },
    {
      "cell_type": "code",
      "metadata": {
        "id": "ji-KW2sAiB6r",
        "outputId": "9d9855df-8b68-4d2b-fb69-bef8566c0ba9",
        "colab": {
          "base_uri": "https://localhost:8080/",
          "height": 17,
          "referenced_widgets": [
            "8ca0e030a9044cac907f5fafea44bf4d",
            "b71c9e7480434e9f9846a2135ae13c79",
            "cb9685b4a88f4083b2a7921bdcc9d5a5"
          ]
        }
      },
      "source": [
        "%%spark\n",
        "\n",
        "raw_data_sdf = spark.read.json(\"s3a://penn-cis545-files/linkedin_small_real.json\", schema=schema)"
      ],
      "execution_count": 8,
      "outputs": [
        {
          "output_type": "display_data",
          "data": {
            "application/vnd.jupyter.widget-view+json": {
              "model_id": "8ca0e030a9044cac907f5fafea44bf4d",
              "version_minor": 0,
              "version_major": 2
            },
            "text/plain": [
              "FloatProgress(value=0.0, bar_style='info', description='Progress:', layout=Layout(height='25px', width='50%'),…"
            ]
          },
          "metadata": {
            "tags": []
          }
        }
      ]
    },
    {
      "cell_type": "code",
      "metadata": {
        "id": "nvurIgjLkdZL",
        "outputId": "dab2f735-87c3-435f-fb0b-eb9c3e865cb7",
        "colab": {
          "base_uri": "https://localhost:8080/",
          "height": 217,
          "referenced_widgets": [
            "3e8236a3fb2447f4a6334e5d7737d043",
            "7bbfc26569aa468c851006afd94eff2a",
            "b06499570a9f41e295b2c9bff4a90a70"
          ]
        }
      },
      "source": [
        "%%spark\n",
        "raw_data_sdf.show(5)"
      ],
      "execution_count": 9,
      "outputs": [
        {
          "output_type": "display_data",
          "data": {
            "application/vnd.jupyter.widget-view+json": {
              "model_id": "3e8236a3fb2447f4a6334e5d7737d043",
              "version_minor": 0,
              "version_major": 2
            },
            "text/plain": [
              "FloatProgress(value=0.0, bar_style='info', description='Progress:', layout=Layout(height='25px', width='50%'),…"
            ]
          },
          "metadata": {
            "tags": []
          }
        },
        {
          "output_type": "stream",
          "text": [
            "+----------------+--------------------+--------------------+--------------------+--------------------+--------------------+--------------------+--------+--------------------+--------------------+--------------------+--------------------+--------------------+--------+------+--------------------+--------------------+--------------------+\n",
            "|             _id|           education|               group|                name|            locality|              skills|            industry|interval|          experience|             summary|           interests|       overview_html|         specilities|homepage|honors|                 url|           also_view|              events|\n",
            "+----------------+--------------------+--------------------+--------------------+--------------------+--------------------+--------------------+--------+--------------------+--------------------+--------------------+--------------------+--------------------+--------+------+--------------------+--------------------+--------------------+\n",
            "|            null|                null|                null|                null|                null|                null|                null|    null|                null|                null|                null|                null|                null|    null|  null|                null|                null|                null|\n",
            "|     in-00000001|                null|                null|[family_name -> M...|       United States|[Key Account Deve...|     Medical Devices|    null|                null|SALES MANAGEMENT ...|                null|                null|                null|    null|  null|http://www.linked...|[[pub-krisa-drost...|                null|\n",
            "|        in-00001|[[2008, Economics...|[[ASMALLWORLD.net...|[family_name -> F...|Antwerp Area, Bel...|[Molecular Biolog...|     Pharmaceuticals|      20|[[Johnson and Joh...|Ph.D. scientist w...|                null|<dl id=\"overview\"...|Biomarkers in Onc...|    null|  null|http://be.linkedi...|[[pub-peter-king-...|[[Sahlgrenska Uni...|\n",
            "|        in-00006|[[2004, Biophysic...|                null|[family_name -> D...|San Francisco, Ca...|[DNA, Nanotechnol...|            Research|       0|[[UCSF, Assistant...|I am interested i...|personal genomics...|<dl id=\"overview\"...|                null|    null|  null|http://www.linked...|[[pub-george-chur...|[[Wyss Institute ...|\n",
            "|in-000montgomery|                null|[[Big Data, Low L...|[family_name -> K...|San Francisco Bay...|                null|Information Techn...|       5|[[<Online Recruit...|OBJECTIVE<Primary...|                null|                null|                null|    null|  null|http://www.linked...|[[pub-david-brigh...|[[<Employee Benef...|\n",
            "+----------------+--------------------+--------------------+--------------------+--------------------+--------------------+--------------------+--------+--------------------+--------------------+--------------------+--------------------+--------------------+--------+------+--------------------+--------------------+--------------------+\n",
            "only showing top 5 rows"
          ],
          "name": "stdout"
        }
      ]
    },
    {
      "cell_type": "markdown",
      "metadata": {
        "id": "KBrpxnn__s83"
      },
      "source": [
        "Importing pandas for the grader and verifying it is version 1.0.5..."
      ]
    },
    {
      "cell_type": "code",
      "metadata": {
        "id": "ddfXgT9C3KhQ",
        "outputId": "8a9d901d-7578-45e7-d9ca-10ae42130f77",
        "colab": {
          "base_uri": "https://localhost:8080/",
          "height": 35,
          "referenced_widgets": [
            "e20a174a5d3942d7829f9ed539f667ce",
            "94f7ed09fa14484a9e8a56c721568af6",
            "8536537ac7494db9b9b8b44e90631298"
          ]
        }
      },
      "source": [
        "%%spark\n",
        "\n",
        "import pandas as pd\n",
        "print(pd.__version__)"
      ],
      "execution_count": 10,
      "outputs": [
        {
          "output_type": "display_data",
          "data": {
            "application/vnd.jupyter.widget-view+json": {
              "model_id": "e20a174a5d3942d7829f9ed539f667ce",
              "version_minor": 0,
              "version_major": 2
            },
            "text/plain": [
              "FloatProgress(value=0.0, bar_style='info', description='Progress:', layout=Layout(height='25px', width='50%'),…"
            ]
          },
          "metadata": {
            "tags": []
          }
        },
        {
          "output_type": "stream",
          "text": [
            "1.0.5"
          ],
          "name": "stdout"
        }
      ]
    },
    {
      "cell_type": "markdown",
      "metadata": {
        "id": "jMVCVotcE1wv"
      },
      "source": [
        "The cell below shows how to run SQL commands on Spark tables. Use this as a template for all your SQL queries in this notebook. ***You do not need to edit this cell***."
      ]
    },
    {
      "cell_type": "code",
      "metadata": {
        "id": "NJSVWeGiEO5c",
        "outputId": "9880781d-61eb-4e49-b139-f0f5c64a942f",
        "colab": {
          "base_uri": "https://localhost:8080/",
          "height": 251,
          "referenced_widgets": [
            "df990388bceb43efaba7b3707734568b",
            "671e5ee69e95445eafbe5209d56c99a1",
            "0e0ce2ebf2e2471199ccc4eed2db8921"
          ]
        }
      },
      "source": [
        "%%spark\n",
        "\n",
        "# Create SQL-accesible table\n",
        "raw_data_sdf.createOrReplaceTempView(\"raw_data\")\n",
        "\n",
        "# Declare SQL query to be excecuted\n",
        "query = '''SELECT * \n",
        "           FROM raw_data LIMIT 10'''\n",
        "\n",
        "# Save the output sdf of spark.sql() as answer_sdf and convert to Pandas\n",
        "answer_sdf = spark.sql(query).toPandas()\n",
        "to_submit = pd.read_json(answer_sdf.to_json())\n",
        "to_submit\n"
      ],
      "execution_count": 11,
      "outputs": [
        {
          "output_type": "display_data",
          "data": {
            "application/vnd.jupyter.widget-view+json": {
              "model_id": "df990388bceb43efaba7b3707734568b",
              "version_minor": 0,
              "version_major": 2
            },
            "text/plain": [
              "FloatProgress(value=0.0, bar_style='info', description='Progress:', layout=Layout(height='25px', width='50%'),…"
            ]
          },
          "metadata": {
            "tags": []
          }
        },
        {
          "output_type": "stream",
          "text": [
            "                  _id  ...                                             events\n",
            "0                None  ...                                               None\n",
            "1         in-00000001  ...                                               None\n",
            "2            in-00001  ...  [[Sahlgrenska University Hospital, Memorial Sl...\n",
            "3            in-00006  ...  [[Wyss Institute for Biologically Inspired Eng...\n",
            "4    in-000montgomery  ...  [[<Employee Benefits, Administration & Actuari...\n",
            "5  in-000vijaychauhan  ...                                               None\n",
            "6    in-001adambutler  ...  [[Tigerprint, WHSmith, NPD Manager, 23966, Des...\n",
            "7        in-001monica  ...  [[CMAF, CMAF, Business Data Analyst, 24050, As...\n",
            "8   in-001neilpeacock  ...  [[Dawson Rentals Plc, Leeds Direct Distributio...\n",
            "9            in-00666  ...                                               None\n",
            "\n",
            "[10 rows x 18 columns]"
          ],
          "name": "stdout"
        }
      ]
    },
    {
      "cell_type": "code",
      "metadata": {
        "id": "0tanLAYVq2Hn",
        "outputId": "52c662c5-454b-423b-d5f9-86c9160a71a9",
        "colab": {
          "base_uri": "https://localhost:8080/",
          "height": 71,
          "referenced_widgets": [
            "f7a6929165cc40ada27c40eba54d3e37",
            "9ea568ae4083451b8d044c99a7075499",
            "9a7babc6975e489ea1264dd8c096ad08"
          ]
        }
      },
      "source": [
        "%%spark\n",
        "\n",
        "## AUTOGRADER Step 1.2: ##\n",
        "\n",
        "grader.grade(test_case_id = 'first', answer = to_submit)"
      ],
      "execution_count": 12,
      "outputs": [
        {
          "output_type": "display_data",
          "data": {
            "application/vnd.jupyter.widget-view+json": {
              "model_id": "f7a6929165cc40ada27c40eba54d3e37",
              "version_minor": 0,
              "version_major": 2
            },
            "text/plain": [
              "FloatProgress(value=0.0, bar_style='info', description='Progress:', layout=Layout(height='25px', width='50%'),…"
            ]
          },
          "metadata": {
            "tags": []
          }
        },
        {
          "output_type": "stream",
          "text": [
            "Correct! You earned 2/2 points. You are a star!\n",
            "\n",
            "Your submission has been successfully recorded in the gradebook."
          ],
          "name": "stdout"
        }
      ]
    },
    {
      "cell_type": "markdown",
      "metadata": {
        "id": "705XndyQYW6f"
      },
      "source": [
        "In the next cell, create `step_1_2_sdf` to fetch the data from the above table, returning rows with schema `(_id, given_name)`, in **lexicographical order** of `_id`.  (Note `_id` is a string as opposed to an int.) Limit your sdf to 10 rows. Save your final answer to a variable to_submit as shown above."
      ]
    },
    {
      "cell_type": "code",
      "metadata": {
        "id": "zOpHsWR2qQAY",
        "outputId": "48d1be82-1ed7-483a-ea6c-82f45d3eac17",
        "colab": {
          "base_uri": "https://localhost:8080/",
          "height": 17,
          "referenced_widgets": [
            "ea2ba5660d8441b8b4ff0fec8f0303ce",
            "f5f2f68c487f46c486a0fa8121ee733e",
            "9813af45a0a44ebfa01f9ecf3a95f02d"
          ]
        }
      },
      "source": [
        "%%spark \n",
        "\n",
        "# TODO\n",
        "query = '''\n",
        "SELECT _id, name['given_name'] AS given_name FROM raw_data ORDER BY _id ASC LIMIT 10\n",
        "'''\n",
        "step_1_2_sdf = spark.sql(query)\n",
        "step_1_2_sdf = step_1_2_sdf.toPandas()\n",
        "to_submit = pd.read_json(step_1_2_sdf.to_json())"
      ],
      "execution_count": 13,
      "outputs": [
        {
          "output_type": "display_data",
          "data": {
            "application/vnd.jupyter.widget-view+json": {
              "model_id": "ea2ba5660d8441b8b4ff0fec8f0303ce",
              "version_minor": 0,
              "version_major": 2
            },
            "text/plain": [
              "FloatProgress(value=0.0, bar_style='info', description='Progress:', layout=Layout(height='25px', width='50%'),…"
            ]
          },
          "metadata": {
            "tags": []
          }
        }
      ]
    },
    {
      "cell_type": "code",
      "metadata": {
        "id": "p4hU1ihWYjL6",
        "outputId": "e38c12a0-8b93-4778-ac55-748a2058ab0c",
        "colab": {
          "base_uri": "https://localhost:8080/",
          "height": 71,
          "referenced_widgets": [
            "65857daec786404d83ad4f61f01f9740",
            "225f10bfca7042fb9b83824b056c1403",
            "5982ce17f932466480d4d8e6dd406782"
          ]
        }
      },
      "source": [
        "%%spark\n",
        "\n",
        "grader.grade(test_case_id = 'lex_10_ids_last_names', answer = to_submit)\n"
      ],
      "execution_count": 14,
      "outputs": [
        {
          "output_type": "display_data",
          "data": {
            "application/vnd.jupyter.widget-view+json": {
              "model_id": "65857daec786404d83ad4f61f01f9740",
              "version_minor": 0,
              "version_major": 2
            },
            "text/plain": [
              "FloatProgress(value=0.0, bar_style='info', description='Progress:', layout=Layout(height='25px', width='50%'),…"
            ]
          },
          "metadata": {
            "tags": []
          }
        },
        {
          "output_type": "stream",
          "text": [
            "Correct! You earned 4/4 points. You are a star!\n",
            "\n",
            "Your submission has been successfully recorded in the gradebook."
          ],
          "name": "stdout"
        }
      ]
    },
    {
      "cell_type": "markdown",
      "metadata": {
        "id": "svOO4iLPist4"
      },
      "source": [
        "### Step 1.3: The Extravagant Extraction\n",
        "\n",
        "In our training model, we are interested in when individuals began working at a company.  From creating the schema, you should notice that the collection of companies inviduals worked at are contained in the `experience` field as an array of dictionaries. You should use the `org` for the company name and `start` for the start date. Here is an example of an `experience` field,\n",
        "\n",
        "```\n",
        "{\n",
        "   \"experience\": [\n",
        "     {\n",
        "        \"org\": \"The Walt Disney Company\", \n",
        "        \"title\" : \"Mickey Mouse\",\n",
        "        \"end\" : \"Present\",\n",
        "        \"start\": \"November 1928\",\n",
        "        \"desc\": \"Sailed a boat.\"\n",
        "     },\n",
        "     {\n",
        "        \"org\": \"Walt Disney World Resort\",\n",
        "        \"title\": \"Mickey Mouse Mascot\",\n",
        "        \"start\": \"January 2005\",\n",
        "        \"desc\": \"Took pictures with kids.\"\n",
        "     }\n",
        "   ]\n",
        "}\n",
        "```\n",
        "\n",
        "Your task is to extract each pair of company and start date from these arrays. In Spark, this is known as \"exploding\" a row. If you think about how we used relational data to model a nested list in a separate table -- that's basically what `explode` does to the nested data within `linkedin`.\n",
        "\n",
        "Create an sdf called `raw_start_dates_sdf` that contains the company and start date for every experience of every individual in `raw_data_sdf`. Drop any row that contains a `null` in either column with `dropna()`. Remember we will sort the dataframe when grading so you can sort the elements however you wish (you don't need to if you don't want to). The sdf should look similar to:\n",
        "\n",
        "```\n",
        "+--------------------------+---------------+\n",
        "|org                       |start_date     |\n",
        "+--------------------------+---------------+\n",
        "|Walt Disney World Resort  |January 2005   | \n",
        "|The Walt Disney Company   |November 1928  |\n",
        "|...                       |...            |\n",
        "+--------------------------+---------------+\n",
        "```\n",
        "\n",
        "_Hint_: You may want to do two separate `explode`s for `org` and `start`. In an explode, the position of the element in the array can be extracted as well, and used to merge two seperate explodes. Reference the [function list](https://spark.apache.org/docs/2.3.0/api/sql/index.html).\n",
        "\n",
        "_Note_: Some of the entires in `org` are \"weird\", i.e. made up of non-english letters and characters. Keep them. **DO NOT** edit any name in the original dataframe unless we specify. **DO NOT** drop any row unless there is a `null` value as stated before. This goes for the rest of the homework as well, unless otherwise specified."
      ]
    },
    {
      "cell_type": "code",
      "metadata": {
        "id": "Kt16tyP0klQX",
        "outputId": "ca8bb212-fd38-41a3-c7c8-28a8a8476f60",
        "colab": {
          "base_uri": "https://localhost:8080/",
          "height": 17,
          "referenced_widgets": [
            "553a18c4d5f04328a4d0de82ae524165",
            "92758a87000441b3be4c93d989a83598",
            "36ac782b15b849b39305a5ed63d0896a"
          ]
        }
      },
      "source": [
        "%%spark\n",
        "\n",
        "# TODO: Create [raw_start_dates_sdf]\n",
        "\n",
        "# POSEXPLODE() will explode a specified column of an sdf and return two rows\n",
        "# corresponding to the index of an element in an array \"pos\" and the element\n",
        "# itself.\n",
        "\n",
        "############################################\n",
        "\n",
        "# Explode the org array in experience\n",
        "org_query = ''' \n",
        "SELECT _id, posexplode(experience['org']) FROM raw_data\n",
        "'''\n",
        "\n",
        "# Save as a SQL-accesible table called \"orgs\"\n",
        "org_sdf = spark.sql(org_query)\n",
        "org_sdf.createOrReplaceTempView(\"org\")\n",
        "# org_sdf.show()\n",
        "# Explode the start_date array in experience\n",
        "start_date_query = ''' \n",
        "SELECT _id, posexplode(experience['start']) FROM raw_data\n",
        "'''\n",
        "start_sdf = spark.sql(start_date_query)\n",
        "start_sdf.createOrReplaceTempView(\"start\")\n",
        "# start_sdf.show()\n",
        "# Join each explode based on a person's id and the index of each element in the\n",
        "# original array\n",
        "join_query = ''' \n",
        "SELECT o.col AS org, s.col AS start_date FROM org o JOIN start s ON o._id = s._id AND o.pos=s.pos\n",
        "'''\n",
        "join_sdf = spark.sql(join_query)\n",
        "# join_sdf.show()\n",
        "# Define and save raw_start_dates_sdf\n",
        "raw_start_dates_sdf = join_sdf.dropna()\n"
      ],
      "execution_count": 15,
      "outputs": [
        {
          "output_type": "display_data",
          "data": {
            "application/vnd.jupyter.widget-view+json": {
              "model_id": "553a18c4d5f04328a4d0de82ae524165",
              "version_minor": 0,
              "version_major": 2
            },
            "text/plain": [
              "FloatProgress(value=0.0, bar_style='info', description='Progress:', layout=Layout(height='25px', width='50%'),…"
            ]
          },
          "metadata": {
            "tags": []
          }
        }
      ]
    },
    {
      "cell_type": "code",
      "metadata": {
        "id": "-a3xLDEYCcwl",
        "outputId": "efb3d0fe-a4f5-4805-ac9b-819d404e24f3",
        "colab": {
          "base_uri": "https://localhost:8080/",
          "height": 179,
          "referenced_widgets": [
            "ba339b92a646406eb3a9804e404ceb1b",
            "120d7a397ee84207a58609977d4066b1",
            "8191704fb4764a9eb8fe1f94ed4873fc"
          ]
        }
      },
      "source": [
        "%%spark\n",
        "\n",
        "# For your info, see if it looks reasonable\n",
        "raw_start_dates_sdf.show(4)"
      ],
      "execution_count": 16,
      "outputs": [
        {
          "output_type": "display_data",
          "data": {
            "application/vnd.jupyter.widget-view+json": {
              "model_id": "ba339b92a646406eb3a9804e404ceb1b",
              "version_minor": 0,
              "version_major": 2
            },
            "text/plain": [
              "FloatProgress(value=0.0, bar_style='info', description='Progress:', layout=Layout(height='25px', width='50%'),…"
            ]
          },
          "metadata": {
            "tags": []
          }
        },
        {
          "output_type": "stream",
          "text": [
            "+--------------------+-------------+\n",
            "|                 org|   start_date|\n",
            "+--------------------+-------------+\n",
            "|<Software Consult...|December 2008|\n",
            "|<Advertising Comp...|     May 2007|\n",
            "| <Employment Agency>| October 2005|\n",
            "|<Software Media C...|  August 1999|\n",
            "+--------------------+-------------+\n",
            "only showing top 4 rows"
          ],
          "name": "stdout"
        }
      ]
    },
    {
      "cell_type": "code",
      "metadata": {
        "id": "yKV_hk7gDX9l",
        "outputId": "ef2bf0e6-578a-475e-d476-0621606c2e47",
        "colab": {
          "base_uri": "https://localhost:8080/",
          "height": 215,
          "referenced_widgets": [
            "c0abb8c849ed4db2a98361d78903de44",
            "2eadabdd7e7047e786ac7de05a16762e",
            "b600b4f719bf49d3a1507aebf4a651d4"
          ]
        }
      },
      "source": [
        "%%spark \n",
        "\n",
        "## AUTOGRADER Step 1.3: ##\n",
        "\n",
        "raw_start_dates_sdf.createOrReplaceTempView(\"test_1_3\")\n",
        "test_1_3_sdf = spark.sql(\"SELECT * FROM test_1_3 ORDER BY org ASC, start_date DESC LIMIT 10\").toPandas()\n",
        "to_submit = pd.read_json(test_1_3_sdf.to_json())\n",
        "to_submit"
      ],
      "execution_count": 17,
      "outputs": [
        {
          "output_type": "display_data",
          "data": {
            "application/vnd.jupyter.widget-view+json": {
              "model_id": "c0abb8c849ed4db2a98361d78903de44",
              "version_minor": 0,
              "version_major": 2
            },
            "text/plain": [
              "FloatProgress(value=0.0, bar_style='info', description='Progress:', layout=Layout(height='25px', width='50%'),…"
            ]
          },
          "metadata": {
            "tags": []
          }
        },
        {
          "output_type": "stream",
          "text": [
            "                                              org     start_date\n",
            "0                         ! N D ! V ! D U A L S !           2003\n",
            "1                                             \" \"     March 2012\n",
            "2                \" Casa in fiore\" rivista mensile  December 2011\n",
            "3           \" I VIAGGI DEL TURCHESE\", \"ENJOY RSH\"     April 2011\n",
            "4  \"1013 Main Street\" on tbs eFM 101.3FM in Korea       May 2011\n",
            "5                                            \"14\"   January 2003\n",
            "6                                      \"40.5\"Ltd.  February 2000\n",
            "7                       \"A Bit Of A Mouthful Ltd\"   January 2007\n",
            "8                       \"A Bit Of A Mouthful Ltd\"           2008\n",
            "9                              \"A Cult Influence\"    August 2008"
          ],
          "name": "stdout"
        }
      ]
    },
    {
      "cell_type": "code",
      "metadata": {
        "id": "LTukZvW9Pj04",
        "outputId": "78807a34-d3c4-42b5-cd4e-4c9c21eb0a50",
        "colab": {
          "base_uri": "https://localhost:8080/",
          "height": 71,
          "referenced_widgets": [
            "c83c8ac592454de091f8532adc3ada75",
            "7c763b571a5d418094ab65ac89a62eb7",
            "89acb928f7e544fcb35b4a9baa5b90eb"
          ]
        }
      },
      "source": [
        "%%spark\n",
        "\n",
        "grader.grade(test_case_id = 'explosion', answer = to_submit)"
      ],
      "execution_count": 18,
      "outputs": [
        {
          "output_type": "display_data",
          "data": {
            "application/vnd.jupyter.widget-view+json": {
              "model_id": "c83c8ac592454de091f8532adc3ada75",
              "version_minor": 0,
              "version_major": 2
            },
            "text/plain": [
              "FloatProgress(value=0.0, bar_style='info', description='Progress:', layout=Layout(height='25px', width='50%'),…"
            ]
          },
          "metadata": {
            "tags": []
          }
        },
        {
          "output_type": "stream",
          "text": [
            "Correct! You earned 4/4 points. You are a star!\n",
            "\n",
            "Your submission has been successfully recorded in the gradebook."
          ],
          "name": "stdout"
        }
      ]
    },
    {
      "cell_type": "markdown",
      "metadata": {
        "id": "zSbb0t-d-VFt"
      },
      "source": [
        "### Step 1.4: The Fortuitous Formatting\n",
        "\n",
        "There are two issues with the values in our `date` column. First, the values are saved as strings, not datetime types. This halts us from running functions such as `ORDER BY` or `GROUP BY` on common months or years. Second, some values do not have both month and year information or are in other languages. Your task is to filter out and clean the `date` column. We are interested in only those rows that have date in the following format \"(month_name) (year)\", e.g. \"October 2010\".\n",
        "\n",
        "Create an sdf called `filtered_start_dates_sdf` from `raw_start_dates_sdf` with the `date` column filtered in the manner above. Keep only those rows with a start date between January 2000 to December 2011, inclusive. Ensure that any dates that are not in our desired format are ommitted. Drop any row that contains a `null` in either column. The format of the sdf is shown below:\n",
        "```\n",
        "+--------------------------+---------------+\n",
        "|org                       |start_date     |\n",
        "+--------------------------+---------------+\n",
        "|Walt Disney World Resort  |2005-01-01     | \n",
        "|...                       |...            |\n",
        "+--------------------------+---------------+\n",
        "```\n",
        "_Hint_: Refer to the [function list](https://spark.apache.org/docs/2.3.0/api/sql/index.html) to format the `date` column. In Spark SQL the date format we are interested in is `\"MMMM y\"`.\n",
        "\n",
        "_Note_: Spark will return the date in the format above, with the day as `01`. This is ok, since we are interested in the month and year each individual began working and all dates will have `01` as their day."
      ]
    },
    {
      "cell_type": "code",
      "metadata": {
        "id": "eelgTtOc_MBM",
        "outputId": "4f8e8e0c-b608-4dfe-d50a-72a8309a5ff0",
        "colab": {
          "base_uri": "https://localhost:8080/",
          "height": 467,
          "referenced_widgets": [
            "bc966005cd7d4f46b0cfb47cb5c96933",
            "990295a9fa3844cb9855effbe48690b4",
            "d8db4d57ab534f4ab743924d2f7f2165"
          ]
        }
      },
      "source": [
        "%%spark\n",
        "\n",
        "# TO_DATE() will convert a string to a datetime object. The string's format,\n",
        "# i.e. \"MMMM y\" must be provided. Any string that does not have the specified\n",
        "# format will be returned as null.\n",
        "\n",
        "# Use TO_DATE() to convert the start_date column from a string to a datetime\n",
        "# object. Keep only dates that are between January 2000 and December 2011,\n",
        "# inclusive.\n",
        "\n",
        "\n",
        "# TODO: Create [filtered_start_dates_sdf]\n",
        "filtered_start_dates_query = '''\n",
        "SELECT org, to_date(start_date,'MMMM y') AS start_date FROM test_1_3 \n",
        "WHERE to_date(start_date,'MMMM y') BETWEEN to_date('2000-01-01', 'yyyy-MM-dd') AND to_date('2011-12-01', 'yyyy-MM-dd')\n",
        "'''\n",
        "filtered_start_dates_sdf = spark.sql(filtered_start_dates_query).dropna()\n",
        "filtered_start_dates_sdf.show()\n",
        "# Define and save filtered_start_dates_sdf\n",
        "\n",
        "\n"
      ],
      "execution_count": 19,
      "outputs": [
        {
          "output_type": "display_data",
          "data": {
            "application/vnd.jupyter.widget-view+json": {
              "model_id": "bc966005cd7d4f46b0cfb47cb5c96933",
              "version_minor": 0,
              "version_major": 2
            },
            "text/plain": [
              "FloatProgress(value=0.0, bar_style='info', description='Progress:', layout=Layout(height='25px', width='50%'),…"
            ]
          },
          "metadata": {
            "tags": []
          }
        },
        {
          "output_type": "stream",
          "text": [
            "+-------------------------+----------+\n",
            "|                      org|start_date|\n",
            "+-------------------------+----------+\n",
            "|     <Software Consult...|2008-12-01|\n",
            "|     <Advertising Comp...|2007-05-01|\n",
            "|      <Employment Agency>|2005-10-01|\n",
            "|     Indian Hotels Co....|2003-12-01|\n",
            "|                 Carmeuse|2007-07-01|\n",
            "|            Self Employed|2009-05-01|\n",
            "|     Percheron Acquisi...|2011-06-01|\n",
            "|     DSM Nutritional P...|2005-01-01|\n",
            "|                  L'Oréal|2011-10-01|\n",
            "|                NG Bailey|2001-11-01|\n",
            "|1000Eyes.com （千视乐图）|2011-05-01|\n",
            "|     Morton's The Stea...|2010-10-01|\n",
            "|             Encore Group|2004-04-01|\n",
            "|     Anthony Robbins C...|2007-06-01|\n",
            "|                Southmark|2011-07-01|\n",
            "|     Consultoría Indep...|2010-01-01|\n",
            "|     PricewaterhouseCo...|2009-04-01|\n",
            "|                 DBA4aDAY|2007-10-01|\n",
            "|          Hewlett-Packard|2010-07-01|\n",
            "|            CFA Institute|2011-09-01|\n",
            "+-------------------------+----------+\n",
            "only showing top 20 rows"
          ],
          "name": "stdout"
        }
      ]
    },
    {
      "cell_type": "code",
      "metadata": {
        "id": "mx-g8FY0GeLA",
        "outputId": "de7b1bcb-5ea3-4cf2-a6a8-638ae8e632b9",
        "colab": {
          "base_uri": "https://localhost:8080/",
          "height": 395,
          "referenced_widgets": [
            "847678ad248d46108e3c31bd67500524",
            "87060ff98bcc4cafbf165be1804f411d",
            "26569e9c198b43c9a7c5907d8afbc9a4"
          ]
        }
      },
      "source": [
        "%%spark\n",
        "\n",
        "## AUTOGRADER Step 1.4: ##\n",
        "\n",
        "filtered_start_dates_sdf.createOrReplaceTempView(\"test_1_4\")\n",
        "test_1_4_sdf = spark.sql(\"SELECT org, DATE_FORMAT(start_date, 'yyyy-MM-dd') AS start_date FROM test_1_4 ORDER BY org DESC, start_date DESC LIMIT 20\").toPandas()\n",
        "to_submit = pd.read_json(test_1_4_sdf.to_json())\n",
        "to_submit\n"
      ],
      "execution_count": 20,
      "outputs": [
        {
          "output_type": "display_data",
          "data": {
            "application/vnd.jupyter.widget-view+json": {
              "model_id": "847678ad248d46108e3c31bd67500524",
              "version_minor": 0,
              "version_major": 2
            },
            "text/plain": [
              "FloatProgress(value=0.0, bar_style='info', description='Progress:', layout=Layout(height='25px', width='50%'),…"
            ]
          },
          "metadata": {
            "tags": []
          }
        },
        {
          "output_type": "stream",
          "text": [
            "                                                  org  start_date\n",
            "0                                  � Reading Partners  2009-04-01\n",
            "1                                     � One Care Club  2010-05-01\n",
            "2                       � Foothill Business Econ Club  2009-02-01\n",
            "3                                      ￼Dixon Schwabl  2011-07-01\n",
            "4                                               Inc.  2004-11-01\n",
            "5                                              Apple  2011-06-01\n",
            "6                                              Apple  2008-06-01\n",
            "7                                 \\tPearl Embroidery  2001-01-01\n",
            "8       龙泉寺翻译中心 Longquan Monastery Translation Centre  2011-06-01\n",
            "9                                                  青檬  2007-09-01\n",
            "10                                               西斯国际  2008-06-01\n",
            "11            美连科技有限公司 Manynet Technologies (TradeVV)  2010-12-01\n",
            "12  桥-Qiao LAB - Shanghai High Tech & Business Inc...  2010-06-01\n",
            "13  桥-Qiao LAB - Shanghai High Tech & Business Inc...  2007-05-01\n",
            "14                                          株式会社Yikes  2011-06-01\n",
            "15                                              早稲田大学  2009-04-01\n",
            "16                                                拉法基  2005-10-01\n",
            "17                          供应链管理专栏（www.scm-blog.com)  2005-07-01\n",
            "18  亞美至尊恆信國際集團 Royal Global Group (Wealth Mgmt, In...  2011-10-01\n",
            "19  ♦ Internet Power Systems ♦ Web based business ...  2002-08-01"
          ],
          "name": "stdout"
        }
      ]
    },
    {
      "cell_type": "code",
      "metadata": {
        "id": "FVyAg4wmQszL",
        "outputId": "ccfa97f1-6edb-4c33-9148-aa65912c4db7",
        "colab": {
          "base_uri": "https://localhost:8080/",
          "height": 71,
          "referenced_widgets": [
            "b20f9b4fe78646acb4fc0f3d7a9dc9e8",
            "02eda454772a43cb97973609ab78c523",
            "de8981d5133c44ef895f803e906c90f0"
          ]
        }
      },
      "source": [
        "%%spark\n",
        "\n",
        "grader.grade(test_case_id = 'fortuitous', answer = to_submit)"
      ],
      "execution_count": 21,
      "outputs": [
        {
          "output_type": "display_data",
          "data": {
            "application/vnd.jupyter.widget-view+json": {
              "model_id": "b20f9b4fe78646acb4fc0f3d7a9dc9e8",
              "version_minor": 0,
              "version_major": 2
            },
            "text/plain": [
              "FloatProgress(value=0.0, bar_style='info', description='Progress:', layout=Layout(height='25px', width='50%'),…"
            ]
          },
          "metadata": {
            "tags": []
          }
        },
        {
          "output_type": "stream",
          "text": [
            "Correct! You earned 4/4 points. You are a star!\n",
            "\n",
            "Your submission has been successfully recorded in the gradebook."
          ],
          "name": "stdout"
        }
      ]
    },
    {
      "cell_type": "markdown",
      "metadata": {
        "id": "LXYYQn2_GYwZ"
      },
      "source": [
        "### Step 1.5 The Gregarious Grouping\n",
        "\n",
        "We now want to collect the number of individuals that started in the same month and year for each company. Create an sdf called `start_dates_sdf` that has the total number of employees who began working at the same company on the same start date. The format of the sdf is shown below:\n",
        "\n",
        "```\n",
        "+--------------------------+---------------+---------------+\n",
        "|org                       |start_date     |num_employees  |\n",
        "+--------------------------+---------------+---------------+\n",
        "|Walt Disney World Resort  |2005-01-01     |1              |\n",
        "|...                       |...            |...            |\n",
        "+--------------------------+---------------+---------------+\n",
        "```"
      ]
    },
    {
      "cell_type": "code",
      "metadata": {
        "id": "CxVIyc1CHooV",
        "outputId": "36fdb7f9-93a2-450f-fff6-375e7449dfae",
        "colab": {
          "base_uri": "https://localhost:8080/",
          "height": 467,
          "referenced_widgets": [
            "a50d7f88e1074a8eb5e31134be6faeea",
            "0922f51a610d4f7a94d6303a55368763",
            "8025d8dfcbd04185a14b788e766d8520"
          ]
        }
      },
      "source": [
        "%%spark\n",
        "\n",
        "# TODO: Create [start_dates_sdf]\n",
        "start_dates_sdf = spark.sql('''SELECT org, to_date(start_date,'MMMM y') AS start_date FROM test_1_4''').dropna()\n",
        "start_dates_sdf.createOrReplaceTempView('start_dates')\n",
        "\n",
        "# GROUP BY on org and start_date, in that order.\n",
        "start_dates_query = '''\n",
        "SELECT org, start_date, count(start_date) AS num_employees FROM start_dates GROUP BY org, start_date\n",
        "'''\n",
        "start_dates_sdf = spark.sql(start_dates_query)\n",
        "# Define and save start_dates_sdf\n",
        "start_dates_sdf.show()\n"
      ],
      "execution_count": 22,
      "outputs": [
        {
          "output_type": "display_data",
          "data": {
            "application/vnd.jupyter.widget-view+json": {
              "model_id": "a50d7f88e1074a8eb5e31134be6faeea",
              "version_minor": 0,
              "version_major": 2
            },
            "text/plain": [
              "FloatProgress(value=0.0, bar_style='info', description='Progress:', layout=Layout(height='25px', width='50%'),…"
            ]
          },
          "metadata": {
            "tags": []
          }
        },
        {
          "output_type": "stream",
          "text": [
            "+--------------------+----------+-------------+\n",
            "|                 org|start_date|num_employees|\n",
            "+--------------------+----------+-------------+\n",
            "|        Celtel Congo|2004-02-01|            1|\n",
            "|Verrus Mobile Tec...|2010-06-01|            1|\n",
            "|     united airlines|2007-03-01|            1|\n",
            "|               AVTEQ|2003-09-01|            1|\n",
            "|       Lentech, Inc.|2008-05-01|            1|\n",
            "|       MindTree Ltd.|2009-07-01|            1|\n",
            "|Michael Page Inte...|2007-01-01|            1|\n",
            "|   The Change Agency|2008-01-01|            1|\n",
            "|Stevens Capital A...|2009-10-01|            1|\n",
            "|     Isala klinieken|2009-09-01|            1|\n",
            "|ITS Information T...|2005-03-01|            1|\n",
            "|       Wirestone LLC|2009-07-01|            1|\n",
            "|ING Insurance Berhad|2010-12-01|            1|\n",
            "|Logistics Service...|2010-06-01|            1|\n",
            "|    Telehouse Europe|2007-10-01|            1|\n",
            "|Cisco Systems, In...|2010-01-01|            1|\n",
            "|     Chapters Indigo|2009-08-01|            1|\n",
            "|Peninsula Investm...|2010-01-01|            1|\n",
            "|Papa John's Inter...|2007-03-01|            1|\n",
            "|Pastoral Funds Ma...|2010-06-01|            1|\n",
            "+--------------------+----------+-------------+\n",
            "only showing top 20 rows"
          ],
          "name": "stdout"
        }
      ]
    },
    {
      "cell_type": "code",
      "metadata": {
        "id": "aI7N3JgIMFeV",
        "outputId": "41344ef7-951f-4cea-b0cc-2b7be1091630",
        "colab": {
          "base_uri": "https://localhost:8080/",
          "height": 215,
          "referenced_widgets": [
            "6f583cabd4074ee7942f84f7bd99cc55",
            "ffc79bb876394da89e7f5aed0bea06a4",
            "579bef23f3aa44fb9125e01c8e22ca93"
          ]
        }
      },
      "source": [
        "%%spark\n",
        "\n",
        "## AUTOGRADER Step 1.5: ##\n",
        "\n",
        "start_dates_sdf.createOrReplaceTempView(\"test_1_5\")\n",
        "test_1_5_sdf = spark.sql(\"SELECT org, DATE_FORMAT(start_date, 'yyyy-MM-dd') as start_date, num_employees FROM test_1_5 ORDER BY num_employees DESC, org DESC, start_date ASC LIMIT 10\").toPandas()\n",
        "to_submit = pd.read_json(test_1_5_sdf.to_json())\n",
        "to_submit\n"
      ],
      "execution_count": 23,
      "outputs": [
        {
          "output_type": "display_data",
          "data": {
            "application/vnd.jupyter.widget-view+json": {
              "model_id": "6f583cabd4074ee7942f84f7bd99cc55",
              "version_minor": 0,
              "version_major": 2
            },
            "text/plain": [
              "FloatProgress(value=0.0, bar_style='info', description='Progress:', layout=Layout(height='25px', width='50%'),…"
            ]
          },
          "metadata": {
            "tags": []
          }
        },
        {
          "output_type": "stream",
          "text": [
            "                      org  start_date  num_employees\n",
            "0                  Google  2011-05-01             30\n",
            "1                     IBM  2011-01-01             22\n",
            "2                  Google  2010-06-01             22\n",
            "3                  Google  2011-07-01             22\n",
            "4               Microsoft  2008-06-01             21\n",
            "5  Brook Furniture Rental  2005-04-01             21\n",
            "6                     IBM  2010-01-01             20\n",
            "7                  Google  2011-01-01             20\n",
            "8  Nokia Siemens Networks  2007-04-01             19\n",
            "9               Microsoft  2008-07-01             19"
          ],
          "name": "stdout"
        }
      ]
    },
    {
      "cell_type": "code",
      "metadata": {
        "id": "-bWO9dx1UYux",
        "outputId": "c1f33859-9180-4ed9-bc0a-a25a464d506f",
        "colab": {
          "base_uri": "https://localhost:8080/",
          "height": 71,
          "referenced_widgets": [
            "77ab87e1815a47a58a14b4953cfda079",
            "60886390f872403f892c8de23915b8f8",
            "30283b47e51f4d8584f611796a173b56"
          ]
        }
      },
      "source": [
        "%%spark\n",
        "grader.grade(test_case_id = 'gregarious', answer = to_submit)"
      ],
      "execution_count": 24,
      "outputs": [
        {
          "output_type": "display_data",
          "data": {
            "application/vnd.jupyter.widget-view+json": {
              "model_id": "77ab87e1815a47a58a14b4953cfda079",
              "version_minor": 0,
              "version_major": 2
            },
            "text/plain": [
              "FloatProgress(value=0.0, bar_style='info', description='Progress:', layout=Layout(height='25px', width='50%'),…"
            ]
          },
          "metadata": {
            "tags": []
          }
        },
        {
          "output_type": "stream",
          "text": [
            "Correct! You earned 7/7 points. You are a star!\n",
            "\n",
            "Your submission has been successfully recorded in the gradebook."
          ],
          "name": "stdout"
        }
      ]
    },
    {
      "cell_type": "markdown",
      "metadata": {
        "id": "QYScM3FwJnUz"
      },
      "source": [
        "## Step 2: Hiring Trends Analysis\n",
        "\n",
        "Now we will analyze `start_dates_sdf` to find monthly and annual hiring trends.\n"
      ]
    },
    {
      "cell_type": "markdown",
      "metadata": {
        "id": "MCcU96OwwqT1"
      },
      "source": [
        "\n",
        "### Step 2.1: The Marvelous Months\n",
        "\n",
        "Your task is to answer the question: \"What is the **most popular month** for employees to start working?\" Create an sdf called `monthly_hires_sdf` which contains the total number of employees that started working on a specific month, at any company and on any year. The `month` column should be of type `int`, i.e. 1-12. The format of the sdf is shown below:\n",
        "\n",
        "```\n",
        "+---------------+---------------+\n",
        "|month          |num_employees  |\n",
        "+---------------+---------------+\n",
        "|1              |...            |\n",
        "|2              |...            |\n",
        "|3              |...            |\n",
        "|...            |...            |\n",
        "+---------------+---------------+\n",
        "```\n",
        "\n",
        "Find the month in which the *most* employees start working and save its number as an **integer** to the variable `most_common_month`. This can be submitted by hardcoding the month to the variable, but we encourage you to try it without hardcoding the integer of the month. \n",
        "\n",
        "_Hint_: Be careful. The start dates we have right now have both month and year. We only want the common months. See if you can find something in the [function list](https://spark.apache.org/docs/2.3.0/api/sql/index.html) that will help you do this."
      ]
    },
    {
      "cell_type": "code",
      "metadata": {
        "id": "vLTmvD9WNQH3",
        "outputId": "2c43c3fc-b458-4016-eeb9-db13937410fe",
        "colab": {
          "base_uri": "https://localhost:8080/",
          "height": 305,
          "referenced_widgets": [
            "43c4d3d6ac874fe59a8525ef105f1dad",
            "55f005c12e0b4eb0ad5d2327d315c285",
            "4edfb73fc4ff477581772d978eb76390"
          ]
        }
      },
      "source": [
        "%%spark\n",
        "\n",
        "# TODO: Create [monthly_hire_sdf] and find the most common month people were\n",
        "# hired. Save its number as an integer to [most_common_month]\n",
        "\n",
        "# HINT: You can aggregate by month, and use ordering to figure out the\n",
        "# most or least common.\n",
        "\n",
        "# MONTH() will return the month for any datetime object.\n",
        "\n",
        "# GROUP BY on the month of start_date using MONTH(). Sum the num_employees\n",
        "# column to find the total number of employees that started on that month\n",
        "monthly_hires_query = '''\n",
        "SELECT MONTH(start_date) AS month, SUM(num_employees) AS num_employees from test_1_5 GROUP BY month ORDER BY num_employees DESC\n",
        "'''\n",
        "\n",
        "# Define and save monthly_hires_sdf\n",
        "monthly_hires_sdf = spark.sql(monthly_hires_query)\n",
        "most_common_month = monthly_hires_sdf.toPandas()['month'][0]\n",
        "monthly_hires_sdf.show()"
      ],
      "execution_count": 25,
      "outputs": [
        {
          "output_type": "display_data",
          "data": {
            "application/vnd.jupyter.widget-view+json": {
              "model_id": "43c4d3d6ac874fe59a8525ef105f1dad",
              "version_minor": 0,
              "version_major": 2
            },
            "text/plain": [
              "FloatProgress(value=0.0, bar_style='info', description='Progress:', layout=Layout(height='25px', width='50%'),…"
            ]
          },
          "metadata": {
            "tags": []
          }
        },
        {
          "output_type": "stream",
          "text": [
            "+-----+-------------+\n",
            "|month|num_employees|\n",
            "+-----+-------------+\n",
            "|    1|        38394|\n",
            "|    9|        29454|\n",
            "|    6|        28693|\n",
            "|    5|        25487|\n",
            "|    8|        25458|\n",
            "|    7|        23147|\n",
            "|   10|        22798|\n",
            "|    4|        21662|\n",
            "|    3|        21188|\n",
            "|    2|        19423|\n",
            "|   11|        18844|\n",
            "|   12|        14613|\n",
            "+-----+-------------+"
          ],
          "name": "stdout"
        }
      ]
    },
    {
      "cell_type": "code",
      "metadata": {
        "id": "qCrtcH-KieIM",
        "outputId": "0eeb4292-eaae-41e5-8c96-83e69e365f46",
        "colab": {
          "base_uri": "https://localhost:8080/",
          "height": 269,
          "referenced_widgets": [
            "3d929b10801e44d5a9dfb013f68f6aec",
            "f8745954fe2a456aac4ff256b9e81b8a",
            "88c35f14f569481a9ba01090f740a031"
          ]
        }
      },
      "source": [
        "%%spark\n",
        "\n",
        "## AUTOGRADER Step 2.1: ##\n",
        "\n",
        "monthly_hires_sdf.createOrReplaceTempView(\"test_2_1\")\n",
        "test_2_1_sdf = spark.sql(\"SELECT * FROM test_2_1 ORDER BY month ASC\").toPandas()\n",
        "to_submit = pd.read_json(test_2_1_sdf.to_json())\n",
        "print(to_submit)\n",
        "print(most_common_month)\n"
      ],
      "execution_count": 26,
      "outputs": [
        {
          "output_type": "display_data",
          "data": {
            "application/vnd.jupyter.widget-view+json": {
              "model_id": "3d929b10801e44d5a9dfb013f68f6aec",
              "version_minor": 0,
              "version_major": 2
            },
            "text/plain": [
              "FloatProgress(value=0.0, bar_style='info', description='Progress:', layout=Layout(height='25px', width='50%'),…"
            ]
          },
          "metadata": {
            "tags": []
          }
        },
        {
          "output_type": "stream",
          "text": [
            "    month  num_employees\n",
            "0       1          38394\n",
            "1       2          19423\n",
            "2       3          21188\n",
            "3       4          21662\n",
            "4       5          25487\n",
            "5       6          28693\n",
            "6       7          23147\n",
            "7       8          25458\n",
            "8       9          29454\n",
            "9      10          22798\n",
            "10     11          18844\n",
            "11     12          14613\n",
            "1"
          ],
          "name": "stdout"
        }
      ]
    },
    {
      "cell_type": "code",
      "metadata": {
        "id": "a6Ot6rFKUrH3",
        "outputId": "d9a3c4fc-1a72-4e37-dbfe-f7127aadc2c6",
        "colab": {
          "base_uri": "https://localhost:8080/",
          "height": 71,
          "referenced_widgets": [
            "a6dc05f6134147d8be1bdbbd0ee4aed3",
            "3cff0266985a405fba1df6351f05f015",
            "51272bf8d5a04f2ea8d21a4c55f3828c"
          ]
        }
      },
      "source": [
        "%%spark\n",
        "grader.grade(test_case_id = 'marvelous', answer = to_submit)"
      ],
      "execution_count": 27,
      "outputs": [
        {
          "output_type": "display_data",
          "data": {
            "application/vnd.jupyter.widget-view+json": {
              "model_id": "a6dc05f6134147d8be1bdbbd0ee4aed3",
              "version_minor": 0,
              "version_major": 2
            },
            "text/plain": [
              "FloatProgress(value=0.0, bar_style='info', description='Progress:', layout=Layout(height='25px', width='50%'),…"
            ]
          },
          "metadata": {
            "tags": []
          }
        },
        {
          "output_type": "stream",
          "text": [
            "Correct! You earned 4/4 points. You are a star!\n",
            "\n",
            "Your submission has been successfully recorded in the gradebook."
          ],
          "name": "stdout"
        }
      ]
    },
    {
      "cell_type": "markdown",
      "metadata": {
        "id": "CUtVHRcMUoWp"
      },
      "source": [
        "### Step 2.2: The Preposterous Perennial Percentages\n",
        "\n",
        "The next question we will answer is \"What is the percentage change in hires between 2009 and 2010 for each company?\" Create an sdf called `percentage_change_sdf` that has the percentage change between 2009 and 2010 for each company. The sdf should look as follows:\n",
        "\n",
        "```\n",
        "+---------------------------+--------------------+\n",
        "|org                        |percentage_change   |\n",
        "+---------------------------+--------------------+\n",
        "|Walt Disney World Resort   |12.3                |\n",
        "|...                        |...                 |\n",
        "+---------------------------+--------------------+\n",
        "```\n",
        "\n",
        "_Note_: A percentage change can be positive or negative depending \n",
        "on the difference between the two years. The formula for percent change is given below,\n",
        "\n",
        "$$\\text{% change} = \\frac{P_f-P_i}{P_i} \\times 100$$\n",
        "\n",
        "Here, $P_f$ is the final element (in this case the number of hires in 2010) and $P_i$ is initial element (the number of hires in 2009).\n",
        "\n",
        "_Hint_: This is a **nontrivial** question and involves you putting the 2009 and 2010 data on the same row. I'm really sorry it isn't easier, but that's why you are in the class (I hope!). We recommend using a combination of `GROUP BY` and `JOIN`. Keep in mind that operations between columns in SQL dataframes are often easier than those between rows. Come to office hours if you need help."
      ]
    },
    {
      "cell_type": "code",
      "metadata": {
        "id": "_AhhfLXpWq7y",
        "outputId": "da4aa703-0859-4869-8b87-b132ca3e30bf",
        "colab": {
          "base_uri": "https://localhost:8080/",
          "height": 17,
          "referenced_widgets": [
            "de30ec741ba746a99ba47315f6b0b879",
            "3786eb58d06d4a349bfa075a90d7616a",
            "0db93e69707c46b69a451886d58a29c4"
          ]
        }
      },
      "source": [
        "%%spark\n",
        "\n",
        "# TODO: Create [percentage_change_sdf]\n",
        "\n",
        "# YEAR() will return the year of a datetime object.\n",
        "\n",
        "# The column percentage_change is calculated by doing a JOIN. We join an sdf\n",
        "# \"y1\" created by doing a GROUP BY on start_dates by org and the year of\n",
        "# start_date where the year is 2009. We sum the number of employees. That sdf is\n",
        "# joined with a similar sdf, \"y2\", but for the case when year is 2010. Then,\n",
        "# using the formula in the description above we find the percentage_change of\n",
        "# the two sum columns.\n",
        "query_2009 = '''\n",
        "SELECT org, SUM(num_employees) AS num_employees FROM test_1_5 WHERE YEAR(start_date) = 2009 GROUP BY org ORDER BY num_employees DESC\n",
        "'''\n",
        "hire_2009_sdf = spark.sql(query_2009)\n",
        "# hire_2009_sdf.show()\n",
        "\n",
        "query_2010 = '''\n",
        "SELECT org, SUM(num_employees) AS num_employees FROM test_1_5 WHERE YEAR(start_date) = 2010 GROUP BY org ORDER BY num_employees DESC\n",
        "'''\n",
        "hire_2010_sdf = spark.sql(query_2010)\n",
        "# hire_2010_sdf.show()\n",
        "# Define and save percentage_change_sdf\n",
        "hire_2009_sdf.createOrReplaceTempView('hire2009')\n",
        "hire_2010_sdf.createOrReplaceTempView('hire2010')\n",
        "percentage_change_query = '''\n",
        "SELECT hire2009.org, (hire2010.num_employees - hire2009.num_employees)/hire2009.num_employees * 100 AS percentage_change FROM hire2009 JOIN hire2010 ON hire2009.org = hire2010.org\n",
        "'''\n",
        "percentage_change_sdf = spark.sql(percentage_change_query)\n"
      ],
      "execution_count": 28,
      "outputs": [
        {
          "output_type": "display_data",
          "data": {
            "application/vnd.jupyter.widget-view+json": {
              "model_id": "de30ec741ba746a99ba47315f6b0b879",
              "version_minor": 0,
              "version_major": 2
            },
            "text/plain": [
              "FloatProgress(value=0.0, bar_style='info', description='Progress:', layout=Layout(height='25px', width='50%'),…"
            ]
          },
          "metadata": {
            "tags": []
          }
        }
      ]
    },
    {
      "cell_type": "code",
      "metadata": {
        "id": "SzCb93YH7BcB",
        "outputId": "f3ef9e1d-ddc9-4401-ad4f-cec87419ead7",
        "colab": {
          "base_uri": "https://localhost:8080/",
          "height": 467,
          "referenced_widgets": [
            "76efa02793d446c4a1cdbb238ac0ae6a",
            "661c3fd5592b41db8c0844afcdd80909",
            "b5e7724d28ca47909f98dba3a0592fe5"
          ]
        }
      },
      "source": [
        "%%spark\n",
        "percentage_change_sdf.show()"
      ],
      "execution_count": 29,
      "outputs": [
        {
          "output_type": "display_data",
          "data": {
            "application/vnd.jupyter.widget-view+json": {
              "model_id": "76efa02793d446c4a1cdbb238ac0ae6a",
              "version_minor": 0,
              "version_major": 2
            },
            "text/plain": [
              "FloatProgress(value=0.0, bar_style='info', description='Progress:', layout=Layout(height='25px', width='50%'),…"
            ]
          },
          "metadata": {
            "tags": []
          }
        },
        {
          "output_type": "stream",
          "text": [
            "+--------------------+-------------------+\n",
            "|                 org|  percentage_change|\n",
            "+--------------------+-------------------+\n",
            "|              24.com|                0.0|\n",
            "|     Academia Sinica|              -50.0|\n",
            "|   Accurate Software|                0.0|\n",
            "|       Agentschap NL|              -50.0|\n",
            "|Alcatel-Lucent Au...|              -50.0|\n",
            "|            Allainet|                0.0|\n",
            "|        Ambit Energy|                0.0|\n",
            "|American InterCon...|                0.0|\n",
            "|               Amgen|-14.285714285714285|\n",
            "|             Artezio|              800.0|\n",
            "|     Arvato Services|                0.0|\n",
            "|Ashley Furniture ...|                0.0|\n",
            "|          Aster Data|                0.0|\n",
            "|            Asuragen|                0.0|\n",
            "|            Autodesk|  28.57142857142857|\n",
            "|            B2B CFO®|                0.0|\n",
            "|  BNP Paribas Fortis|              150.0|\n",
            "|  BT Global Services|              300.0|\n",
            "|Banca Monte dei P...| -66.66666666666666|\n",
            "|Bankers Life and ...|                0.0|\n",
            "+--------------------+-------------------+\n",
            "only showing top 20 rows"
          ],
          "name": "stdout"
        }
      ]
    },
    {
      "cell_type": "code",
      "metadata": {
        "id": "W3MZT21Qp5Fk",
        "outputId": "620d77c6-960b-4d09-f39d-40e904256e8d",
        "colab": {
          "base_uri": "https://localhost:8080/",
          "height": 215,
          "referenced_widgets": [
            "3839cba2494e444cb2f423736b502ea5",
            "9632333f07fb442a8d442b0bf68e6bca",
            "e99037b4152748a7a104b90b978d6345"
          ]
        }
      },
      "source": [
        "%%spark\n",
        "\n",
        "## AUTOGRADER Step 2.2: ##\n",
        "\n",
        "percentage_change_sdf.createOrReplaceTempView(\"test_2_2\")\n",
        "test_2_2_sdf = spark.sql(\"SELECT * FROM test_2_2 ORDER BY percentage_change DESC, org DESC LIMIT 10\")\n",
        "to_submit = pd.read_json(test_2_2_sdf.toPandas().to_json())\n",
        "to_submit"
      ],
      "execution_count": 30,
      "outputs": [
        {
          "output_type": "display_data",
          "data": {
            "application/vnd.jupyter.widget-view+json": {
              "model_id": "3839cba2494e444cb2f423736b502ea5",
              "version_minor": 0,
              "version_major": 2
            },
            "text/plain": [
              "FloatProgress(value=0.0, bar_style='info', description='Progress:', layout=Layout(height='25px', width='50%'),…"
            ]
          },
          "metadata": {
            "tags": []
          }
        },
        {
          "output_type": "stream",
          "text": [
            "                   org  percentage_change\n",
            "0           Aon Hewitt               1100\n",
            "1              Groupon                900\n",
            "2              SunGard                800\n",
            "3              Artezio                800\n",
            "4              Cameron                700\n",
            "5               Vestas                600\n",
            "6           UST Global                600\n",
            "7  Turner Broadcasting                600\n",
            "8     Societe Generale                600\n",
            "9     Philips Lighting                600"
          ],
          "name": "stdout"
        }
      ]
    },
    {
      "cell_type": "code",
      "metadata": {
        "id": "S8i_bc6bU93w",
        "outputId": "e377a670-0fb8-4476-f795-6756828ade69",
        "colab": {
          "base_uri": "https://localhost:8080/",
          "height": 71,
          "referenced_widgets": [
            "aaabaad8247e47c08c3951805551d6a1",
            "8486d50fc1bf458b995bf0f9691c5015",
            "ab9228ec2e194580858c9de472025044"
          ]
        }
      },
      "source": [
        "%%spark\n",
        "grader.grade(test_case_id = 'preposterous', answer = to_submit)"
      ],
      "execution_count": 31,
      "outputs": [
        {
          "output_type": "display_data",
          "data": {
            "application/vnd.jupyter.widget-view+json": {
              "model_id": "aaabaad8247e47c08c3951805551d6a1",
              "version_minor": 0,
              "version_major": 2
            },
            "text/plain": [
              "FloatProgress(value=0.0, bar_style='info', description='Progress:', layout=Layout(height='25px', width='50%'),…"
            ]
          },
          "metadata": {
            "tags": []
          }
        },
        {
          "output_type": "stream",
          "text": [
            "Correct! You earned 12/12 points. You are a star!\n",
            "\n",
            "Your submission has been successfully recorded in the gradebook."
          ],
          "name": "stdout"
        }
      ]
    },
    {
      "cell_type": "markdown",
      "metadata": {
        "id": "VZIfJGqDqKzX"
      },
      "source": [
        "## The Blessed Break\n",
        "\n",
        "That last question was hard. And it's gonna get harder. Take a break. Sit back and relax for a minute. Listen to some music. Here's a [suggestion](https://www.youtube.com/watch?v=A3yCcXgbKrE).\n",
        "\n",
        "In the cell below fill out the boolean variable `whatd_you_think` with `True` if you liked it or `False` if you didn't. You will be graded on your response."
      ]
    },
    {
      "cell_type": "code",
      "metadata": {
        "id": "WkA0_E2485jy",
        "outputId": "020d5799-6c22-41f3-b5be-e749326d8065",
        "colab": {
          "base_uri": "https://localhost:8080/",
          "height": 17,
          "referenced_widgets": [
            "5724498d3a2d4fca8835e5f4efcb1e71",
            "ce5e089837b0406b92194d0046c4e77e",
            "62462bba77a541a1919ef14a89dcad5e"
          ]
        }
      },
      "source": [
        "%%spark\n",
        "\n",
        "whatd_you_think = True\n"
      ],
      "execution_count": 32,
      "outputs": [
        {
          "output_type": "display_data",
          "data": {
            "application/vnd.jupyter.widget-view+json": {
              "model_id": "5724498d3a2d4fca8835e5f4efcb1e71",
              "version_minor": 0,
              "version_major": 2
            },
            "text/plain": [
              "FloatProgress(value=0.0, bar_style='info', description='Progress:', layout=Layout(height='25px', width='50%'),…"
            ]
          },
          "metadata": {
            "tags": []
          }
        }
      ]
    },
    {
      "cell_type": "code",
      "metadata": {
        "id": "4lS-XkWl2deZ",
        "outputId": "4f48f509-9579-43f2-df1e-0e0dd9bcae54",
        "colab": {
          "base_uri": "https://localhost:8080/",
          "height": 71,
          "referenced_widgets": [
            "9bb588353346450da1e9d7c021652241",
            "a76756507377488aadbcacdc701322fb",
            "77a6aa41f549470bb539fa0957532510"
          ]
        }
      },
      "source": [
        "%%spark\n",
        "grader.grade(test_case_id = 'tunes', answer = whatd_you_think)"
      ],
      "execution_count": 33,
      "outputs": [
        {
          "output_type": "display_data",
          "data": {
            "application/vnd.jupyter.widget-view+json": {
              "model_id": "9bb588353346450da1e9d7c021652241",
              "version_minor": 0,
              "version_major": 2
            },
            "text/plain": [
              "FloatProgress(value=0.0, bar_style='info', description='Progress:', layout=Layout(height='25px', width='50%'),…"
            ]
          },
          "metadata": {
            "tags": []
          }
        },
        {
          "output_type": "stream",
          "text": [
            "Correct! You earned 1/1 points. You are a star!\n",
            "\n",
            "Your submission has been successfully recorded in the gradebook."
          ],
          "name": "stdout"
        }
      ]
    },
    {
      "cell_type": "markdown",
      "metadata": {
        "id": "QkF2RfLSXO0u"
      },
      "source": [
        "## Step 3: Formatting the Training Data\n",
        "\n",
        "\n",
        "Our overarching goal is to train a machine learning (ML) model that will use the monthly hiring trends of a company to predict a positive or negative gain in the company's stock in the first quarter of the following year. A ML model is trained on a set of observations. Each observation contains a set of features, `X`, and a label, `y`. The goal of the ML model is to create a function that takes any `X` as an input and outputs a predicted `y`. \n",
        "\n",
        "The machine learning model we will use is a [Random Forest Classifier](https://builtin.com/data-science/random-forest-algorithm). Each observation we will pass in will have 24 features (columns). These are the number of people hired from Jan to Dec and the company stock price on the last day of each month. The label will be the direction of the company's stock percentage change (positive, `1`, or negative, `-1`) in the first quarter of the following year. Each observation will correspond to a specified company's trends on a specified year. The format of our final training sdf is shown below. The first 26 columns define our observations, `X`, and the last column the label, `y`.\n",
        "```\n",
        "+----+-----+----------+---------+----------+----------+---------+----------+-------------+\n",
        "|org |year |jan_hired |   ...   |dec_hired |jan_stock |   ...   |dec_stock |stock_result |\n",
        "+----+-----+----------+---------+----------+----------+---------+----------+-------------+\n",
        "|IBM |2009 |...       |   ...   |...       |...       |   ...   |...       |1            |\n",
        "|IBM |2010 |...       |   ...   |...       |...       |   ...   |...       |-1           |\n",
        "|... |...  |...       |   ...   |...       |...       |   ...   |...       |...          |\n",
        "+----+-----+----------+---------+----------+----------+---------+----------+-------------+\n",
        "```\n",
        "\n",
        "_Note_: We will use the first three letters of each month in naming, i.e. `jan, feb, mar, apr, may, jun, jul, aug, sep, oct, nov, dec`.\n",
        "\n",
        "\n",
        "\n",
        "### Step 3.1: The Harmonious Hires\n",
        "\n",
        "Your first task is to create the first half of the training table, i.e. the `jan_hired` through `dec_hired` columns. This will involve reshaping `start_dates_sdf`. Currently, `start_dates_sdf` has columns `org`, `start_date`, and `num_employees`. We want to group the rows together based on common `org` and years and create new columns for the number of employees that started working in each month of that year.\n",
        "\n",
        "Create an sdf called `raw_hirings_for_training_sdf` that has for a single company and a single year, the number of hires in Jan through Dec, and the total number of hires that year. Note that for each company you will have several rows corresponding to years between 2000 and 2011. It is ok if for a given company you don't have a given year. However, ensure that for a given company and given year, each month column has an entry, i.e. if no one was hired the value should be `0`. The format of the sdf is shown below: \n",
        "```\n",
        "+----+-----+----------+---------+----------+----------+\n",
        "|org |year |jan_hired |   ...   |dec_hired |total_num |\n",
        "+----+-----+----------+---------+----------+----------+\n",
        "|IBM |2008 |...       |   ...   |...       |...       |\n",
        "|IBM |2009 |...       |   ...   |...       |...       |\n",
        "|... |...  |...       |   ...   |...       |...       |\n",
        "+----+-----+----------+---------+----------+----------+\n",
        "```\n",
        "_Hint_: This is a **fiddly and somewhat difficult** question. I'm really really sorry. The tricky part is creating the additional columns of monthly hires, specifically when there are missing dates. In our dataset, if a company did not hire anybody in a given date, it will not appear in `start_dates_sdf`. \n",
        "\n",
        "We suggest you look into `CASE` and `WHEN` statements in the [function list](https://spark.apache.org/docs/2.3.0/api/sql/index.html), and use these to **either** fill in a number for column (if appropriate) or put in a 0."
      ]
    },
    {
      "cell_type": "code",
      "metadata": {
        "id": "ShGW0LXWGZVx",
        "outputId": "ad13272b-0504-47e9-d20a-e1acdbbbd0bf",
        "colab": {
          "base_uri": "https://localhost:8080/",
          "height": 467,
          "referenced_widgets": [
            "06c4ca957fdf49be94c04e8dab4e0c79",
            "9fece517e1bb4705b2d2464a830836e3",
            "8c62bdfd47cc47999ce9301dfd6fa3b6"
          ]
        }
      },
      "source": [
        "%%spark\n",
        "start_dates_sdf.show()"
      ],
      "execution_count": 34,
      "outputs": [
        {
          "output_type": "display_data",
          "data": {
            "application/vnd.jupyter.widget-view+json": {
              "model_id": "06c4ca957fdf49be94c04e8dab4e0c79",
              "version_minor": 0,
              "version_major": 2
            },
            "text/plain": [
              "FloatProgress(value=0.0, bar_style='info', description='Progress:', layout=Layout(height='25px', width='50%'),…"
            ]
          },
          "metadata": {
            "tags": []
          }
        },
        {
          "output_type": "stream",
          "text": [
            "+--------------------+----------+-------------+\n",
            "|                 org|start_date|num_employees|\n",
            "+--------------------+----------+-------------+\n",
            "|        Celtel Congo|2004-02-01|            1|\n",
            "|Verrus Mobile Tec...|2010-06-01|            1|\n",
            "|     united airlines|2007-03-01|            1|\n",
            "|               AVTEQ|2003-09-01|            1|\n",
            "|       Lentech, Inc.|2008-05-01|            1|\n",
            "|       MindTree Ltd.|2009-07-01|            1|\n",
            "|Michael Page Inte...|2007-01-01|            1|\n",
            "|   The Change Agency|2008-01-01|            1|\n",
            "|Stevens Capital A...|2009-10-01|            1|\n",
            "|     Isala klinieken|2009-09-01|            1|\n",
            "|ITS Information T...|2005-03-01|            1|\n",
            "|       Wirestone LLC|2009-07-01|            1|\n",
            "|ING Insurance Berhad|2010-12-01|            1|\n",
            "|Logistics Service...|2010-06-01|            1|\n",
            "|    Telehouse Europe|2007-10-01|            1|\n",
            "|Cisco Systems, In...|2010-01-01|            1|\n",
            "|     Chapters Indigo|2009-08-01|            1|\n",
            "|Peninsula Investm...|2010-01-01|            1|\n",
            "|Papa John's Inter...|2007-03-01|            1|\n",
            "|Pastoral Funds Ma...|2010-06-01|            1|\n",
            "+--------------------+----------+-------------+\n",
            "only showing top 20 rows"
          ],
          "name": "stdout"
        }
      ]
    },
    {
      "cell_type": "code",
      "metadata": {
        "id": "btp2wboHqg2J",
        "outputId": "21655b06-85c7-429c-daa5-e0c751414504",
        "colab": {
          "base_uri": "https://localhost:8080/",
          "height": 467,
          "referenced_widgets": [
            "ed4be93cce0147d1b76681d2df072d04",
            "7862f470338b4a1390d557079bbfba9d",
            "ccf60531147f4c0e93add8f2edb0c23f"
          ]
        }
      },
      "source": [
        "%%spark\n",
        "\n",
        "# TODO: Create [raw_hire_train_sdf]\n",
        "\n",
        "# CASE() statements are SQL's equivalent of if else statements. WHEN a CASE is\n",
        "# true THEN we define a function. ELSE we do another function and then END the\n",
        "# statement.\n",
        "\n",
        "# The query is a GROUP BY. We group data based on the same company and year, as\n",
        "# in the previous step. We then do a CASE statement. This will seperate out the\n",
        "# sets of data corresponding to the same month using MONTH() in the WHEN clause.\n",
        "# If we have a piece of data, it will be the number of employees that started\n",
        "# working at a given company on a given year and a given month and we will save\n",
        "# it with a corresponding column name. If there is no piece of data here, as per\n",
        "# the question, we need to add a 0. This is the ELSE clause. Lastly, we do a\n",
        "# SUM() to find total_num\n",
        "raw_hire_train_query = '''SELECT org, YEAR(start_date) AS year, MONTH(start_date) AS month, SUM(num_employees) AS num_employees FROM test_1_5 GROUP BY org, year, month'''\n",
        "raw_hire_train_sdf = spark.sql(raw_hire_train_query)\n",
        "raw_hire_train_sdf.show()\n",
        "raw_hire_train_sdf.createOrReplaceTempView('raw_hire_train')"
      ],
      "execution_count": 35,
      "outputs": [
        {
          "output_type": "display_data",
          "data": {
            "application/vnd.jupyter.widget-view+json": {
              "model_id": "ed4be93cce0147d1b76681d2df072d04",
              "version_minor": 0,
              "version_major": 2
            },
            "text/plain": [
              "FloatProgress(value=0.0, bar_style='info', description='Progress:', layout=Layout(height='25px', width='50%'),…"
            ]
          },
          "metadata": {
            "tags": []
          }
        },
        {
          "output_type": "stream",
          "text": [
            "+--------------------+----+-----+-------------+\n",
            "|                 org|year|month|num_employees|\n",
            "+--------------------+----+-----+-------------+\n",
            "|Dan Silverman & C...|2008|    8|            1|\n",
            "|       Merrill Lynch|2007|    7|            3|\n",
            "|            Novartis|2006|    1|            3|\n",
            "|   Carbon60 Networks|2011|    6|            1|\n",
            "|     School Speakers|2010|    8|            1|\n",
            "|               Ziggo|2008|    1|            1|\n",
            "|             VidMind|2011|    1|            1|\n",
            "|           Dutchlink|2010|   12|            1|\n",
            "|Orange (formely k...|2001|    6|            1|\n",
            "|ManpowerGroup Exp...|2009|    1|            1|\n",
            "|HEI Hotels & Reso...|2010|    6|            1|\n",
            "|  Allstate Insurance|2008|    1|            1|\n",
            "|          Timico Ltd|2010|   12|            1|\n",
            "|Robert Half Manag...|2010|   12|            1|\n",
            "|Ford dealer Schur...|2002|    2|            1|\n",
            "|              Hudson|2008|    7|            1|\n",
            "|MOTA ENGIL | Lima...|2001|    1|            1|\n",
            "|   Sanofi-Synthelabo|2001|    5|            1|\n",
            "|       The Body Shop|2006|    8|            1|\n",
            "|          StreamSage|2001|   12|            1|\n",
            "+--------------------+----+-----+-------------+\n",
            "only showing top 20 rows"
          ],
          "name": "stdout"
        }
      ]
    },
    {
      "cell_type": "code",
      "metadata": {
        "id": "-s0NNf3OWXAh",
        "outputId": "e07c9f8e-5ac1-415d-9452-6445800f2867",
        "colab": {
          "base_uri": "https://localhost:8080/",
          "height": 467,
          "referenced_widgets": [
            "4550afcfacde4757a4524c8601aba7dc",
            "cc22a99f389546fc83bd508adb126baf",
            "2fb44f4cde3f4d66bca8a5e58858c4e2"
          ]
        }
      },
      "source": [
        "%%spark\n",
        "\n",
        "query = '''\n",
        "SELECT org, year,\n",
        "CASE WHEN month=1 THEN num_employees ELSE 0 END AS jan_hired,\n",
        "CASE WHEN month=2 THEN num_employees ELSE 0 END AS feb_hired,\n",
        "CASE WHEN month=3 THEN num_employees ELSE 0 END AS mar_hired,\n",
        "CASE WHEN month=4 THEN num_employees ELSE 0 END AS apr_hired,\n",
        "CASE WHEN month=5 THEN num_employees ELSE 0 END AS may_hired,\n",
        "CASE WHEN month=6 THEN num_employees ELSE 0 END AS jun_hired,\n",
        "CASE WHEN month=7 THEN num_employees ELSE 0 END AS jul_hired,\n",
        "CASE WHEN month=8 THEN num_employees ELSE 0 END AS aug_hired,\n",
        "CASE WHEN month=9 THEN num_employees ELSE 0 END AS sep_hired,\n",
        "CASE WHEN month=10 THEN num_employees ELSE 0 END AS oct_hired,\n",
        "CASE WHEN month=11 THEN num_employees ELSE 0 END AS nov_hired,\n",
        "CASE WHEN month=12 THEN num_employees ELSE 0 END AS dec_hired\n",
        "FROM raw_hire_train\n",
        "'''\n",
        "\n",
        "# Define and save raw_hire_train_sdf\n",
        "raw_hire_train_sdf = spark.sql(query)\n",
        "raw_hire_train_sdf.createOrReplaceTempView('raw_hire_train2')\n",
        "raw_hire_train_sdf.show()"
      ],
      "execution_count": 36,
      "outputs": [
        {
          "output_type": "display_data",
          "data": {
            "application/vnd.jupyter.widget-view+json": {
              "model_id": "4550afcfacde4757a4524c8601aba7dc",
              "version_minor": 0,
              "version_major": 2
            },
            "text/plain": [
              "FloatProgress(value=0.0, bar_style='info', description='Progress:', layout=Layout(height='25px', width='50%'),…"
            ]
          },
          "metadata": {
            "tags": []
          }
        },
        {
          "output_type": "stream",
          "text": [
            "+--------------------+----+---------+---------+---------+---------+---------+---------+---------+---------+---------+---------+---------+---------+\n",
            "|                 org|year|jan_hired|feb_hired|mar_hired|apr_hired|may_hired|jun_hired|jul_hired|aug_hired|sep_hired|oct_hired|nov_hired|dec_hired|\n",
            "+--------------------+----+---------+---------+---------+---------+---------+---------+---------+---------+---------+---------+---------+---------+\n",
            "|SNS Property Finance|2007|        0|        0|        0|        0|        1|        0|        0|        0|        0|        0|        0|        0|\n",
            "|        Lutero Homes|2006|        0|        0|        0|        0|        0|        0|        0|        0|        0|        1|        0|        0|\n",
            "|Inphase Software ...|2005|        1|        0|        0|        0|        0|        0|        0|        0|        0|        0|        0|        0|\n",
            "|               ENTEL|2011|        0|        0|        1|        0|        0|        0|        0|        0|        0|        0|        0|        0|\n",
            "|            GE Money|2003|        0|        0|        1|        0|        0|        0|        0|        0|        0|        0|        0|        0|\n",
            "|  Jones Lang LaSalle|2009|        0|        0|        0|        0|        0|        0|        1|        0|        0|        0|        0|        0|\n",
            "|NextWindow Singap...|2009|        0|        0|        0|        0|        0|        0|        0|        1|        0|        0|        0|        0|\n",
            "|T - Croatian Telecom|2007|        0|        0|        0|        0|        0|        0|        1|        0|        0|        0|        0|        0|\n",
            "|                 WTG|2011|        0|        0|        0|        0|        0|        0|        0|        0|        0|        0|        0|        1|\n",
            "| WIA Company Limited|2007|        0|        0|        0|        1|        0|        0|        0|        0|        0|        0|        0|        0|\n",
            "|               Intel|2008|        0|        1|        0|        0|        0|        0|        0|        0|        0|        0|        0|        0|\n",
            "|   Lutgert Insurance|2007|        0|        1|        0|        0|        0|        0|        0|        0|        0|        0|        0|        0|\n",
            "|  Payless ShoeSource|2010|        0|        0|        0|        0|        0|        0|        0|        0|        0|        0|        2|        0|\n",
            "|             GMAC UK|2007|        0|        0|        0|        1|        0|        0|        0|        0|        0|        0|        0|        0|\n",
            "|Carmen B. Pingree...|2000|        0|        0|        0|        0|        0|        0|        0|        1|        0|        0|        0|        0|\n",
            "|“Court Informatio...|2005|        0|        0|        0|        0|        0|        0|        0|        0|        0|        0|        0|        1|\n",
            "|             Apogado|2008|        0|        0|        0|        1|        0|        0|        0|        0|        0|        0|        0|        0|\n",
            "|Fogarty Klein Monroe|2007|        0|        0|        0|        0|        1|        0|        0|        0|        0|        0|        0|        0|\n",
            "|  Satcon Electronics|2006|        0|        1|        0|        0|        0|        0|        0|        0|        0|        0|        0|        0|\n",
            "|  Show Life Magazine|2008|        0|        0|        0|        1|        0|        0|        0|        0|        0|        0|        0|        0|\n",
            "+--------------------+----+---------+---------+---------+---------+---------+---------+---------+---------+---------+---------+---------+---------+\n",
            "only showing top 20 rows"
          ],
          "name": "stdout"
        }
      ]
    },
    {
      "cell_type": "code",
      "metadata": {
        "id": "6GBpW-8yY3-H",
        "outputId": "9968349e-a3a1-4e42-d4b4-751e7ef5d211",
        "colab": {
          "base_uri": "https://localhost:8080/",
          "height": 467,
          "referenced_widgets": [
            "ff1d5320aeec4c2aaafe3e55db859445",
            "83487381e288445b845b87d2ec9bcf19",
            "ce0513730389446e8c51338b7c9ae929"
          ]
        }
      },
      "source": [
        "%%spark\n",
        "\n",
        "query = '''\n",
        "SELECT *, \n",
        "jan_hired + feb_hired + mar_hired + apr_hired+ may_hired + jun_hired+ jul_hired+ aug_hired+ sep_hired+ oct_hired+ nov_hired+ dec_hired AS total_num\n",
        "FROM raw_hire_train2\n",
        "ORDER BY total_num DESC\n",
        "'''\n",
        "raw_hire_train_sdf = spark.sql(query)\n",
        "raw_hire_train_sdf.createOrReplaceTempView('raw_hire_train3')\n",
        "raw_hire_train_sdf.show()"
      ],
      "execution_count": 37,
      "outputs": [
        {
          "output_type": "display_data",
          "data": {
            "application/vnd.jupyter.widget-view+json": {
              "model_id": "ff1d5320aeec4c2aaafe3e55db859445",
              "version_minor": 0,
              "version_major": 2
            },
            "text/plain": [
              "FloatProgress(value=0.0, bar_style='info', description='Progress:', layout=Layout(height='25px', width='50%'),…"
            ]
          },
          "metadata": {
            "tags": []
          }
        },
        {
          "output_type": "stream",
          "text": [
            "+--------------------+----+---------+---------+---------+---------+---------+---------+---------+---------+---------+---------+---------+---------+---------+\n",
            "|                 org|year|jan_hired|feb_hired|mar_hired|apr_hired|may_hired|jun_hired|jul_hired|aug_hired|sep_hired|oct_hired|nov_hired|dec_hired|total_num|\n",
            "+--------------------+----+---------+---------+---------+---------+---------+---------+---------+---------+---------+---------+---------+---------+---------+\n",
            "|              Google|2011|        0|        0|        0|        0|       30|        0|        0|        0|        0|        0|        0|        0|       30|\n",
            "|                 IBM|2011|       22|        0|        0|        0|        0|        0|        0|        0|        0|        0|        0|        0|       22|\n",
            "|              Google|2010|        0|        0|        0|        0|        0|       22|        0|        0|        0|        0|        0|        0|       22|\n",
            "|              Google|2011|        0|        0|        0|        0|        0|        0|       22|        0|        0|        0|        0|        0|       22|\n",
            "|Brook Furniture R...|2005|        0|        0|        0|       21|        0|        0|        0|        0|        0|        0|        0|        0|       21|\n",
            "|           Microsoft|2008|        0|        0|        0|        0|        0|       21|        0|        0|        0|        0|        0|        0|       21|\n",
            "|                 IBM|2010|       20|        0|        0|        0|        0|        0|        0|        0|        0|        0|        0|        0|       20|\n",
            "|              Google|2011|       20|        0|        0|        0|        0|        0|        0|        0|        0|        0|        0|        0|       20|\n",
            "|Nokia Siemens Net...|2007|        0|        0|        0|       19|        0|        0|        0|        0|        0|        0|        0|        0|       19|\n",
            "|           Accenture|2011|        0|        0|        0|        0|        0|        0|        0|        0|       19|        0|        0|        0|       19|\n",
            "|           Microsoft|2008|        0|        0|        0|        0|        0|        0|       19|        0|        0|        0|        0|        0|       19|\n",
            "|           Microsoft|2006|        0|        0|        0|        0|        0|       18|        0|        0|        0|        0|        0|        0|       18|\n",
            "|              Google|2011|        0|        0|        0|        0|        0|        0|        0|       18|        0|        0|        0|        0|       18|\n",
            "|              Google|2011|        0|        0|        0|       18|        0|        0|        0|        0|        0|        0|        0|        0|       18|\n",
            "|              Google|2010|        0|        0|        0|        0|        0|        0|       17|        0|        0|        0|        0|        0|       17|\n",
            "|           Microsoft|2008|        0|        0|        0|        0|       17|        0|        0|        0|        0|        0|        0|        0|       17|\n",
            "|              Google|2008|        0|        0|        0|        0|       17|        0|        0|        0|        0|        0|        0|        0|       17|\n",
            "|           Microsoft|2011|       17|        0|        0|        0|        0|        0|        0|        0|        0|        0|        0|        0|       17|\n",
            "|              Google|2010|        0|        0|        0|        0|        0|        0|        0|        0|        0|        0|       17|        0|       17|\n",
            "|                 IBM|2006|       17|        0|        0|        0|        0|        0|        0|        0|        0|        0|        0|        0|       17|\n",
            "+--------------------+----+---------+---------+---------+---------+---------+---------+---------+---------+---------+---------+---------+---------+---------+\n",
            "only showing top 20 rows"
          ],
          "name": "stdout"
        }
      ]
    },
    {
      "cell_type": "code",
      "metadata": {
        "id": "FemZVyO-cCBe",
        "outputId": "83832c71-94a1-4ab5-a7b3-5f8b00375693",
        "colab": {
          "base_uri": "https://localhost:8080/",
          "height": 17,
          "referenced_widgets": [
            "a64263cb36c44e2bbe1cf6bd98f49c4f",
            "0b646d7591cd4a78a7ff05f857ac96de",
            "d9d67b806d734f4cb47dc250720af6eb"
          ]
        }
      },
      "source": [
        "%%spark\n",
        "\n",
        "query = '''\n",
        "SELECT org, year,\n",
        "SUM(jan_hired) AS jan_hired, SUM(feb_hired) AS feb_hired, SUM(mar_hired) AS mar_hired, SUM(apr_hired) AS apr_hired, \n",
        "SUM(may_hired) AS may_hired, SUM(jun_hired) AS jun_hired, SUM(jul_hired) AS jul_hired, SUM(aug_hired) AS aug_hired, \n",
        "SUM(sep_hired) AS sep_hired, SUM(oct_hired) AS oct_hired, SUM(nov_hired) AS nov_hired, SUM(dec_hired) AS dec_hired, \n",
        "SUM(total_num) AS total_num\n",
        "FROM raw_hire_train3\n",
        "GROUP BY org, year\n",
        "'''\n",
        "raw_hire_train_sdf = spark.sql(query)"
      ],
      "execution_count": 38,
      "outputs": [
        {
          "output_type": "display_data",
          "data": {
            "application/vnd.jupyter.widget-view+json": {
              "model_id": "a64263cb36c44e2bbe1cf6bd98f49c4f",
              "version_minor": 0,
              "version_major": 2
            },
            "text/plain": [
              "FloatProgress(value=0.0, bar_style='info', description='Progress:', layout=Layout(height='25px', width='50%'),…"
            ]
          },
          "metadata": {
            "tags": []
          }
        }
      ]
    },
    {
      "cell_type": "code",
      "metadata": {
        "id": "WRMSunHVq296",
        "outputId": "04bd25cb-d5f5-4a05-83d8-245188eb97b4",
        "colab": {
          "base_uri": "https://localhost:8080/",
          "height": 251,
          "referenced_widgets": [
            "43f6f6c1b51b483e8c79c0495b83de45",
            "657097936ae34282817cc1610065c00d",
            "dbe7161610ee40c482a2854fb988ba9b"
          ]
        }
      },
      "source": [
        "%%spark\n",
        "\n",
        "## AUTOGRADER Step 3.1: ##\n",
        "\n",
        "raw_hire_train_sdf.createOrReplaceTempView(\"test_3_1\")\n",
        "test_3_1_sdf = spark.sql(\"SELECT * FROM test_3_1 ORDER BY org DESC, year ASC LIMIT 10\")\n",
        "to_submit = pd.read_json(test_3_1_sdf.toPandas().to_json())\n",
        "to_submit"
      ],
      "execution_count": 39,
      "outputs": [
        {
          "output_type": "display_data",
          "data": {
            "application/vnd.jupyter.widget-view+json": {
              "model_id": "43f6f6c1b51b483e8c79c0495b83de45",
              "version_minor": 0,
              "version_major": 2
            },
            "text/plain": [
              "FloatProgress(value=0.0, bar_style='info', description='Progress:', layout=Layout(height='25px', width='50%'),…"
            ]
          },
          "metadata": {
            "tags": []
          }
        },
        {
          "output_type": "stream",
          "text": [
            "                                             org  year  ...  dec_hired  total_num\n",
            "0                             � Reading Partners  2009  ...          0          1\n",
            "1                                � One Care Club  2010  ...          0          1\n",
            "2                  � Foothill Business Econ Club  2009  ...          0          1\n",
            "3                                 ￼Dixon Schwabl  2011  ...          0          1\n",
            "4                                          Inc.  2004  ...          0          1\n",
            "5                                         Apple  2008  ...          0          1\n",
            "6                                         Apple  2011  ...          0          1\n",
            "7                            \\tPearl Embroidery  2001  ...          0          1\n",
            "8  龙泉寺翻译中心 Longquan Monastery Translation Centre  2011  ...          0          1\n",
            "9                                             青檬  2007  ...          0          1\n",
            "\n",
            "[10 rows x 15 columns]"
          ],
          "name": "stdout"
        }
      ]
    },
    {
      "cell_type": "code",
      "metadata": {
        "id": "NluLbb4HX5AS",
        "outputId": "d59ffe08-c491-4455-93c5-4d6aeb3af4ff",
        "colab": {
          "base_uri": "https://localhost:8080/",
          "height": 71,
          "referenced_widgets": [
            "35ce7850a5bc4d71963701c9223f0e15",
            "f898904d8dcd4b269183bcefb454964a",
            "aa2556329176412caaa68f67550c674c"
          ]
        }
      },
      "source": [
        "%%spark\n",
        "grader.grade(test_case_id = 'harmonious', answer = to_submit)"
      ],
      "execution_count": 40,
      "outputs": [
        {
          "output_type": "display_data",
          "data": {
            "application/vnd.jupyter.widget-view+json": {
              "model_id": "35ce7850a5bc4d71963701c9223f0e15",
              "version_minor": 0,
              "version_major": 2
            },
            "text/plain": [
              "FloatProgress(value=0.0, bar_style='info', description='Progress:', layout=Layout(height='25px', width='50%'),…"
            ]
          },
          "metadata": {
            "tags": []
          }
        },
        {
          "output_type": "stream",
          "text": [
            "Correct! You earned 10/10 points. You are a star!\n",
            "\n",
            "Your submission has been successfully recorded in the gradebook."
          ],
          "name": "stdout"
        }
      ]
    },
    {
      "cell_type": "markdown",
      "metadata": {
        "id": "IkXyet6rrczK"
      },
      "source": [
        "### Step 3.2: The Formidable Filters\n",
        "\n",
        "Create an sdf called `hire_train_sdf` that contains all the observations in `raw_hire_train_sdf` with `total_num` greater than or equal to 100. The format of the sdf is shown below:\n",
        "\n",
        "```\n",
        "+----+-----+----------+---------+----------+----------+\n",
        "|org |year |jan_hired |   ...   |dec_hired |total_num |\n",
        "+----+-----+----------+---------+----------+----------+\n",
        "|IBM |2008 |...       |   ...   |...       |...       |\n",
        "|IBM |2009 |...       |   ...   |...       |...       |\n",
        "|... |...  |...       |   ...   |...       |...       |\n",
        "+----+-----+----------+---------+----------+----------+\n",
        "```\n"
      ]
    },
    {
      "cell_type": "code",
      "metadata": {
        "id": "dCH4mbNcshq9",
        "outputId": "cd287117-5dfe-4841-efc5-aeef8522fb69",
        "colab": {
          "base_uri": "https://localhost:8080/",
          "height": 17,
          "referenced_widgets": [
            "50a424df47564c99ae85dc9acdee3558",
            "8839164c8bfe4b1a9b7dde47aacceee8",
            "27489edafd724eb786125932e7b462cb"
          ]
        }
      },
      "source": [
        "%%spark\n",
        "\n",
        "# TODO: Create [hire_train_sdf]\n",
        "\n",
        "# Keep all rows where total_num >= 100\n",
        "hire_train_sdf = spark.sql('''SELECT * FROM test_3_1 WHERE total_num >= 100 ''')\n",
        "\n",
        "\n",
        "# Define and save hire_train_sdf\n",
        "\n"
      ],
      "execution_count": 41,
      "outputs": [
        {
          "output_type": "display_data",
          "data": {
            "application/vnd.jupyter.widget-view+json": {
              "model_id": "50a424df47564c99ae85dc9acdee3558",
              "version_minor": 0,
              "version_major": 2
            },
            "text/plain": [
              "FloatProgress(value=0.0, bar_style='info', description='Progress:', layout=Layout(height='25px', width='50%'),…"
            ]
          },
          "metadata": {
            "tags": []
          }
        }
      ]
    },
    {
      "cell_type": "code",
      "metadata": {
        "id": "WqUESMO2f3wS",
        "outputId": "b80e4d8b-dfcb-40da-8bec-49339e1de318",
        "colab": {
          "base_uri": "https://localhost:8080/",
          "height": 197,
          "referenced_widgets": [
            "2c7574d530e74722bfb5bfb30bc235e3",
            "4a917ca93fcf48e59b41c6f4435be551",
            "fb26c50500984c1cb1874502d186f430"
          ]
        }
      },
      "source": [
        "%%spark\n",
        "\n",
        "hire_train_sdf.show(5)"
      ],
      "execution_count": 42,
      "outputs": [
        {
          "output_type": "display_data",
          "data": {
            "application/vnd.jupyter.widget-view+json": {
              "model_id": "2c7574d530e74722bfb5bfb30bc235e3",
              "version_minor": 0,
              "version_major": 2
            },
            "text/plain": [
              "FloatProgress(value=0.0, bar_style='info', description='Progress:', layout=Layout(height='25px', width='50%'),…"
            ]
          },
          "metadata": {
            "tags": []
          }
        },
        {
          "output_type": "stream",
          "text": [
            "+---------+----+---------+---------+---------+---------+---------+---------+---------+---------+---------+---------+---------+---------+---------+\n",
            "|      org|year|jan_hired|feb_hired|mar_hired|apr_hired|may_hired|jun_hired|jul_hired|aug_hired|sep_hired|oct_hired|nov_hired|dec_hired|total_num|\n",
            "+---------+----+---------+---------+---------+---------+---------+---------+---------+---------+---------+---------+---------+---------+---------+\n",
            "|      IBM|2011|       22|        5|        7|        3|       14|       10|       15|       10|        8|        8|        5|        1|      108|\n",
            "|Microsoft|2009|       14|        4|        3|        3|       11|       13|       11|       13|        7|        8|       10|        3|      100|\n",
            "|      IBM|2006|       17|        6|        6|        9|       13|       10|        5|        9|       10|        8|        6|        3|      102|\n",
            "|      IBM|2008|       15|        9|        7|        8|       10|       13|        2|       13|       12|        3|        5|        9|      106|\n",
            "|Microsoft|2011|       17|        9|       11|        7|       10|        8|       11|       14|       11|       10|        9|        8|      125|\n",
            "+---------+----+---------+---------+---------+---------+---------+---------+---------+---------+---------+---------+---------+---------+---------+\n",
            "only showing top 5 rows"
          ],
          "name": "stdout"
        }
      ]
    },
    {
      "cell_type": "code",
      "metadata": {
        "id": "wc-4112zsvfF",
        "outputId": "f22a64ab-326c-4378-e890-dbbd50a2eb66",
        "colab": {
          "base_uri": "https://localhost:8080/",
          "height": 251,
          "referenced_widgets": [
            "a761bd454b69498689b108f414140977",
            "ce6fb7cc422045daaaf4a762c7de7d6e",
            "68af2f75f3a04af3a509ccdc7c5ea9a2"
          ]
        }
      },
      "source": [
        "%%spark\n",
        "\n",
        "## AUTOGRADER Step 3.2: ##\n",
        "\n",
        "hire_train_sdf.createOrReplaceTempView(\"test_3_2\")\n",
        "test_3_2_sdf = spark.sql(\"SELECT * FROM test_3_2 ORDER BY org DESC, year ASC LIMIT 10\")\n",
        "to_submit = pd.read_json(test_3_2_sdf.toPandas().to_json())\n",
        "to_submit"
      ],
      "execution_count": 43,
      "outputs": [
        {
          "output_type": "display_data",
          "data": {
            "application/vnd.jupyter.widget-view+json": {
              "model_id": "a761bd454b69498689b108f414140977",
              "version_minor": 0,
              "version_major": 2
            },
            "text/plain": [
              "FloatProgress(value=0.0, bar_style='info', description='Progress:', layout=Layout(height='25px', width='50%'),…"
            ]
          },
          "metadata": {
            "tags": []
          }
        },
        {
          "output_type": "stream",
          "text": [
            "         org  year  jan_hired  ...  nov_hired  dec_hired  total_num\n",
            "0  Microsoft  2006          8  ...          6          5        110\n",
            "1  Microsoft  2008         16  ...          4          1        136\n",
            "2  Microsoft  2009         14  ...         10          3        100\n",
            "3  Microsoft  2011         17  ...          9          8        125\n",
            "4        IBM  2006         17  ...          6          3        102\n",
            "5        IBM  2007         15  ...          3          6        103\n",
            "6        IBM  2008         15  ...          5          9        106\n",
            "7        IBM  2010         20  ...          5          3        109\n",
            "8        IBM  2011         22  ...          5          1        108\n",
            "9     Google  2010         13  ...         17          4        140\n",
            "\n",
            "[10 rows x 15 columns]"
          ],
          "name": "stdout"
        }
      ]
    },
    {
      "cell_type": "code",
      "metadata": {
        "id": "rCCwP4ldZBPd",
        "outputId": "c0d62d9d-9b25-43fc-dbe7-25dcdfcbd8f7",
        "colab": {
          "base_uri": "https://localhost:8080/",
          "height": 71,
          "referenced_widgets": [
            "f69d767a1a1a4aee916fe7f05dfbfdd3",
            "0d805eeb98c64c019d1176abe199527e",
            "f4c7b9905ef2477697c74a70d1d08a88"
          ]
        }
      },
      "source": [
        "%%spark\n",
        "grader.grade(test_case_id = 'formidable', answer = to_submit)"
      ],
      "execution_count": 44,
      "outputs": [
        {
          "output_type": "display_data",
          "data": {
            "application/vnd.jupyter.widget-view+json": {
              "model_id": "f69d767a1a1a4aee916fe7f05dfbfdd3",
              "version_minor": 0,
              "version_major": 2
            },
            "text/plain": [
              "FloatProgress(value=0.0, bar_style='info', description='Progress:', layout=Layout(height='25px', width='50%'),…"
            ]
          },
          "metadata": {
            "tags": []
          }
        },
        {
          "output_type": "stream",
          "text": [
            "Correct! You earned 5/5 points. You are a star!\n",
            "\n",
            "Your submission has been successfully recorded in the gradebook."
          ],
          "name": "stdout"
        }
      ]
    },
    {
      "cell_type": "markdown",
      "metadata": {
        "id": "MN4ik70Hta01"
      },
      "source": [
        "\n",
        "### Step 3.3: The Stupendous Stocks\n",
        "\n",
        "Now we are ready for the stock data. The stock data we will use is saved in the same S3 bucket as `linkedin.json`. Load the data into the EMR cluster. Run the cell below. ***You do not need to edit this cell***."
      ]
    },
    {
      "cell_type": "code",
      "metadata": {
        "id": "APv4BxKw643q",
        "outputId": "6692200d-fa1b-4da2-efb1-12c527ace3fc",
        "colab": {
          "base_uri": "https://localhost:8080/",
          "height": 287,
          "referenced_widgets": [
            "c70ead156e3e4af1bbd6b011a24c2c25",
            "70de2cd43b8e487ca7b3932ed5e2b056",
            "6e95c4c504c840d494641f6bab5a28bd"
          ]
        }
      },
      "source": [
        "%%spark\n",
        "\n",
        "# Load stock data\n",
        "\n",
        "raw_stocks_sdf = spark.read.format(\"csv\") \\\n",
        "              .option(\"header\", \"true\") \\\n",
        "              .load(\"s3a://penn-cis545-files/stocks.csv\")\n",
        "\n",
        "# Creates SQL-accesible table\n",
        "raw_stocks_sdf.createOrReplaceTempView('raw_stocks')\n",
        "\n",
        "# Display the first 10 rows\n",
        "query = '''SELECT *\n",
        "           FROM raw_stocks'''\n",
        "spark.sql(query).show(10)\n"
      ],
      "execution_count": 45,
      "outputs": [
        {
          "output_type": "display_data",
          "data": {
            "application/vnd.jupyter.widget-view+json": {
              "model_id": "c70ead156e3e4af1bbd6b011a24c2c25",
              "version_minor": 0,
              "version_major": 2
            },
            "text/plain": [
              "FloatProgress(value=0.0, bar_style='info', description='Progress:', layout=Layout(height='25px', width='50%'),…"
            ]
          },
          "metadata": {
            "tags": []
          }
        },
        {
          "output_type": "stream",
          "text": [
            "+----------+------------------+------------------+------------------+------------------+--------+-------+---+\n",
            "|      Date|              Open|              High|               Low|             Close|  Volume|OpenInt|org|\n",
            "+----------+------------------+------------------+------------------+------------------+--------+-------+---+\n",
            "|1999-11-18|            30.713|            33.754|            27.002|29.701999999999998|66277506|      0|  A|\n",
            "|1999-11-19|            28.986|29.026999999999997|            26.872|27.256999999999998|16142920|      0|  A|\n",
            "|1999-11-22|            27.886|29.701999999999998|            27.044|29.701999999999998| 6970266|      0|  A|\n",
            "|1999-11-23|28.688000000000002|29.445999999999998|            27.002|            27.002| 6332082|      0|  A|\n",
            "|1999-11-24|27.083000000000002|            28.309|            27.002|            27.717| 5132147|      0|  A|\n",
            "|1999-11-26|            27.594|28.011999999999997|            27.509|            27.807| 1832635|      0|  A|\n",
            "|1999-11-29|            27.676|             28.65|             27.38|            28.432| 4317826|      0|  A|\n",
            "|1999-11-30|             28.35|            28.986|            27.634|             28.48| 4567146|      0|  A|\n",
            "|1999-12-01|             28.48|            29.324|28.273000000000003|            28.986| 3133746|      0|  A|\n",
            "|1999-12-02|29.531999999999996|            30.375|            29.155|29.785999999999998| 3252997|      0|  A|\n",
            "+----------+------------------+------------------+------------------+------------------+--------+-------+---+\n",
            "only showing top 10 rows"
          ],
          "name": "stdout"
        }
      ]
    },
    {
      "cell_type": "markdown",
      "metadata": {
        "id": "JUCdr3zDUAFH"
      },
      "source": [
        "Run the cell below to see the types of the columns in our data frame. These are not correct. We could have defined a schema when reading in data but we will handle this issue in another manner. You will do this in Step 3.4.2."
      ]
    },
    {
      "cell_type": "code",
      "metadata": {
        "id": "oNTGEfxsisqs",
        "outputId": "87e760cd-8e45-4540-b792-5dd78b19e202",
        "colab": {
          "base_uri": "https://localhost:8080/",
          "height": 35,
          "referenced_widgets": [
            "00e1601c6b59447f810a39a071070111",
            "08145c1656c041ae9099eade4d55cdd5",
            "ef10682c22eb4868a1e36f598191b379"
          ]
        }
      },
      "source": [
        "%%spark \n",
        "\n",
        "# Print types of SDF\n",
        "raw_stocks_sdf.dtypes"
      ],
      "execution_count": 46,
      "outputs": [
        {
          "output_type": "display_data",
          "data": {
            "application/vnd.jupyter.widget-view+json": {
              "model_id": "00e1601c6b59447f810a39a071070111",
              "version_minor": 0,
              "version_major": 2
            },
            "text/plain": [
              "FloatProgress(value=0.0, bar_style='info', description='Progress:', layout=Layout(height='25px', width='50%'),…"
            ]
          },
          "metadata": {
            "tags": []
          }
        },
        {
          "output_type": "stream",
          "text": [
            "[('Date', 'string'), ('Open', 'string'), ('High', 'string'), ('Low', 'string'), ('Close', 'string'), ('Volume', 'string'), ('OpenInt', 'string'), ('org', 'string')]"
          ],
          "name": "stdout"
        }
      ]
    },
    {
      "cell_type": "markdown",
      "metadata": {
        "id": "0DdnoFkP7mxz"
      },
      "source": [
        "### Step 3.4 The Clairvoyant Cleaning\n",
        "\n",
        "We now want to format the stock data set into the second half of the training table. We will then merge it with `hire_train` based off the common `org` and `year` fields. The formatting will consist of 4 steps. Actually, it is 5.\n",
        "\n",
        "#### Step 3.4.1 The Ubiquitous UDF\n",
        "\n",
        "The companies in our stock dataset are defined by their stock tickers. Thus, we would not be able to merge it with the `org` field in `hire_train_sdf`. We must convert them to that format. Often times when using Spark, there may not be a built-in SQL function that can do the operation we desired. Instead, we can create one on our own with a user-defined function (udf).\n",
        "\n",
        "A udf is defined as a normal Python function and then registered to be used as a Spark SQL function. Your task is to create a udf, `TICKER_TO_NAME()` that will convert the ticker field in `raw_stocks` to the company's name. This will be done using the provided `ticker_to_name_dict` dictionary. We are only interested in the companies in that dictionary.\n",
        "\n",
        "Fill out the function `ticker_to_name()` below. Then use `spark.udf.register()` to register it as a SQL function. The command is provided. ***You do not need to edit it***. Note, we have defined the udf as returning `StringType()`. Ensure that your function returns this. You must also deal with any potential `null` cases."
      ]
    },
    {
      "cell_type": "code",
      "metadata": {
        "id": "P4cJWZsr8iNC",
        "outputId": "ded19295-744c-46ed-d210-bd188c168496",
        "colab": {
          "base_uri": "https://localhost:8080/",
          "height": 35,
          "referenced_widgets": [
            "876e5f9844ad4d09bd1aee2544ab6fb0",
            "684da258d42141bdaffd0cd55e781cac",
            "3268e0391a1544e98823c70f02a0cf87"
          ]
        }
      },
      "source": [
        "%%spark\n",
        "\n",
        "# Dictionary linking stock ticker symbols to their names\n",
        "ticker_to_name_dict = {'NOK': 'Nokia',\n",
        "                       'UN': 'Unilever',\n",
        "                       'BP': 'BP',\n",
        "                       'JNJ': 'Johnson & Johnson',\n",
        "                       'TCS': 'Tata Consultancy Services',\n",
        "                       'SLB': 'Schlumberger',\n",
        "                       'NVS': 'Novartis',\n",
        "                       'CNY': 'Huawei',\n",
        "                       'PFE': 'Pfizer',\n",
        "                       'ACN': 'Accenture',\n",
        "                       'DELL': 'Dell',\n",
        "                       'MS': 'Morgan Stanley',\n",
        "                       'ORCL': 'Oracle',\n",
        "                       'BAC': 'Bank of America',\n",
        "                       'PG': 'Procter & Gamble',\n",
        "                       'CGEMY': 'Capgemini',\n",
        "                       'GS': 'Goldman Sachs',\n",
        "                       'C': 'Citi',\n",
        "                       'IBM': 'IBM',\n",
        "                       'CS': 'Credit Suisse',\n",
        "                       'MDLZ': 'Kraft Foods',\n",
        "                       'WIT': 'Wipro Technologies',\n",
        "                       'CSCO': 'Cisco Systems',\n",
        "                       'PWC': 'PwC',\n",
        "                       'GOOGL': 'Google',\n",
        "                       'CTSH': 'Cognizant Technology Solutions',\n",
        "                       'HSBC': 'HSBC',\n",
        "                       'DB': 'Deutsche Bank',\n",
        "                       'MSFT': 'Microsoft',\n",
        "                       'HPE': 'Hewlett-Packard',\n",
        "                       'ERIC': 'Ericsson',\n",
        "                       'BCS': 'Barclays Capital',\n",
        "                       'GSK': 'GlaxoSmithKline'}\n",
        "\n",
        "# TODO: Fill out [ticker_to_name()] and register it as a udf.\n",
        "# Fill out ticker_to_name()\n",
        "\n",
        "# In UDFs we have to cover all possible output cases, or else the function will\n",
        "# crash. Specifically, this means we need to handle the case when \"ticker\" is\n",
        "# not in \"ticker_to_name_dict\". We use a try and except statement to return null\n",
        "# for this case.\n",
        "\n",
        "def ticker_to_name(ticker):\n",
        "  name = ticker_to_name_dict.get(ticker)\n",
        "  return name\n",
        "\n",
        "# Register udf as a SQL function. DO NOT EDIT\n",
        "spark.udf.register(\"TICKER_TO_NAME\", ticker_to_name, StringType())\n"
      ],
      "execution_count": 47,
      "outputs": [
        {
          "output_type": "display_data",
          "data": {
            "application/vnd.jupyter.widget-view+json": {
              "model_id": "876e5f9844ad4d09bd1aee2544ab6fb0",
              "version_minor": 0,
              "version_major": 2
            },
            "text/plain": [
              "FloatProgress(value=0.0, bar_style='info', description='Progress:', layout=Layout(height='25px', width='50%'),…"
            ]
          },
          "metadata": {
            "tags": []
          }
        },
        {
          "output_type": "stream",
          "text": [
            "<function ticker_to_name at 0x7f51125213b0>"
          ],
          "name": "stdout"
        }
      ]
    },
    {
      "cell_type": "markdown",
      "metadata": {
        "id": "LSM0mzPRaKKr"
      },
      "source": [
        "Submit a tuple to the autograder for the ticker value of Google and Tesla. If the ticker value isn't in the table, set it to a string equal to \"None\""
      ]
    },
    {
      "cell_type": "code",
      "metadata": {
        "id": "NkdrFilOtKqx",
        "outputId": "379a5fb6-72cf-456e-a32f-4ece479d74d6",
        "colab": {
          "base_uri": "https://localhost:8080/",
          "height": 35,
          "referenced_widgets": [
            "54d268aa3f8243fea1506c719de5a28a",
            "0f44582cd188422da820ca4e13d126c1",
            "1110061cc2174ef7b0c371981ef4aa6c"
          ]
        }
      },
      "source": [
        "%%spark\n",
        "\n",
        "## AUTOGRADER Step 3.4.1: ##\n",
        "\n",
        "print((str(ticker_to_name(\"GOOGL\")),str(ticker_to_name(\"TSLA\"))))\n",
        "to_submit = ((str(ticker_to_name(\"GOOGL\")),str(ticker_to_name(\"TSLA\"))))"
      ],
      "execution_count": 48,
      "outputs": [
        {
          "output_type": "display_data",
          "data": {
            "application/vnd.jupyter.widget-view+json": {
              "model_id": "54d268aa3f8243fea1506c719de5a28a",
              "version_minor": 0,
              "version_major": 2
            },
            "text/plain": [
              "FloatProgress(value=0.0, bar_style='info', description='Progress:', layout=Layout(height='25px', width='50%'),…"
            ]
          },
          "metadata": {
            "tags": []
          }
        },
        {
          "output_type": "stream",
          "text": [
            "('Google', 'None')"
          ],
          "name": "stdout"
        }
      ]
    },
    {
      "cell_type": "code",
      "metadata": {
        "id": "BA95n1lpZ4yy",
        "outputId": "90d91981-fcbc-42f3-f56d-71d8124af437",
        "colab": {
          "base_uri": "https://localhost:8080/",
          "height": 71,
          "referenced_widgets": [
            "651f2c57f1ff475f80b55bdc9fd699c4",
            "d65030ee52974296adeccd22eeebcc2a",
            "3a97aac33bc543fdaa21e657105e9ad6"
          ]
        }
      },
      "source": [
        "%%spark\n",
        "grader.grade(test_case_id = 'clairvoyant', answer = to_submit)"
      ],
      "execution_count": 49,
      "outputs": [
        {
          "output_type": "display_data",
          "data": {
            "application/vnd.jupyter.widget-view+json": {
              "model_id": "651f2c57f1ff475f80b55bdc9fd699c4",
              "version_minor": 0,
              "version_major": 2
            },
            "text/plain": [
              "FloatProgress(value=0.0, bar_style='info', description='Progress:', layout=Layout(height='25px', width='50%'),…"
            ]
          },
          "metadata": {
            "tags": []
          }
        },
        {
          "output_type": "stream",
          "text": [
            "Correct! You earned 2/2 points. You are a star!\n",
            "\n",
            "Your submission has been successfully recorded in the gradebook."
          ],
          "name": "stdout"
        }
      ]
    },
    {
      "cell_type": "markdown",
      "metadata": {
        "id": "u9YOYO9L-_GS"
      },
      "source": [
        "#### Step 3.4.2: The Fastidious Filters\n",
        "\n",
        "With our new `TICKER_TO_NAME()` function we will begin to wrangle `raw_stocks_sdf`.\n",
        "\n",
        "Create an sdf called `filter_1_stocks_sdf` as follows. Convert all the ticker names in `raw_stocks_sdf` to the company names and save it as `org`. Next, convert the `date` field to a datetime type. As explained before this will help order and group the rows in future steps. Then, convert the type of the values in `closing_price` to `float`. This will take care of the `dtypes` issue we saw in Step 3.3.\n",
        "\n",
        "Drop any company names that do not appear in `ticker_to_name_dict`. Using .dropna() is acceptable instead of IS NOT NULL. Keep any date between January 1st 2001 and December 4th 2012 inclusive, in the format shown below (note this is a datetime object not a string):\n",
        "\n",
        "```\n",
        "+----+------------+--------------+\n",
        "|org |date        |Close         |\n",
        "+----+------------+--------------+\n",
        "|IBM |2000-01-03  |...           |\n",
        "|... |...         |...           |\n",
        "+----+------------+--------------+\n",
        "```\n",
        "_Hint_: You will use a similar function to filter the dates as in Step 1.4. In Spark SQL the format for the `date` field in `raw_stocks_sdf` is `\"yyyy-MM-dd\"`."
      ]
    },
    {
      "cell_type": "code",
      "metadata": {
        "id": "RuiitnWlBYJ7",
        "outputId": "42aca651-5bf7-44f9-e36a-4164f9ec8a39",
        "colab": {
          "base_uri": "https://localhost:8080/",
          "height": 17,
          "referenced_widgets": [
            "053af89b1a5043a082409a92185722f0",
            "459b060777e54b87a0bb66ac4a74c5fd",
            "d68de065057a4248aaea40400b850ec9"
          ]
        }
      },
      "source": [
        "%%spark\n",
        "\n",
        "# Format the \"org\" column using our UDF, TICKER_TO_NAME. Use TO_DATE() to\n",
        "# convert the string date column to datetime object and filter on this in the\n",
        "# same way as Step 1.4\n",
        "\n",
        "# TODO: Create [filter_1_stocks_sdf]\n",
        "filter_1_stocks_query = '''\n",
        "SELECT TICKER_TO_NAME(org) AS org, TO_DATE(date,'yyyy-MM-dd') AS date, FLOAT(Close) AS Close\n",
        "FROM raw_stocks\n",
        "WHERE TO_DATE(date,'yyyy-MM-dd') BETWEEN TO_DATE('2001-01-01','yyyy-MM-dd') AND TO_DATE('2012-12-04','yyyy-MM-dd')\n",
        "'''\n",
        "\n",
        "\n",
        "# Define and save filter_1_stocks_sdf\n",
        "\n",
        "filter_1_stocks_sdf = spark.sql(filter_1_stocks_query).dropna()"
      ],
      "execution_count": 50,
      "outputs": [
        {
          "output_type": "display_data",
          "data": {
            "application/vnd.jupyter.widget-view+json": {
              "model_id": "053af89b1a5043a082409a92185722f0",
              "version_minor": 0,
              "version_major": 2
            },
            "text/plain": [
              "FloatProgress(value=0.0, bar_style='info', description='Progress:', layout=Layout(height='25px', width='50%'),…"
            ]
          },
          "metadata": {
            "tags": []
          }
        }
      ]
    },
    {
      "cell_type": "code",
      "metadata": {
        "id": "qBm-D6FXtdv6",
        "outputId": "fb6eea02-4582-414f-eb6f-291060149a7e",
        "colab": {
          "base_uri": "https://localhost:8080/",
          "height": 215,
          "referenced_widgets": [
            "b3d6537d5ad54feeb8484078b323e2de",
            "8b1d7b50e9bc411e80d3a9b3c83d08bb",
            "86379c188e304baabb9554e938250eff"
          ]
        }
      },
      "source": [
        "%%spark\n",
        "\n",
        "## AUTOGRADER Step 3.4.2: ##\n",
        "\n",
        "filter_1_stocks_sdf.createOrReplaceTempView(\"test_3_4_2\")\n",
        "test_3_4_2_sdf = spark.sql(\"SELECT org, DATE_FORMAT(date, 'yyyy-MM-dd') as date, Close FROM test_3_4_2 ORDER BY org, date, Close LIMIT 10\")\n",
        "to_submit = pd.read_json(test_3_4_2_sdf.toPandas().to_json())\n",
        "to_submit"
      ],
      "execution_count": 51,
      "outputs": [
        {
          "output_type": "display_data",
          "data": {
            "application/vnd.jupyter.widget-view+json": {
              "model_id": "b3d6537d5ad54feeb8484078b323e2de",
              "version_minor": 0,
              "version_major": 2
            },
            "text/plain": [
              "FloatProgress(value=0.0, bar_style='info', description='Progress:', layout=Layout(height='25px', width='50%'),…"
            ]
          },
          "metadata": {
            "tags": []
          }
        },
        {
          "output_type": "stream",
          "text": [
            "         org       date      Close\n",
            "0  Accenture 2005-02-25  21.363001\n",
            "1  Accenture 2005-02-28  21.704000\n",
            "2  Accenture 2005-03-01  21.735001\n",
            "3  Accenture 2005-03-02  21.593000\n",
            "4  Accenture 2005-03-03  21.329000\n",
            "5  Accenture 2005-03-04  21.549000\n",
            "6  Accenture 2005-03-07  21.650999\n",
            "7  Accenture 2005-03-08  21.509001\n",
            "8  Accenture 2005-03-09  21.379000\n",
            "9  Accenture 2005-03-10  21.194000"
          ],
          "name": "stdout"
        }
      ]
    },
    {
      "cell_type": "code",
      "metadata": {
        "id": "ghKZ3HHOaXIq",
        "outputId": "1634afe9-e920-4932-f6ac-1525f6e0a8a8",
        "colab": {
          "base_uri": "https://localhost:8080/",
          "height": 71,
          "referenced_widgets": [
            "8d3bd2b953c347f2a3bdb2dd9c00eeca",
            "cda9ca52a9a847999d0c313ddb683852",
            "04019d8d12ad4a31afd240c201470a91"
          ]
        }
      },
      "source": [
        "%%spark\n",
        "grader.grade(test_case_id = 'fastidious', answer = to_submit)"
      ],
      "execution_count": 52,
      "outputs": [
        {
          "output_type": "display_data",
          "data": {
            "application/vnd.jupyter.widget-view+json": {
              "model_id": "8d3bd2b953c347f2a3bdb2dd9c00eeca",
              "version_minor": 0,
              "version_major": 2
            },
            "text/plain": [
              "FloatProgress(value=0.0, bar_style='info', description='Progress:', layout=Layout(height='25px', width='50%'),…"
            ]
          },
          "metadata": {
            "tags": []
          }
        },
        {
          "output_type": "stream",
          "text": [
            "Correct! You earned 7/7 points. You are a star!\n",
            "\n",
            "Your submission has been successfully recorded in the gradebook."
          ],
          "name": "stdout"
        }
      ]
    },
    {
      "cell_type": "markdown",
      "metadata": {
        "id": "Ne5NaT-6CLns"
      },
      "source": [
        "#### Step 3.4.3: The Momentus Months\n",
        "\n",
        "The data in `filter_1_stocks_sdf` gives closing prices on a daily basis. Since we are interested in monthly trends, we will only keep the closing price on the **last trading day of each month**.\n",
        "\n",
        "Create an sdf `filter_2_stocks_sdf` that contains only the closing prices for the last trading day of each month. Note that a trading day is not simply the last day of each month, as this could be on a weekend when the market is closed . The format of the sdf is shown below:\n",
        "\n",
        "```\n",
        "+----+------------+--------------+\n",
        "|org |date        |Close         |\n",
        "+----+------------+--------------+\n",
        "|IBM |2000-01-31  |...           |\n",
        "|... |...         |...           |\n",
        "+----+------------+--------------+\n",
        "```\n",
        "\n",
        "  _Hint_: This is a **difficult** question. But if you made it this far, you're a star by now. It may be helpful to create an intermediate dataframe that will help you filter out the specific dates you desire."
      ]
    },
    {
      "cell_type": "code",
      "metadata": {
        "id": "AIx5LUuDD4q_",
        "outputId": "9bd7f527-4c0f-431d-d763-30ba21c2ce77",
        "colab": {
          "base_uri": "https://localhost:8080/",
          "height": 467,
          "referenced_widgets": [
            "d42a14d583c1426cb8226df182bc0678",
            "89997d57048340ea95f3f9d3a13b10ac",
            "cb1e22344b6b41228bac3e9859dfe72d"
          ]
        }
      },
      "source": [
        "%%spark\n",
        "\n",
        "# TODO: Create [filter_2_stocks_sdf]\n",
        "\n",
        "# Create sdf that has for each company, the closing day for each month. We need\n",
        "# to preform a GROUP BY on three features, org, YEAR(date), and MONTH(date).\n",
        "# This will give us aggregations of the closing stock price for every day of a\n",
        "# specified month and a specified year. Since these are all datetime objects,\n",
        "# taking MAX() will give us the highest, i.e. last, one.\n",
        "filter_2_stocks_query = '''\n",
        "SELECT s.org,LAST(date) AS month, LAST(s.Close) AS Close FROM \n",
        "(SELECT org, date, Close FROM test_3_4_2\n",
        "ORDER BY org, date) s \n",
        "GROUP BY s.org, YEAR(s.date), MONTH(s.date)\n",
        "'''\n",
        "filter_2_stocks_sdf = spark.sql(filter_2_stocks_query)\n",
        "\n",
        "# Save as a temporary sdf, desired_months\n",
        "filter_2_stocks_sdf.createOrReplaceTempView(\"filter_stock\")\n",
        "\n",
        "\n",
        "# Merge desired_months with filter_1_stocks. This will allow us to keep the\n",
        "# closing prices for only those dates that were the closing date for a given\n",
        "# month.\n",
        "filter_2_stocks_sdf = spark.sql('''\n",
        "SELECT s1.org, s1.date, s2.Close FROM test_3_4_2 s1 \n",
        "JOIN filter_stock s2 ON s1.org = s2.org AND s1.date = s2.month\n",
        "''')\n",
        "\n",
        "# Define and save filter_2_stocks_sdf\n",
        "filter_2_stocks_sdf.show()\n"
      ],
      "execution_count": 53,
      "outputs": [
        {
          "output_type": "display_data",
          "data": {
            "application/vnd.jupyter.widget-view+json": {
              "model_id": "d42a14d583c1426cb8226df182bc0678",
              "version_minor": 0,
              "version_major": 2
            },
            "text/plain": [
              "FloatProgress(value=0.0, bar_style='info', description='Progress:', layout=Layout(height='25px', width='50%'),…"
            ]
          },
          "metadata": {
            "tags": []
          }
        },
        {
          "output_type": "stream",
          "text": [
            "+--------------------+----------+------+\n",
            "|                 org|      date| Close|\n",
            "+--------------------+----------+------+\n",
            "|           Accenture|2010-01-29|34.818|\n",
            "|           Accenture|2007-02-28|30.394|\n",
            "|                  BP|2006-11-30|46.734|\n",
            "|           Accenture|2008-08-29|35.133|\n",
            "|           Accenture|2011-12-30|46.128|\n",
            "|                  BP|2005-04-29|41.806|\n",
            "|     Bank of America|2006-10-31|50.787|\n",
            "|    Barclays Capital|2007-06-29|44.136|\n",
            "|    Barclays Capital|2007-03-30|45.046|\n",
            "|     Bank of America|2006-09-29|50.501|\n",
            "|       Cisco Systems|2011-06-30|12.943|\n",
            "|                Citi|2002-10-31|358.45|\n",
            "|       Cisco Systems|2007-08-31| 26.37|\n",
            "|       Cisco Systems|2006-12-29|22.581|\n",
            "|Cognizant Technol...|2006-11-30|  20.3|\n",
            "|Cognizant Technol...|2011-08-31|31.584|\n",
            "|Cognizant Technol...|2009-05-29|12.539|\n",
            "|Cognizant Technol...|2008-06-30|16.182|\n",
            "|                HSBC|2006-12-29|57.477|\n",
            "|                HSBC|2012-05-31|29.243|\n",
            "+--------------------+----------+------+\n",
            "only showing top 20 rows"
          ],
          "name": "stdout"
        }
      ]
    },
    {
      "cell_type": "code",
      "metadata": {
        "id": "lM9tfdKpt8Yt",
        "outputId": "b28dd9dd-02e3-4fc3-ee57-4bca7138e9b8",
        "colab": {
          "base_uri": "https://localhost:8080/",
          "height": 215,
          "referenced_widgets": [
            "8700d850753645a28e1a54dda96849b2",
            "9323e12b9fc743948dc4aa64643ebe2f",
            "7b6fdee534de43f58cbb69994d28d060"
          ]
        }
      },
      "source": [
        "%%spark\n",
        "\n",
        "## AUTOGRADER Step 3.4.3: ##\n",
        "\n",
        "filter_2_stocks_sdf.createOrReplaceTempView(\"test_3_4_3\")\n",
        "test_3_4_3_sdf = spark.sql(\"SELECT org, DATE_FORMAT(date, 'yyyy-MM-dd') as date, Close FROM test_3_4_3 ORDER BY org, date LIMIT 10\")\n",
        "to_submit = pd.read_json(test_3_4_3_sdf.toPandas().to_json())\n",
        "to_submit"
      ],
      "execution_count": 54,
      "outputs": [
        {
          "output_type": "display_data",
          "data": {
            "application/vnd.jupyter.widget-view+json": {
              "model_id": "8700d850753645a28e1a54dda96849b2",
              "version_minor": 0,
              "version_major": 2
            },
            "text/plain": [
              "FloatProgress(value=0.0, bar_style='info', description='Progress:', layout=Layout(height='25px', width='50%'),…"
            ]
          },
          "metadata": {
            "tags": []
          }
        },
        {
          "output_type": "stream",
          "text": [
            "         org       date      Close\n",
            "0  Accenture 2005-02-28  21.704000\n",
            "1  Accenture 2005-03-31  20.513000\n",
            "2  Accenture 2005-04-29  18.431000\n",
            "3  Accenture 2005-05-31  19.774000\n",
            "4  Accenture 2005-06-30  19.256001\n",
            "5  Accenture 2005-07-29  21.270000\n",
            "6  Accenture 2005-08-31  20.726000\n",
            "7  Accenture 2005-09-30  21.625999\n",
            "8  Accenture 2005-10-31  22.349001\n",
            "9  Accenture 2005-11-30  24.158001"
          ],
          "name": "stdout"
        }
      ]
    },
    {
      "cell_type": "code",
      "metadata": {
        "id": "g1gWwsFsa-PN",
        "outputId": "b5366edb-809d-45b1-805c-1fc6021dfb46",
        "colab": {
          "base_uri": "https://localhost:8080/",
          "height": 71,
          "referenced_widgets": [
            "9aa7e2f1faa948de9579e7cf183e4939",
            "2f9143ee5caa4ef189962621813961c1",
            "745a0a1165c04e0ebe2633f56c056e79"
          ]
        }
      },
      "source": [
        "%%spark\n",
        "\n",
        "grader.grade(test_case_id = 'momentus', answer = to_submit)"
      ],
      "execution_count": 55,
      "outputs": [
        {
          "output_type": "display_data",
          "data": {
            "application/vnd.jupyter.widget-view+json": {
              "model_id": "9aa7e2f1faa948de9579e7cf183e4939",
              "version_minor": 0,
              "version_major": 2
            },
            "text/plain": [
              "FloatProgress(value=0.0, bar_style='info', description='Progress:', layout=Layout(height='25px', width='50%'),…"
            ]
          },
          "metadata": {
            "tags": []
          }
        },
        {
          "output_type": "stream",
          "text": [
            "Correct! You earned 12/12 points. You are a star!\n",
            "\n",
            "Your submission has been successfully recorded in the gradebook."
          ],
          "name": "stdout"
        }
      ]
    },
    {
      "cell_type": "markdown",
      "metadata": {
        "id": "AG4bACKKEQNl"
      },
      "source": [
        "#### Step 3.4.4: The Really Random Reshape\n",
        "\n",
        "Now, we will begin to shape our dataframe into the format of the final training sdf.\n",
        "\n",
        "Create an sdf `filter_3_stocks_sdf` that has for a single company and a single year, the closing stock price for the last trading day of each month in that year. This is similar to the table you created in Step 3.1. In this case since we cannot make a proxy for the closing price if the data is not avaliable, drop any rows containing any `null` values, in any column. The format of the sdf is shown below:\n",
        "\n",
        "```\n",
        "+----+-----+----------+---------+----------+\n",
        "|org |year |jan_stock |   ...   |dec_stock |\n",
        "+----+-----+----------+---------+----------+\n",
        "|IBM |2008 |...       |   ...   |...       |\n",
        "|IBM |2009 |...       |   ...   |...       |\n",
        "|... |...  |...       |   ...   |...       |\n",
        "+----+-----+----------+---------+----------+\n",
        "```\n"
      ]
    },
    {
      "cell_type": "code",
      "metadata": {
        "id": "AucLEgvwIr_0",
        "outputId": "b26fa9ea-0268-43a1-9c04-c2bf24f4a9c5",
        "colab": {
          "base_uri": "https://localhost:8080/",
          "height": 17,
          "referenced_widgets": [
            "c7ce1842f14a457e903598ebb837539f",
            "d7e23ecc5ee64e4bb194a26629c1cd1f",
            "7741985b368b4846a398a1c583a234ad"
          ]
        }
      },
      "source": [
        "%%spark\n",
        "\n",
        "# TODO: Create [filter_3_stocks_sdf]\n",
        "\n",
        "# We will do the same operation we did in Step 3.1. In this case, however, as\n",
        "# the question specifies, any missing entry in a given month are set to null.\n",
        "filter_3_query = '''\n",
        "SELECT org, YEAR(date) AS year, MONTH(date) AS month, first(Close) AS Close\n",
        "FROM test_3_4_3\n",
        "GROUP BY org, year, month\n",
        "'''\n",
        "filter_temp1 = spark.sql(filter_3_query)\n",
        "filter_temp1.createOrReplaceTempView(\"filter_temp1\")\n",
        "filter_3_query_2 = '''\n",
        "SELECT org, year,\n",
        "CASE WHEN month=1 THEN FIRST(Close) END AS jan_stock,\n",
        "CASE WHEN month=2 THEN FIRST(Close) END AS feb_stock,\n",
        "CASE WHEN month=3 THEN FIRST(Close) END AS mar_stock,\n",
        "CASE WHEN month=4 THEN FIRST(Close) END AS apr_stock,\n",
        "CASE WHEN month=5 THEN FIRST(Close) END AS may_stock,\n",
        "CASE WHEN month=6 THEN FIRST(Close) END AS jun_stock,\n",
        "CASE WHEN month=7 THEN FIRST(Close) END AS jul_stock,\n",
        "CASE WHEN month=8 THEN FIRST(Close) END AS aug_stock,\n",
        "CASE WHEN month=9 THEN FIRST(Close) END AS sep_stock,\n",
        "CASE WHEN month=10 THEN FIRST(Close) END AS oct_stock,\n",
        "CASE WHEN month=11 THEN FIRST(Close) END AS nov_stock,\n",
        "CASE WHEN month=12 THEN FIRST(Close) END AS dec_stock\n",
        "FROM filter_temp1\n",
        "GROUP BY org, year, month \n",
        "'''\n",
        "# Define and save filter_3_stocks_sdf\n",
        "filter_temp_2 = spark.sql(filter_3_query_2)\n",
        "filter_temp_2.createOrReplaceTempView(\"filter_temp2\")\n",
        "filter_3_stocks_query = '''\n",
        "SELECT org, year,           \n",
        "MAX(jan_stock) AS jan_stock, MAX(feb_stock) AS feb_stock, MAX(mar_stock) AS mar_stock, MAX(apr_stock) AS apr_stock, MAX(may_stock) AS may_stock, MAX(jun_stock) AS jun_stock, \n",
        "MAX(jul_stock) AS jul_stock, MAX(aug_stock) AS aug_stock, MAX(sep_stock) AS sep_stock, MAX(oct_stock) AS oct_stock, MAX(nov_stock) AS nov_stock, MAX(dec_stock) AS dec_stock\n",
        "FROM filter_temp2\n",
        "GROUP BY org, year \n",
        "'''\n",
        "filter_3_stocks_sdf = spark.sql(filter_3_stocks_query).dropna()\n"
      ],
      "execution_count": 56,
      "outputs": [
        {
          "output_type": "display_data",
          "data": {
            "application/vnd.jupyter.widget-view+json": {
              "model_id": "c7ce1842f14a457e903598ebb837539f",
              "version_minor": 0,
              "version_major": 2
            },
            "text/plain": [
              "FloatProgress(value=0.0, bar_style='info', description='Progress:', layout=Layout(height='25px', width='50%'),…"
            ]
          },
          "metadata": {
            "tags": []
          }
        }
      ]
    },
    {
      "cell_type": "code",
      "metadata": {
        "id": "jsrpmUk0uKhe",
        "outputId": "e15f10f4-2831-4adc-8708-a9bc3a6f1923",
        "colab": {
          "base_uri": "https://localhost:8080/",
          "height": 287,
          "referenced_widgets": [
            "926c0c66493d400fa6075733f5e27a49",
            "8e0f8e27ddf04f75a21aa869cdcc8db4",
            "b200d6c8bfd84ca8afe841d493c58e7b"
          ]
        }
      },
      "source": [
        "%%spark\n",
        "\n",
        "## AUTOGRADER Step 3.4.4: ##\n",
        "\n",
        "filter_3_stocks_sdf.createOrReplaceTempView(\"test_3_4_4\")\n",
        "test_3_4_4_sdf = spark.sql(\"SELECT * FROM test_3_4_4 ORDER BY org, year LIMIT 12\")\n",
        "to_submit = pd.read_json(test_3_4_4_sdf.toPandas().to_json())\n",
        "to_submit"
      ],
      "execution_count": 57,
      "outputs": [
        {
          "output_type": "display_data",
          "data": {
            "application/vnd.jupyter.widget-view+json": {
              "model_id": "926c0c66493d400fa6075733f5e27a49",
              "version_minor": 0,
              "version_major": 2
            },
            "text/plain": [
              "FloatProgress(value=0.0, bar_style='info', description='Progress:', layout=Layout(height='25px', width='50%'),…"
            ]
          },
          "metadata": {
            "tags": []
          }
        },
        {
          "output_type": "stream",
          "text": [
            "          org  year  jan_stock  ...  oct_stock  nov_stock  dec_stock\n",
            "0   Accenture  2006  26.782000  ...  27.952999  28.627001  31.368000\n",
            "1   Accenture  2007  32.066002  ...  33.171001  29.355000  30.604000\n",
            "2   Accenture  2008  29.407000  ...  28.073999  26.315001  27.851000\n",
            "3   Accenture  2009  26.806999  ...  31.497999  34.860001  35.252998\n",
            "4   Accenture  2010  34.818001  ...  37.973000  36.797001  41.189999\n",
            "5   Accenture  2011  43.720001  ...  52.223999  50.199001  46.127998\n",
            "6   Accenture  2012  49.693001  ...  59.734001  60.186001  60.798000\n",
            "7          BP  2006  49.637001  ...  46.062000  46.734001  46.062000\n",
            "8          BP  2007  43.597000  ...  53.536999  49.931999  50.229000\n",
            "9          BP  2008  43.898998  ...  34.118000  33.424000  32.084999\n",
            "10         BP  2009  29.153000  ...  38.866001  39.251999  39.792999\n",
            "11         BP  2010  38.523998  ...  28.007999  27.462000  30.320999\n",
            "\n",
            "[12 rows x 14 columns]"
          ],
          "name": "stdout"
        }
      ]
    },
    {
      "cell_type": "code",
      "metadata": {
        "id": "NxYnOS14bqZH",
        "outputId": "c2f06f8a-6694-4769-fc57-aa17b47ae902",
        "colab": {
          "base_uri": "https://localhost:8080/",
          "height": 71,
          "referenced_widgets": [
            "93166e0419fc40f8a0d2761bb4265a91",
            "da2802aaeeb448d0a45e0b143ff0b704",
            "fdfdef2b0aa1429caced75bd92e4cd4b"
          ]
        }
      },
      "source": [
        "%%spark\n",
        "grader.grade(test_case_id = 'random', answer = to_submit)"
      ],
      "execution_count": 58,
      "outputs": [
        {
          "output_type": "display_data",
          "data": {
            "application/vnd.jupyter.widget-view+json": {
              "model_id": "93166e0419fc40f8a0d2761bb4265a91",
              "version_minor": 0,
              "version_major": 2
            },
            "text/plain": [
              "FloatProgress(value=0.0, bar_style='info', description='Progress:', layout=Layout(height='25px', width='50%'),…"
            ]
          },
          "metadata": {
            "tags": []
          }
        },
        {
          "output_type": "stream",
          "text": [
            "Correct! You earned 9/9 points. You are a star!\n",
            "\n",
            "Your submission has been successfully recorded in the gradebook."
          ],
          "name": "stdout"
        }
      ]
    },
    {
      "cell_type": "markdown",
      "metadata": {
        "id": "82OQKp-nIulq"
      },
      "source": [
        "#### Step 3.4.5: The Decisive Direction\n",
        "\n",
        "The final element in our training set is the binary output for each case, i.e. the `y` label. \n",
        "\n",
        "Create an sdf `stocks_train_sdf` from `filter_3_stocks_sdf` with an additional column `direction`. This should be the direction of percentage change in the closing stock price, i.e. `1` for positive or `-1` for negative, in the first quarter of a given year. Make this an **integer**.  The quarter of a year begins in January and ends in April, inclusive. We want to know the percent change between these two months. Reference Step 2.2 for the percent change formula. The format of the sdf is shown below:\n",
        "\n",
        "```\n",
        "+----+-----+----------+---------+----------+-------------+\n",
        "|org |year |jan_stock |   ...   |dec_stock |direction    |\n",
        "+----+-----+----------+---------+----------+-------------+\n",
        "|IBM |2008 |...       |   ...   |...       |1            |\n",
        "|IBM |2009 |...       |   ...   |...       |-1           |\n",
        "|... |...  |...       |   ...   |...       |...          |\n",
        "+----+-----+----------+---------+----------+-------------+\n",
        "```"
      ]
    },
    {
      "cell_type": "code",
      "metadata": {
        "id": "yEFJIfyZKf7B",
        "outputId": "fee79360-6407-4c9d-f3f4-eefae6b713be",
        "colab": {
          "base_uri": "https://localhost:8080/",
          "height": 17,
          "referenced_widgets": [
            "7d4803d0494f4fd09b3bed89bec5183a",
            "42fcc05228604fb493f156de9b08a176",
            "78ec509e08b64ff9950a471a89db450e"
          ]
        }
      },
      "source": [
        "%%spark\n",
        "\n",
        "# TODO: Create [stocks_train_sdf]\n",
        "\n",
        "# SIGN() will return -1 if the input is negative, 0 if the input is zero, and 1\n",
        "# if the input is positive.\n",
        "\n",
        "# Keep all rows in filter_3_stocks and add another based on the sign of the\n",
        "# percentage change in stock\n",
        "\n",
        "stocks_train_query = '''\n",
        "SELECT *, SIGN((apr_stock - jan_stock)/jan_stock * 100) AS direction\n",
        "FROM test_3_4_4\n",
        "'''\n",
        "\n",
        "# Define and save stocks_train_sdf\n",
        "stocks_train_sdf = spark.sql(stocks_train_query)\n"
      ],
      "execution_count": 59,
      "outputs": [
        {
          "output_type": "display_data",
          "data": {
            "application/vnd.jupyter.widget-view+json": {
              "model_id": "7d4803d0494f4fd09b3bed89bec5183a",
              "version_minor": 0,
              "version_major": 2
            },
            "text/plain": [
              "FloatProgress(value=0.0, bar_style='info', description='Progress:', layout=Layout(height='25px', width='50%'),…"
            ]
          },
          "metadata": {
            "tags": []
          }
        }
      ]
    },
    {
      "cell_type": "code",
      "metadata": {
        "id": "thJtUQY6uwYA",
        "outputId": "a9c1b646-1f97-4403-8c7a-6361e4fb9e63",
        "colab": {
          "base_uri": "https://localhost:8080/",
          "height": 251,
          "referenced_widgets": [
            "61a236294956495faaea0c37eff50f1d",
            "e6f0e6e7b2934d3ca7dfd50ae02642d6",
            "4e820775409841b9b0d5cfe5d9086554"
          ]
        }
      },
      "source": [
        "%%spark\n",
        "\n",
        "## AUTOGRADER Step 3.4.5: ##\n",
        "\n",
        "stocks_train_sdf.createOrReplaceTempView(\"test_3_4_5\")\n",
        "test_3_4_5_sdf = spark.sql(\"SELECT * FROM test_3_4_5 ORDER BY org, year LIMIT 10\")\n",
        "to_submit = pd.read_json(test_3_4_5_sdf.toPandas().to_json())\n",
        "to_submit"
      ],
      "execution_count": 60,
      "outputs": [
        {
          "output_type": "display_data",
          "data": {
            "application/vnd.jupyter.widget-view+json": {
              "model_id": "61a236294956495faaea0c37eff50f1d",
              "version_minor": 0,
              "version_major": 2
            },
            "text/plain": [
              "FloatProgress(value=0.0, bar_style='info', description='Progress:', layout=Layout(height='25px', width='50%'),…"
            ]
          },
          "metadata": {
            "tags": []
          }
        },
        {
          "output_type": "stream",
          "text": [
            "         org  year  jan_stock  ...  nov_stock  dec_stock  direction\n",
            "0  Accenture  2006  26.782000  ...  28.627001  31.368000         -1\n",
            "1  Accenture  2007  32.066002  ...  29.355000  30.604000          1\n",
            "2  Accenture  2008  29.407000  ...  26.315001  27.851000          1\n",
            "3  Accenture  2009  26.806999  ...  34.860001  35.252998         -1\n",
            "4  Accenture  2010  34.818001  ...  36.797001  41.189999          1\n",
            "5  Accenture  2011  43.720001  ...  50.199001  46.127998          1\n",
            "6  Accenture  2012  49.693001  ...  60.186001  60.798000          1\n",
            "7         BP  2006  49.637001  ...  46.734001  46.062000          1\n",
            "8         BP  2007  43.597000  ...  49.931999  50.229000          1\n",
            "9         BP  2008  43.898998  ...  33.424000  32.084999          1\n",
            "\n",
            "[10 rows x 15 columns]"
          ],
          "name": "stdout"
        }
      ]
    },
    {
      "cell_type": "code",
      "metadata": {
        "id": "kIR72BANd9Mv",
        "outputId": "12142edb-51df-4058-aa33-a2ffa530b15f",
        "colab": {
          "base_uri": "https://localhost:8080/",
          "height": 71,
          "referenced_widgets": [
            "65701135f0d840aab45bcd61d527e2b8",
            "4aaad654c19e4d698746051621ca127d",
            "133c19fbbb5e460da7944abbb7d8747a"
          ]
        }
      },
      "source": [
        "%%spark\n",
        "grader.grade(test_case_id = 'decisive', answer = to_submit)"
      ],
      "execution_count": 61,
      "outputs": [
        {
          "output_type": "display_data",
          "data": {
            "application/vnd.jupyter.widget-view+json": {
              "model_id": "65701135f0d840aab45bcd61d527e2b8",
              "version_minor": 0,
              "version_major": 2
            },
            "text/plain": [
              "FloatProgress(value=0.0, bar_style='info', description='Progress:', layout=Layout(height='25px', width='50%'),…"
            ]
          },
          "metadata": {
            "tags": []
          }
        },
        {
          "output_type": "stream",
          "text": [
            "Correct! You earned 3/3 points. You are a star!\n",
            "\n",
            "Your submission has been successfully recorded in the gradebook."
          ],
          "name": "stdout"
        }
      ]
    },
    {
      "cell_type": "markdown",
      "metadata": {
        "id": "Fd2nviNpM2dF"
      },
      "source": [
        "### Step 3.5: The C-r-a-z-y Combination\n",
        "\n",
        "Now that we have individually created the two halves of our training data we will merge them together to create the final training sdf we showed in the beginning of Step 3.\n",
        "\n",
        "Create an sdf called `training_sdf` in the format of the one shown at the beginning of Step 3. Note that in our definition for the `stock_result` column, the `stock_result` value for a particular year corresponds to the direction of the stock percentage change in the **following** year. For example, the stock_result in the `2008` row for `IBM` will contain the direction of IBM's stock in the first quarter of 2009. The format of the sdf is shown below:\n",
        "```\n",
        "+----+-----+----------+---------+----------+----------+---------+----------+-------------+\n",
        "|org |year |jan_hired |   ...   |dec_hired |jan_stock |   ...   |dec_stock |stock_result |\n",
        "+----+-----+----------+---------+----------+----------+---------+----------+-------------+\n",
        "|IBM |2008 |...       |   ...   |...       |...       |   ...   |...       |-1           |\n",
        "|IBM |2009 |...       |   ...   |...       |...       |   ...   |...       |1            |\n",
        "|... |...  |...       |   ...   |...       |...       |   ...   |...       |...          |\n",
        "+----+-----+----------+---------+----------+----------+---------+----------+-------------+\n",
        "```"
      ]
    },
    {
      "cell_type": "code",
      "metadata": {
        "id": "8ZIb6QkcO5RB",
        "outputId": "e7ca7bab-168d-4b50-d3f7-8cfe0c540ef9",
        "colab": {
          "base_uri": "https://localhost:8080/",
          "height": 17,
          "referenced_widgets": [
            "9b7a991663e943049c9db29119f6f520",
            "c383beb1fd3741e1887dde64a0b832a0",
            "cbfcd7f6dd774dba99c14e38ef5ae3b1"
          ]
        }
      },
      "source": [
        "%%spark\n",
        "\n",
        "# TODO: Create [training_sdf]\n",
        "\n",
        "# Our merge will consist of two joins. The first will use filter_3_stocks to\n",
        "# join the monthly hiring rates and closing prices. The next join will be with\n",
        "# stock_train and to find stock_result. This join will be done such that the\n",
        "# correct years are matched between hire_train and stocks_train (think about how \n",
        "# to get one year's stock result to be the direction of the stock for the following\n",
        "# year's first quarter). \n",
        "\n",
        "train_query = '''\n",
        "SELECT h.org, h.year, h.jan_hired, h.feb_hired, h.mar_hired, h.apr_hired, h.may_hired, h.jun_hired,\n",
        "h.jul_hired, h.aug_hired, h.sep_hired, h.oct_hired, h.nov_hired, h.dec_hired,\n",
        "s.jan_stock, s.feb_stock, s.mar_stock, s.apr_stock, s.may_stock, s.jun_stock, s.jul_stock,\n",
        "s.aug_stock, s.sep_stock, s.oct_stock, s.nov_stock, s.dec_stock, s2.direction AS stock_result\n",
        "FROM test_3_2 h\n",
        "JOIN test_3_4_4 s ON h.org = s.org AND h.year = s.year\n",
        "JOIN test_3_4_5 s2 ON h.org = s2.org AND h.year = (s2.year-1) \n",
        "'''\n",
        "\n",
        "# Define and save training_sdf\n",
        "training_sdf = spark.sql(train_query)\n"
      ],
      "execution_count": 62,
      "outputs": [
        {
          "output_type": "display_data",
          "data": {
            "application/vnd.jupyter.widget-view+json": {
              "model_id": "9b7a991663e943049c9db29119f6f520",
              "version_minor": 0,
              "version_major": 2
            },
            "text/plain": [
              "FloatProgress(value=0.0, bar_style='info', description='Progress:', layout=Layout(height='25px', width='50%'),…"
            ]
          },
          "metadata": {
            "tags": []
          }
        }
      ]
    },
    {
      "cell_type": "code",
      "metadata": {
        "id": "snJwWRAXtB-7",
        "outputId": "a26063a4-c57b-41af-919c-4d420e01c0aa",
        "colab": {
          "base_uri": "https://localhost:8080/",
          "height": 251,
          "referenced_widgets": [
            "7a329e2a326447b0adae53b399342867",
            "a5d7b04047bb4552bd4de79596279783",
            "4e641392129f47158fbbc74153f3b22e"
          ]
        }
      },
      "source": [
        "%%spark\n",
        "\n",
        "## AUTOGRADER Step 3.5: ##\n",
        "\n",
        "training_sdf.createOrReplaceTempView(\"test_3_5\")\n",
        "test_3_5_sdf = spark.sql(\"SELECT * FROM test_3_5 ORDER BY org, year LIMIT 10\")\n",
        "to_submit = pd.read_json(test_3_5_sdf.toPandas().to_json())\n",
        "to_submit"
      ],
      "execution_count": 63,
      "outputs": [
        {
          "output_type": "display_data",
          "data": {
            "application/vnd.jupyter.widget-view+json": {
              "model_id": "7a329e2a326447b0adae53b399342867",
              "version_minor": 0,
              "version_major": 2
            },
            "text/plain": [
              "FloatProgress(value=0.0, bar_style='info', description='Progress:', layout=Layout(height='25px', width='50%'),…"
            ]
          },
          "metadata": {
            "tags": []
          }
        },
        {
          "output_type": "stream",
          "text": [
            "         org  year  jan_hired  ...   nov_stock   dec_stock  stock_result\n",
            "0  Accenture  2010          7  ...   36.797001   41.189999             1\n",
            "1     Google  2010         13  ...  277.859985  296.980011            -1\n",
            "2     Google  2011         20  ...  299.700012  322.950012             1\n",
            "3        IBM  2006         17  ...   76.755997   81.121002             1\n",
            "4        IBM  2007         15  ...   87.825996   90.266998             1\n",
            "5        IBM  2008         15  ...   68.138000   70.275002             1\n",
            "6        IBM  2010         20  ...  118.120003  122.559998             1\n",
            "7        IBM  2011         22  ...  159.009995  155.500000             1\n",
            "8  Microsoft  2006          8  ...   24.622000   25.041000            -1\n",
            "9  Microsoft  2008         16  ...   16.955999   16.302000             1\n",
            "\n",
            "[10 rows x 27 columns]"
          ],
          "name": "stdout"
        }
      ]
    },
    {
      "cell_type": "code",
      "metadata": {
        "id": "SpcWi4pYta1m",
        "outputId": "f7642f9a-429b-4d33-d689-3630dec9c1e1",
        "colab": {
          "base_uri": "https://localhost:8080/",
          "height": 35,
          "referenced_widgets": [
            "f6150efec73f4244b77d6c583f45a4a3",
            "58ca491c4a3b4f0a82cb832a221c30b2",
            "db2b001df2db4631976c52027d00f667"
          ]
        }
      },
      "source": [
        "%%spark\n",
        "sum(to_submit['nov_stock'].values)"
      ],
      "execution_count": 64,
      "outputs": [
        {
          "output_type": "display_data",
          "data": {
            "application/vnd.jupyter.widget-view+json": {
              "model_id": "f6150efec73f4244b77d6c583f45a4a3",
              "version_minor": 0,
              "version_major": 2
            },
            "text/plain": [
              "FloatProgress(value=0.0, bar_style='info', description='Progress:', layout=Layout(height='25px', width='50%'),…"
            ]
          },
          "metadata": {
            "tags": []
          }
        },
        {
          "output_type": "stream",
          "text": [
            "1165.7849884033"
          ],
          "name": "stdout"
        }
      ]
    },
    {
      "cell_type": "code",
      "metadata": {
        "id": "KMMK9rAQekCh",
        "outputId": "21d4a031-14ce-472c-de85-8236293c3ea9",
        "colab": {
          "base_uri": "https://localhost:8080/",
          "height": 71,
          "referenced_widgets": [
            "a819012e5e6b4ebaaa49b63c86d5bf23",
            "61e7faf3c15b4390bae59e9f2b771cf3",
            "67e97398666140f19e366c6aeda445fa"
          ]
        }
      },
      "source": [
        "%%spark\n",
        "grader.grade(test_case_id = 'crazy', answer = to_submit)"
      ],
      "execution_count": 65,
      "outputs": [
        {
          "output_type": "display_data",
          "data": {
            "application/vnd.jupyter.widget-view+json": {
              "model_id": "a819012e5e6b4ebaaa49b63c86d5bf23",
              "version_minor": 0,
              "version_major": 2
            },
            "text/plain": [
              "FloatProgress(value=0.0, bar_style='info', description='Progress:', layout=Layout(height='25px', width='50%'),…"
            ]
          },
          "metadata": {
            "tags": []
          }
        },
        {
          "output_type": "stream",
          "text": [
            "Correct! You earned 14/14 points. You are a star!\n",
            "\n",
            "Your submission has been successfully recorded in the gradebook."
          ],
          "name": "stdout"
        }
      ]
    },
    {
      "cell_type": "markdown",
      "metadata": {
        "id": "ZnwHS5-kPtVl"
      },
      "source": [
        "## Step 4: Machine ... Learning?\n",
        "\n",
        "Well here we go. Who's ready to make some money? Well... it's not gonna happen. We didn't code the random forest model, sorry! The second half of the course will be about scalable machine learning, and we will learn how to take this beautiful data and make billions of dollars.\n",
        "\n",
        "![Jumping for $$](https://cdn.dribbble.com/users/2749602/screenshots/7065140/shot-cropped-1567085403260.png)\n",
        "\n",
        "One last thing, as I predicted before, you're a star.\n",
        "\n",
        "Feel free to fill out [this form](https://forms.gle/DbDuEbqqifoFrRxaA) with any feedback for this and prior homeworks."
      ]
    },
    {
      "cell_type": "markdown",
      "metadata": {
        "id": "U5KO8ba2zdxf"
      },
      "source": [
        "## Optional Extra-Credit Step: Full PageRank on Spark (5 points)\n",
        "\n",
        "We've given a basic implementation of MapReduce using Spark's matrix types in:\n",
        "https://colab.research.google.com/drive/1Mr2zf-Oz6W9kRFrzSN08S1lo14mGYnw2\n",
        "\n",
        "Your task for extra credit, worth up to 5 points, is to take this basic example and flesh it out:\n",
        "\n",
        "1. You should write a function called `pagerank` that takes two inputs: (1) a Spark dataframe `df` conforming to the schema of `initial_graph`, (2) an integer `n` specifying the max number of iterations until termination.  It **returns a Spark dataframe** with two columns: `node_id` and `pagerank` (the latter can be of type double), where the latter is the PageRank score after $n$ iterations.\n",
        "\n",
        "2. Your PageRank algorithm should incorporate the standard \"decay factor\" as we've described in the lecture slides.  Use the standard value $\\alpha=0.85$.  It should use Apache Spark matrices to do the computation.\n",
        "\n",
        "3. Your PageRank algorithm should remove sinks and self-loops."
      ]
    },
    {
      "cell_type": "code",
      "metadata": {
        "id": "WRMdl7kd58H0",
        "outputId": "7361a443-a05e-4729-a3cb-0874126294fb",
        "colab": {
          "base_uri": "https://localhost:8080/",
          "height": 17,
          "referenced_widgets": [
            "fa8d6e6ef80647bd81a2fba68a71d7cc",
            "967d468bdc7948b29097d1e7f63d6662",
            "62861d55953c4b15b035750eb4c0f2d9"
          ]
        }
      },
      "source": [
        "%%spark\n",
        "# EXTRA CREDIT HERE\n",
        "from pyspark.mllib.linalg.distributed import CoordinateMatrix, MatrixEntry,\\\n",
        "  BlockMatrix\n",
        "import pandas as pd\n",
        "\n",
        "from pyspark.sql.functions import lit\n",
        "\n",
        "initial_graph = pd.DataFrame([{'from': 0, 'to': 1},\\\n",
        "                              {'from': 0, 'to': 2},\\\n",
        "                              {'from': 1, 'to': 2},\\\n",
        "                              {'from': 2, 'to': 0},\\\n",
        "                              {'from': 1, 'to': 3},\\\n",
        "                              {'from': 3, 'to': 3}])\n",
        "\n",
        "sdf = spark.createDataFrame(initial_graph)\n",
        "\n",
        "def pagerank(sdf, iter):\n",
        "  sdf.createOrReplaceTempView('graph')\n",
        "  transfer_weights = spark.sql('''select graph.from as id, 1 / count(\"to\") as weight \n",
        "                                  from graph group by from''')\n",
        "  weighted_edges = sdf.join(transfer_weights, sdf['from'] == transfer_weights.id)[['from','to','weight']]\n",
        "\n",
        "  M = CoordinateMatrix(weighted_edges.rdd.map(lambda x: MatrixEntry(x[1], x[0], x[2]))).toBlockMatrix()\n",
        "\n",
        "  n = len(initial_graph[['from']].rename(columns={'from': 'id'}).\\\n",
        "      append(initial_graph[['to']].rename(columns={'to': 'id'})).drop_duplicates()\\\n",
        "      ['id'])\n",
        "\n",
        "  PR_sdf = sdf.select(sdf['from'], lit(1 / n).alias('weight')).distinct()\n",
        "  PR = CoordinateMatrix(PR_sdf.rdd.map(lambda x: MatrixEntry(x[0], 0, x[1]))).toBlockMatrix()\n",
        "\n",
        "  alpha = 0.85\n",
        "  beta = 0.15\n",
        "  M = M.toLocalMatrix().toArray()\n",
        "  PR = PR.toLocalMatrix().toArray()\n",
        "  for i in range(iter):\n",
        "    PR = alpha * M.dot(PR) + beta\n",
        "\n",
        "  df = pd.DataFrame()\n",
        "  df['node_id'] = range(n)\n",
        "  df['pagerank'] = PR  \n",
        "  PR = spark.createDataFrame(df)\n",
        "  return PR\n"
      ],
      "execution_count": 102,
      "outputs": [
        {
          "output_type": "display_data",
          "data": {
            "application/vnd.jupyter.widget-view+json": {
              "model_id": "fa8d6e6ef80647bd81a2fba68a71d7cc",
              "version_minor": 0,
              "version_major": 2
            },
            "text/plain": [
              "FloatProgress(value=0.0, bar_style='info', description='Progress:', layout=Layout(height='25px', width='50%'),…"
            ]
          },
          "metadata": {
            "tags": []
          }
        }
      ]
    },
    {
      "cell_type": "code",
      "metadata": {
        "id": "U90WBvvg6ZW-",
        "outputId": "a266d629-73b0-4c8d-889c-bf8b8ccb03c6",
        "colab": {
          "base_uri": "https://localhost:8080/",
          "height": 161,
          "referenced_widgets": [
            "9715d8681b5f4a19b51aec84d1d67f96",
            "5912b5b617534551ad54f0be0458adb6",
            "ec5a6456a5cb4e42a46fadb2a887928f"
          ]
        }
      },
      "source": [
        "%%spark\n",
        "\n",
        "PR = pagerank(sdf, 20)\n",
        "PR.show()"
      ],
      "execution_count": 103,
      "outputs": [
        {
          "output_type": "display_data",
          "data": {
            "application/vnd.jupyter.widget-view+json": {
              "model_id": "9715d8681b5f4a19b51aec84d1d67f96",
              "version_minor": 0,
              "version_major": 2
            },
            "text/plain": [
              "FloatProgress(value=0.0, bar_style='info', description='Progress:', layout=Layout(height='25px', width='50%'),…"
            ]
          },
          "metadata": {
            "tags": []
          }
        },
        {
          "output_type": "stream",
          "text": [
            "+-------+------------------+\n",
            "|node_id|          pagerank|\n",
            "+-------+------------------+\n",
            "|      0|0.6821937830241034|\n",
            "|      1|0.4397375428813859|\n",
            "|      2|0.6265158755486029|\n",
            "|      3| 2.135274205292364|\n",
            "+-------+------------------+"
          ],
          "name": "stdout"
        }
      ]
    },
    {
      "cell_type": "markdown",
      "metadata": {
        "id": "EHVFHPVIrvu1"
      },
      "source": [
        "# HW Submission\n",
        "\n",
        "**Double check that you have the correct PennID (all numbers) in the autograder**. \n",
        "\n",
        "Go to the \"File\" tab at the top left, and click \"Download .ipynb\". Zip it (name doesn't matter) and submit it to GradeScope. \n",
        "\n",
        "You must submit your notebook to receive credit."
      ]
    }
  ]
}